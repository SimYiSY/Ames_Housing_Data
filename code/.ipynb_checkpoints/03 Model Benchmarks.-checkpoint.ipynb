{
 "cells": [
  {
   "cell_type": "markdown",
   "metadata": {},
   "source": [
    "# Ames Housing Saleprice\n",
    "\n",
    "## Problem Statement\n",
    "\n",
    "Create a regression model where we are able to see what features affects the price of the house at sales the most.\n",
    "\n",
    "## Executive Summary\n",
    "\n",
    "### Contents:\n",
    "- [7. Model_Benchmarks](#7.-Model-Benchmarks)\n",
    "- [8. Model_Tuning](#8.-Model-Tuning)\n",
    "\n",
    "\n",
    "Links:\n",
    "[Kaggle challenge link](https://www.kaggle.com/c/dsi-us-6-project-2-regression-challenge/data)"
   ]
  },
  {
   "cell_type": "markdown",
   "metadata": {},
   "source": [
    "# 7. Model Benchmarks"
   ]
  },
  {
   "cell_type": "code",
   "execution_count": 1,
   "metadata": {},
   "outputs": [],
   "source": [
    "#Imports:\n",
    "import pandas as pd\n",
    "import numpy as np\n",
    "import seaborn as sns\n",
    "import matplotlib.pyplot as plt\n",
    "import scipy.stats as stats\n",
    "from sklearn.model_selection import train_test_split\n",
    "from sklearn.linear_model import LinearRegression, Ridge, RidgeCV, Lasso, LassoCV, ElasticNet, ElasticNetCV\n",
    "from sklearn.model_selection import cross_val_score\n",
    "from sklearn.preprocessing import StandardScaler\n",
    "from sklearn.preprocessing import PolynomialFeatures\n",
    "from sklearn.metrics import mean_squared_error, r2_score\n",
    "plt.style.use('ggplot')\n",
    "from IPython.display import display\n",
    "pd.set_option('display.max_rows', 3000)\n",
    "pd.set_option('display.max_columns', 200)\n",
    "pd.set_option('display.width', 1000)"
   ]
  },
  {
   "cell_type": "code",
   "execution_count": 2,
   "metadata": {},
   "outputs": [
    {
     "data": {
      "text/plain": [
       "((2879, 144), (2051, 81), (879, 80))"
      ]
     },
     "execution_count": 2,
     "metadata": {},
     "output_type": "execute_result"
    }
   ],
   "source": [
    "# Importing cleaned dataset for Pre Processing\n",
    "df = pd.read_csv(\"../datasets/AHD_PP_FE.csv\", na_filter=False)\n",
    "df_train = pd.read_csv('../datasets/train.csv')\n",
    "df_test = pd.read_csv('../datasets/test.csv')\n",
    "\n",
    "df.shape, df_train.shape, df_test.shape"
   ]
  },
  {
   "cell_type": "code",
   "execution_count": 3,
   "metadata": {},
   "outputs": [
    {
     "data": {
      "text/plain": [
       "((2000, 144), (879, 144))"
      ]
     },
     "execution_count": 3,
     "metadata": {},
     "output_type": "execute_result"
    }
   ],
   "source": [
    "df_train_rows = df_train['Id'].tolist()\n",
    "df_test_rows = df_test['Id'].tolist()\n",
    "\n",
    "df_train = df.loc[df['Id'].isin(df_train_rows)]\n",
    "df_test = df.loc[df['Id'].isin(df_test_rows)]\n",
    "\n",
    "df_test.reset_index(inplace = True, drop = True) #resetting the test data index for concat later\n",
    "\n",
    "df_train.shape ,df_test.shape"
   ]
  },
  {
   "cell_type": "code",
   "execution_count": 4,
   "metadata": {
    "scrolled": true
   },
   "outputs": [
    {
     "data": {
      "text/html": [
       "<div>\n",
       "<style scoped>\n",
       "    .dataframe tbody tr th:only-of-type {\n",
       "        vertical-align: middle;\n",
       "    }\n",
       "\n",
       "    .dataframe tbody tr th {\n",
       "        vertical-align: top;\n",
       "    }\n",
       "\n",
       "    .dataframe thead th {\n",
       "        text-align: right;\n",
       "    }\n",
       "</style>\n",
       "<table border=\"1\" class=\"dataframe\">\n",
       "  <thead>\n",
       "    <tr style=\"text-align: right;\">\n",
       "      <th></th>\n",
       "      <th>count</th>\n",
       "      <th>mean</th>\n",
       "      <th>std</th>\n",
       "      <th>min</th>\n",
       "      <th>25%</th>\n",
       "      <th>50%</th>\n",
       "      <th>75%</th>\n",
       "      <th>max</th>\n",
       "    </tr>\n",
       "  </thead>\n",
       "  <tbody>\n",
       "    <tr>\n",
       "      <th>Id</th>\n",
       "      <td>2000.0</td>\n",
       "      <td>1475.979500</td>\n",
       "      <td>844.800305</td>\n",
       "      <td>1.000000</td>\n",
       "      <td>753.750000</td>\n",
       "      <td>1483.500000</td>\n",
       "      <td>2199.250000</td>\n",
       "      <td>2930.000000</td>\n",
       "    </tr>\n",
       "    <tr>\n",
       "      <th>Overall Qual</th>\n",
       "      <td>2000.0</td>\n",
       "      <td>0.006456</td>\n",
       "      <td>0.997723</td>\n",
       "      <td>-2.982135</td>\n",
       "      <td>-0.786525</td>\n",
       "      <td>-0.054655</td>\n",
       "      <td>0.677215</td>\n",
       "      <td>2.872824</td>\n",
       "    </tr>\n",
       "    <tr>\n",
       "      <th>Year Built</th>\n",
       "      <td>2000.0</td>\n",
       "      <td>0.009924</td>\n",
       "      <td>0.996805</td>\n",
       "      <td>-3.289376</td>\n",
       "      <td>-0.579026</td>\n",
       "      <td>0.092346</td>\n",
       "      <td>0.987507</td>\n",
       "      <td>1.285895</td>\n",
       "    </tr>\n",
       "    <tr>\n",
       "      <th>Year Remod/Add</th>\n",
       "      <td>2000.0</td>\n",
       "      <td>-0.006325</td>\n",
       "      <td>1.008573</td>\n",
       "      <td>-1.637940</td>\n",
       "      <td>-0.966355</td>\n",
       "      <td>0.424785</td>\n",
       "      <td>0.952459</td>\n",
       "      <td>1.240281</td>\n",
       "    </tr>\n",
       "    <tr>\n",
       "      <th>Mas Vnr Area</th>\n",
       "      <td>2000.0</td>\n",
       "      <td>-0.035627</td>\n",
       "      <td>0.910797</td>\n",
       "      <td>-0.585875</td>\n",
       "      <td>-0.585875</td>\n",
       "      <td>-0.585875</td>\n",
       "      <td>0.325333</td>\n",
       "      <td>4.232293</td>\n",
       "    </tr>\n",
       "    <tr>\n",
       "      <th>Exter Qual</th>\n",
       "      <td>2000.0</td>\n",
       "      <td>0.006679</td>\n",
       "      <td>1.003603</td>\n",
       "      <td>-2.454760</td>\n",
       "      <td>-0.688388</td>\n",
       "      <td>-0.688388</td>\n",
       "      <td>1.077984</td>\n",
       "      <td>2.844356</td>\n",
       "    </tr>\n",
       "    <tr>\n",
       "      <th>Bsmt Qual</th>\n",
       "      <td>2000.0</td>\n",
       "      <td>0.010384</td>\n",
       "      <td>0.989178</td>\n",
       "      <td>-3.910573</td>\n",
       "      <td>-0.533349</td>\n",
       "      <td>0.592393</td>\n",
       "      <td>0.592393</td>\n",
       "      <td>1.718134</td>\n",
       "    </tr>\n",
       "    <tr>\n",
       "      <th>Total Bsmt SF</th>\n",
       "      <td>2000.0</td>\n",
       "      <td>0.003451</td>\n",
       "      <td>0.989106</td>\n",
       "      <td>-2.543577</td>\n",
       "      <td>-0.607085</td>\n",
       "      <td>-0.122198</td>\n",
       "      <td>0.642127</td>\n",
       "      <td>3.896314</td>\n",
       "    </tr>\n",
       "    <tr>\n",
       "      <th>1st Flr SF</th>\n",
       "      <td>2000.0</td>\n",
       "      <td>-0.000885</td>\n",
       "      <td>0.979896</td>\n",
       "      <td>-2.127254</td>\n",
       "      <td>-0.742365</td>\n",
       "      <td>-0.162756</td>\n",
       "      <td>0.632921</td>\n",
       "      <td>4.331446</td>\n",
       "    </tr>\n",
       "    <tr>\n",
       "      <th>Gr Liv Area</th>\n",
       "      <td>2000.0</td>\n",
       "      <td>-0.015499</td>\n",
       "      <td>0.959179</td>\n",
       "      <td>-2.197885</td>\n",
       "      <td>-0.751898</td>\n",
       "      <td>-0.101414</td>\n",
       "      <td>0.492323</td>\n",
       "      <td>4.222886</td>\n",
       "    </tr>\n",
       "    <tr>\n",
       "      <th>Full Bath</th>\n",
       "      <td>2000.0</td>\n",
       "      <td>0.012923</td>\n",
       "      <td>0.985218</td>\n",
       "      <td>-2.869369</td>\n",
       "      <td>-1.027060</td>\n",
       "      <td>0.815249</td>\n",
       "      <td>0.815249</td>\n",
       "      <td>2.657558</td>\n",
       "    </tr>\n",
       "    <tr>\n",
       "      <th>Kitchen Qual</th>\n",
       "      <td>2000.0</td>\n",
       "      <td>0.003676</td>\n",
       "      <td>0.996254</td>\n",
       "      <td>-2.306630</td>\n",
       "      <td>-0.771543</td>\n",
       "      <td>-0.771543</td>\n",
       "      <td>0.763545</td>\n",
       "      <td>2.298632</td>\n",
       "    </tr>\n",
       "    <tr>\n",
       "      <th>TotRms AbvGrd</th>\n",
       "      <td>2000.0</td>\n",
       "      <td>-0.014688</td>\n",
       "      <td>0.975110</td>\n",
       "      <td>-2.242954</td>\n",
       "      <td>-0.926984</td>\n",
       "      <td>-0.268999</td>\n",
       "      <td>0.388986</td>\n",
       "      <td>3.678911</td>\n",
       "    </tr>\n",
       "    <tr>\n",
       "      <th>Fireplace Qu</th>\n",
       "      <td>2000.0</td>\n",
       "      <td>-0.010037</td>\n",
       "      <td>0.999694</td>\n",
       "      <td>-0.970362</td>\n",
       "      <td>-0.970362</td>\n",
       "      <td>-0.414297</td>\n",
       "      <td>1.253899</td>\n",
       "      <td>1.809964</td>\n",
       "    </tr>\n",
       "    <tr>\n",
       "      <th>Garage Finish</th>\n",
       "      <td>2000.0</td>\n",
       "      <td>0.001135</td>\n",
       "      <td>0.998893</td>\n",
       "      <td>-1.915976</td>\n",
       "      <td>-0.798453</td>\n",
       "      <td>0.319071</td>\n",
       "      <td>0.319071</td>\n",
       "      <td>1.436594</td>\n",
       "    </tr>\n",
       "    <tr>\n",
       "      <th>Garage Cars</th>\n",
       "      <td>2000.0</td>\n",
       "      <td>0.006099</td>\n",
       "      <td>0.999478</td>\n",
       "      <td>-2.340725</td>\n",
       "      <td>-1.006544</td>\n",
       "      <td>0.327637</td>\n",
       "      <td>0.327637</td>\n",
       "      <td>2.995998</td>\n",
       "    </tr>\n",
       "    <tr>\n",
       "      <th>Garage Area</th>\n",
       "      <td>2000.0</td>\n",
       "      <td>-0.005884</td>\n",
       "      <td>0.991834</td>\n",
       "      <td>-2.239099</td>\n",
       "      <td>-0.734516</td>\n",
       "      <td>0.047676</td>\n",
       "      <td>0.516513</td>\n",
       "      <td>4.047141</td>\n",
       "    </tr>\n",
       "    <tr>\n",
       "      <th>Garage Total Value</th>\n",
       "      <td>2000.0</td>\n",
       "      <td>0.003767</td>\n",
       "      <td>1.003915</td>\n",
       "      <td>-3.566343</td>\n",
       "      <td>-0.425714</td>\n",
       "      <td>-0.033135</td>\n",
       "      <td>0.752022</td>\n",
       "      <td>1.929758</td>\n",
       "    </tr>\n",
       "    <tr>\n",
       "      <th>Overall Total Value</th>\n",
       "      <td>2000.0</td>\n",
       "      <td>0.007223</td>\n",
       "      <td>0.995093</td>\n",
       "      <td>-4.034372</td>\n",
       "      <td>-0.392749</td>\n",
       "      <td>0.214188</td>\n",
       "      <td>0.821126</td>\n",
       "      <td>3.248874</td>\n",
       "    </tr>\n",
       "    <tr>\n",
       "      <th>Exter Total Value</th>\n",
       "      <td>2000.0</td>\n",
       "      <td>0.006858</td>\n",
       "      <td>1.000028</td>\n",
       "      <td>-3.659125</td>\n",
       "      <td>-0.703283</td>\n",
       "      <td>-0.703283</td>\n",
       "      <td>0.774638</td>\n",
       "      <td>3.730480</td>\n",
       "    </tr>\n",
       "    <tr>\n",
       "      <th>Total Flr SF</th>\n",
       "      <td>2000.0</td>\n",
       "      <td>-0.000885</td>\n",
       "      <td>0.979896</td>\n",
       "      <td>-2.127254</td>\n",
       "      <td>-0.742365</td>\n",
       "      <td>-0.162756</td>\n",
       "      <td>0.632921</td>\n",
       "      <td>4.331446</td>\n",
       "    </tr>\n",
       "    <tr>\n",
       "      <th>Fireplace Total Value</th>\n",
       "      <td>2000.0</td>\n",
       "      <td>-0.013053</td>\n",
       "      <td>0.995037</td>\n",
       "      <td>-0.983261</td>\n",
       "      <td>-0.983261</td>\n",
       "      <td>-0.140884</td>\n",
       "      <td>1.122682</td>\n",
       "      <td>1.965059</td>\n",
       "    </tr>\n",
       "    <tr>\n",
       "      <th>Total Bath</th>\n",
       "      <td>2000.0</td>\n",
       "      <td>-0.007579</td>\n",
       "      <td>0.991051</td>\n",
       "      <td>-1.542965</td>\n",
       "      <td>-0.457119</td>\n",
       "      <td>-0.457119</td>\n",
       "      <td>0.628727</td>\n",
       "      <td>3.886265</td>\n",
       "    </tr>\n",
       "    <tr>\n",
       "      <th>Kitchen Total Value</th>\n",
       "      <td>2000.0</td>\n",
       "      <td>0.000968</td>\n",
       "      <td>0.995737</td>\n",
       "      <td>-2.375925</td>\n",
       "      <td>-0.839472</td>\n",
       "      <td>-0.071246</td>\n",
       "      <td>0.696981</td>\n",
       "      <td>2.233434</td>\n",
       "    </tr>\n",
       "    <tr>\n",
       "      <th>Land Contour_Bnk</th>\n",
       "      <td>2000.0</td>\n",
       "      <td>0.038500</td>\n",
       "      <td>0.192448</td>\n",
       "      <td>0.000000</td>\n",
       "      <td>0.000000</td>\n",
       "      <td>0.000000</td>\n",
       "      <td>0.000000</td>\n",
       "      <td>1.000000</td>\n",
       "    </tr>\n",
       "    <tr>\n",
       "      <th>Land Contour_HLS</th>\n",
       "      <td>2000.0</td>\n",
       "      <td>0.039000</td>\n",
       "      <td>0.193643</td>\n",
       "      <td>0.000000</td>\n",
       "      <td>0.000000</td>\n",
       "      <td>0.000000</td>\n",
       "      <td>0.000000</td>\n",
       "      <td>1.000000</td>\n",
       "    </tr>\n",
       "    <tr>\n",
       "      <th>Land Contour_Low</th>\n",
       "      <td>2000.0</td>\n",
       "      <td>0.019000</td>\n",
       "      <td>0.136559</td>\n",
       "      <td>0.000000</td>\n",
       "      <td>0.000000</td>\n",
       "      <td>0.000000</td>\n",
       "      <td>0.000000</td>\n",
       "      <td>1.000000</td>\n",
       "    </tr>\n",
       "    <tr>\n",
       "      <th>Land Contour_Lvl</th>\n",
       "      <td>2000.0</td>\n",
       "      <td>0.903500</td>\n",
       "      <td>0.295350</td>\n",
       "      <td>0.000000</td>\n",
       "      <td>1.000000</td>\n",
       "      <td>1.000000</td>\n",
       "      <td>1.000000</td>\n",
       "      <td>1.000000</td>\n",
       "    </tr>\n",
       "    <tr>\n",
       "      <th>Lot Config_Corner</th>\n",
       "      <td>2000.0</td>\n",
       "      <td>0.171500</td>\n",
       "      <td>0.377040</td>\n",
       "      <td>0.000000</td>\n",
       "      <td>0.000000</td>\n",
       "      <td>0.000000</td>\n",
       "      <td>0.000000</td>\n",
       "      <td>1.000000</td>\n",
       "    </tr>\n",
       "    <tr>\n",
       "      <th>Lot Config_CulDSac</th>\n",
       "      <td>2000.0</td>\n",
       "      <td>0.061000</td>\n",
       "      <td>0.239390</td>\n",
       "      <td>0.000000</td>\n",
       "      <td>0.000000</td>\n",
       "      <td>0.000000</td>\n",
       "      <td>0.000000</td>\n",
       "      <td>1.000000</td>\n",
       "    </tr>\n",
       "    <tr>\n",
       "      <th>Lot Config_FR2</th>\n",
       "      <td>2000.0</td>\n",
       "      <td>0.030000</td>\n",
       "      <td>0.170630</td>\n",
       "      <td>0.000000</td>\n",
       "      <td>0.000000</td>\n",
       "      <td>0.000000</td>\n",
       "      <td>0.000000</td>\n",
       "      <td>1.000000</td>\n",
       "    </tr>\n",
       "    <tr>\n",
       "      <th>Lot Config_FR3</th>\n",
       "      <td>2000.0</td>\n",
       "      <td>0.004500</td>\n",
       "      <td>0.066948</td>\n",
       "      <td>0.000000</td>\n",
       "      <td>0.000000</td>\n",
       "      <td>0.000000</td>\n",
       "      <td>0.000000</td>\n",
       "      <td>1.000000</td>\n",
       "    </tr>\n",
       "    <tr>\n",
       "      <th>Lot Config_Inside</th>\n",
       "      <td>2000.0</td>\n",
       "      <td>0.733000</td>\n",
       "      <td>0.442503</td>\n",
       "      <td>0.000000</td>\n",
       "      <td>0.000000</td>\n",
       "      <td>1.000000</td>\n",
       "      <td>1.000000</td>\n",
       "      <td>1.000000</td>\n",
       "    </tr>\n",
       "    <tr>\n",
       "      <th>Neighborhood_Blmngtn</th>\n",
       "      <td>2000.0</td>\n",
       "      <td>0.011000</td>\n",
       "      <td>0.104329</td>\n",
       "      <td>0.000000</td>\n",
       "      <td>0.000000</td>\n",
       "      <td>0.000000</td>\n",
       "      <td>0.000000</td>\n",
       "      <td>1.000000</td>\n",
       "    </tr>\n",
       "    <tr>\n",
       "      <th>Neighborhood_Blueste</th>\n",
       "      <td>2000.0</td>\n",
       "      <td>0.003000</td>\n",
       "      <td>0.054704</td>\n",
       "      <td>0.000000</td>\n",
       "      <td>0.000000</td>\n",
       "      <td>0.000000</td>\n",
       "      <td>0.000000</td>\n",
       "      <td>1.000000</td>\n",
       "    </tr>\n",
       "    <tr>\n",
       "      <th>Neighborhood_BrDale</th>\n",
       "      <td>2000.0</td>\n",
       "      <td>0.009500</td>\n",
       "      <td>0.097028</td>\n",
       "      <td>0.000000</td>\n",
       "      <td>0.000000</td>\n",
       "      <td>0.000000</td>\n",
       "      <td>0.000000</td>\n",
       "      <td>1.000000</td>\n",
       "    </tr>\n",
       "    <tr>\n",
       "      <th>Neighborhood_BrkSide</th>\n",
       "      <td>2000.0</td>\n",
       "      <td>0.037000</td>\n",
       "      <td>0.188809</td>\n",
       "      <td>0.000000</td>\n",
       "      <td>0.000000</td>\n",
       "      <td>0.000000</td>\n",
       "      <td>0.000000</td>\n",
       "      <td>1.000000</td>\n",
       "    </tr>\n",
       "    <tr>\n",
       "      <th>Neighborhood_ClearCr</th>\n",
       "      <td>2000.0</td>\n",
       "      <td>0.013500</td>\n",
       "      <td>0.115431</td>\n",
       "      <td>0.000000</td>\n",
       "      <td>0.000000</td>\n",
       "      <td>0.000000</td>\n",
       "      <td>0.000000</td>\n",
       "      <td>1.000000</td>\n",
       "    </tr>\n",
       "    <tr>\n",
       "      <th>Neighborhood_CollgCr</th>\n",
       "      <td>2000.0</td>\n",
       "      <td>0.089500</td>\n",
       "      <td>0.285535</td>\n",
       "      <td>0.000000</td>\n",
       "      <td>0.000000</td>\n",
       "      <td>0.000000</td>\n",
       "      <td>0.000000</td>\n",
       "      <td>1.000000</td>\n",
       "    </tr>\n",
       "    <tr>\n",
       "      <th>Neighborhood_Crawfor</th>\n",
       "      <td>2000.0</td>\n",
       "      <td>0.035000</td>\n",
       "      <td>0.183826</td>\n",
       "      <td>0.000000</td>\n",
       "      <td>0.000000</td>\n",
       "      <td>0.000000</td>\n",
       "      <td>0.000000</td>\n",
       "      <td>1.000000</td>\n",
       "    </tr>\n",
       "    <tr>\n",
       "      <th>Neighborhood_Edwards</th>\n",
       "      <td>2000.0</td>\n",
       "      <td>0.069000</td>\n",
       "      <td>0.253518</td>\n",
       "      <td>0.000000</td>\n",
       "      <td>0.000000</td>\n",
       "      <td>0.000000</td>\n",
       "      <td>0.000000</td>\n",
       "      <td>1.000000</td>\n",
       "    </tr>\n",
       "    <tr>\n",
       "      <th>Neighborhood_Gilbert</th>\n",
       "      <td>2000.0</td>\n",
       "      <td>0.058000</td>\n",
       "      <td>0.233802</td>\n",
       "      <td>0.000000</td>\n",
       "      <td>0.000000</td>\n",
       "      <td>0.000000</td>\n",
       "      <td>0.000000</td>\n",
       "      <td>1.000000</td>\n",
       "    </tr>\n",
       "    <tr>\n",
       "      <th>Neighborhood_Greens</th>\n",
       "      <td>2000.0</td>\n",
       "      <td>0.001500</td>\n",
       "      <td>0.038710</td>\n",
       "      <td>0.000000</td>\n",
       "      <td>0.000000</td>\n",
       "      <td>0.000000</td>\n",
       "      <td>0.000000</td>\n",
       "      <td>1.000000</td>\n",
       "    </tr>\n",
       "    <tr>\n",
       "      <th>Neighborhood_GrnHill</th>\n",
       "      <td>2000.0</td>\n",
       "      <td>0.001000</td>\n",
       "      <td>0.031615</td>\n",
       "      <td>0.000000</td>\n",
       "      <td>0.000000</td>\n",
       "      <td>0.000000</td>\n",
       "      <td>0.000000</td>\n",
       "      <td>1.000000</td>\n",
       "    </tr>\n",
       "    <tr>\n",
       "      <th>Neighborhood_IDOTRR</th>\n",
       "      <td>2000.0</td>\n",
       "      <td>0.034000</td>\n",
       "      <td>0.181274</td>\n",
       "      <td>0.000000</td>\n",
       "      <td>0.000000</td>\n",
       "      <td>0.000000</td>\n",
       "      <td>0.000000</td>\n",
       "      <td>1.000000</td>\n",
       "    </tr>\n",
       "    <tr>\n",
       "      <th>Neighborhood_Landmrk</th>\n",
       "      <td>2000.0</td>\n",
       "      <td>0.000500</td>\n",
       "      <td>0.022361</td>\n",
       "      <td>0.000000</td>\n",
       "      <td>0.000000</td>\n",
       "      <td>0.000000</td>\n",
       "      <td>0.000000</td>\n",
       "      <td>1.000000</td>\n",
       "    </tr>\n",
       "    <tr>\n",
       "      <th>Neighborhood_MeadowV</th>\n",
       "      <td>2000.0</td>\n",
       "      <td>0.012000</td>\n",
       "      <td>0.108912</td>\n",
       "      <td>0.000000</td>\n",
       "      <td>0.000000</td>\n",
       "      <td>0.000000</td>\n",
       "      <td>0.000000</td>\n",
       "      <td>1.000000</td>\n",
       "    </tr>\n",
       "    <tr>\n",
       "      <th>Neighborhood_Mitchel</th>\n",
       "      <td>2000.0</td>\n",
       "      <td>0.040000</td>\n",
       "      <td>0.196008</td>\n",
       "      <td>0.000000</td>\n",
       "      <td>0.000000</td>\n",
       "      <td>0.000000</td>\n",
       "      <td>0.000000</td>\n",
       "      <td>1.000000</td>\n",
       "    </tr>\n",
       "    <tr>\n",
       "      <th>Neighborhood_NAmes</th>\n",
       "      <td>2000.0</td>\n",
       "      <td>0.153500</td>\n",
       "      <td>0.360559</td>\n",
       "      <td>0.000000</td>\n",
       "      <td>0.000000</td>\n",
       "      <td>0.000000</td>\n",
       "      <td>0.000000</td>\n",
       "      <td>1.000000</td>\n",
       "    </tr>\n",
       "    <tr>\n",
       "      <th>Neighborhood_NPkVill</th>\n",
       "      <td>2000.0</td>\n",
       "      <td>0.008500</td>\n",
       "      <td>0.091826</td>\n",
       "      <td>0.000000</td>\n",
       "      <td>0.000000</td>\n",
       "      <td>0.000000</td>\n",
       "      <td>0.000000</td>\n",
       "      <td>1.000000</td>\n",
       "    </tr>\n",
       "    <tr>\n",
       "      <th>Neighborhood_NWAmes</th>\n",
       "      <td>2000.0</td>\n",
       "      <td>0.043500</td>\n",
       "      <td>0.204031</td>\n",
       "      <td>0.000000</td>\n",
       "      <td>0.000000</td>\n",
       "      <td>0.000000</td>\n",
       "      <td>0.000000</td>\n",
       "      <td>1.000000</td>\n",
       "    </tr>\n",
       "    <tr>\n",
       "      <th>Neighborhood_NoRidge</th>\n",
       "      <td>2000.0</td>\n",
       "      <td>0.023000</td>\n",
       "      <td>0.149941</td>\n",
       "      <td>0.000000</td>\n",
       "      <td>0.000000</td>\n",
       "      <td>0.000000</td>\n",
       "      <td>0.000000</td>\n",
       "      <td>1.000000</td>\n",
       "    </tr>\n",
       "    <tr>\n",
       "      <th>Neighborhood_NridgHt</th>\n",
       "      <td>2000.0</td>\n",
       "      <td>0.055500</td>\n",
       "      <td>0.229011</td>\n",
       "      <td>0.000000</td>\n",
       "      <td>0.000000</td>\n",
       "      <td>0.000000</td>\n",
       "      <td>0.000000</td>\n",
       "      <td>1.000000</td>\n",
       "    </tr>\n",
       "    <tr>\n",
       "      <th>Neighborhood_OldTown</th>\n",
       "      <td>2000.0</td>\n",
       "      <td>0.079500</td>\n",
       "      <td>0.270585</td>\n",
       "      <td>0.000000</td>\n",
       "      <td>0.000000</td>\n",
       "      <td>0.000000</td>\n",
       "      <td>0.000000</td>\n",
       "      <td>1.000000</td>\n",
       "    </tr>\n",
       "    <tr>\n",
       "      <th>Neighborhood_SWISU</th>\n",
       "      <td>2000.0</td>\n",
       "      <td>0.015500</td>\n",
       "      <td>0.123561</td>\n",
       "      <td>0.000000</td>\n",
       "      <td>0.000000</td>\n",
       "      <td>0.000000</td>\n",
       "      <td>0.000000</td>\n",
       "      <td>1.000000</td>\n",
       "    </tr>\n",
       "    <tr>\n",
       "      <th>Neighborhood_Sawyer</th>\n",
       "      <td>2000.0</td>\n",
       "      <td>0.055000</td>\n",
       "      <td>0.228037</td>\n",
       "      <td>0.000000</td>\n",
       "      <td>0.000000</td>\n",
       "      <td>0.000000</td>\n",
       "      <td>0.000000</td>\n",
       "      <td>1.000000</td>\n",
       "    </tr>\n",
       "    <tr>\n",
       "      <th>Neighborhood_SawyerW</th>\n",
       "      <td>2000.0</td>\n",
       "      <td>0.042500</td>\n",
       "      <td>0.201777</td>\n",
       "      <td>0.000000</td>\n",
       "      <td>0.000000</td>\n",
       "      <td>0.000000</td>\n",
       "      <td>0.000000</td>\n",
       "      <td>1.000000</td>\n",
       "    </tr>\n",
       "    <tr>\n",
       "      <th>Neighborhood_Somerst</th>\n",
       "      <td>2000.0</td>\n",
       "      <td>0.063500</td>\n",
       "      <td>0.243921</td>\n",
       "      <td>0.000000</td>\n",
       "      <td>0.000000</td>\n",
       "      <td>0.000000</td>\n",
       "      <td>0.000000</td>\n",
       "      <td>1.000000</td>\n",
       "    </tr>\n",
       "    <tr>\n",
       "      <th>Neighborhood_StoneBr</th>\n",
       "      <td>2000.0</td>\n",
       "      <td>0.015000</td>\n",
       "      <td>0.121583</td>\n",
       "      <td>0.000000</td>\n",
       "      <td>0.000000</td>\n",
       "      <td>0.000000</td>\n",
       "      <td>0.000000</td>\n",
       "      <td>1.000000</td>\n",
       "    </tr>\n",
       "    <tr>\n",
       "      <th>Neighborhood_Timber</th>\n",
       "      <td>2000.0</td>\n",
       "      <td>0.023000</td>\n",
       "      <td>0.149941</td>\n",
       "      <td>0.000000</td>\n",
       "      <td>0.000000</td>\n",
       "      <td>0.000000</td>\n",
       "      <td>0.000000</td>\n",
       "      <td>1.000000</td>\n",
       "    </tr>\n",
       "    <tr>\n",
       "      <th>Neighborhood_Veenker</th>\n",
       "      <td>2000.0</td>\n",
       "      <td>0.007500</td>\n",
       "      <td>0.086299</td>\n",
       "      <td>0.000000</td>\n",
       "      <td>0.000000</td>\n",
       "      <td>0.000000</td>\n",
       "      <td>0.000000</td>\n",
       "      <td>1.000000</td>\n",
       "    </tr>\n",
       "    <tr>\n",
       "      <th>Condition 1_Artery</th>\n",
       "      <td>2000.0</td>\n",
       "      <td>0.033500</td>\n",
       "      <td>0.179983</td>\n",
       "      <td>0.000000</td>\n",
       "      <td>0.000000</td>\n",
       "      <td>0.000000</td>\n",
       "      <td>0.000000</td>\n",
       "      <td>1.000000</td>\n",
       "    </tr>\n",
       "    <tr>\n",
       "      <th>Condition 1_Feedr</th>\n",
       "      <td>2000.0</td>\n",
       "      <td>0.053000</td>\n",
       "      <td>0.224090</td>\n",
       "      <td>0.000000</td>\n",
       "      <td>0.000000</td>\n",
       "      <td>0.000000</td>\n",
       "      <td>0.000000</td>\n",
       "      <td>1.000000</td>\n",
       "    </tr>\n",
       "    <tr>\n",
       "      <th>Condition 1_Norm</th>\n",
       "      <td>2000.0</td>\n",
       "      <td>0.862000</td>\n",
       "      <td>0.344986</td>\n",
       "      <td>0.000000</td>\n",
       "      <td>1.000000</td>\n",
       "      <td>1.000000</td>\n",
       "      <td>1.000000</td>\n",
       "      <td>1.000000</td>\n",
       "    </tr>\n",
       "    <tr>\n",
       "      <th>Condition 1_PosA</th>\n",
       "      <td>2000.0</td>\n",
       "      <td>0.006000</td>\n",
       "      <td>0.077246</td>\n",
       "      <td>0.000000</td>\n",
       "      <td>0.000000</td>\n",
       "      <td>0.000000</td>\n",
       "      <td>0.000000</td>\n",
       "      <td>1.000000</td>\n",
       "    </tr>\n",
       "    <tr>\n",
       "      <th>Condition 1_PosN</th>\n",
       "      <td>2000.0</td>\n",
       "      <td>0.012500</td>\n",
       "      <td>0.111130</td>\n",
       "      <td>0.000000</td>\n",
       "      <td>0.000000</td>\n",
       "      <td>0.000000</td>\n",
       "      <td>0.000000</td>\n",
       "      <td>1.000000</td>\n",
       "    </tr>\n",
       "    <tr>\n",
       "      <th>Condition 1_RRAe</th>\n",
       "      <td>2000.0</td>\n",
       "      <td>0.010500</td>\n",
       "      <td>0.101956</td>\n",
       "      <td>0.000000</td>\n",
       "      <td>0.000000</td>\n",
       "      <td>0.000000</td>\n",
       "      <td>0.000000</td>\n",
       "      <td>1.000000</td>\n",
       "    </tr>\n",
       "    <tr>\n",
       "      <th>Condition 1_RRAn</th>\n",
       "      <td>2000.0</td>\n",
       "      <td>0.018000</td>\n",
       "      <td>0.132984</td>\n",
       "      <td>0.000000</td>\n",
       "      <td>0.000000</td>\n",
       "      <td>0.000000</td>\n",
       "      <td>0.000000</td>\n",
       "      <td>1.000000</td>\n",
       "    </tr>\n",
       "    <tr>\n",
       "      <th>Condition 1_RRNe</th>\n",
       "      <td>2000.0</td>\n",
       "      <td>0.001500</td>\n",
       "      <td>0.038710</td>\n",
       "      <td>0.000000</td>\n",
       "      <td>0.000000</td>\n",
       "      <td>0.000000</td>\n",
       "      <td>0.000000</td>\n",
       "      <td>1.000000</td>\n",
       "    </tr>\n",
       "    <tr>\n",
       "      <th>Condition 1_RRNn</th>\n",
       "      <td>2000.0</td>\n",
       "      <td>0.003000</td>\n",
       "      <td>0.054704</td>\n",
       "      <td>0.000000</td>\n",
       "      <td>0.000000</td>\n",
       "      <td>0.000000</td>\n",
       "      <td>0.000000</td>\n",
       "      <td>1.000000</td>\n",
       "    </tr>\n",
       "    <tr>\n",
       "      <th>Condition 2_Artery</th>\n",
       "      <td>2000.0</td>\n",
       "      <td>0.002500</td>\n",
       "      <td>0.049950</td>\n",
       "      <td>0.000000</td>\n",
       "      <td>0.000000</td>\n",
       "      <td>0.000000</td>\n",
       "      <td>0.000000</td>\n",
       "      <td>1.000000</td>\n",
       "    </tr>\n",
       "    <tr>\n",
       "      <th>Condition 2_Feedr</th>\n",
       "      <td>2000.0</td>\n",
       "      <td>0.005500</td>\n",
       "      <td>0.073976</td>\n",
       "      <td>0.000000</td>\n",
       "      <td>0.000000</td>\n",
       "      <td>0.000000</td>\n",
       "      <td>0.000000</td>\n",
       "      <td>1.000000</td>\n",
       "    </tr>\n",
       "    <tr>\n",
       "      <th>Condition 2_Norm</th>\n",
       "      <td>2000.0</td>\n",
       "      <td>0.988000</td>\n",
       "      <td>0.108912</td>\n",
       "      <td>0.000000</td>\n",
       "      <td>1.000000</td>\n",
       "      <td>1.000000</td>\n",
       "      <td>1.000000</td>\n",
       "      <td>1.000000</td>\n",
       "    </tr>\n",
       "    <tr>\n",
       "      <th>Condition 2_PosA</th>\n",
       "      <td>2000.0</td>\n",
       "      <td>0.001000</td>\n",
       "      <td>0.031615</td>\n",
       "      <td>0.000000</td>\n",
       "      <td>0.000000</td>\n",
       "      <td>0.000000</td>\n",
       "      <td>0.000000</td>\n",
       "      <td>1.000000</td>\n",
       "    </tr>\n",
       "    <tr>\n",
       "      <th>Condition 2_PosN</th>\n",
       "      <td>2000.0</td>\n",
       "      <td>0.001000</td>\n",
       "      <td>0.031615</td>\n",
       "      <td>0.000000</td>\n",
       "      <td>0.000000</td>\n",
       "      <td>0.000000</td>\n",
       "      <td>0.000000</td>\n",
       "      <td>1.000000</td>\n",
       "    </tr>\n",
       "    <tr>\n",
       "      <th>Condition 2_RRAe</th>\n",
       "      <td>2000.0</td>\n",
       "      <td>0.000500</td>\n",
       "      <td>0.022361</td>\n",
       "      <td>0.000000</td>\n",
       "      <td>0.000000</td>\n",
       "      <td>0.000000</td>\n",
       "      <td>0.000000</td>\n",
       "      <td>1.000000</td>\n",
       "    </tr>\n",
       "    <tr>\n",
       "      <th>Condition 2_RRAn</th>\n",
       "      <td>2000.0</td>\n",
       "      <td>0.000500</td>\n",
       "      <td>0.022361</td>\n",
       "      <td>0.000000</td>\n",
       "      <td>0.000000</td>\n",
       "      <td>0.000000</td>\n",
       "      <td>0.000000</td>\n",
       "      <td>1.000000</td>\n",
       "    </tr>\n",
       "    <tr>\n",
       "      <th>Condition 2_RRNn</th>\n",
       "      <td>2000.0</td>\n",
       "      <td>0.001000</td>\n",
       "      <td>0.031615</td>\n",
       "      <td>0.000000</td>\n",
       "      <td>0.000000</td>\n",
       "      <td>0.000000</td>\n",
       "      <td>0.000000</td>\n",
       "      <td>1.000000</td>\n",
       "    </tr>\n",
       "    <tr>\n",
       "      <th>Bldg Type_1Fam</th>\n",
       "      <td>2000.0</td>\n",
       "      <td>0.828000</td>\n",
       "      <td>0.377475</td>\n",
       "      <td>0.000000</td>\n",
       "      <td>1.000000</td>\n",
       "      <td>1.000000</td>\n",
       "      <td>1.000000</td>\n",
       "      <td>1.000000</td>\n",
       "    </tr>\n",
       "    <tr>\n",
       "      <th>Bldg Type_2fmCon</th>\n",
       "      <td>2000.0</td>\n",
       "      <td>0.022000</td>\n",
       "      <td>0.146720</td>\n",
       "      <td>0.000000</td>\n",
       "      <td>0.000000</td>\n",
       "      <td>0.000000</td>\n",
       "      <td>0.000000</td>\n",
       "      <td>1.000000</td>\n",
       "    </tr>\n",
       "    <tr>\n",
       "      <th>Bldg Type_Duplex</th>\n",
       "      <td>2000.0</td>\n",
       "      <td>0.036000</td>\n",
       "      <td>0.186337</td>\n",
       "      <td>0.000000</td>\n",
       "      <td>0.000000</td>\n",
       "      <td>0.000000</td>\n",
       "      <td>0.000000</td>\n",
       "      <td>1.000000</td>\n",
       "    </tr>\n",
       "    <tr>\n",
       "      <th>Bldg Type_Twnhs</th>\n",
       "      <td>2000.0</td>\n",
       "      <td>0.034500</td>\n",
       "      <td>0.182555</td>\n",
       "      <td>0.000000</td>\n",
       "      <td>0.000000</td>\n",
       "      <td>0.000000</td>\n",
       "      <td>0.000000</td>\n",
       "      <td>1.000000</td>\n",
       "    </tr>\n",
       "    <tr>\n",
       "      <th>Bldg Type_TwnhsE</th>\n",
       "      <td>2000.0</td>\n",
       "      <td>0.079500</td>\n",
       "      <td>0.270585</td>\n",
       "      <td>0.000000</td>\n",
       "      <td>0.000000</td>\n",
       "      <td>0.000000</td>\n",
       "      <td>0.000000</td>\n",
       "      <td>1.000000</td>\n",
       "    </tr>\n",
       "    <tr>\n",
       "      <th>House Style_1.5Fin</th>\n",
       "      <td>2000.0</td>\n",
       "      <td>0.109000</td>\n",
       "      <td>0.311717</td>\n",
       "      <td>0.000000</td>\n",
       "      <td>0.000000</td>\n",
       "      <td>0.000000</td>\n",
       "      <td>0.000000</td>\n",
       "      <td>1.000000</td>\n",
       "    </tr>\n",
       "    <tr>\n",
       "      <th>House Style_1.5Unf</th>\n",
       "      <td>2000.0</td>\n",
       "      <td>0.006000</td>\n",
       "      <td>0.077246</td>\n",
       "      <td>0.000000</td>\n",
       "      <td>0.000000</td>\n",
       "      <td>0.000000</td>\n",
       "      <td>0.000000</td>\n",
       "      <td>1.000000</td>\n",
       "    </tr>\n",
       "    <tr>\n",
       "      <th>House Style_1Story</th>\n",
       "      <td>2000.0</td>\n",
       "      <td>0.515000</td>\n",
       "      <td>0.499900</td>\n",
       "      <td>0.000000</td>\n",
       "      <td>0.000000</td>\n",
       "      <td>1.000000</td>\n",
       "      <td>1.000000</td>\n",
       "      <td>1.000000</td>\n",
       "    </tr>\n",
       "    <tr>\n",
       "      <th>House Style_2.5Fin</th>\n",
       "      <td>2000.0</td>\n",
       "      <td>0.002000</td>\n",
       "      <td>0.044688</td>\n",
       "      <td>0.000000</td>\n",
       "      <td>0.000000</td>\n",
       "      <td>0.000000</td>\n",
       "      <td>0.000000</td>\n",
       "      <td>1.000000</td>\n",
       "    </tr>\n",
       "    <tr>\n",
       "      <th>House Style_2.5Unf</th>\n",
       "      <td>2000.0</td>\n",
       "      <td>0.005500</td>\n",
       "      <td>0.073976</td>\n",
       "      <td>0.000000</td>\n",
       "      <td>0.000000</td>\n",
       "      <td>0.000000</td>\n",
       "      <td>0.000000</td>\n",
       "      <td>1.000000</td>\n",
       "    </tr>\n",
       "    <tr>\n",
       "      <th>House Style_2Story</th>\n",
       "      <td>2000.0</td>\n",
       "      <td>0.291000</td>\n",
       "      <td>0.454337</td>\n",
       "      <td>0.000000</td>\n",
       "      <td>0.000000</td>\n",
       "      <td>0.000000</td>\n",
       "      <td>1.000000</td>\n",
       "      <td>1.000000</td>\n",
       "    </tr>\n",
       "    <tr>\n",
       "      <th>House Style_SFoyer</th>\n",
       "      <td>2000.0</td>\n",
       "      <td>0.025000</td>\n",
       "      <td>0.156164</td>\n",
       "      <td>0.000000</td>\n",
       "      <td>0.000000</td>\n",
       "      <td>0.000000</td>\n",
       "      <td>0.000000</td>\n",
       "      <td>1.000000</td>\n",
       "    </tr>\n",
       "    <tr>\n",
       "      <th>House Style_SLvl</th>\n",
       "      <td>2000.0</td>\n",
       "      <td>0.046500</td>\n",
       "      <td>0.210618</td>\n",
       "      <td>0.000000</td>\n",
       "      <td>0.000000</td>\n",
       "      <td>0.000000</td>\n",
       "      <td>0.000000</td>\n",
       "      <td>1.000000</td>\n",
       "    </tr>\n",
       "    <tr>\n",
       "      <th>Roof Style_Flat</th>\n",
       "      <td>2000.0</td>\n",
       "      <td>0.006500</td>\n",
       "      <td>0.080380</td>\n",
       "      <td>0.000000</td>\n",
       "      <td>0.000000</td>\n",
       "      <td>0.000000</td>\n",
       "      <td>0.000000</td>\n",
       "      <td>1.000000</td>\n",
       "    </tr>\n",
       "    <tr>\n",
       "      <th>Roof Style_Gable</th>\n",
       "      <td>2000.0</td>\n",
       "      <td>0.799000</td>\n",
       "      <td>0.400848</td>\n",
       "      <td>0.000000</td>\n",
       "      <td>1.000000</td>\n",
       "      <td>1.000000</td>\n",
       "      <td>1.000000</td>\n",
       "      <td>1.000000</td>\n",
       "    </tr>\n",
       "    <tr>\n",
       "      <th>Roof Style_Gambrel</th>\n",
       "      <td>2000.0</td>\n",
       "      <td>0.006000</td>\n",
       "      <td>0.077246</td>\n",
       "      <td>0.000000</td>\n",
       "      <td>0.000000</td>\n",
       "      <td>0.000000</td>\n",
       "      <td>0.000000</td>\n",
       "      <td>1.000000</td>\n",
       "    </tr>\n",
       "    <tr>\n",
       "      <th>Roof Style_Hip</th>\n",
       "      <td>2000.0</td>\n",
       "      <td>0.184000</td>\n",
       "      <td>0.387581</td>\n",
       "      <td>0.000000</td>\n",
       "      <td>0.000000</td>\n",
       "      <td>0.000000</td>\n",
       "      <td>0.000000</td>\n",
       "      <td>1.000000</td>\n",
       "    </tr>\n",
       "    <tr>\n",
       "      <th>Roof Style_Mansard</th>\n",
       "      <td>2000.0</td>\n",
       "      <td>0.003000</td>\n",
       "      <td>0.054704</td>\n",
       "      <td>0.000000</td>\n",
       "      <td>0.000000</td>\n",
       "      <td>0.000000</td>\n",
       "      <td>0.000000</td>\n",
       "      <td>1.000000</td>\n",
       "    </tr>\n",
       "    <tr>\n",
       "      <th>Roof Style_Shed</th>\n",
       "      <td>2000.0</td>\n",
       "      <td>0.001500</td>\n",
       "      <td>0.038710</td>\n",
       "      <td>0.000000</td>\n",
       "      <td>0.000000</td>\n",
       "      <td>0.000000</td>\n",
       "      <td>0.000000</td>\n",
       "      <td>1.000000</td>\n",
       "    </tr>\n",
       "    <tr>\n",
       "      <th>Roof Matl_CompShg</th>\n",
       "      <td>2000.0</td>\n",
       "      <td>0.988500</td>\n",
       "      <td>0.106646</td>\n",
       "      <td>0.000000</td>\n",
       "      <td>1.000000</td>\n",
       "      <td>1.000000</td>\n",
       "      <td>1.000000</td>\n",
       "      <td>1.000000</td>\n",
       "    </tr>\n",
       "    <tr>\n",
       "      <th>Roof Matl_Membran</th>\n",
       "      <td>2000.0</td>\n",
       "      <td>0.000500</td>\n",
       "      <td>0.022361</td>\n",
       "      <td>0.000000</td>\n",
       "      <td>0.000000</td>\n",
       "      <td>0.000000</td>\n",
       "      <td>0.000000</td>\n",
       "      <td>1.000000</td>\n",
       "    </tr>\n",
       "    <tr>\n",
       "      <th>Roof Matl_Metal</th>\n",
       "      <td>2000.0</td>\n",
       "      <td>0.000000</td>\n",
       "      <td>0.000000</td>\n",
       "      <td>0.000000</td>\n",
       "      <td>0.000000</td>\n",
       "      <td>0.000000</td>\n",
       "      <td>0.000000</td>\n",
       "      <td>0.000000</td>\n",
       "    </tr>\n",
       "    <tr>\n",
       "      <th>Roof Matl_Roll</th>\n",
       "      <td>2000.0</td>\n",
       "      <td>0.000000</td>\n",
       "      <td>0.000000</td>\n",
       "      <td>0.000000</td>\n",
       "      <td>0.000000</td>\n",
       "      <td>0.000000</td>\n",
       "      <td>0.000000</td>\n",
       "      <td>0.000000</td>\n",
       "    </tr>\n",
       "    <tr>\n",
       "      <th>Roof Matl_Tar&amp;Grv</th>\n",
       "      <td>2000.0</td>\n",
       "      <td>0.007500</td>\n",
       "      <td>0.086299</td>\n",
       "      <td>0.000000</td>\n",
       "      <td>0.000000</td>\n",
       "      <td>0.000000</td>\n",
       "      <td>0.000000</td>\n",
       "      <td>1.000000</td>\n",
       "    </tr>\n",
       "    <tr>\n",
       "      <th>Roof Matl_WdShake</th>\n",
       "      <td>2000.0</td>\n",
       "      <td>0.001500</td>\n",
       "      <td>0.038710</td>\n",
       "      <td>0.000000</td>\n",
       "      <td>0.000000</td>\n",
       "      <td>0.000000</td>\n",
       "      <td>0.000000</td>\n",
       "      <td>1.000000</td>\n",
       "    </tr>\n",
       "    <tr>\n",
       "      <th>Roof Matl_WdShngl</th>\n",
       "      <td>2000.0</td>\n",
       "      <td>0.002000</td>\n",
       "      <td>0.044688</td>\n",
       "      <td>0.000000</td>\n",
       "      <td>0.000000</td>\n",
       "      <td>0.000000</td>\n",
       "      <td>0.000000</td>\n",
       "      <td>1.000000</td>\n",
       "    </tr>\n",
       "    <tr>\n",
       "      <th>Exterior 1st_AsbShng</th>\n",
       "      <td>2000.0</td>\n",
       "      <td>0.015500</td>\n",
       "      <td>0.123561</td>\n",
       "      <td>0.000000</td>\n",
       "      <td>0.000000</td>\n",
       "      <td>0.000000</td>\n",
       "      <td>0.000000</td>\n",
       "      <td>1.000000</td>\n",
       "    </tr>\n",
       "    <tr>\n",
       "      <th>Exterior 1st_AsphShn</th>\n",
       "      <td>2000.0</td>\n",
       "      <td>0.000500</td>\n",
       "      <td>0.022361</td>\n",
       "      <td>0.000000</td>\n",
       "      <td>0.000000</td>\n",
       "      <td>0.000000</td>\n",
       "      <td>0.000000</td>\n",
       "      <td>1.000000</td>\n",
       "    </tr>\n",
       "    <tr>\n",
       "      <th>Exterior 1st_BrkComm</th>\n",
       "      <td>2000.0</td>\n",
       "      <td>0.001500</td>\n",
       "      <td>0.038710</td>\n",
       "      <td>0.000000</td>\n",
       "      <td>0.000000</td>\n",
       "      <td>0.000000</td>\n",
       "      <td>0.000000</td>\n",
       "      <td>1.000000</td>\n",
       "    </tr>\n",
       "    <tr>\n",
       "      <th>Exterior 1st_BrkFace</th>\n",
       "      <td>2000.0</td>\n",
       "      <td>0.031000</td>\n",
       "      <td>0.173361</td>\n",
       "      <td>0.000000</td>\n",
       "      <td>0.000000</td>\n",
       "      <td>0.000000</td>\n",
       "      <td>0.000000</td>\n",
       "      <td>1.000000</td>\n",
       "    </tr>\n",
       "    <tr>\n",
       "      <th>Exterior 1st_CBlock</th>\n",
       "      <td>2000.0</td>\n",
       "      <td>0.000500</td>\n",
       "      <td>0.022361</td>\n",
       "      <td>0.000000</td>\n",
       "      <td>0.000000</td>\n",
       "      <td>0.000000</td>\n",
       "      <td>0.000000</td>\n",
       "      <td>1.000000</td>\n",
       "    </tr>\n",
       "    <tr>\n",
       "      <th>Exterior 1st_CemntBd</th>\n",
       "      <td>2000.0</td>\n",
       "      <td>0.041500</td>\n",
       "      <td>0.199493</td>\n",
       "      <td>0.000000</td>\n",
       "      <td>0.000000</td>\n",
       "      <td>0.000000</td>\n",
       "      <td>0.000000</td>\n",
       "      <td>1.000000</td>\n",
       "    </tr>\n",
       "    <tr>\n",
       "      <th>Exterior 1st_HdBoard</th>\n",
       "      <td>2000.0</td>\n",
       "      <td>0.150000</td>\n",
       "      <td>0.357161</td>\n",
       "      <td>0.000000</td>\n",
       "      <td>0.000000</td>\n",
       "      <td>0.000000</td>\n",
       "      <td>0.000000</td>\n",
       "      <td>1.000000</td>\n",
       "    </tr>\n",
       "    <tr>\n",
       "      <th>Exterior 1st_ImStucc</th>\n",
       "      <td>2000.0</td>\n",
       "      <td>0.000500</td>\n",
       "      <td>0.022361</td>\n",
       "      <td>0.000000</td>\n",
       "      <td>0.000000</td>\n",
       "      <td>0.000000</td>\n",
       "      <td>0.000000</td>\n",
       "      <td>1.000000</td>\n",
       "    </tr>\n",
       "    <tr>\n",
       "      <th>Exterior 1st_MetalSd</th>\n",
       "      <td>2000.0</td>\n",
       "      <td>0.163000</td>\n",
       "      <td>0.369458</td>\n",
       "      <td>0.000000</td>\n",
       "      <td>0.000000</td>\n",
       "      <td>0.000000</td>\n",
       "      <td>0.000000</td>\n",
       "      <td>1.000000</td>\n",
       "    </tr>\n",
       "    <tr>\n",
       "      <th>Exterior 1st_Plywood</th>\n",
       "      <td>2000.0</td>\n",
       "      <td>0.075000</td>\n",
       "      <td>0.263457</td>\n",
       "      <td>0.000000</td>\n",
       "      <td>0.000000</td>\n",
       "      <td>0.000000</td>\n",
       "      <td>0.000000</td>\n",
       "      <td>1.000000</td>\n",
       "    </tr>\n",
       "    <tr>\n",
       "      <th>Exterior 1st_PreCast</th>\n",
       "      <td>2000.0</td>\n",
       "      <td>0.000000</td>\n",
       "      <td>0.000000</td>\n",
       "      <td>0.000000</td>\n",
       "      <td>0.000000</td>\n",
       "      <td>0.000000</td>\n",
       "      <td>0.000000</td>\n",
       "      <td>0.000000</td>\n",
       "    </tr>\n",
       "    <tr>\n",
       "      <th>Exterior 1st_Stone</th>\n",
       "      <td>2000.0</td>\n",
       "      <td>0.000500</td>\n",
       "      <td>0.022361</td>\n",
       "      <td>0.000000</td>\n",
       "      <td>0.000000</td>\n",
       "      <td>0.000000</td>\n",
       "      <td>0.000000</td>\n",
       "      <td>1.000000</td>\n",
       "    </tr>\n",
       "    <tr>\n",
       "      <th>Exterior 1st_Stucco</th>\n",
       "      <td>2000.0</td>\n",
       "      <td>0.013000</td>\n",
       "      <td>0.113302</td>\n",
       "      <td>0.000000</td>\n",
       "      <td>0.000000</td>\n",
       "      <td>0.000000</td>\n",
       "      <td>0.000000</td>\n",
       "      <td>1.000000</td>\n",
       "    </tr>\n",
       "    <tr>\n",
       "      <th>Exterior 1st_VinylSd</th>\n",
       "      <td>2000.0</td>\n",
       "      <td>0.351000</td>\n",
       "      <td>0.477402</td>\n",
       "      <td>0.000000</td>\n",
       "      <td>0.000000</td>\n",
       "      <td>0.000000</td>\n",
       "      <td>1.000000</td>\n",
       "      <td>1.000000</td>\n",
       "    </tr>\n",
       "    <tr>\n",
       "      <th>Exterior 1st_Wd Sdng</th>\n",
       "      <td>2000.0</td>\n",
       "      <td>0.134000</td>\n",
       "      <td>0.340738</td>\n",
       "      <td>0.000000</td>\n",
       "      <td>0.000000</td>\n",
       "      <td>0.000000</td>\n",
       "      <td>0.000000</td>\n",
       "      <td>1.000000</td>\n",
       "    </tr>\n",
       "    <tr>\n",
       "      <th>Exterior 1st_WdShing</th>\n",
       "      <td>2000.0</td>\n",
       "      <td>0.022500</td>\n",
       "      <td>0.148340</td>\n",
       "      <td>0.000000</td>\n",
       "      <td>0.000000</td>\n",
       "      <td>0.000000</td>\n",
       "      <td>0.000000</td>\n",
       "      <td>1.000000</td>\n",
       "    </tr>\n",
       "    <tr>\n",
       "      <th>Heating_Floor</th>\n",
       "      <td>2000.0</td>\n",
       "      <td>0.000000</td>\n",
       "      <td>0.000000</td>\n",
       "      <td>0.000000</td>\n",
       "      <td>0.000000</td>\n",
       "      <td>0.000000</td>\n",
       "      <td>0.000000</td>\n",
       "      <td>0.000000</td>\n",
       "    </tr>\n",
       "    <tr>\n",
       "      <th>Heating_GasA</th>\n",
       "      <td>2000.0</td>\n",
       "      <td>0.984000</td>\n",
       "      <td>0.125506</td>\n",
       "      <td>0.000000</td>\n",
       "      <td>1.000000</td>\n",
       "      <td>1.000000</td>\n",
       "      <td>1.000000</td>\n",
       "      <td>1.000000</td>\n",
       "    </tr>\n",
       "    <tr>\n",
       "      <th>Heating_GasW</th>\n",
       "      <td>2000.0</td>\n",
       "      <td>0.010000</td>\n",
       "      <td>0.099524</td>\n",
       "      <td>0.000000</td>\n",
       "      <td>0.000000</td>\n",
       "      <td>0.000000</td>\n",
       "      <td>0.000000</td>\n",
       "      <td>1.000000</td>\n",
       "    </tr>\n",
       "    <tr>\n",
       "      <th>Heating_Grav</th>\n",
       "      <td>2000.0</td>\n",
       "      <td>0.002500</td>\n",
       "      <td>0.049950</td>\n",
       "      <td>0.000000</td>\n",
       "      <td>0.000000</td>\n",
       "      <td>0.000000</td>\n",
       "      <td>0.000000</td>\n",
       "      <td>1.000000</td>\n",
       "    </tr>\n",
       "    <tr>\n",
       "      <th>Heating_OthW</th>\n",
       "      <td>2000.0</td>\n",
       "      <td>0.001000</td>\n",
       "      <td>0.031615</td>\n",
       "      <td>0.000000</td>\n",
       "      <td>0.000000</td>\n",
       "      <td>0.000000</td>\n",
       "      <td>0.000000</td>\n",
       "      <td>1.000000</td>\n",
       "    </tr>\n",
       "    <tr>\n",
       "      <th>Heating_Wall</th>\n",
       "      <td>2000.0</td>\n",
       "      <td>0.002500</td>\n",
       "      <td>0.049950</td>\n",
       "      <td>0.000000</td>\n",
       "      <td>0.000000</td>\n",
       "      <td>0.000000</td>\n",
       "      <td>0.000000</td>\n",
       "      <td>1.000000</td>\n",
       "    </tr>\n",
       "    <tr>\n",
       "      <th>Garage Type_2Types</th>\n",
       "      <td>2000.0</td>\n",
       "      <td>0.009000</td>\n",
       "      <td>0.094464</td>\n",
       "      <td>0.000000</td>\n",
       "      <td>0.000000</td>\n",
       "      <td>0.000000</td>\n",
       "      <td>0.000000</td>\n",
       "      <td>1.000000</td>\n",
       "    </tr>\n",
       "    <tr>\n",
       "      <th>Garage Type_Attchd</th>\n",
       "      <td>2000.0</td>\n",
       "      <td>0.592500</td>\n",
       "      <td>0.491492</td>\n",
       "      <td>0.000000</td>\n",
       "      <td>0.000000</td>\n",
       "      <td>1.000000</td>\n",
       "      <td>1.000000</td>\n",
       "      <td>1.000000</td>\n",
       "    </tr>\n",
       "    <tr>\n",
       "      <th>Garage Type_Basment</th>\n",
       "      <td>2000.0</td>\n",
       "      <td>0.013500</td>\n",
       "      <td>0.115431</td>\n",
       "      <td>0.000000</td>\n",
       "      <td>0.000000</td>\n",
       "      <td>0.000000</td>\n",
       "      <td>0.000000</td>\n",
       "      <td>1.000000</td>\n",
       "    </tr>\n",
       "    <tr>\n",
       "      <th>Garage Type_BuiltIn</th>\n",
       "      <td>2000.0</td>\n",
       "      <td>0.062000</td>\n",
       "      <td>0.241216</td>\n",
       "      <td>0.000000</td>\n",
       "      <td>0.000000</td>\n",
       "      <td>0.000000</td>\n",
       "      <td>0.000000</td>\n",
       "      <td>1.000000</td>\n",
       "    </tr>\n",
       "    <tr>\n",
       "      <th>Garage Type_CarPort</th>\n",
       "      <td>2000.0</td>\n",
       "      <td>0.005500</td>\n",
       "      <td>0.073976</td>\n",
       "      <td>0.000000</td>\n",
       "      <td>0.000000</td>\n",
       "      <td>0.000000</td>\n",
       "      <td>0.000000</td>\n",
       "      <td>1.000000</td>\n",
       "    </tr>\n",
       "    <tr>\n",
       "      <th>Garage Type_Detchd</th>\n",
       "      <td>2000.0</td>\n",
       "      <td>0.263500</td>\n",
       "      <td>0.440641</td>\n",
       "      <td>0.000000</td>\n",
       "      <td>0.000000</td>\n",
       "      <td>0.000000</td>\n",
       "      <td>1.000000</td>\n",
       "      <td>1.000000</td>\n",
       "    </tr>\n",
       "    <tr>\n",
       "      <th>Garage Type_NA</th>\n",
       "      <td>2000.0</td>\n",
       "      <td>0.054000</td>\n",
       "      <td>0.226074</td>\n",
       "      <td>0.000000</td>\n",
       "      <td>0.000000</td>\n",
       "      <td>0.000000</td>\n",
       "      <td>0.000000</td>\n",
       "      <td>1.000000</td>\n",
       "    </tr>\n",
       "    <tr>\n",
       "      <th>Sale Type_COD</th>\n",
       "      <td>2000.0</td>\n",
       "      <td>0.031000</td>\n",
       "      <td>0.173361</td>\n",
       "      <td>0.000000</td>\n",
       "      <td>0.000000</td>\n",
       "      <td>0.000000</td>\n",
       "      <td>0.000000</td>\n",
       "      <td>1.000000</td>\n",
       "    </tr>\n",
       "    <tr>\n",
       "      <th>Sale Type_CWD</th>\n",
       "      <td>2000.0</td>\n",
       "      <td>0.005000</td>\n",
       "      <td>0.070551</td>\n",
       "      <td>0.000000</td>\n",
       "      <td>0.000000</td>\n",
       "      <td>0.000000</td>\n",
       "      <td>0.000000</td>\n",
       "      <td>1.000000</td>\n",
       "    </tr>\n",
       "    <tr>\n",
       "      <th>Sale Type_Con</th>\n",
       "      <td>2000.0</td>\n",
       "      <td>0.002000</td>\n",
       "      <td>0.044688</td>\n",
       "      <td>0.000000</td>\n",
       "      <td>0.000000</td>\n",
       "      <td>0.000000</td>\n",
       "      <td>0.000000</td>\n",
       "      <td>1.000000</td>\n",
       "    </tr>\n",
       "    <tr>\n",
       "      <th>Sale Type_ConLD</th>\n",
       "      <td>2000.0</td>\n",
       "      <td>0.008500</td>\n",
       "      <td>0.091826</td>\n",
       "      <td>0.000000</td>\n",
       "      <td>0.000000</td>\n",
       "      <td>0.000000</td>\n",
       "      <td>0.000000</td>\n",
       "      <td>1.000000</td>\n",
       "    </tr>\n",
       "    <tr>\n",
       "      <th>Sale Type_ConLI</th>\n",
       "      <td>2000.0</td>\n",
       "      <td>0.003500</td>\n",
       "      <td>0.059072</td>\n",
       "      <td>0.000000</td>\n",
       "      <td>0.000000</td>\n",
       "      <td>0.000000</td>\n",
       "      <td>0.000000</td>\n",
       "      <td>1.000000</td>\n",
       "    </tr>\n",
       "    <tr>\n",
       "      <th>Sale Type_ConLw</th>\n",
       "      <td>2000.0</td>\n",
       "      <td>0.002500</td>\n",
       "      <td>0.049950</td>\n",
       "      <td>0.000000</td>\n",
       "      <td>0.000000</td>\n",
       "      <td>0.000000</td>\n",
       "      <td>0.000000</td>\n",
       "      <td>1.000000</td>\n",
       "    </tr>\n",
       "    <tr>\n",
       "      <th>Sale Type_New</th>\n",
       "      <td>2000.0</td>\n",
       "      <td>0.073500</td>\n",
       "      <td>0.261021</td>\n",
       "      <td>0.000000</td>\n",
       "      <td>0.000000</td>\n",
       "      <td>0.000000</td>\n",
       "      <td>0.000000</td>\n",
       "      <td>1.000000</td>\n",
       "    </tr>\n",
       "    <tr>\n",
       "      <th>Sale Type_Oth</th>\n",
       "      <td>2000.0</td>\n",
       "      <td>0.002000</td>\n",
       "      <td>0.044688</td>\n",
       "      <td>0.000000</td>\n",
       "      <td>0.000000</td>\n",
       "      <td>0.000000</td>\n",
       "      <td>0.000000</td>\n",
       "      <td>1.000000</td>\n",
       "    </tr>\n",
       "    <tr>\n",
       "      <th>Sale Type_VWD</th>\n",
       "      <td>2000.0</td>\n",
       "      <td>0.000000</td>\n",
       "      <td>0.000000</td>\n",
       "      <td>0.000000</td>\n",
       "      <td>0.000000</td>\n",
       "      <td>0.000000</td>\n",
       "      <td>0.000000</td>\n",
       "      <td>0.000000</td>\n",
       "    </tr>\n",
       "    <tr>\n",
       "      <th>Sale Type_WD</th>\n",
       "      <td>2000.0</td>\n",
       "      <td>0.872000</td>\n",
       "      <td>0.334173</td>\n",
       "      <td>0.000000</td>\n",
       "      <td>1.000000</td>\n",
       "      <td>1.000000</td>\n",
       "      <td>1.000000</td>\n",
       "      <td>1.000000</td>\n",
       "    </tr>\n",
       "    <tr>\n",
       "      <th>SalePrice</th>\n",
       "      <td>2000.0</td>\n",
       "      <td>177810.837000</td>\n",
       "      <td>71339.668001</td>\n",
       "      <td>34900.000000</td>\n",
       "      <td>129500.000000</td>\n",
       "      <td>160500.000000</td>\n",
       "      <td>212000.000000</td>\n",
       "      <td>468000.000000</td>\n",
       "    </tr>\n",
       "  </tbody>\n",
       "</table>\n",
       "</div>"
      ],
      "text/plain": [
       "                        count           mean           std           min            25%            50%            75%            max\n",
       "Id                     2000.0    1475.979500    844.800305      1.000000     753.750000    1483.500000    2199.250000    2930.000000\n",
       "Overall Qual           2000.0       0.006456      0.997723     -2.982135      -0.786525      -0.054655       0.677215       2.872824\n",
       "Year Built             2000.0       0.009924      0.996805     -3.289376      -0.579026       0.092346       0.987507       1.285895\n",
       "Year Remod/Add         2000.0      -0.006325      1.008573     -1.637940      -0.966355       0.424785       0.952459       1.240281\n",
       "Mas Vnr Area           2000.0      -0.035627      0.910797     -0.585875      -0.585875      -0.585875       0.325333       4.232293\n",
       "Exter Qual             2000.0       0.006679      1.003603     -2.454760      -0.688388      -0.688388       1.077984       2.844356\n",
       "Bsmt Qual              2000.0       0.010384      0.989178     -3.910573      -0.533349       0.592393       0.592393       1.718134\n",
       "Total Bsmt SF          2000.0       0.003451      0.989106     -2.543577      -0.607085      -0.122198       0.642127       3.896314\n",
       "1st Flr SF             2000.0      -0.000885      0.979896     -2.127254      -0.742365      -0.162756       0.632921       4.331446\n",
       "Gr Liv Area            2000.0      -0.015499      0.959179     -2.197885      -0.751898      -0.101414       0.492323       4.222886\n",
       "Full Bath              2000.0       0.012923      0.985218     -2.869369      -1.027060       0.815249       0.815249       2.657558\n",
       "Kitchen Qual           2000.0       0.003676      0.996254     -2.306630      -0.771543      -0.771543       0.763545       2.298632\n",
       "TotRms AbvGrd          2000.0      -0.014688      0.975110     -2.242954      -0.926984      -0.268999       0.388986       3.678911\n",
       "Fireplace Qu           2000.0      -0.010037      0.999694     -0.970362      -0.970362      -0.414297       1.253899       1.809964\n",
       "Garage Finish          2000.0       0.001135      0.998893     -1.915976      -0.798453       0.319071       0.319071       1.436594\n",
       "Garage Cars            2000.0       0.006099      0.999478     -2.340725      -1.006544       0.327637       0.327637       2.995998\n",
       "Garage Area            2000.0      -0.005884      0.991834     -2.239099      -0.734516       0.047676       0.516513       4.047141\n",
       "Garage Total Value     2000.0       0.003767      1.003915     -3.566343      -0.425714      -0.033135       0.752022       1.929758\n",
       "Overall Total Value    2000.0       0.007223      0.995093     -4.034372      -0.392749       0.214188       0.821126       3.248874\n",
       "Exter Total Value      2000.0       0.006858      1.000028     -3.659125      -0.703283      -0.703283       0.774638       3.730480\n",
       "Total Flr SF           2000.0      -0.000885      0.979896     -2.127254      -0.742365      -0.162756       0.632921       4.331446\n",
       "Fireplace Total Value  2000.0      -0.013053      0.995037     -0.983261      -0.983261      -0.140884       1.122682       1.965059\n",
       "Total Bath             2000.0      -0.007579      0.991051     -1.542965      -0.457119      -0.457119       0.628727       3.886265\n",
       "Kitchen Total Value    2000.0       0.000968      0.995737     -2.375925      -0.839472      -0.071246       0.696981       2.233434\n",
       "Land Contour_Bnk       2000.0       0.038500      0.192448      0.000000       0.000000       0.000000       0.000000       1.000000\n",
       "Land Contour_HLS       2000.0       0.039000      0.193643      0.000000       0.000000       0.000000       0.000000       1.000000\n",
       "Land Contour_Low       2000.0       0.019000      0.136559      0.000000       0.000000       0.000000       0.000000       1.000000\n",
       "Land Contour_Lvl       2000.0       0.903500      0.295350      0.000000       1.000000       1.000000       1.000000       1.000000\n",
       "Lot Config_Corner      2000.0       0.171500      0.377040      0.000000       0.000000       0.000000       0.000000       1.000000\n",
       "Lot Config_CulDSac     2000.0       0.061000      0.239390      0.000000       0.000000       0.000000       0.000000       1.000000\n",
       "Lot Config_FR2         2000.0       0.030000      0.170630      0.000000       0.000000       0.000000       0.000000       1.000000\n",
       "Lot Config_FR3         2000.0       0.004500      0.066948      0.000000       0.000000       0.000000       0.000000       1.000000\n",
       "Lot Config_Inside      2000.0       0.733000      0.442503      0.000000       0.000000       1.000000       1.000000       1.000000\n",
       "Neighborhood_Blmngtn   2000.0       0.011000      0.104329      0.000000       0.000000       0.000000       0.000000       1.000000\n",
       "Neighborhood_Blueste   2000.0       0.003000      0.054704      0.000000       0.000000       0.000000       0.000000       1.000000\n",
       "Neighborhood_BrDale    2000.0       0.009500      0.097028      0.000000       0.000000       0.000000       0.000000       1.000000\n",
       "Neighborhood_BrkSide   2000.0       0.037000      0.188809      0.000000       0.000000       0.000000       0.000000       1.000000\n",
       "Neighborhood_ClearCr   2000.0       0.013500      0.115431      0.000000       0.000000       0.000000       0.000000       1.000000\n",
       "Neighborhood_CollgCr   2000.0       0.089500      0.285535      0.000000       0.000000       0.000000       0.000000       1.000000\n",
       "Neighborhood_Crawfor   2000.0       0.035000      0.183826      0.000000       0.000000       0.000000       0.000000       1.000000\n",
       "Neighborhood_Edwards   2000.0       0.069000      0.253518      0.000000       0.000000       0.000000       0.000000       1.000000\n",
       "Neighborhood_Gilbert   2000.0       0.058000      0.233802      0.000000       0.000000       0.000000       0.000000       1.000000\n",
       "Neighborhood_Greens    2000.0       0.001500      0.038710      0.000000       0.000000       0.000000       0.000000       1.000000\n",
       "Neighborhood_GrnHill   2000.0       0.001000      0.031615      0.000000       0.000000       0.000000       0.000000       1.000000\n",
       "Neighborhood_IDOTRR    2000.0       0.034000      0.181274      0.000000       0.000000       0.000000       0.000000       1.000000\n",
       "Neighborhood_Landmrk   2000.0       0.000500      0.022361      0.000000       0.000000       0.000000       0.000000       1.000000\n",
       "Neighborhood_MeadowV   2000.0       0.012000      0.108912      0.000000       0.000000       0.000000       0.000000       1.000000\n",
       "Neighborhood_Mitchel   2000.0       0.040000      0.196008      0.000000       0.000000       0.000000       0.000000       1.000000\n",
       "Neighborhood_NAmes     2000.0       0.153500      0.360559      0.000000       0.000000       0.000000       0.000000       1.000000\n",
       "Neighborhood_NPkVill   2000.0       0.008500      0.091826      0.000000       0.000000       0.000000       0.000000       1.000000\n",
       "Neighborhood_NWAmes    2000.0       0.043500      0.204031      0.000000       0.000000       0.000000       0.000000       1.000000\n",
       "Neighborhood_NoRidge   2000.0       0.023000      0.149941      0.000000       0.000000       0.000000       0.000000       1.000000\n",
       "Neighborhood_NridgHt   2000.0       0.055500      0.229011      0.000000       0.000000       0.000000       0.000000       1.000000\n",
       "Neighborhood_OldTown   2000.0       0.079500      0.270585      0.000000       0.000000       0.000000       0.000000       1.000000\n",
       "Neighborhood_SWISU     2000.0       0.015500      0.123561      0.000000       0.000000       0.000000       0.000000       1.000000\n",
       "Neighborhood_Sawyer    2000.0       0.055000      0.228037      0.000000       0.000000       0.000000       0.000000       1.000000\n",
       "Neighborhood_SawyerW   2000.0       0.042500      0.201777      0.000000       0.000000       0.000000       0.000000       1.000000\n",
       "Neighborhood_Somerst   2000.0       0.063500      0.243921      0.000000       0.000000       0.000000       0.000000       1.000000\n",
       "Neighborhood_StoneBr   2000.0       0.015000      0.121583      0.000000       0.000000       0.000000       0.000000       1.000000\n",
       "Neighborhood_Timber    2000.0       0.023000      0.149941      0.000000       0.000000       0.000000       0.000000       1.000000\n",
       "Neighborhood_Veenker   2000.0       0.007500      0.086299      0.000000       0.000000       0.000000       0.000000       1.000000\n",
       "Condition 1_Artery     2000.0       0.033500      0.179983      0.000000       0.000000       0.000000       0.000000       1.000000\n",
       "Condition 1_Feedr      2000.0       0.053000      0.224090      0.000000       0.000000       0.000000       0.000000       1.000000\n",
       "Condition 1_Norm       2000.0       0.862000      0.344986      0.000000       1.000000       1.000000       1.000000       1.000000\n",
       "Condition 1_PosA       2000.0       0.006000      0.077246      0.000000       0.000000       0.000000       0.000000       1.000000\n",
       "Condition 1_PosN       2000.0       0.012500      0.111130      0.000000       0.000000       0.000000       0.000000       1.000000\n",
       "Condition 1_RRAe       2000.0       0.010500      0.101956      0.000000       0.000000       0.000000       0.000000       1.000000\n",
       "Condition 1_RRAn       2000.0       0.018000      0.132984      0.000000       0.000000       0.000000       0.000000       1.000000\n",
       "Condition 1_RRNe       2000.0       0.001500      0.038710      0.000000       0.000000       0.000000       0.000000       1.000000\n",
       "Condition 1_RRNn       2000.0       0.003000      0.054704      0.000000       0.000000       0.000000       0.000000       1.000000\n",
       "Condition 2_Artery     2000.0       0.002500      0.049950      0.000000       0.000000       0.000000       0.000000       1.000000\n",
       "Condition 2_Feedr      2000.0       0.005500      0.073976      0.000000       0.000000       0.000000       0.000000       1.000000\n",
       "Condition 2_Norm       2000.0       0.988000      0.108912      0.000000       1.000000       1.000000       1.000000       1.000000\n",
       "Condition 2_PosA       2000.0       0.001000      0.031615      0.000000       0.000000       0.000000       0.000000       1.000000\n",
       "Condition 2_PosN       2000.0       0.001000      0.031615      0.000000       0.000000       0.000000       0.000000       1.000000\n",
       "Condition 2_RRAe       2000.0       0.000500      0.022361      0.000000       0.000000       0.000000       0.000000       1.000000\n",
       "Condition 2_RRAn       2000.0       0.000500      0.022361      0.000000       0.000000       0.000000       0.000000       1.000000\n",
       "Condition 2_RRNn       2000.0       0.001000      0.031615      0.000000       0.000000       0.000000       0.000000       1.000000\n",
       "Bldg Type_1Fam         2000.0       0.828000      0.377475      0.000000       1.000000       1.000000       1.000000       1.000000\n",
       "Bldg Type_2fmCon       2000.0       0.022000      0.146720      0.000000       0.000000       0.000000       0.000000       1.000000\n",
       "Bldg Type_Duplex       2000.0       0.036000      0.186337      0.000000       0.000000       0.000000       0.000000       1.000000\n",
       "Bldg Type_Twnhs        2000.0       0.034500      0.182555      0.000000       0.000000       0.000000       0.000000       1.000000\n",
       "Bldg Type_TwnhsE       2000.0       0.079500      0.270585      0.000000       0.000000       0.000000       0.000000       1.000000\n",
       "House Style_1.5Fin     2000.0       0.109000      0.311717      0.000000       0.000000       0.000000       0.000000       1.000000\n",
       "House Style_1.5Unf     2000.0       0.006000      0.077246      0.000000       0.000000       0.000000       0.000000       1.000000\n",
       "House Style_1Story     2000.0       0.515000      0.499900      0.000000       0.000000       1.000000       1.000000       1.000000\n",
       "House Style_2.5Fin     2000.0       0.002000      0.044688      0.000000       0.000000       0.000000       0.000000       1.000000\n",
       "House Style_2.5Unf     2000.0       0.005500      0.073976      0.000000       0.000000       0.000000       0.000000       1.000000\n",
       "House Style_2Story     2000.0       0.291000      0.454337      0.000000       0.000000       0.000000       1.000000       1.000000\n",
       "House Style_SFoyer     2000.0       0.025000      0.156164      0.000000       0.000000       0.000000       0.000000       1.000000\n",
       "House Style_SLvl       2000.0       0.046500      0.210618      0.000000       0.000000       0.000000       0.000000       1.000000\n",
       "Roof Style_Flat        2000.0       0.006500      0.080380      0.000000       0.000000       0.000000       0.000000       1.000000\n",
       "Roof Style_Gable       2000.0       0.799000      0.400848      0.000000       1.000000       1.000000       1.000000       1.000000\n",
       "Roof Style_Gambrel     2000.0       0.006000      0.077246      0.000000       0.000000       0.000000       0.000000       1.000000\n",
       "Roof Style_Hip         2000.0       0.184000      0.387581      0.000000       0.000000       0.000000       0.000000       1.000000\n",
       "Roof Style_Mansard     2000.0       0.003000      0.054704      0.000000       0.000000       0.000000       0.000000       1.000000\n",
       "Roof Style_Shed        2000.0       0.001500      0.038710      0.000000       0.000000       0.000000       0.000000       1.000000\n",
       "Roof Matl_CompShg      2000.0       0.988500      0.106646      0.000000       1.000000       1.000000       1.000000       1.000000\n",
       "Roof Matl_Membran      2000.0       0.000500      0.022361      0.000000       0.000000       0.000000       0.000000       1.000000\n",
       "Roof Matl_Metal        2000.0       0.000000      0.000000      0.000000       0.000000       0.000000       0.000000       0.000000\n",
       "Roof Matl_Roll         2000.0       0.000000      0.000000      0.000000       0.000000       0.000000       0.000000       0.000000\n",
       "Roof Matl_Tar&Grv      2000.0       0.007500      0.086299      0.000000       0.000000       0.000000       0.000000       1.000000\n",
       "Roof Matl_WdShake      2000.0       0.001500      0.038710      0.000000       0.000000       0.000000       0.000000       1.000000\n",
       "Roof Matl_WdShngl      2000.0       0.002000      0.044688      0.000000       0.000000       0.000000       0.000000       1.000000\n",
       "Exterior 1st_AsbShng   2000.0       0.015500      0.123561      0.000000       0.000000       0.000000       0.000000       1.000000\n",
       "Exterior 1st_AsphShn   2000.0       0.000500      0.022361      0.000000       0.000000       0.000000       0.000000       1.000000\n",
       "Exterior 1st_BrkComm   2000.0       0.001500      0.038710      0.000000       0.000000       0.000000       0.000000       1.000000\n",
       "Exterior 1st_BrkFace   2000.0       0.031000      0.173361      0.000000       0.000000       0.000000       0.000000       1.000000\n",
       "Exterior 1st_CBlock    2000.0       0.000500      0.022361      0.000000       0.000000       0.000000       0.000000       1.000000\n",
       "Exterior 1st_CemntBd   2000.0       0.041500      0.199493      0.000000       0.000000       0.000000       0.000000       1.000000\n",
       "Exterior 1st_HdBoard   2000.0       0.150000      0.357161      0.000000       0.000000       0.000000       0.000000       1.000000\n",
       "Exterior 1st_ImStucc   2000.0       0.000500      0.022361      0.000000       0.000000       0.000000       0.000000       1.000000\n",
       "Exterior 1st_MetalSd   2000.0       0.163000      0.369458      0.000000       0.000000       0.000000       0.000000       1.000000\n",
       "Exterior 1st_Plywood   2000.0       0.075000      0.263457      0.000000       0.000000       0.000000       0.000000       1.000000\n",
       "Exterior 1st_PreCast   2000.0       0.000000      0.000000      0.000000       0.000000       0.000000       0.000000       0.000000\n",
       "Exterior 1st_Stone     2000.0       0.000500      0.022361      0.000000       0.000000       0.000000       0.000000       1.000000\n",
       "Exterior 1st_Stucco    2000.0       0.013000      0.113302      0.000000       0.000000       0.000000       0.000000       1.000000\n",
       "Exterior 1st_VinylSd   2000.0       0.351000      0.477402      0.000000       0.000000       0.000000       1.000000       1.000000\n",
       "Exterior 1st_Wd Sdng   2000.0       0.134000      0.340738      0.000000       0.000000       0.000000       0.000000       1.000000\n",
       "Exterior 1st_WdShing   2000.0       0.022500      0.148340      0.000000       0.000000       0.000000       0.000000       1.000000\n",
       "Heating_Floor          2000.0       0.000000      0.000000      0.000000       0.000000       0.000000       0.000000       0.000000\n",
       "Heating_GasA           2000.0       0.984000      0.125506      0.000000       1.000000       1.000000       1.000000       1.000000\n",
       "Heating_GasW           2000.0       0.010000      0.099524      0.000000       0.000000       0.000000       0.000000       1.000000\n",
       "Heating_Grav           2000.0       0.002500      0.049950      0.000000       0.000000       0.000000       0.000000       1.000000\n",
       "Heating_OthW           2000.0       0.001000      0.031615      0.000000       0.000000       0.000000       0.000000       1.000000\n",
       "Heating_Wall           2000.0       0.002500      0.049950      0.000000       0.000000       0.000000       0.000000       1.000000\n",
       "Garage Type_2Types     2000.0       0.009000      0.094464      0.000000       0.000000       0.000000       0.000000       1.000000\n",
       "Garage Type_Attchd     2000.0       0.592500      0.491492      0.000000       0.000000       1.000000       1.000000       1.000000\n",
       "Garage Type_Basment    2000.0       0.013500      0.115431      0.000000       0.000000       0.000000       0.000000       1.000000\n",
       "Garage Type_BuiltIn    2000.0       0.062000      0.241216      0.000000       0.000000       0.000000       0.000000       1.000000\n",
       "Garage Type_CarPort    2000.0       0.005500      0.073976      0.000000       0.000000       0.000000       0.000000       1.000000\n",
       "Garage Type_Detchd     2000.0       0.263500      0.440641      0.000000       0.000000       0.000000       1.000000       1.000000\n",
       "Garage Type_NA         2000.0       0.054000      0.226074      0.000000       0.000000       0.000000       0.000000       1.000000\n",
       "Sale Type_COD          2000.0       0.031000      0.173361      0.000000       0.000000       0.000000       0.000000       1.000000\n",
       "Sale Type_CWD          2000.0       0.005000      0.070551      0.000000       0.000000       0.000000       0.000000       1.000000\n",
       "Sale Type_Con          2000.0       0.002000      0.044688      0.000000       0.000000       0.000000       0.000000       1.000000\n",
       "Sale Type_ConLD        2000.0       0.008500      0.091826      0.000000       0.000000       0.000000       0.000000       1.000000\n",
       "Sale Type_ConLI        2000.0       0.003500      0.059072      0.000000       0.000000       0.000000       0.000000       1.000000\n",
       "Sale Type_ConLw        2000.0       0.002500      0.049950      0.000000       0.000000       0.000000       0.000000       1.000000\n",
       "Sale Type_New          2000.0       0.073500      0.261021      0.000000       0.000000       0.000000       0.000000       1.000000\n",
       "Sale Type_Oth          2000.0       0.002000      0.044688      0.000000       0.000000       0.000000       0.000000       1.000000\n",
       "Sale Type_VWD          2000.0       0.000000      0.000000      0.000000       0.000000       0.000000       0.000000       0.000000\n",
       "Sale Type_WD           2000.0       0.872000      0.334173      0.000000       1.000000       1.000000       1.000000       1.000000\n",
       "SalePrice              2000.0  177810.837000  71339.668001  34900.000000  129500.000000  160500.000000  212000.000000  468000.000000"
      ]
     },
     "execution_count": 4,
     "metadata": {},
     "output_type": "execute_result"
    }
   ],
   "source": [
    "df_train.describe().T"
   ]
  },
  {
   "cell_type": "markdown",
   "metadata": {},
   "source": [
    "## 7.1 Train Split Test"
   ]
  },
  {
   "cell_type": "code",
   "execution_count": 5,
   "metadata": {},
   "outputs": [],
   "source": [
    "# prepare for train split test\n",
    "# test the unseen data with training test\n",
    "# see which model works best\n",
    "# check if data is overfitting or underfitting\n",
    "# do adjustments"
   ]
  },
  {
   "cell_type": "code",
   "execution_count": 6,
   "metadata": {},
   "outputs": [
    {
     "data": {
      "text/plain": [
       "Index(['Overall Qual', 'Year Built', 'Year Remod/Add', 'Mas Vnr Area', 'Exter Qual', 'Bsmt Qual', 'Total Bsmt SF', '1st Flr SF', 'Gr Liv Area', 'Full Bath',\n",
       "       ...\n",
       "       'Sale Type_COD', 'Sale Type_CWD', 'Sale Type_Con', 'Sale Type_ConLD', 'Sale Type_ConLI', 'Sale Type_ConLw', 'Sale Type_New', 'Sale Type_Oth', 'Sale Type_VWD', 'Sale Type_WD '], dtype='object', length=142)"
      ]
     },
     "execution_count": 6,
     "metadata": {},
     "output_type": "execute_result"
    }
   ],
   "source": [
    "col_keys = df.drop(columns = ['Id','SalePrice']).keys()\n",
    "col_keys"
   ]
  },
  {
   "cell_type": "code",
   "execution_count": 7,
   "metadata": {},
   "outputs": [],
   "source": [
    "y = df_train['SalePrice']\n",
    "X = df_train[col_keys]"
   ]
  },
  {
   "cell_type": "code",
   "execution_count": 8,
   "metadata": {},
   "outputs": [],
   "source": [
    "X_train, X_test, y_train, y_test = train_test_split(X,y,random_state = 42)"
   ]
  },
  {
   "cell_type": "code",
   "execution_count": 9,
   "metadata": {},
   "outputs": [
    {
     "name": "stdout",
     "output_type": "stream",
     "text": [
      "X_train shape: (1500, 142)\n",
      "X_test shape: (500, 142)\n",
      "y_train shape: (1500,)\n",
      "y_test shape: (500,)\n"
     ]
    }
   ],
   "source": [
    "print('X_train shape: ' + str(X_train.shape))\n",
    "print('X_test shape: ' + str(X_test.shape))\n",
    "print('y_train shape: ' + str(y_train.shape))\n",
    "print('y_test shape: ' + str(y_test.shape))"
   ]
  },
  {
   "cell_type": "markdown",
   "metadata": {},
   "source": [
    "## 7.1.1 Linear"
   ]
  },
  {
   "cell_type": "code",
   "execution_count": 10,
   "metadata": {},
   "outputs": [],
   "source": [
    "lr = LinearRegression()"
   ]
  },
  {
   "cell_type": "code",
   "execution_count": 11,
   "metadata": {},
   "outputs": [
    {
     "data": {
      "text/plain": [
       "LinearRegression()"
      ]
     },
     "execution_count": 11,
     "metadata": {},
     "output_type": "execute_result"
    }
   ],
   "source": [
    "lr.fit(X_train, y_train)"
   ]
  },
  {
   "cell_type": "code",
   "execution_count": 12,
   "metadata": {},
   "outputs": [
    {
     "name": "stdout",
     "output_type": "stream",
     "text": [
      "Train Score(Lr): 0.9183402370115139\n",
      "Test Score(Lr): -5633328292015047.0\n",
      "Test Data Estimated score(Lr) -7.054338901975156e+19\n"
     ]
    }
   ],
   "source": [
    "print(\"Train Score(Lr): \" + str(lr.score(X_train,y_train)))\n",
    "print(\"Test Score(Lr): \" + str(lr.score(X_test,y_test)))\n",
    "print('Test Data Estimated score(Lr) ' + str(cross_val_score(lr, X_train, y_train, cv = 5).mean()))"
   ]
  },
  {
   "cell_type": "code",
   "execution_count": 13,
   "metadata": {},
   "outputs": [
    {
     "name": "stdout",
     "output_type": "stream",
     "text": [
      "Train MSE(Lr) 411655483.736\n",
      "Test MSE(Lr) 2.94021937313836e+25\n",
      "Test Data Estimated MSE(Lr) 3.4084245171992475e+29\n"
     ]
    }
   ],
   "source": [
    "print(\"Train MSE(Lr) \" + str(mean_squared_error(y_train, lr.predict(X_train))))\n",
    "print('Test MSE(Lr) ' + str(mean_squared_error(y_test, lr.predict(X_test))))\n",
    "                              \n",
    "print('Test Data Estimated MSE(Lr) ' + str(-cross_val_score(lr, X_train, y_train, \n",
    "                                                            cv = 5, scoring = 'neg_mean_squared_error').mean()))"
   ]
  },
  {
   "cell_type": "markdown",
   "metadata": {},
   "source": [
    "### 7.1.1 comments \n",
    "- Terrible result, models is severely overfitted resulting in a negative r2 value\n",
    "- Will use Ridge, Lasso and Elastic model to regularize data"
   ]
  },
  {
   "cell_type": "markdown",
   "metadata": {},
   "source": [
    "## 7.1.2 Ridge"
   ]
  },
  {
   "cell_type": "code",
   "execution_count": 14,
   "metadata": {},
   "outputs": [],
   "source": [
    "ridge = RidgeCV(alphas = np.linspace(0.1,10,100))"
   ]
  },
  {
   "cell_type": "code",
   "execution_count": 15,
   "metadata": {},
   "outputs": [],
   "source": [
    "ridge.fit(X_train, y_train);"
   ]
  },
  {
   "cell_type": "code",
   "execution_count": 16,
   "metadata": {},
   "outputs": [
    {
     "data": {
      "text/plain": [
       "3.8000000000000003"
      ]
     },
     "execution_count": 16,
     "metadata": {},
     "output_type": "execute_result"
    }
   ],
   "source": [
    "ridge.alpha_"
   ]
  },
  {
   "cell_type": "code",
   "execution_count": 17,
   "metadata": {},
   "outputs": [
    {
     "name": "stdout",
     "output_type": "stream",
     "text": [
      "Train Score(L1): 0.9148894977682447\n",
      "Test Score(L1): 0.9034172678455475\n",
      "Test Data Estimated score(L1) 0.8947197014144015\n"
     ]
    }
   ],
   "source": [
    "print(\"Train Score(L1): \" + str(ridge.score(X_train,y_train)))\n",
    "print(\"Test Score(L1): \" + str(ridge.score(X_test,y_test)))\n",
    "print('Test Data Estimated score(L1) ' + str(cross_val_score(ridge, X_train, y_train, cv = 5).mean()))"
   ]
  },
  {
   "cell_type": "code",
   "execution_count": 18,
   "metadata": {},
   "outputs": [
    {
     "name": "stdout",
     "output_type": "stream",
     "text": [
      "Train RMSE(L1) 20713.54688261384\n",
      "Test RMSE(L1) 22452.10580347417\n",
      "Test Data Estimated RMSE(L1) 22920.87419440779\n"
     ]
    }
   ],
   "source": [
    "print(\"Train RMSE(L1) \" + str(np.sqrt(mean_squared_error(y_train, ridge.predict(X_train)))))\n",
    "print('Test RMSE(L1) ' + str(np.sqrt(mean_squared_error(y_test, ridge.predict(X_test)))))\n",
    "                              \n",
    "print('Test Data Estimated RMSE(L1) ' + str(np.sqrt(-cross_val_score(ridge, X_train, y_train, \n",
    "                                                            cv = 5, scoring = 'neg_mean_squared_error').mean())))"
   ]
  },
  {
   "cell_type": "markdown",
   "metadata": {},
   "source": [
    "Ridge model is producing better results"
   ]
  },
  {
   "cell_type": "markdown",
   "metadata": {},
   "source": [
    "# 7.1.3 Lasso"
   ]
  },
  {
   "cell_type": "code",
   "execution_count": 19,
   "metadata": {
    "scrolled": true
   },
   "outputs": [],
   "source": [
    "lasso = LassoCV(alphas = np.linspace(0.1,10,100), max_iter = 1500)"
   ]
  },
  {
   "cell_type": "code",
   "execution_count": 20,
   "metadata": {},
   "outputs": [],
   "source": [
    "lasso.fit(X_train, y_train);"
   ]
  },
  {
   "cell_type": "code",
   "execution_count": 21,
   "metadata": {},
   "outputs": [
    {
     "data": {
      "text/plain": [
       "10.0"
      ]
     },
     "execution_count": 21,
     "metadata": {},
     "output_type": "execute_result"
    }
   ],
   "source": [
    "lasso.alpha_"
   ]
  },
  {
   "cell_type": "code",
   "execution_count": 22,
   "metadata": {
    "scrolled": true
   },
   "outputs": [
    {
     "name": "stdout",
     "output_type": "stream",
     "text": [
      "Train Score(L2): 0.9178079840696853\n",
      "Test Score(L2): 0.9029582186846993\n",
      "Test Data Estimated score(L2) 0.8937713181093845\n"
     ]
    }
   ],
   "source": [
    "print(\"Train Score(L2): \" + str(lasso.score(X_train,y_train)))\n",
    "print(\"Test Score(L2): \" + str(lasso.score(X_test,y_test)))\n",
    "print('Test Data Estimated score(L2) ' + str(cross_val_score(lasso, X_train, y_train, cv = 5).mean()))"
   ]
  },
  {
   "cell_type": "code",
   "execution_count": 23,
   "metadata": {
    "scrolled": true
   },
   "outputs": [
    {
     "name": "stdout",
     "output_type": "stream",
     "text": [
      "Train RMSE(L2) 20355.30955280816\n",
      "Test RMSE(L2) 22505.39898799581\n",
      "Test Data Estimated RMSE(L2) 23039.098366220685\n"
     ]
    }
   ],
   "source": [
    "print(\"Train RMSE(L2) \" + str(np.sqrt(mean_squared_error(y_train, lasso.predict(X_train)))))\n",
    "print('Test RMSE(L2) ' + str(np.sqrt(mean_squared_error(y_test, lasso.predict(X_test)))))\n",
    "                              \n",
    "print('Test Data Estimated RMSE(L2) ' + str(np.sqrt(-cross_val_score(lasso, X_train, y_train, \n",
    "                                                            cv = 5, scoring = 'neg_mean_squared_error').mean())))"
   ]
  },
  {
   "cell_type": "markdown",
   "metadata": {},
   "source": [
    "# 7.1.4 Elastic Net"
   ]
  },
  {
   "cell_type": "code",
   "execution_count": 24,
   "metadata": {},
   "outputs": [],
   "source": [
    "elasticnet = ElasticNetCV(alphas = np.linspace(0.1,10,100), max_iter = 1500)"
   ]
  },
  {
   "cell_type": "code",
   "execution_count": 25,
   "metadata": {},
   "outputs": [],
   "source": [
    "elasticnet.fit(X_train, y_train);"
   ]
  },
  {
   "cell_type": "code",
   "execution_count": 26,
   "metadata": {},
   "outputs": [
    {
     "data": {
      "text/plain": [
       "0.1"
      ]
     },
     "execution_count": 26,
     "metadata": {},
     "output_type": "execute_result"
    }
   ],
   "source": [
    "elasticnet.alpha_"
   ]
  },
  {
   "cell_type": "code",
   "execution_count": 27,
   "metadata": {},
   "outputs": [
    {
     "name": "stdout",
     "output_type": "stream",
     "text": [
      "Train Score(EN): 0.8987501392925736\n",
      "Test Score(EN): 0.8950201636391744\n",
      "Test Data Estimated score(EN) 0.8880345325321244\n"
     ]
    }
   ],
   "source": [
    "print(\"Train Score(EN): \" + str(elasticnet.score(X_train,y_train)))\n",
    "print(\"Test Score(EN): \" + str(elasticnet.score(X_test,y_test)))\n",
    "print('Test Data Estimated score(EN) ' + str(cross_val_score(elasticnet, X_train, y_train, cv = 5).mean()))"
   ]
  },
  {
   "cell_type": "code",
   "execution_count": 28,
   "metadata": {},
   "outputs": [
    {
     "name": "stdout",
     "output_type": "stream",
     "text": [
      "Train RMSE(EN) 22592.282618398567\n",
      "Test RMSE(EN) 23407.78299041091\n",
      "Test Data Estimated RMSE(EN) 23626.196849802567\n"
     ]
    }
   ],
   "source": [
    "print(\"Train RMSE(EN) \" + str(np.sqrt(mean_squared_error(y_train, elasticnet.predict(X_train)))))\n",
    "print('Test RMSE(EN) ' + str(np.sqrt(mean_squared_error(y_test, elasticnet.predict(X_test)))))\n",
    "                              \n",
    "print('Test Data Estimated RMSE(EN) ' + str(np.sqrt(-cross_val_score(elasticnet, X_train, y_train, \n",
    "                                                            cv = 5, scoring = 'neg_mean_squared_error').mean())))"
   ]
  },
  {
   "cell_type": "markdown",
   "metadata": {},
   "source": [
    "- Slight differences from the 3 models\n",
    "- Lasso does slightly better for its scoring\n",
    "- will use Lasso model to eliminate features"
   ]
  },
  {
   "cell_type": "markdown",
   "metadata": {},
   "source": [
    "# 8 Model Tuning"
   ]
  },
  {
   "cell_type": "code",
   "execution_count": 29,
   "metadata": {
    "scrolled": false
   },
   "outputs": [
    {
     "data": {
      "text/plain": [
       "Neighborhood_GrnHill     112518.484542\n",
       "Condition 2_PosN          50198.478307\n",
       "Roof Matl_WdShngl         40091.508187\n",
       "Condition 2_PosA          37982.743637\n",
       "Neighborhood_NridgHt      34515.667805\n",
       "Heating_Wall              24196.364854\n",
       "Neighborhood_StoneBr      23953.055749\n",
       "Gr Liv Area               20636.722890\n",
       "Neighborhood_NoRidge      20448.718368\n",
       "Garage Type_NA            19078.755875\n",
       "Exterior 1st_AsphShn      16676.279705\n",
       "Land Contour_HLS          16647.755056\n",
       "Bldg Type_1Fam            14742.598615\n",
       "Fireplace Total Value     14408.040908\n",
       "Bldg Type_2fmCon          14329.026089\n",
       "Condition 1_PosA          14327.490151\n",
       "House Style_2.5Unf        14044.412051\n",
       "Exterior 1st_CemntBd      13059.400027\n",
       "Condition 1_PosN          12683.225368\n",
       "Exterior 1st_BrkFace      12331.479655\n",
       "Roof Matl_Membran         11557.852161\n",
       "Neighborhood_Veenker      10980.774183\n",
       "Overall Total Value        9408.206404\n",
       "Total Bath                 9135.644903\n",
       "Neighborhood_BrDale        8603.566923\n",
       "Land Contour_Low           8134.513636\n",
       "Kitchen Qual               7516.896663\n",
       "Sale Type_Oth              7170.701198\n",
       "Neighborhood_Crawfor       6845.769666\n",
       "Neighborhood_NPkVill       6808.282218\n",
       "Lot Config_CulDSac         6757.138097\n",
       "Year Built                 6621.849955\n",
       "Total Bsmt SF              6287.841141\n",
       "Neighborhood_Landmrk       6015.233901\n",
       "House Style_SFoyer         5863.249642\n",
       "Sale Type_New              5706.239956\n",
       "Exter Qual                 5213.422210\n",
       "Neighborhood_Somerst       5127.321062\n",
       "Roof Style_Hip             4831.264260\n",
       "Neighborhood_Greens        4379.800894\n",
       "1st Flr SF                 4121.493438\n",
       "Mas Vnr Area               4020.043379\n",
       "Garage Area                3874.174748\n",
       "Condition 1_Norm           3749.689872\n",
       "Exterior 1st_MetalSd       3679.191807\n",
       "Overall Qual               3225.054740\n",
       "Garage Cars                3077.182747\n",
       "Garage Total Value         2887.412519\n",
       "Sale Type_ConLD            2809.316060\n",
       "Heating_GasA               2519.622692\n",
       "House Style_1Story         2068.247242\n",
       "Bsmt Qual                  1978.364425\n",
       "Sale Type_Con              1903.090703\n",
       "Neighborhood_ClearCr       1898.759427\n",
       "Lot Config_FR2             1779.394201\n",
       "Garage Finish              1668.690899\n",
       "Roof Style_Gable           1502.751558\n",
       "Condition 2_Feedr          1388.351812\n",
       "Garage Type_Attchd          951.267807\n",
       "Exterior 1st_AsbShng        705.910521\n",
       "Garage Type_Detchd          580.799261\n",
       "Exterior 1st_WdShing        340.894129\n",
       "Total Flr SF                340.790454\n",
       "House Style_1.5Unf          188.504670\n",
       "Year Remod/Add              115.078422\n",
       "dtype: float64"
      ]
     },
     "execution_count": 29,
     "metadata": {},
     "output_type": "execute_result"
    }
   ],
   "source": [
    "coef = pd.Series(lasso.coef_, index = X_train.columns)\n",
    "coef.sort_values(ascending = False, inplace = True)\n",
    "coef[coef > 0]"
   ]
  },
  {
   "cell_type": "code",
   "execution_count": 30,
   "metadata": {},
   "outputs": [
    {
     "data": {
      "text/plain": [
       "50"
      ]
     },
     "execution_count": 30,
     "metadata": {},
     "output_type": "execute_result"
    }
   ],
   "source": [
    "gd_coef = coef[:50].keys()\n",
    "len(gd_coef) #keeping values with high coef"
   ]
  },
  {
   "cell_type": "code",
   "execution_count": 31,
   "metadata": {},
   "outputs": [],
   "source": [
    "X_train_filtered = X_train[gd_coef]\n",
    "X_test_filtered = X_test[gd_coef]"
   ]
  },
  {
   "cell_type": "code",
   "execution_count": 32,
   "metadata": {},
   "outputs": [
    {
     "data": {
      "text/plain": [
       "LinearRegression()"
      ]
     },
     "execution_count": 32,
     "metadata": {},
     "output_type": "execute_result"
    }
   ],
   "source": [
    "lr = LinearRegression()\n",
    "lr.fit(X_train_filtered, y_train)"
   ]
  },
  {
   "cell_type": "code",
   "execution_count": 33,
   "metadata": {},
   "outputs": [
    {
     "name": "stdout",
     "output_type": "stream",
     "text": [
      "Train Score(Lr): 0.9097879565260141\n",
      "Test Score(Lr): 0.897834401391918\n",
      "Test Data Estimated score(Lr) 0.895967016700656\n"
     ]
    }
   ],
   "source": [
    "print(\"Train Score(Lr): \" + str(lr.score(X_train_filtered,y_train)))\n",
    "print(\"Test Score(Lr): \" + str(lr.score(X_test_filtered,y_test)))\n",
    "print('Test Data Estimated score(Lr) ' + str(cross_val_score(lr, X_train_filtered, y_train, cv = 5).mean()))"
   ]
  },
  {
   "cell_type": "code",
   "execution_count": 34,
   "metadata": {},
   "outputs": [
    {
     "name": "stdout",
     "output_type": "stream",
     "text": [
      "Train RMSE(Lr) 21325.300285944697\n",
      "Test RMSE(Lr) 23091.90056719478\n",
      "Test Data Estimated RMSE(Lr) 22819.339305905793\n"
     ]
    }
   ],
   "source": [
    "print(\"Train RMSE(Lr) \" + str(np.sqrt(mean_squared_error(y_train, lr.predict(X_train_filtered)))))\n",
    "print('Test RMSE(Lr) ' + str(np.sqrt(mean_squared_error(y_test, lr.predict(X_test_filtered)))))\n",
    "                              \n",
    "print('Test Data Estimated RMSE(Lr) ' + str(np.sqrt(-cross_val_score(lr, X_train_filtered, y_train, \n",
    "                                                            cv = 5, scoring = 'neg_mean_squared_error').mean())))"
   ]
  },
  {
   "cell_type": "markdown",
   "metadata": {},
   "source": [
    "- Tried with 25, 30, 40, 50, 55 features for test, 50 features returns the best results\n",
    "- Trying with Lasso model"
   ]
  },
  {
   "cell_type": "code",
   "execution_count": 35,
   "metadata": {},
   "outputs": [],
   "source": [
    "lasso = LassoCV(alphas = np.linspace(0.1,10,100), max_iter = 1500)"
   ]
  },
  {
   "cell_type": "code",
   "execution_count": 36,
   "metadata": {},
   "outputs": [],
   "source": [
    "lasso.fit(X_train_filtered, y_train);"
   ]
  },
  {
   "cell_type": "code",
   "execution_count": 37,
   "metadata": {},
   "outputs": [
    {
     "data": {
      "text/plain": [
       "0.7000000000000001"
      ]
     },
     "execution_count": 37,
     "metadata": {},
     "output_type": "execute_result"
    }
   ],
   "source": [
    "lasso.alpha_"
   ]
  },
  {
   "cell_type": "code",
   "execution_count": 38,
   "metadata": {},
   "outputs": [
    {
     "name": "stdout",
     "output_type": "stream",
     "text": [
      "Train Score(L2): 0.9097867283287627\n",
      "Test Score(L2): 0.8979375404942495\n",
      "Test Data Estimated score(L2) 0.8957198451541748\n"
     ]
    }
   ],
   "source": [
    "print(\"Train Score(L2): \" + str(lasso.score(X_train_filtered,y_train)))\n",
    "print(\"Test Score(L2): \" + str(lasso.score(X_test_filtered,y_test)))\n",
    "print('Test Data Estimated score(L2) ' + str(cross_val_score(lasso, X_train_filtered, y_train, cv = 5).mean()))"
   ]
  },
  {
   "cell_type": "code",
   "execution_count": 39,
   "metadata": {},
   "outputs": [
    {
     "name": "stdout",
     "output_type": "stream",
     "text": [
      "Train RMSE(L2) 21325.445452737513\n",
      "Test RMSE(L2) 23080.24165595301\n",
      "Test Data Estimated RMSE(L2) 22847.257291404436\n"
     ]
    }
   ],
   "source": [
    "print(\"Train RMSE(L2) \" + str(np.sqrt(mean_squared_error(y_train, lasso.predict(X_train_filtered)))))\n",
    "print('Test RMSE(L2) ' + str(np.sqrt(mean_squared_error(y_test, lasso.predict(X_test_filtered)))))\n",
    "                              \n",
    "print('Test Data Estimated RMSE(L2) ' + str(np.sqrt(-cross_val_score(lasso, X_train_filtered, y_train, \n",
    "                                                            cv = 5, scoring = 'neg_mean_squared_error').mean())))"
   ]
  },
  {
   "cell_type": "markdown",
   "metadata": {},
   "source": [
    "# 8.1 Further Model tuning\n",
    "\n",
    "- Polynomial features, try to reduce RMSE\n",
    "- try to remove more values, reducing variance"
   ]
  },
  {
   "cell_type": "code",
   "execution_count": 40,
   "metadata": {
    "scrolled": false
   },
   "outputs": [
    {
     "data": {
      "text/plain": [
       "['1st Flr SF',\n",
       " 'Bldg Type_1Fam',\n",
       " 'Bldg Type_2fmCon',\n",
       " 'Condition 1_Norm',\n",
       " 'Condition 1_PosA',\n",
       " 'Condition 1_PosN',\n",
       " 'Condition 2_PosA',\n",
       " 'Condition 2_PosN',\n",
       " 'Exter Qual',\n",
       " 'Exterior 1st_AsphShn',\n",
       " 'Exterior 1st_BrkFace',\n",
       " 'Exterior 1st_CemntBd',\n",
       " 'Exterior 1st_MetalSd',\n",
       " 'Fireplace Total Value',\n",
       " 'Garage Area',\n",
       " 'Garage Cars',\n",
       " 'Garage Total Value',\n",
       " 'Garage Type_NA',\n",
       " 'Gr Liv Area',\n",
       " 'Heating_GasA',\n",
       " 'Heating_Wall',\n",
       " 'House Style_2.5Unf',\n",
       " 'House Style_SFoyer',\n",
       " 'Kitchen Qual',\n",
       " 'Land Contour_HLS',\n",
       " 'Land Contour_Low',\n",
       " 'Lot Config_CulDSac',\n",
       " 'Mas Vnr Area',\n",
       " 'Neighborhood_BrDale',\n",
       " 'Neighborhood_Crawfor',\n",
       " 'Neighborhood_Greens',\n",
       " 'Neighborhood_GrnHill',\n",
       " 'Neighborhood_Landmrk',\n",
       " 'Neighborhood_NPkVill',\n",
       " 'Neighborhood_NoRidge',\n",
       " 'Neighborhood_NridgHt',\n",
       " 'Neighborhood_Somerst',\n",
       " 'Neighborhood_StoneBr',\n",
       " 'Neighborhood_Veenker',\n",
       " 'Overall Qual',\n",
       " 'Overall Total Value',\n",
       " 'Roof Matl_Membran',\n",
       " 'Roof Matl_WdShngl',\n",
       " 'Roof Style_Hip',\n",
       " 'Sale Type_ConLD',\n",
       " 'Sale Type_New',\n",
       " 'Sale Type_Oth',\n",
       " 'Total Bath',\n",
       " 'Total Bsmt SF',\n",
       " 'Year Built']"
      ]
     },
     "execution_count": 40,
     "metadata": {},
     "output_type": "execute_result"
    }
   ],
   "source": [
    "coef_sort = [i for i in (gd_coef.sort_values())] # creating list in alphabetical order to see relationship\n",
    "coef_sort"
   ]
  },
  {
   "cell_type": "code",
   "execution_count": 41,
   "metadata": {},
   "outputs": [
    {
     "data": {
      "text/plain": [
       "Neighborhood_GrnHill    112518.484542\n",
       "Condition 2_PosN         50198.478307\n",
       "Roof Matl_WdShngl        40091.508187\n",
       "Condition 2_PosA         37982.743637\n",
       "Neighborhood_NridgHt     34515.667805\n",
       "Heating_Wall             24196.364854\n",
       "Neighborhood_StoneBr     23953.055749\n",
       "Gr Liv Area              20636.722890\n",
       "Neighborhood_NoRidge     20448.718368\n",
       "Garage Type_NA           19078.755875\n",
       "dtype: float64"
      ]
     },
     "execution_count": 41,
     "metadata": {},
     "output_type": "execute_result"
    }
   ],
   "source": [
    "coef[:10] #checking top 10 highest coef"
   ]
  },
  {
   "cell_type": "markdown",
   "metadata": {},
   "source": [
    "From the list above, some Categories can be seen. \n",
    "- Building type, 1Fam and 2Fmcon(single family or 2 family conversion)\n",
    "- Condition 1 and 2, PosA and PosN(Adjecent or near to Positive off site feature -- park, greenbelt)\n",
    "- Exterior covering of house\n",
    "- Fireplace\n",
    "- Garage\n",
    "- Gr Liv Area: Above ground living area\n",
    "- Heating\n",
    "- House Style\n",
    "- Kitchen Qual\n",
    "- Land Contour:\n",
    "- Lot Config\n",
    "- Mas Vnr Area\n",
    "- Neighbourhood\n",
    "- Overall Total Value\n",
    "- Roof Matl: Roof material, Membran or Wood shingles\n",
    "- Total Basement Square Feet: Total Bsmt SF\n",
    "- Year Built\n",
    "\n",
    "Top 10 coef includes:\n",
    "- Neighborhood\n",
    "- Roof Material\n",
    "- Condition\n",
    "- No Garage\n",
    "- Heating Wall furnance\n",
    "- Ground living area"
   ]
  },
  {
   "cell_type": "code",
   "execution_count": 42,
   "metadata": {},
   "outputs": [
    {
     "data": {
      "image/png": "[encoded data removed]",
      "text/plain": [
       "<Figure size 1440x1080 with 2 Axes>"
      ]
     },
     "metadata": {},
     "output_type": "display_data"
    }
   ],
   "source": [
    "plt.figure(figsize= (20, 15))\n",
    "mask = (np.triu(np.ones_like(df_train[coef_sort].corr(),\n",
    "                             dtype=np.bool)))\n",
    "sns.heatmap(df_train[coef_sort].corr(),\n",
    "            annot=False, mask = mask, \n",
    "            fmt='.1g', cmap='coolwarm_r');"
   ]
  },
  {
   "cell_type": "markdown",
   "metadata": {},
   "source": [
    "Very few patches of data with Correlation to each other, will plot out small heatmap to see"
   ]
  },
  {
   "cell_type": "markdown",
   "metadata": {},
   "source": [
    "# 8.2 PolynomialFeatures\n",
    "\n",
    "## 8.2.1 Garage related features with high coef"
   ]
  },
  {
   "cell_type": "code",
   "execution_count": 43,
   "metadata": {},
   "outputs": [
    {
     "data": {
      "image/png": "[encoded data removed]",
      "text/plain": [
       "<Figure size 576x432 with 2 Axes>"
      ]
     },
     "metadata": {},
     "output_type": "display_data"
    }
   ],
   "source": [
    "garage_coef = ['Garage Area','Garage Cars', \n",
    "               'Garage Total Value', 'Gr Liv Area']\n",
    "plt.figure(figsize= (8, 6))\n",
    "mask = (np.triu(np.ones_like(df_train[garage_coef].corr(),\n",
    "                             dtype=np.bool)))\n",
    "sns.heatmap(df_train[garage_coef].corr(),\n",
    "            annot=True, mask = mask, \n",
    "            fmt='.1g', cmap='coolwarm_r');"
   ]
  },
  {
   "cell_type": "code",
   "execution_count": 44,
   "metadata": {},
   "outputs": [],
   "source": [
    "y = df_train['SalePrice']\n",
    "X = df_train[garage_coef]"
   ]
  },
  {
   "cell_type": "code",
   "execution_count": 45,
   "metadata": {},
   "outputs": [
    {
     "name": "stdout",
     "output_type": "stream",
     "text": [
      "Garage Features Train Score(L2): 0.6379457998517105\n"
     ]
    }
   ],
   "source": [
    "print(\"Garage Features Train Score(L2): \" + str(cross_val_score(lasso, X = X, y = y, cv = 5).mean()))"
   ]
  },
  {
   "cell_type": "code",
   "execution_count": 46,
   "metadata": {},
   "outputs": [],
   "source": [
    "poly = PolynomialFeatures(include_bias=False)"
   ]
  },
  {
   "cell_type": "code",
   "execution_count": 47,
   "metadata": {},
   "outputs": [],
   "source": [
    "X_poly = poly.fit_transform(X)"
   ]
  },
  {
   "cell_type": "code",
   "execution_count": 48,
   "metadata": {},
   "outputs": [],
   "source": [
    "pd.DataFrame(X_poly, columns=poly.get_feature_names(garage_coef));"
   ]
  },
  {
   "cell_type": "code",
   "execution_count": 49,
   "metadata": {},
   "outputs": [
    {
     "name": "stdout",
     "output_type": "stream",
     "text": [
      "Polynomial Garage Features Train Score(L2): 0.7282238357268581\n"
     ]
    }
   ],
   "source": [
    "print(\"Polynomial Garage Features Train Score(L2): \" + str(cross_val_score(lasso, X_poly, y, cv=5).mean()))"
   ]
  },
  {
   "cell_type": "markdown",
   "metadata": {},
   "source": [
    "### 8.2.1 comments\n",
    "r2 score improved, will keep values for model tuning"
   ]
  },
  {
   "cell_type": "markdown",
   "metadata": {},
   "source": [
    "## 8.2.1 Garage and Overall features"
   ]
  },
  {
   "cell_type": "code",
   "execution_count": 50,
   "metadata": {},
   "outputs": [
    {
     "data": {
      "image/png": "[encoded data removed]",
      "text/plain": [
       "<Figure size 576x432 with 2 Axes>"
      ]
     },
     "metadata": {},
     "output_type": "display_data"
    }
   ],
   "source": [
    "ovr_gar_coef = ['Garage Area','Gr Liv Area','Mas Vnr Area',\n",
    "             'Overall Qual','Overall Total Value']\n",
    "plt.figure(figsize= (8, 6))\n",
    "mask = (np.triu(np.ones_like(df_train[ovr_gar_coef].corr(),\n",
    "                             dtype=np.bool)))\n",
    "sns.heatmap(df_train[ovr_gar_coef].corr(),\n",
    "            annot=True, mask = mask, \n",
    "            fmt='.1g', cmap='coolwarm_r');"
   ]
  },
  {
   "cell_type": "code",
   "execution_count": 51,
   "metadata": {},
   "outputs": [],
   "source": [
    "y = df_train['SalePrice']\n",
    "X = df_train[ovr_gar_coef]"
   ]
  },
  {
   "cell_type": "code",
   "execution_count": 52,
   "metadata": {},
   "outputs": [
    {
     "name": "stdout",
     "output_type": "stream",
     "text": [
      "Garage & Overall Features Train Score(L2): 0.7917936133098868\n"
     ]
    }
   ],
   "source": [
    "print(\"Garage & Overall Features Train Score(L2): \" + str(cross_val_score(lasso, X = X, y = y, cv = 5).mean()))"
   ]
  },
  {
   "cell_type": "code",
   "execution_count": 53,
   "metadata": {},
   "outputs": [],
   "source": [
    "poly = PolynomialFeatures(include_bias=False)"
   ]
  },
  {
   "cell_type": "code",
   "execution_count": 54,
   "metadata": {},
   "outputs": [],
   "source": [
    "X_poly = poly.fit_transform(X)"
   ]
  },
  {
   "cell_type": "code",
   "execution_count": 55,
   "metadata": {},
   "outputs": [
    {
     "name": "stdout",
     "output_type": "stream",
     "text": [
      "Polynomial Garage & Overall Features Train Score(L2): 0.8396948022812876\n"
     ]
    }
   ],
   "source": [
    "print(\"Polynomial Garage & Overall Features Train Score(L2): \" + str(cross_val_score(lasso, X_poly, y, cv=5).mean()))"
   ]
  },
  {
   "cell_type": "markdown",
   "metadata": {},
   "source": [
    "### 8.2.2 comments\n",
    "r2 score improved, will keep values for model tuning"
   ]
  },
  {
   "cell_type": "markdown",
   "metadata": {},
   "source": [
    "# 8.2.3 Garage and Total and Year Features"
   ]
  },
  {
   "cell_type": "code",
   "execution_count": 56,
   "metadata": {},
   "outputs": [
    {
     "data": {
      "image/png": "[encoded data removed]",
      "text/plain": [
       "<Figure size 576x432 with 2 Axes>"
      ]
     },
     "metadata": {},
     "output_type": "display_data"
    }
   ],
   "source": [
    "gar_yr_sf_coef = ['Garage Area','Garage Cars','Garage Total Value',\n",
    "                  'Total Bath','Total Bsmt SF','Year Built']\n",
    "plt.figure(figsize= (8, 6))\n",
    "mask = (np.triu(np.ones_like(df_train[gar_yr_sf_coef].corr(),\n",
    "                             dtype=np.bool)))\n",
    "sns.heatmap(df_train[gar_yr_sf_coef].corr(),\n",
    "            annot=True, mask = mask, \n",
    "            fmt='.1g', cmap='coolwarm_r');"
   ]
  },
  {
   "cell_type": "code",
   "execution_count": 57,
   "metadata": {},
   "outputs": [],
   "source": [
    "y = df_train['SalePrice']\n",
    "X = df_train[gar_yr_sf_coef]"
   ]
  },
  {
   "cell_type": "code",
   "execution_count": 58,
   "metadata": {},
   "outputs": [
    {
     "name": "stdout",
     "output_type": "stream",
     "text": [
      "Garage & Total & Year Features Train Score(L2): 0.6916252916391615\n"
     ]
    }
   ],
   "source": [
    "print(\"Garage & Total & Year Features Train Score(L2): \" + str(cross_val_score(lasso, X = X, y = y, cv = 5).mean()))"
   ]
  },
  {
   "cell_type": "code",
   "execution_count": 59,
   "metadata": {},
   "outputs": [],
   "source": [
    "poly = PolynomialFeatures(include_bias=False)"
   ]
  },
  {
   "cell_type": "code",
   "execution_count": 60,
   "metadata": {},
   "outputs": [],
   "source": [
    "X_poly = poly.fit_transform(X)"
   ]
  },
  {
   "cell_type": "code",
   "execution_count": 61,
   "metadata": {},
   "outputs": [
    {
     "name": "stdout",
     "output_type": "stream",
     "text": [
      "Polynomial Garage & Total & Year Features Train Score(L2): 0.7785509728848456\n"
     ]
    }
   ],
   "source": [
    "print(\"Polynomial Garage & Total & Year Features Train Score(L2): \" + str(cross_val_score(lasso, X_poly, y, cv=5).mean()))"
   ]
  },
  {
   "cell_type": "markdown",
   "metadata": {},
   "source": [
    "### 8.2.3 comments\n",
    "r2 score improved, will keep values for model tuning"
   ]
  },
  {
   "cell_type": "code",
   "execution_count": 62,
   "metadata": {},
   "outputs": [
    {
     "data": {
      "image/png": "[encoded data removed]",
      "text/plain": [
       "<Figure size 576x432 with 2 Axes>"
      ]
     },
     "metadata": {},
     "output_type": "display_data"
    }
   ],
   "source": [
    "poly_coef = ['Garage Area','Garage Cars','Garage Total Value',\n",
    "                  'Total Bath','Total Bsmt SF','Year Built','Gr Liv Area',\n",
    "                  'Mas Vnr Area','Overall Qual','Overall Total Value']\n",
    "plt.figure(figsize= (8, 6))\n",
    "mask = (np.triu(np.ones_like(df_train[poly_coef].corr(),\n",
    "                             dtype=np.bool)))\n",
    "sns.heatmap(df_train[poly_coef].corr(),\n",
    "            annot=True, mask = mask, \n",
    "            fmt='.1g', cmap='coolwarm_r');"
   ]
  },
  {
   "cell_type": "code",
   "execution_count": 63,
   "metadata": {},
   "outputs": [],
   "source": [
    "y = df_train['SalePrice']\n",
    "X = df_train[poly_coef]"
   ]
  },
  {
   "cell_type": "code",
   "execution_count": 64,
   "metadata": {},
   "outputs": [
    {
     "name": "stdout",
     "output_type": "stream",
     "text": [
      "Garage & Total & Year Features Train Score(L2): 0.8397905851909202\n"
     ]
    }
   ],
   "source": [
    "print(\"Garage & Total & Year Features Train Score(L2): \" + str(cross_val_score(lasso, X = X, y = y, cv = 5).mean()))"
   ]
  },
  {
   "cell_type": "code",
   "execution_count": 65,
   "metadata": {},
   "outputs": [],
   "source": [
    "poly = PolynomialFeatures(include_bias=False)"
   ]
  },
  {
   "cell_type": "code",
   "execution_count": 66,
   "metadata": {},
   "outputs": [],
   "source": [
    "X_poly = poly.fit_transform(X)"
   ]
  },
  {
   "cell_type": "code",
   "execution_count": 67,
   "metadata": {},
   "outputs": [
    {
     "name": "stdout",
     "output_type": "stream",
     "text": [
      "Polynomial Garage & Total & Year Features Train Score(L2): 0.8952235521985147\n"
     ]
    }
   ],
   "source": [
    "print(\"Polynomial Garage & Total & Year Features Train Score(L2): \" + str(cross_val_score(lasso, X_poly, y, cv=5).mean()))"
   ]
  },
  {
   "cell_type": "code",
   "execution_count": 68,
   "metadata": {},
   "outputs": [
    {
     "data": {
      "text/plain": [
       "(2000, 65)"
      ]
     },
     "execution_count": 68,
     "metadata": {},
     "output_type": "execute_result"
    }
   ],
   "source": [
    "poly_features = pd.DataFrame(X_poly, columns=poly.get_feature_names(poly_coef))\n",
    "poly_features.shape"
   ]
  },
  {
   "cell_type": "code",
   "execution_count": 69,
   "metadata": {},
   "outputs": [
    {
     "data": {
      "text/plain": [
       "(2000, 209)"
      ]
     },
     "execution_count": 69,
     "metadata": {},
     "output_type": "execute_result"
    }
   ],
   "source": [
    "df_train_poly = pd.concat([df_train, poly_features], axis = 1)\n",
    "df_train_poly.shape"
   ]
  },
  {
   "cell_type": "code",
   "execution_count": 70,
   "metadata": {},
   "outputs": [],
   "source": [
    "X_df_test = df_test[poly_coef]"
   ]
  },
  {
   "cell_type": "code",
   "execution_count": 71,
   "metadata": {},
   "outputs": [],
   "source": [
    "X_poly_test = poly.fit_transform(X_df_test) #adding columns into test data"
   ]
  },
  {
   "cell_type": "code",
   "execution_count": 72,
   "metadata": {},
   "outputs": [
    {
     "data": {
      "text/plain": [
       "(879, 65)"
      ]
     },
     "execution_count": 72,
     "metadata": {},
     "output_type": "execute_result"
    }
   ],
   "source": [
    "poly_features_test = pd.DataFrame(X_poly_test, columns=poly.get_feature_names(poly_coef))\n",
    "poly_features_test.shape"
   ]
  },
  {
   "cell_type": "code",
   "execution_count": 74,
   "metadata": {},
   "outputs": [
    {
     "data": {
      "text/plain": [
       "(879, 209)"
      ]
     },
     "execution_count": 74,
     "metadata": {},
     "output_type": "execute_result"
    }
   ],
   "source": [
    "df_test_poly = pd.concat([df_test, poly_features_test], axis = 1)\n",
    "df_test_poly.shape"
   ]
  },
  {
   "cell_type": "markdown",
   "metadata": {},
   "source": [
    "# Testing poly features with Lasso"
   ]
  },
  {
   "cell_type": "code",
   "execution_count": 75,
   "metadata": {},
   "outputs": [
    {
     "data": {
      "text/plain": [
       "Index(['Overall Qual', 'Year Built', 'Year Remod/Add', 'Mas Vnr Area', 'Exter Qual', 'Bsmt Qual', 'Total Bsmt SF', '1st Flr SF', 'Gr Liv Area', 'Full Bath',\n",
       "       ...\n",
       "       'Gr Liv Area^2', 'Gr Liv Area Mas Vnr Area', 'Gr Liv Area Overall Qual', 'Gr Liv Area Overall Total Value', 'Mas Vnr Area^2', 'Mas Vnr Area Overall Qual', 'Mas Vnr Area Overall Total Value', 'Overall Qual^2', 'Overall Qual Overall Total Value', 'Overall Total Value^2'], dtype='object', length=207)"
      ]
     },
     "execution_count": 75,
     "metadata": {},
     "output_type": "execute_result"
    }
   ],
   "source": [
    "col_keys = df_train_poly.drop(columns = ['Id','SalePrice']).keys()\n",
    "col_keys"
   ]
  },
  {
   "cell_type": "code",
   "execution_count": 76,
   "metadata": {},
   "outputs": [],
   "source": [
    "y = df_train_poly['SalePrice']\n",
    "X = df_train_poly[col_keys]"
   ]
  },
  {
   "cell_type": "code",
   "execution_count": 77,
   "metadata": {},
   "outputs": [],
   "source": [
    "X_train, X_test, y_train, y_test = train_test_split(X,y,random_state = 42)"
   ]
  },
  {
   "cell_type": "code",
   "execution_count": 78,
   "metadata": {},
   "outputs": [
    {
     "name": "stdout",
     "output_type": "stream",
     "text": [
      "X_train shape: (1500, 227)\n",
      "X_test shape: (500, 227)\n",
      "y_train shape: (1500,)\n",
      "y_test shape: (500,)\n"
     ]
    }
   ],
   "source": [
    "print('X_train shape: ' + str(X_train.shape))\n",
    "print('X_test shape: ' + str(X_test.shape))\n",
    "print('y_train shape: ' + str(y_train.shape))\n",
    "print('y_test shape: ' + str(y_test.shape))"
   ]
  },
  {
   "cell_type": "code",
   "execution_count": 79,
   "metadata": {},
   "outputs": [
    {
     "data": {
      "text/plain": [
       "10.0"
      ]
     },
     "execution_count": 79,
     "metadata": {},
     "output_type": "execute_result"
    }
   ],
   "source": [
    "lasso = LassoCV(alphas = np.linspace(0.1,10,100), max_iter = 5000)\n",
    "lasso.fit(X_train, y_train);\n",
    "lasso.alpha_"
   ]
  },
  {
   "cell_type": "code",
   "execution_count": 80,
   "metadata": {},
   "outputs": [
    {
     "name": "stdout",
     "output_type": "stream",
     "text": [
      "Train Score(L2): 0.9392776751608228\n",
      "Test Score(L2): 0.9241174493522316\n",
      "Test Data Estimated score(L2) 0.9122572542964541\n"
     ]
    }
   ],
   "source": [
    "print(\"Train Score(L2): \" + str(lasso.score(X_train,y_train)))\n",
    "print(\"Test Score(L2): \" + str(lasso.score(X_test,y_test)))\n",
    "print('Test Data Estimated score(L2) ' + str(cross_val_score(lasso, X_train, y_train, cv = 5).mean()))"
   ]
  },
  {
   "cell_type": "code",
   "execution_count": 81,
   "metadata": {},
   "outputs": [
    {
     "name": "stdout",
     "output_type": "stream",
     "text": [
      "Train RMSE(L2) 17495.9323344686\n",
      "Test RMSE(L2) 19901.155678233114\n",
      "Test Data Estimated RMSE(L2) 20875.473453069848\n"
     ]
    }
   ],
   "source": [
    "print(\"Train RMSE(L2) \" + str(np.sqrt(mean_squared_error(y_train, lasso.predict(X_train)))))\n",
    "print('Test RMSE(L2) ' + str(np.sqrt(mean_squared_error(y_test, lasso.predict(X_test)))))\n",
    "                              \n",
    "print('Test Data Estimated RMSE(L2) ' + str(np.sqrt(-cross_val_score(lasso, X_train, y_train, \n",
    "                                                            cv = 5, scoring = 'neg_mean_squared_error').mean())))"
   ]
  },
  {
   "cell_type": "markdown",
   "metadata": {},
   "source": [
    "r2 and RMSE scores improved"
   ]
  },
  {
   "cell_type": "markdown",
   "metadata": {},
   "source": [
    "# Initial Kaggle Submission"
   ]
  },
  {
   "cell_type": "code",
   "execution_count": 83,
   "metadata": {},
   "outputs": [],
   "source": [
    "X_test = df_test_poly[col_keys]"
   ]
  },
  {
   "cell_type": "code",
   "execution_count": 84,
   "metadata": {},
   "outputs": [],
   "source": [
    "test_predict = lasso.predict(X_test)"
   ]
  },
  {
   "cell_type": "code",
   "execution_count": 85,
   "metadata": {},
   "outputs": [
    {
     "data": {
      "text/plain": [
       "879"
      ]
     },
     "execution_count": 85,
     "metadata": {},
     "output_type": "execute_result"
    }
   ],
   "source": [
    "len(test_predict)"
   ]
  },
  {
   "cell_type": "code",
   "execution_count": 86,
   "metadata": {},
   "outputs": [],
   "source": [
    "df_predicted = pd.DataFrame(test_predict, columns = ['SalePrice'])"
   ]
  },
  {
   "cell_type": "code",
   "execution_count": 87,
   "metadata": {
    "scrolled": false
   },
   "outputs": [
    {
     "data": {
      "text/html": [
       "<div>\n",
       "<style scoped>\n",
       "    .dataframe tbody tr th:only-of-type {\n",
       "        vertical-align: middle;\n",
       "    }\n",
       "\n",
       "    .dataframe tbody tr th {\n",
       "        vertical-align: top;\n",
       "    }\n",
       "\n",
       "    .dataframe thead th {\n",
       "        text-align: right;\n",
       "    }\n",
       "</style>\n",
       "<table border=\"1\" class=\"dataframe\">\n",
       "  <thead>\n",
       "    <tr style=\"text-align: right;\">\n",
       "      <th></th>\n",
       "      <th>SalePrice</th>\n",
       "    </tr>\n",
       "  </thead>\n",
       "  <tbody>\n",
       "    <tr>\n",
       "      <th>0</th>\n",
       "      <td>132436.615627</td>\n",
       "    </tr>\n",
       "    <tr>\n",
       "      <th>1</th>\n",
       "      <td>157619.234670</td>\n",
       "    </tr>\n",
       "    <tr>\n",
       "      <th>2</th>\n",
       "      <td>197013.501249</td>\n",
       "    </tr>\n",
       "    <tr>\n",
       "      <th>3</th>\n",
       "      <td>114535.974332</td>\n",
       "    </tr>\n",
       "    <tr>\n",
       "      <th>4</th>\n",
       "      <td>184442.450129</td>\n",
       "    </tr>\n",
       "  </tbody>\n",
       "</table>\n",
       "</div>"
      ],
      "text/plain": [
       "       SalePrice\n",
       "0  132436.615627\n",
       "1  157619.234670\n",
       "2  197013.501249\n",
       "3  114535.974332\n",
       "4  184442.450129"
      ]
     },
     "execution_count": 87,
     "metadata": {},
     "output_type": "execute_result"
    }
   ],
   "source": [
    "df_predicted.head()"
   ]
  },
  {
   "cell_type": "code",
   "execution_count": 88,
   "metadata": {},
   "outputs": [],
   "source": [
    "submit = pd.concat([df_test['Id'], df_predicted['SalePrice']], \n",
    "                   ignore_index=False, sort=False, axis = 1)\n"
   ]
  },
  {
   "cell_type": "code",
   "execution_count": 89,
   "metadata": {},
   "outputs": [
    {
     "data": {
      "text/html": [
       "<div>\n",
       "<style scoped>\n",
       "    .dataframe tbody tr th:only-of-type {\n",
       "        vertical-align: middle;\n",
       "    }\n",
       "\n",
       "    .dataframe tbody tr th {\n",
       "        vertical-align: top;\n",
       "    }\n",
       "\n",
       "    .dataframe thead th {\n",
       "        text-align: right;\n",
       "    }\n",
       "</style>\n",
       "<table border=\"1\" class=\"dataframe\">\n",
       "  <thead>\n",
       "    <tr style=\"text-align: right;\">\n",
       "      <th></th>\n",
       "      <th>Id</th>\n",
       "      <th>SalePrice</th>\n",
       "    </tr>\n",
       "  </thead>\n",
       "  <tbody>\n",
       "    <tr>\n",
       "      <th>704</th>\n",
       "      <td>2</td>\n",
       "      <td>113635.636056</td>\n",
       "    </tr>\n",
       "    <tr>\n",
       "      <th>706</th>\n",
       "      <td>4</td>\n",
       "      <td>293468.243921</td>\n",
       "    </tr>\n",
       "    <tr>\n",
       "      <th>120</th>\n",
       "      <td>6</td>\n",
       "      <td>189876.192022</td>\n",
       "    </tr>\n",
       "    <tr>\n",
       "      <th>312</th>\n",
       "      <td>7</td>\n",
       "      <td>227608.171459</td>\n",
       "    </tr>\n",
       "    <tr>\n",
       "      <th>401</th>\n",
       "      <td>17</td>\n",
       "      <td>181654.359061</td>\n",
       "    </tr>\n",
       "  </tbody>\n",
       "</table>\n",
       "</div>"
      ],
      "text/plain": [
       "     Id      SalePrice\n",
       "704   2  113635.636056\n",
       "706   4  293468.243921\n",
       "120   6  189876.192022\n",
       "312   7  227608.171459\n",
       "401  17  181654.359061"
      ]
     },
     "execution_count": 89,
     "metadata": {},
     "output_type": "execute_result"
    }
   ],
   "source": [
    "submit.sort_values('Id', ascending = True, inplace = True)\n",
    "submit.head()"
   ]
  },
  {
   "cell_type": "code",
   "execution_count": 91,
   "metadata": {},
   "outputs": [],
   "source": [
    "submit.to_csv(\"../datasets/test_submit.csv\", index=False)"
   ]
  },
  {
   "cell_type": "markdown",
   "metadata": {},
   "source": []
  }
 ],
 "metadata": {
  "kernelspec": {
   "display_name": "Python 3",
   "language": "python",
   "name": "python3"
  },
  "language_info": {
   "codemirror_mode": {
    "name": "ipython",
    "version": 3
   },
   "file_extension": ".py",
   "mimetype": "text/x-python",
   "name": "python",
   "nbconvert_exporter": "python",
   "pygments_lexer": "ipython3",
   "version": "3.7.7"
  }
 },
 "nbformat": 4,
 "nbformat_minor": 4
}
