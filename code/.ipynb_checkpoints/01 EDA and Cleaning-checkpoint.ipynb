{
 "cells": [
  {
   "cell_type": "markdown",
   "metadata": {},
   "source": [
    "# Ames Housing Saleprice\n",
    "\n",
    "## Problem Statement\n",
    "\n",
    "Create a regression model where we are able to see what features affects the price of the house at sales the most."
   ]
  },
  {
   "cell_type": "markdown",
   "metadata": {},
   "source": [
    "## Executive Summary\n",
    "\n",
    "### Contents:\n",
    "- [1. Importing of libraries](#1.-Importing-of-Libraries)\n",
    "- [2. Importing Datasets](#2.-Importing-of-Datasets)\n",
    "- [3. Manual Check of Dataset](#3.-Manual-Check-of-Dataset)\n",
    "- [4. Data Cleaning](#4.-Data-Cleaning)\n",
    "- [5. Exploratory Data Analysis(EDA)](#5.-Exploratory-Data-Analysis(EDA))\n",
    "\n",
    "\n",
    "Links:\n",
    "[Kaggle challenge link](https://www.kaggle.com/c/dsi-us-6-project-2-regression-challenge/data)"
   ]
  },
  {
   "cell_type": "markdown",
   "metadata": {},
   "source": [
    "# 1. Importing of Libraries"
   ]
  },
  {
   "cell_type": "code",
   "execution_count": 1,
   "metadata": {},
   "outputs": [],
   "source": [
    "#Imports:\n",
    "import pandas as pd\n",
    "import numpy as np\n",
    "import seaborn as sns\n",
    "import matplotlib.pyplot as plt\n",
    "import scipy.stats as stats\n",
    "plt.style.use('ggplot')"
   ]
  },
  {
   "cell_type": "code",
   "execution_count": 2,
   "metadata": {},
   "outputs": [],
   "source": [
    "from IPython.display import display\n",
    "pd.set_option('display.max_rows', 3000)\n",
    "pd.set_option('display.max_columns', 200)\n",
    "pd.set_option('display.width', 1000)"
   ]
  },
  {
   "cell_type": "markdown",
   "metadata": {},
   "source": [
    "# 2. Importing of Datasets"
   ]
  },
  {
   "cell_type": "code",
   "execution_count": 3,
   "metadata": {},
   "outputs": [
    {
     "data": {
      "text/plain": [
       "((2051, 81), (879, 80))"
      ]
     },
     "execution_count": 3,
     "metadata": {},
     "output_type": "execute_result"
    }
   ],
   "source": [
    "df_train = pd.read_csv('../datasets/train.csv')\n",
    "df_test = pd.read_csv('../datasets/test.csv')\n",
    "df_train.shape , df_test.shape"
   ]
  },
  {
   "cell_type": "markdown",
   "metadata": {},
   "source": [
    "# 3. Manual Check of Dataset"
   ]
  },
  {
   "cell_type": "code",
   "execution_count": 4,
   "metadata": {},
   "outputs": [
    {
     "data": {
      "text/plain": [
       "['SalePrice']"
      ]
     },
     "execution_count": 4,
     "metadata": {},
     "output_type": "execute_result"
    }
   ],
   "source": [
    "list(set(df_train) - set(df_test)) # checking difference between train and test dataset"
   ]
  },
  {
   "cell_type": "code",
   "execution_count": 5,
   "metadata": {},
   "outputs": [],
   "source": [
    "#adding Saleprice column to test dataframe to combine the 2 dataset for analysis\n",
    "df_test['SalePrice'] = 0"
   ]
  },
  {
   "cell_type": "code",
   "execution_count": 6,
   "metadata": {},
   "outputs": [
    {
     "name": "stdout",
     "output_type": "stream",
     "text": [
      "[]\n"
     ]
    },
    {
     "data": {
      "text/plain": [
       "((2051, 81), (879, 81))"
      ]
     },
     "execution_count": 6,
     "metadata": {},
     "output_type": "execute_result"
    }
   ],
   "source": [
    "print(list(set(df_train) - set(df_test))) # checking difference between train and test dataset again\n",
    "df_train.shape , df_test.shape"
   ]
  },
  {
   "cell_type": "code",
   "execution_count": 7,
   "metadata": {},
   "outputs": [
    {
     "data": {
      "text/plain": [
       "(2930, 81)"
      ]
     },
     "execution_count": 7,
     "metadata": {},
     "output_type": "execute_result"
    }
   ],
   "source": [
    "df = pd.concat([df_train, df_test], ignore_index=False, sort=False, axis = 0)\n",
    "df.shape"
   ]
  },
  {
   "cell_type": "markdown",
   "metadata": {},
   "source": [
    "## 3.1 first 20 columns of data"
   ]
  },
  {
   "cell_type": "code",
   "execution_count": 8,
   "metadata": {},
   "outputs": [
    {
     "data": {
      "text/html": [
       "<div>\n",
       "<style scoped>\n",
       "    .dataframe tbody tr th:only-of-type {\n",
       "        vertical-align: middle;\n",
       "    }\n",
       "\n",
       "    .dataframe tbody tr th {\n",
       "        vertical-align: top;\n",
       "    }\n",
       "\n",
       "    .dataframe thead th {\n",
       "        text-align: right;\n",
       "    }\n",
       "</style>\n",
       "<table border=\"1\" class=\"dataframe\">\n",
       "  <thead>\n",
       "    <tr style=\"text-align: right;\">\n",
       "      <th></th>\n",
       "      <th>Id</th>\n",
       "      <th>PID</th>\n",
       "      <th>MS SubClass</th>\n",
       "      <th>MS Zoning</th>\n",
       "      <th>Lot Frontage</th>\n",
       "      <th>Lot Area</th>\n",
       "      <th>Street</th>\n",
       "      <th>Alley</th>\n",
       "      <th>Lot Shape</th>\n",
       "      <th>Land Contour</th>\n",
       "      <th>Utilities</th>\n",
       "      <th>Lot Config</th>\n",
       "      <th>Land Slope</th>\n",
       "      <th>Neighborhood</th>\n",
       "      <th>Condition 1</th>\n",
       "      <th>Condition 2</th>\n",
       "      <th>Bldg Type</th>\n",
       "      <th>House Style</th>\n",
       "      <th>Overall Qual</th>\n",
       "      <th>Overall Cond</th>\n",
       "    </tr>\n",
       "  </thead>\n",
       "  <tbody>\n",
       "    <tr>\n",
       "      <th>0</th>\n",
       "      <td>109</td>\n",
       "      <td>533352170</td>\n",
       "      <td>60</td>\n",
       "      <td>RL</td>\n",
       "      <td>NaN</td>\n",
       "      <td>13517</td>\n",
       "      <td>Pave</td>\n",
       "      <td>NaN</td>\n",
       "      <td>IR1</td>\n",
       "      <td>Lvl</td>\n",
       "      <td>AllPub</td>\n",
       "      <td>CulDSac</td>\n",
       "      <td>Gtl</td>\n",
       "      <td>Sawyer</td>\n",
       "      <td>RRAe</td>\n",
       "      <td>Norm</td>\n",
       "      <td>1Fam</td>\n",
       "      <td>2Story</td>\n",
       "      <td>6</td>\n",
       "      <td>8</td>\n",
       "    </tr>\n",
       "    <tr>\n",
       "      <th>1</th>\n",
       "      <td>544</td>\n",
       "      <td>531379050</td>\n",
       "      <td>60</td>\n",
       "      <td>RL</td>\n",
       "      <td>43.0</td>\n",
       "      <td>11492</td>\n",
       "      <td>Pave</td>\n",
       "      <td>NaN</td>\n",
       "      <td>IR1</td>\n",
       "      <td>Lvl</td>\n",
       "      <td>AllPub</td>\n",
       "      <td>CulDSac</td>\n",
       "      <td>Gtl</td>\n",
       "      <td>SawyerW</td>\n",
       "      <td>Norm</td>\n",
       "      <td>Norm</td>\n",
       "      <td>1Fam</td>\n",
       "      <td>2Story</td>\n",
       "      <td>7</td>\n",
       "      <td>5</td>\n",
       "    </tr>\n",
       "    <tr>\n",
       "      <th>2</th>\n",
       "      <td>153</td>\n",
       "      <td>535304180</td>\n",
       "      <td>20</td>\n",
       "      <td>RL</td>\n",
       "      <td>68.0</td>\n",
       "      <td>7922</td>\n",
       "      <td>Pave</td>\n",
       "      <td>NaN</td>\n",
       "      <td>Reg</td>\n",
       "      <td>Lvl</td>\n",
       "      <td>AllPub</td>\n",
       "      <td>Inside</td>\n",
       "      <td>Gtl</td>\n",
       "      <td>NAmes</td>\n",
       "      <td>Norm</td>\n",
       "      <td>Norm</td>\n",
       "      <td>1Fam</td>\n",
       "      <td>1Story</td>\n",
       "      <td>5</td>\n",
       "      <td>7</td>\n",
       "    </tr>\n",
       "    <tr>\n",
       "      <th>3</th>\n",
       "      <td>318</td>\n",
       "      <td>916386060</td>\n",
       "      <td>60</td>\n",
       "      <td>RL</td>\n",
       "      <td>73.0</td>\n",
       "      <td>9802</td>\n",
       "      <td>Pave</td>\n",
       "      <td>NaN</td>\n",
       "      <td>Reg</td>\n",
       "      <td>Lvl</td>\n",
       "      <td>AllPub</td>\n",
       "      <td>Inside</td>\n",
       "      <td>Gtl</td>\n",
       "      <td>Timber</td>\n",
       "      <td>Norm</td>\n",
       "      <td>Norm</td>\n",
       "      <td>1Fam</td>\n",
       "      <td>2Story</td>\n",
       "      <td>5</td>\n",
       "      <td>5</td>\n",
       "    </tr>\n",
       "    <tr>\n",
       "      <th>4</th>\n",
       "      <td>255</td>\n",
       "      <td>906425045</td>\n",
       "      <td>50</td>\n",
       "      <td>RL</td>\n",
       "      <td>82.0</td>\n",
       "      <td>14235</td>\n",
       "      <td>Pave</td>\n",
       "      <td>NaN</td>\n",
       "      <td>IR1</td>\n",
       "      <td>Lvl</td>\n",
       "      <td>AllPub</td>\n",
       "      <td>Inside</td>\n",
       "      <td>Gtl</td>\n",
       "      <td>SawyerW</td>\n",
       "      <td>Norm</td>\n",
       "      <td>Norm</td>\n",
       "      <td>1Fam</td>\n",
       "      <td>1.5Fin</td>\n",
       "      <td>6</td>\n",
       "      <td>8</td>\n",
       "    </tr>\n",
       "  </tbody>\n",
       "</table>\n",
       "</div>"
      ],
      "text/plain": [
       "    Id        PID  MS SubClass MS Zoning  Lot Frontage  Lot Area Street Alley Lot Shape Land Contour Utilities Lot Config Land Slope Neighborhood Condition 1 Condition 2 Bldg Type House Style  Overall Qual  Overall Cond\n",
       "0  109  533352170           60        RL           NaN     13517   Pave   NaN       IR1          Lvl    AllPub    CulDSac        Gtl       Sawyer        RRAe        Norm      1Fam      2Story             6             8\n",
       "1  544  531379050           60        RL          43.0     11492   Pave   NaN       IR1          Lvl    AllPub    CulDSac        Gtl      SawyerW        Norm        Norm      1Fam      2Story             7             5\n",
       "2  153  535304180           20        RL          68.0      7922   Pave   NaN       Reg          Lvl    AllPub     Inside        Gtl        NAmes        Norm        Norm      1Fam      1Story             5             7\n",
       "3  318  916386060           60        RL          73.0      9802   Pave   NaN       Reg          Lvl    AllPub     Inside        Gtl       Timber        Norm        Norm      1Fam      2Story             5             5\n",
       "4  255  906425045           50        RL          82.0     14235   Pave   NaN       IR1          Lvl    AllPub     Inside        Gtl      SawyerW        Norm        Norm      1Fam      1.5Fin             6             8"
      ]
     },
     "execution_count": 8,
     "metadata": {},
     "output_type": "execute_result"
    }
   ],
   "source": [
    "df.iloc[:,:20].head()"
   ]
  },
  {
   "cell_type": "code",
   "execution_count": 9,
   "metadata": {},
   "outputs": [
    {
     "name": "stdout",
     "output_type": "stream",
     "text": [
      "<class 'pandas.core.frame.DataFrame'>\n",
      "Int64Index: 2930 entries, 0 to 878\n",
      "Data columns (total 20 columns):\n",
      " #   Column        Non-Null Count  Dtype  \n",
      "---  ------        --------------  -----  \n",
      " 0   Id            2930 non-null   int64  \n",
      " 1   PID           2930 non-null   int64  \n",
      " 2   MS SubClass   2930 non-null   int64  \n",
      " 3   MS Zoning     2930 non-null   object \n",
      " 4   Lot Frontage  2440 non-null   float64\n",
      " 5   Lot Area      2930 non-null   int64  \n",
      " 6   Street        2930 non-null   object \n",
      " 7   Alley         198 non-null    object \n",
      " 8   Lot Shape     2930 non-null   object \n",
      " 9   Land Contour  2930 non-null   object \n",
      " 10  Utilities     2930 non-null   object \n",
      " 11  Lot Config    2930 non-null   object \n",
      " 12  Land Slope    2930 non-null   object \n",
      " 13  Neighborhood  2930 non-null   object \n",
      " 14  Condition 1   2930 non-null   object \n",
      " 15  Condition 2   2930 non-null   object \n",
      " 16  Bldg Type     2930 non-null   object \n",
      " 17  House Style   2930 non-null   object \n",
      " 18  Overall Qual  2930 non-null   int64  \n",
      " 19  Overall Cond  2930 non-null   int64  \n",
      "dtypes: float64(1), int64(6), object(13)\n",
      "memory usage: 480.7+ KB\n"
     ]
    }
   ],
   "source": [
    "df.iloc[:,:20].info()"
   ]
  },
  {
   "cell_type": "code",
   "execution_count": 10,
   "metadata": {},
   "outputs": [
    {
     "data": {
      "text/html": [
       "<div>\n",
       "<style scoped>\n",
       "    .dataframe tbody tr th:only-of-type {\n",
       "        vertical-align: middle;\n",
       "    }\n",
       "\n",
       "    .dataframe tbody tr th {\n",
       "        vertical-align: top;\n",
       "    }\n",
       "\n",
       "    .dataframe thead th {\n",
       "        text-align: right;\n",
       "    }\n",
       "</style>\n",
       "<table border=\"1\" class=\"dataframe\">\n",
       "  <thead>\n",
       "    <tr style=\"text-align: right;\">\n",
       "      <th></th>\n",
       "      <th>count</th>\n",
       "      <th>unique</th>\n",
       "      <th>top</th>\n",
       "      <th>freq</th>\n",
       "      <th>mean</th>\n",
       "      <th>std</th>\n",
       "      <th>min</th>\n",
       "      <th>25%</th>\n",
       "      <th>50%</th>\n",
       "      <th>75%</th>\n",
       "      <th>max</th>\n",
       "    </tr>\n",
       "  </thead>\n",
       "  <tbody>\n",
       "    <tr>\n",
       "      <th>Id</th>\n",
       "      <td>2930</td>\n",
       "      <td>NaN</td>\n",
       "      <td>NaN</td>\n",
       "      <td>NaN</td>\n",
       "      <td>1465.5</td>\n",
       "      <td>845.962</td>\n",
       "      <td>1</td>\n",
       "      <td>733.25</td>\n",
       "      <td>1465.5</td>\n",
       "      <td>2197.75</td>\n",
       "      <td>2930</td>\n",
       "    </tr>\n",
       "    <tr>\n",
       "      <th>PID</th>\n",
       "      <td>2930</td>\n",
       "      <td>NaN</td>\n",
       "      <td>NaN</td>\n",
       "      <td>NaN</td>\n",
       "      <td>7.14464e+08</td>\n",
       "      <td>1.88731e+08</td>\n",
       "      <td>5.26301e+08</td>\n",
       "      <td>5.28477e+08</td>\n",
       "      <td>5.35454e+08</td>\n",
       "      <td>9.07181e+08</td>\n",
       "      <td>1.0071e+09</td>\n",
       "    </tr>\n",
       "    <tr>\n",
       "      <th>MS SubClass</th>\n",
       "      <td>2930</td>\n",
       "      <td>NaN</td>\n",
       "      <td>NaN</td>\n",
       "      <td>NaN</td>\n",
       "      <td>57.3874</td>\n",
       "      <td>42.638</td>\n",
       "      <td>20</td>\n",
       "      <td>20</td>\n",
       "      <td>50</td>\n",
       "      <td>70</td>\n",
       "      <td>190</td>\n",
       "    </tr>\n",
       "    <tr>\n",
       "      <th>MS Zoning</th>\n",
       "      <td>2930</td>\n",
       "      <td>7</td>\n",
       "      <td>RL</td>\n",
       "      <td>2273</td>\n",
       "      <td>NaN</td>\n",
       "      <td>NaN</td>\n",
       "      <td>NaN</td>\n",
       "      <td>NaN</td>\n",
       "      <td>NaN</td>\n",
       "      <td>NaN</td>\n",
       "      <td>NaN</td>\n",
       "    </tr>\n",
       "    <tr>\n",
       "      <th>Lot Frontage</th>\n",
       "      <td>2440</td>\n",
       "      <td>NaN</td>\n",
       "      <td>NaN</td>\n",
       "      <td>NaN</td>\n",
       "      <td>69.2246</td>\n",
       "      <td>23.3653</td>\n",
       "      <td>21</td>\n",
       "      <td>58</td>\n",
       "      <td>68</td>\n",
       "      <td>80</td>\n",
       "      <td>313</td>\n",
       "    </tr>\n",
       "    <tr>\n",
       "      <th>Lot Area</th>\n",
       "      <td>2930</td>\n",
       "      <td>NaN</td>\n",
       "      <td>NaN</td>\n",
       "      <td>NaN</td>\n",
       "      <td>10147.9</td>\n",
       "      <td>7880.02</td>\n",
       "      <td>1300</td>\n",
       "      <td>7440.25</td>\n",
       "      <td>9436.5</td>\n",
       "      <td>11555.2</td>\n",
       "      <td>215245</td>\n",
       "    </tr>\n",
       "    <tr>\n",
       "      <th>Street</th>\n",
       "      <td>2930</td>\n",
       "      <td>2</td>\n",
       "      <td>Pave</td>\n",
       "      <td>2918</td>\n",
       "      <td>NaN</td>\n",
       "      <td>NaN</td>\n",
       "      <td>NaN</td>\n",
       "      <td>NaN</td>\n",
       "      <td>NaN</td>\n",
       "      <td>NaN</td>\n",
       "      <td>NaN</td>\n",
       "    </tr>\n",
       "    <tr>\n",
       "      <th>Alley</th>\n",
       "      <td>198</td>\n",
       "      <td>2</td>\n",
       "      <td>Grvl</td>\n",
       "      <td>120</td>\n",
       "      <td>NaN</td>\n",
       "      <td>NaN</td>\n",
       "      <td>NaN</td>\n",
       "      <td>NaN</td>\n",
       "      <td>NaN</td>\n",
       "      <td>NaN</td>\n",
       "      <td>NaN</td>\n",
       "    </tr>\n",
       "    <tr>\n",
       "      <th>Lot Shape</th>\n",
       "      <td>2930</td>\n",
       "      <td>4</td>\n",
       "      <td>Reg</td>\n",
       "      <td>1859</td>\n",
       "      <td>NaN</td>\n",
       "      <td>NaN</td>\n",
       "      <td>NaN</td>\n",
       "      <td>NaN</td>\n",
       "      <td>NaN</td>\n",
       "      <td>NaN</td>\n",
       "      <td>NaN</td>\n",
       "    </tr>\n",
       "    <tr>\n",
       "      <th>Land Contour</th>\n",
       "      <td>2930</td>\n",
       "      <td>4</td>\n",
       "      <td>Lvl</td>\n",
       "      <td>2633</td>\n",
       "      <td>NaN</td>\n",
       "      <td>NaN</td>\n",
       "      <td>NaN</td>\n",
       "      <td>NaN</td>\n",
       "      <td>NaN</td>\n",
       "      <td>NaN</td>\n",
       "      <td>NaN</td>\n",
       "    </tr>\n",
       "    <tr>\n",
       "      <th>Utilities</th>\n",
       "      <td>2930</td>\n",
       "      <td>3</td>\n",
       "      <td>AllPub</td>\n",
       "      <td>2927</td>\n",
       "      <td>NaN</td>\n",
       "      <td>NaN</td>\n",
       "      <td>NaN</td>\n",
       "      <td>NaN</td>\n",
       "      <td>NaN</td>\n",
       "      <td>NaN</td>\n",
       "      <td>NaN</td>\n",
       "    </tr>\n",
       "    <tr>\n",
       "      <th>Lot Config</th>\n",
       "      <td>2930</td>\n",
       "      <td>5</td>\n",
       "      <td>Inside</td>\n",
       "      <td>2140</td>\n",
       "      <td>NaN</td>\n",
       "      <td>NaN</td>\n",
       "      <td>NaN</td>\n",
       "      <td>NaN</td>\n",
       "      <td>NaN</td>\n",
       "      <td>NaN</td>\n",
       "      <td>NaN</td>\n",
       "    </tr>\n",
       "    <tr>\n",
       "      <th>Land Slope</th>\n",
       "      <td>2930</td>\n",
       "      <td>3</td>\n",
       "      <td>Gtl</td>\n",
       "      <td>2789</td>\n",
       "      <td>NaN</td>\n",
       "      <td>NaN</td>\n",
       "      <td>NaN</td>\n",
       "      <td>NaN</td>\n",
       "      <td>NaN</td>\n",
       "      <td>NaN</td>\n",
       "      <td>NaN</td>\n",
       "    </tr>\n",
       "    <tr>\n",
       "      <th>Neighborhood</th>\n",
       "      <td>2930</td>\n",
       "      <td>28</td>\n",
       "      <td>NAmes</td>\n",
       "      <td>443</td>\n",
       "      <td>NaN</td>\n",
       "      <td>NaN</td>\n",
       "      <td>NaN</td>\n",
       "      <td>NaN</td>\n",
       "      <td>NaN</td>\n",
       "      <td>NaN</td>\n",
       "      <td>NaN</td>\n",
       "    </tr>\n",
       "    <tr>\n",
       "      <th>Condition 1</th>\n",
       "      <td>2930</td>\n",
       "      <td>9</td>\n",
       "      <td>Norm</td>\n",
       "      <td>2522</td>\n",
       "      <td>NaN</td>\n",
       "      <td>NaN</td>\n",
       "      <td>NaN</td>\n",
       "      <td>NaN</td>\n",
       "      <td>NaN</td>\n",
       "      <td>NaN</td>\n",
       "      <td>NaN</td>\n",
       "    </tr>\n",
       "    <tr>\n",
       "      <th>Condition 2</th>\n",
       "      <td>2930</td>\n",
       "      <td>8</td>\n",
       "      <td>Norm</td>\n",
       "      <td>2900</td>\n",
       "      <td>NaN</td>\n",
       "      <td>NaN</td>\n",
       "      <td>NaN</td>\n",
       "      <td>NaN</td>\n",
       "      <td>NaN</td>\n",
       "      <td>NaN</td>\n",
       "      <td>NaN</td>\n",
       "    </tr>\n",
       "    <tr>\n",
       "      <th>Bldg Type</th>\n",
       "      <td>2930</td>\n",
       "      <td>5</td>\n",
       "      <td>1Fam</td>\n",
       "      <td>2425</td>\n",
       "      <td>NaN</td>\n",
       "      <td>NaN</td>\n",
       "      <td>NaN</td>\n",
       "      <td>NaN</td>\n",
       "      <td>NaN</td>\n",
       "      <td>NaN</td>\n",
       "      <td>NaN</td>\n",
       "    </tr>\n",
       "    <tr>\n",
       "      <th>House Style</th>\n",
       "      <td>2930</td>\n",
       "      <td>8</td>\n",
       "      <td>1Story</td>\n",
       "      <td>1481</td>\n",
       "      <td>NaN</td>\n",
       "      <td>NaN</td>\n",
       "      <td>NaN</td>\n",
       "      <td>NaN</td>\n",
       "      <td>NaN</td>\n",
       "      <td>NaN</td>\n",
       "      <td>NaN</td>\n",
       "    </tr>\n",
       "    <tr>\n",
       "      <th>Overall Qual</th>\n",
       "      <td>2930</td>\n",
       "      <td>NaN</td>\n",
       "      <td>NaN</td>\n",
       "      <td>NaN</td>\n",
       "      <td>6.09488</td>\n",
       "      <td>1.41103</td>\n",
       "      <td>1</td>\n",
       "      <td>5</td>\n",
       "      <td>6</td>\n",
       "      <td>7</td>\n",
       "      <td>10</td>\n",
       "    </tr>\n",
       "    <tr>\n",
       "      <th>Overall Cond</th>\n",
       "      <td>2930</td>\n",
       "      <td>NaN</td>\n",
       "      <td>NaN</td>\n",
       "      <td>NaN</td>\n",
       "      <td>5.56314</td>\n",
       "      <td>1.11154</td>\n",
       "      <td>1</td>\n",
       "      <td>5</td>\n",
       "      <td>5</td>\n",
       "      <td>6</td>\n",
       "      <td>9</td>\n",
       "    </tr>\n",
       "  </tbody>\n",
       "</table>\n",
       "</div>"
      ],
      "text/plain": [
       "             count unique     top  freq         mean          std          min          25%          50%          75%         max\n",
       "Id            2930    NaN     NaN   NaN       1465.5      845.962            1       733.25       1465.5      2197.75        2930\n",
       "PID           2930    NaN     NaN   NaN  7.14464e+08  1.88731e+08  5.26301e+08  5.28477e+08  5.35454e+08  9.07181e+08  1.0071e+09\n",
       "MS SubClass   2930    NaN     NaN   NaN      57.3874       42.638           20           20           50           70         190\n",
       "MS Zoning     2930      7      RL  2273          NaN          NaN          NaN          NaN          NaN          NaN         NaN\n",
       "Lot Frontage  2440    NaN     NaN   NaN      69.2246      23.3653           21           58           68           80         313\n",
       "Lot Area      2930    NaN     NaN   NaN      10147.9      7880.02         1300      7440.25       9436.5      11555.2      215245\n",
       "Street        2930      2    Pave  2918          NaN          NaN          NaN          NaN          NaN          NaN         NaN\n",
       "Alley          198      2    Grvl   120          NaN          NaN          NaN          NaN          NaN          NaN         NaN\n",
       "Lot Shape     2930      4     Reg  1859          NaN          NaN          NaN          NaN          NaN          NaN         NaN\n",
       "Land Contour  2930      4     Lvl  2633          NaN          NaN          NaN          NaN          NaN          NaN         NaN\n",
       "Utilities     2930      3  AllPub  2927          NaN          NaN          NaN          NaN          NaN          NaN         NaN\n",
       "Lot Config    2930      5  Inside  2140          NaN          NaN          NaN          NaN          NaN          NaN         NaN\n",
       "Land Slope    2930      3     Gtl  2789          NaN          NaN          NaN          NaN          NaN          NaN         NaN\n",
       "Neighborhood  2930     28   NAmes   443          NaN          NaN          NaN          NaN          NaN          NaN         NaN\n",
       "Condition 1   2930      9    Norm  2522          NaN          NaN          NaN          NaN          NaN          NaN         NaN\n",
       "Condition 2   2930      8    Norm  2900          NaN          NaN          NaN          NaN          NaN          NaN         NaN\n",
       "Bldg Type     2930      5    1Fam  2425          NaN          NaN          NaN          NaN          NaN          NaN         NaN\n",
       "House Style   2930      8  1Story  1481          NaN          NaN          NaN          NaN          NaN          NaN         NaN\n",
       "Overall Qual  2930    NaN     NaN   NaN      6.09488      1.41103            1            5            6            7          10\n",
       "Overall Cond  2930    NaN     NaN   NaN      5.56314      1.11154            1            5            5            6           9"
      ]
     },
     "execution_count": 10,
     "metadata": {},
     "output_type": "execute_result"
    }
   ],
   "source": [
    "df.iloc[:,:20].describe(include='all').T"
   ]
  },
  {
   "cell_type": "markdown",
   "metadata": {},
   "source": [
    "### 3.1. comments:\n",
    "- All dtypes of the 20 features are correct for what they suppose to represent\n",
    "- \"PID\" seems to be an unknown data to explained on the Data Dictionary.\n",
    "- Missing datas:\n",
    "  - Lot Frontage, float\n",
    "  - Alley, object\n",
    "- No Negative values noted"
   ]
  },
  {
   "cell_type": "markdown",
   "metadata": {},
   "source": [
    "## 3.2. Second 20 columns\n"
   ]
  },
  {
   "cell_type": "code",
   "execution_count": 11,
   "metadata": {},
   "outputs": [
    {
     "data": {
      "text/html": [
       "<div>\n",
       "<style scoped>\n",
       "    .dataframe tbody tr th:only-of-type {\n",
       "        vertical-align: middle;\n",
       "    }\n",
       "\n",
       "    .dataframe tbody tr th {\n",
       "        vertical-align: top;\n",
       "    }\n",
       "\n",
       "    .dataframe thead th {\n",
       "        text-align: right;\n",
       "    }\n",
       "</style>\n",
       "<table border=\"1\" class=\"dataframe\">\n",
       "  <thead>\n",
       "    <tr style=\"text-align: right;\">\n",
       "      <th></th>\n",
       "      <th>Year Built</th>\n",
       "      <th>Year Remod/Add</th>\n",
       "      <th>Roof Style</th>\n",
       "      <th>Roof Matl</th>\n",
       "      <th>Exterior 1st</th>\n",
       "      <th>Exterior 2nd</th>\n",
       "      <th>Mas Vnr Type</th>\n",
       "      <th>Mas Vnr Area</th>\n",
       "      <th>Exter Qual</th>\n",
       "      <th>Exter Cond</th>\n",
       "      <th>Foundation</th>\n",
       "      <th>Bsmt Qual</th>\n",
       "      <th>Bsmt Cond</th>\n",
       "      <th>Bsmt Exposure</th>\n",
       "      <th>BsmtFin Type 1</th>\n",
       "      <th>BsmtFin SF 1</th>\n",
       "      <th>BsmtFin Type 2</th>\n",
       "      <th>BsmtFin SF 2</th>\n",
       "      <th>Bsmt Unf SF</th>\n",
       "      <th>Total Bsmt SF</th>\n",
       "    </tr>\n",
       "  </thead>\n",
       "  <tbody>\n",
       "    <tr>\n",
       "      <th>0</th>\n",
       "      <td>1976</td>\n",
       "      <td>2005</td>\n",
       "      <td>Gable</td>\n",
       "      <td>CompShg</td>\n",
       "      <td>HdBoard</td>\n",
       "      <td>Plywood</td>\n",
       "      <td>BrkFace</td>\n",
       "      <td>289.0</td>\n",
       "      <td>Gd</td>\n",
       "      <td>TA</td>\n",
       "      <td>CBlock</td>\n",
       "      <td>TA</td>\n",
       "      <td>TA</td>\n",
       "      <td>No</td>\n",
       "      <td>GLQ</td>\n",
       "      <td>533.0</td>\n",
       "      <td>Unf</td>\n",
       "      <td>0.0</td>\n",
       "      <td>192.0</td>\n",
       "      <td>725.0</td>\n",
       "    </tr>\n",
       "    <tr>\n",
       "      <th>1</th>\n",
       "      <td>1996</td>\n",
       "      <td>1997</td>\n",
       "      <td>Gable</td>\n",
       "      <td>CompShg</td>\n",
       "      <td>VinylSd</td>\n",
       "      <td>VinylSd</td>\n",
       "      <td>BrkFace</td>\n",
       "      <td>132.0</td>\n",
       "      <td>Gd</td>\n",
       "      <td>TA</td>\n",
       "      <td>PConc</td>\n",
       "      <td>Gd</td>\n",
       "      <td>TA</td>\n",
       "      <td>No</td>\n",
       "      <td>GLQ</td>\n",
       "      <td>637.0</td>\n",
       "      <td>Unf</td>\n",
       "      <td>0.0</td>\n",
       "      <td>276.0</td>\n",
       "      <td>913.0</td>\n",
       "    </tr>\n",
       "    <tr>\n",
       "      <th>2</th>\n",
       "      <td>1953</td>\n",
       "      <td>2007</td>\n",
       "      <td>Gable</td>\n",
       "      <td>CompShg</td>\n",
       "      <td>VinylSd</td>\n",
       "      <td>VinylSd</td>\n",
       "      <td>None</td>\n",
       "      <td>0.0</td>\n",
       "      <td>TA</td>\n",
       "      <td>Gd</td>\n",
       "      <td>CBlock</td>\n",
       "      <td>TA</td>\n",
       "      <td>TA</td>\n",
       "      <td>No</td>\n",
       "      <td>GLQ</td>\n",
       "      <td>731.0</td>\n",
       "      <td>Unf</td>\n",
       "      <td>0.0</td>\n",
       "      <td>326.0</td>\n",
       "      <td>1057.0</td>\n",
       "    </tr>\n",
       "    <tr>\n",
       "      <th>3</th>\n",
       "      <td>2006</td>\n",
       "      <td>2007</td>\n",
       "      <td>Gable</td>\n",
       "      <td>CompShg</td>\n",
       "      <td>VinylSd</td>\n",
       "      <td>VinylSd</td>\n",
       "      <td>None</td>\n",
       "      <td>0.0</td>\n",
       "      <td>TA</td>\n",
       "      <td>TA</td>\n",
       "      <td>PConc</td>\n",
       "      <td>Gd</td>\n",
       "      <td>TA</td>\n",
       "      <td>No</td>\n",
       "      <td>Unf</td>\n",
       "      <td>0.0</td>\n",
       "      <td>Unf</td>\n",
       "      <td>0.0</td>\n",
       "      <td>384.0</td>\n",
       "      <td>384.0</td>\n",
       "    </tr>\n",
       "    <tr>\n",
       "      <th>4</th>\n",
       "      <td>1900</td>\n",
       "      <td>1993</td>\n",
       "      <td>Gable</td>\n",
       "      <td>CompShg</td>\n",
       "      <td>Wd Sdng</td>\n",
       "      <td>Plywood</td>\n",
       "      <td>None</td>\n",
       "      <td>0.0</td>\n",
       "      <td>TA</td>\n",
       "      <td>TA</td>\n",
       "      <td>PConc</td>\n",
       "      <td>Fa</td>\n",
       "      <td>Gd</td>\n",
       "      <td>No</td>\n",
       "      <td>Unf</td>\n",
       "      <td>0.0</td>\n",
       "      <td>Unf</td>\n",
       "      <td>0.0</td>\n",
       "      <td>676.0</td>\n",
       "      <td>676.0</td>\n",
       "    </tr>\n",
       "  </tbody>\n",
       "</table>\n",
       "</div>"
      ],
      "text/plain": [
       "   Year Built  Year Remod/Add Roof Style Roof Matl Exterior 1st Exterior 2nd Mas Vnr Type  Mas Vnr Area Exter Qual Exter Cond Foundation Bsmt Qual Bsmt Cond Bsmt Exposure BsmtFin Type 1  BsmtFin SF 1 BsmtFin Type 2  BsmtFin SF 2  Bsmt Unf SF  Total Bsmt SF\n",
       "0        1976            2005      Gable   CompShg      HdBoard      Plywood      BrkFace         289.0         Gd         TA     CBlock        TA        TA            No            GLQ         533.0            Unf           0.0        192.0          725.0\n",
       "1        1996            1997      Gable   CompShg      VinylSd      VinylSd      BrkFace         132.0         Gd         TA      PConc        Gd        TA            No            GLQ         637.0            Unf           0.0        276.0          913.0\n",
       "2        1953            2007      Gable   CompShg      VinylSd      VinylSd         None           0.0         TA         Gd     CBlock        TA        TA            No            GLQ         731.0            Unf           0.0        326.0         1057.0\n",
       "3        2006            2007      Gable   CompShg      VinylSd      VinylSd         None           0.0         TA         TA      PConc        Gd        TA            No            Unf           0.0            Unf           0.0        384.0          384.0\n",
       "4        1900            1993      Gable   CompShg      Wd Sdng      Plywood         None           0.0         TA         TA      PConc        Fa        Gd            No            Unf           0.0            Unf           0.0        676.0          676.0"
      ]
     },
     "execution_count": 11,
     "metadata": {},
     "output_type": "execute_result"
    }
   ],
   "source": [
    "#Checking 2nd 20 columns of data\n",
    "df.iloc[:, 20:40].head()"
   ]
  },
  {
   "cell_type": "code",
   "execution_count": 12,
   "metadata": {},
   "outputs": [
    {
     "name": "stdout",
     "output_type": "stream",
     "text": [
      "<class 'pandas.core.frame.DataFrame'>\n",
      "Int64Index: 2930 entries, 0 to 878\n",
      "Data columns (total 20 columns):\n",
      " #   Column          Non-Null Count  Dtype  \n",
      "---  ------          --------------  -----  \n",
      " 0   Year Built      2930 non-null   int64  \n",
      " 1   Year Remod/Add  2930 non-null   int64  \n",
      " 2   Roof Style      2930 non-null   object \n",
      " 3   Roof Matl       2930 non-null   object \n",
      " 4   Exterior 1st    2930 non-null   object \n",
      " 5   Exterior 2nd    2930 non-null   object \n",
      " 6   Mas Vnr Type    2907 non-null   object \n",
      " 7   Mas Vnr Area    2907 non-null   float64\n",
      " 8   Exter Qual      2930 non-null   object \n",
      " 9   Exter Cond      2930 non-null   object \n",
      " 10  Foundation      2930 non-null   object \n",
      " 11  Bsmt Qual       2850 non-null   object \n",
      " 12  Bsmt Cond       2850 non-null   object \n",
      " 13  Bsmt Exposure   2847 non-null   object \n",
      " 14  BsmtFin Type 1  2850 non-null   object \n",
      " 15  BsmtFin SF 1    2929 non-null   float64\n",
      " 16  BsmtFin Type 2  2849 non-null   object \n",
      " 17  BsmtFin SF 2    2929 non-null   float64\n",
      " 18  Bsmt Unf SF     2929 non-null   float64\n",
      " 19  Total Bsmt SF   2929 non-null   float64\n",
      "dtypes: float64(5), int64(2), object(13)\n",
      "memory usage: 480.7+ KB\n"
     ]
    }
   ],
   "source": [
    "#checking for data types and null objects.\n",
    "df.iloc[:, 20:40].info()"
   ]
  },
  {
   "cell_type": "code",
   "execution_count": 13,
   "metadata": {},
   "outputs": [
    {
     "data": {
      "text/html": [
       "<div>\n",
       "<style scoped>\n",
       "    .dataframe tbody tr th:only-of-type {\n",
       "        vertical-align: middle;\n",
       "    }\n",
       "\n",
       "    .dataframe tbody tr th {\n",
       "        vertical-align: top;\n",
       "    }\n",
       "\n",
       "    .dataframe thead th {\n",
       "        text-align: right;\n",
       "    }\n",
       "</style>\n",
       "<table border=\"1\" class=\"dataframe\">\n",
       "  <thead>\n",
       "    <tr style=\"text-align: right;\">\n",
       "      <th></th>\n",
       "      <th>count</th>\n",
       "      <th>unique</th>\n",
       "      <th>top</th>\n",
       "      <th>freq</th>\n",
       "      <th>mean</th>\n",
       "      <th>std</th>\n",
       "      <th>min</th>\n",
       "      <th>25%</th>\n",
       "      <th>50%</th>\n",
       "      <th>75%</th>\n",
       "      <th>max</th>\n",
       "    </tr>\n",
       "  </thead>\n",
       "  <tbody>\n",
       "    <tr>\n",
       "      <th>Year Built</th>\n",
       "      <td>2930</td>\n",
       "      <td>NaN</td>\n",
       "      <td>NaN</td>\n",
       "      <td>NaN</td>\n",
       "      <td>1971.36</td>\n",
       "      <td>30.2454</td>\n",
       "      <td>1872</td>\n",
       "      <td>1954</td>\n",
       "      <td>1973</td>\n",
       "      <td>2001</td>\n",
       "      <td>2010</td>\n",
       "    </tr>\n",
       "    <tr>\n",
       "      <th>Year Remod/Add</th>\n",
       "      <td>2930</td>\n",
       "      <td>NaN</td>\n",
       "      <td>NaN</td>\n",
       "      <td>NaN</td>\n",
       "      <td>1984.27</td>\n",
       "      <td>20.8603</td>\n",
       "      <td>1950</td>\n",
       "      <td>1965</td>\n",
       "      <td>1993</td>\n",
       "      <td>2004</td>\n",
       "      <td>2010</td>\n",
       "    </tr>\n",
       "    <tr>\n",
       "      <th>Roof Style</th>\n",
       "      <td>2930</td>\n",
       "      <td>6</td>\n",
       "      <td>Gable</td>\n",
       "      <td>2321</td>\n",
       "      <td>NaN</td>\n",
       "      <td>NaN</td>\n",
       "      <td>NaN</td>\n",
       "      <td>NaN</td>\n",
       "      <td>NaN</td>\n",
       "      <td>NaN</td>\n",
       "      <td>NaN</td>\n",
       "    </tr>\n",
       "    <tr>\n",
       "      <th>Roof Matl</th>\n",
       "      <td>2930</td>\n",
       "      <td>8</td>\n",
       "      <td>CompShg</td>\n",
       "      <td>2887</td>\n",
       "      <td>NaN</td>\n",
       "      <td>NaN</td>\n",
       "      <td>NaN</td>\n",
       "      <td>NaN</td>\n",
       "      <td>NaN</td>\n",
       "      <td>NaN</td>\n",
       "      <td>NaN</td>\n",
       "    </tr>\n",
       "    <tr>\n",
       "      <th>Exterior 1st</th>\n",
       "      <td>2930</td>\n",
       "      <td>16</td>\n",
       "      <td>VinylSd</td>\n",
       "      <td>1026</td>\n",
       "      <td>NaN</td>\n",
       "      <td>NaN</td>\n",
       "      <td>NaN</td>\n",
       "      <td>NaN</td>\n",
       "      <td>NaN</td>\n",
       "      <td>NaN</td>\n",
       "      <td>NaN</td>\n",
       "    </tr>\n",
       "    <tr>\n",
       "      <th>Exterior 2nd</th>\n",
       "      <td>2930</td>\n",
       "      <td>17</td>\n",
       "      <td>VinylSd</td>\n",
       "      <td>1015</td>\n",
       "      <td>NaN</td>\n",
       "      <td>NaN</td>\n",
       "      <td>NaN</td>\n",
       "      <td>NaN</td>\n",
       "      <td>NaN</td>\n",
       "      <td>NaN</td>\n",
       "      <td>NaN</td>\n",
       "    </tr>\n",
       "    <tr>\n",
       "      <th>Mas Vnr Type</th>\n",
       "      <td>2907</td>\n",
       "      <td>5</td>\n",
       "      <td>None</td>\n",
       "      <td>1752</td>\n",
       "      <td>NaN</td>\n",
       "      <td>NaN</td>\n",
       "      <td>NaN</td>\n",
       "      <td>NaN</td>\n",
       "      <td>NaN</td>\n",
       "      <td>NaN</td>\n",
       "      <td>NaN</td>\n",
       "    </tr>\n",
       "    <tr>\n",
       "      <th>Mas Vnr Area</th>\n",
       "      <td>2907</td>\n",
       "      <td>NaN</td>\n",
       "      <td>NaN</td>\n",
       "      <td>NaN</td>\n",
       "      <td>101.897</td>\n",
       "      <td>179.113</td>\n",
       "      <td>0</td>\n",
       "      <td>0</td>\n",
       "      <td>0</td>\n",
       "      <td>164</td>\n",
       "      <td>1600</td>\n",
       "    </tr>\n",
       "    <tr>\n",
       "      <th>Exter Qual</th>\n",
       "      <td>2930</td>\n",
       "      <td>4</td>\n",
       "      <td>TA</td>\n",
       "      <td>1799</td>\n",
       "      <td>NaN</td>\n",
       "      <td>NaN</td>\n",
       "      <td>NaN</td>\n",
       "      <td>NaN</td>\n",
       "      <td>NaN</td>\n",
       "      <td>NaN</td>\n",
       "      <td>NaN</td>\n",
       "    </tr>\n",
       "    <tr>\n",
       "      <th>Exter Cond</th>\n",
       "      <td>2930</td>\n",
       "      <td>5</td>\n",
       "      <td>TA</td>\n",
       "      <td>2549</td>\n",
       "      <td>NaN</td>\n",
       "      <td>NaN</td>\n",
       "      <td>NaN</td>\n",
       "      <td>NaN</td>\n",
       "      <td>NaN</td>\n",
       "      <td>NaN</td>\n",
       "      <td>NaN</td>\n",
       "    </tr>\n",
       "    <tr>\n",
       "      <th>Foundation</th>\n",
       "      <td>2930</td>\n",
       "      <td>6</td>\n",
       "      <td>PConc</td>\n",
       "      <td>1310</td>\n",
       "      <td>NaN</td>\n",
       "      <td>NaN</td>\n",
       "      <td>NaN</td>\n",
       "      <td>NaN</td>\n",
       "      <td>NaN</td>\n",
       "      <td>NaN</td>\n",
       "      <td>NaN</td>\n",
       "    </tr>\n",
       "    <tr>\n",
       "      <th>Bsmt Qual</th>\n",
       "      <td>2850</td>\n",
       "      <td>5</td>\n",
       "      <td>TA</td>\n",
       "      <td>1283</td>\n",
       "      <td>NaN</td>\n",
       "      <td>NaN</td>\n",
       "      <td>NaN</td>\n",
       "      <td>NaN</td>\n",
       "      <td>NaN</td>\n",
       "      <td>NaN</td>\n",
       "      <td>NaN</td>\n",
       "    </tr>\n",
       "    <tr>\n",
       "      <th>Bsmt Cond</th>\n",
       "      <td>2850</td>\n",
       "      <td>5</td>\n",
       "      <td>TA</td>\n",
       "      <td>2616</td>\n",
       "      <td>NaN</td>\n",
       "      <td>NaN</td>\n",
       "      <td>NaN</td>\n",
       "      <td>NaN</td>\n",
       "      <td>NaN</td>\n",
       "      <td>NaN</td>\n",
       "      <td>NaN</td>\n",
       "    </tr>\n",
       "    <tr>\n",
       "      <th>Bsmt Exposure</th>\n",
       "      <td>2847</td>\n",
       "      <td>4</td>\n",
       "      <td>No</td>\n",
       "      <td>1906</td>\n",
       "      <td>NaN</td>\n",
       "      <td>NaN</td>\n",
       "      <td>NaN</td>\n",
       "      <td>NaN</td>\n",
       "      <td>NaN</td>\n",
       "      <td>NaN</td>\n",
       "      <td>NaN</td>\n",
       "    </tr>\n",
       "    <tr>\n",
       "      <th>BsmtFin Type 1</th>\n",
       "      <td>2850</td>\n",
       "      <td>6</td>\n",
       "      <td>GLQ</td>\n",
       "      <td>859</td>\n",
       "      <td>NaN</td>\n",
       "      <td>NaN</td>\n",
       "      <td>NaN</td>\n",
       "      <td>NaN</td>\n",
       "      <td>NaN</td>\n",
       "      <td>NaN</td>\n",
       "      <td>NaN</td>\n",
       "    </tr>\n",
       "    <tr>\n",
       "      <th>BsmtFin SF 1</th>\n",
       "      <td>2929</td>\n",
       "      <td>NaN</td>\n",
       "      <td>NaN</td>\n",
       "      <td>NaN</td>\n",
       "      <td>442.63</td>\n",
       "      <td>455.591</td>\n",
       "      <td>0</td>\n",
       "      <td>0</td>\n",
       "      <td>370</td>\n",
       "      <td>734</td>\n",
       "      <td>5644</td>\n",
       "    </tr>\n",
       "    <tr>\n",
       "      <th>BsmtFin Type 2</th>\n",
       "      <td>2849</td>\n",
       "      <td>6</td>\n",
       "      <td>Unf</td>\n",
       "      <td>2499</td>\n",
       "      <td>NaN</td>\n",
       "      <td>NaN</td>\n",
       "      <td>NaN</td>\n",
       "      <td>NaN</td>\n",
       "      <td>NaN</td>\n",
       "      <td>NaN</td>\n",
       "      <td>NaN</td>\n",
       "    </tr>\n",
       "    <tr>\n",
       "      <th>BsmtFin SF 2</th>\n",
       "      <td>2929</td>\n",
       "      <td>NaN</td>\n",
       "      <td>NaN</td>\n",
       "      <td>NaN</td>\n",
       "      <td>49.7224</td>\n",
       "      <td>169.168</td>\n",
       "      <td>0</td>\n",
       "      <td>0</td>\n",
       "      <td>0</td>\n",
       "      <td>0</td>\n",
       "      <td>1526</td>\n",
       "    </tr>\n",
       "    <tr>\n",
       "      <th>Bsmt Unf SF</th>\n",
       "      <td>2929</td>\n",
       "      <td>NaN</td>\n",
       "      <td>NaN</td>\n",
       "      <td>NaN</td>\n",
       "      <td>559.263</td>\n",
       "      <td>439.494</td>\n",
       "      <td>0</td>\n",
       "      <td>219</td>\n",
       "      <td>466</td>\n",
       "      <td>802</td>\n",
       "      <td>2336</td>\n",
       "    </tr>\n",
       "    <tr>\n",
       "      <th>Total Bsmt SF</th>\n",
       "      <td>2929</td>\n",
       "      <td>NaN</td>\n",
       "      <td>NaN</td>\n",
       "      <td>NaN</td>\n",
       "      <td>1051.61</td>\n",
       "      <td>440.615</td>\n",
       "      <td>0</td>\n",
       "      <td>793</td>\n",
       "      <td>990</td>\n",
       "      <td>1302</td>\n",
       "      <td>6110</td>\n",
       "    </tr>\n",
       "  </tbody>\n",
       "</table>\n",
       "</div>"
      ],
      "text/plain": [
       "               count unique      top  freq     mean      std   min   25%   50%   75%   max\n",
       "Year Built      2930    NaN      NaN   NaN  1971.36  30.2454  1872  1954  1973  2001  2010\n",
       "Year Remod/Add  2930    NaN      NaN   NaN  1984.27  20.8603  1950  1965  1993  2004  2010\n",
       "Roof Style      2930      6    Gable  2321      NaN      NaN   NaN   NaN   NaN   NaN   NaN\n",
       "Roof Matl       2930      8  CompShg  2887      NaN      NaN   NaN   NaN   NaN   NaN   NaN\n",
       "Exterior 1st    2930     16  VinylSd  1026      NaN      NaN   NaN   NaN   NaN   NaN   NaN\n",
       "Exterior 2nd    2930     17  VinylSd  1015      NaN      NaN   NaN   NaN   NaN   NaN   NaN\n",
       "Mas Vnr Type    2907      5     None  1752      NaN      NaN   NaN   NaN   NaN   NaN   NaN\n",
       "Mas Vnr Area    2907    NaN      NaN   NaN  101.897  179.113     0     0     0   164  1600\n",
       "Exter Qual      2930      4       TA  1799      NaN      NaN   NaN   NaN   NaN   NaN   NaN\n",
       "Exter Cond      2930      5       TA  2549      NaN      NaN   NaN   NaN   NaN   NaN   NaN\n",
       "Foundation      2930      6    PConc  1310      NaN      NaN   NaN   NaN   NaN   NaN   NaN\n",
       "Bsmt Qual       2850      5       TA  1283      NaN      NaN   NaN   NaN   NaN   NaN   NaN\n",
       "Bsmt Cond       2850      5       TA  2616      NaN      NaN   NaN   NaN   NaN   NaN   NaN\n",
       "Bsmt Exposure   2847      4       No  1906      NaN      NaN   NaN   NaN   NaN   NaN   NaN\n",
       "BsmtFin Type 1  2850      6      GLQ   859      NaN      NaN   NaN   NaN   NaN   NaN   NaN\n",
       "BsmtFin SF 1    2929    NaN      NaN   NaN   442.63  455.591     0     0   370   734  5644\n",
       "BsmtFin Type 2  2849      6      Unf  2499      NaN      NaN   NaN   NaN   NaN   NaN   NaN\n",
       "BsmtFin SF 2    2929    NaN      NaN   NaN  49.7224  169.168     0     0     0     0  1526\n",
       "Bsmt Unf SF     2929    NaN      NaN   NaN  559.263  439.494     0   219   466   802  2336\n",
       "Total Bsmt SF   2929    NaN      NaN   NaN  1051.61  440.615     0   793   990  1302  6110"
      ]
     },
     "execution_count": 13,
     "metadata": {},
     "output_type": "execute_result"
    }
   ],
   "source": [
    "df.iloc[:, 20:40].describe(include='all').T"
   ]
  },
  {
   "cell_type": "markdown",
   "metadata": {},
   "source": [
    "### 3.2. comments:\n",
    "- All dtypes of the 20 features are correct for what they suppose to represent\n",
    "- Missing datas:\n",
    "  - Mas Vnr Type, object\n",
    "  - Mas Vnr Area, float64\n",
    "  - Bsmt Qual, object\n",
    "  - Bsmt Cond,object\n",
    "  - Bsmt Exposure, object\n",
    "  - BsmtFin Type 1, object\n",
    "  - BsmtFin SF 1, float64\n",
    "  - BsmtFin Type 2, object\n",
    "  - BsmtFin SF 2, float64\n",
    "  - Bsmt Unf SF, float64\n",
    "  - Total Bsmt SF, float64\n",
    "- No Negative values noted"
   ]
  },
  {
   "cell_type": "markdown",
   "metadata": {},
   "source": [
    "## 3.3. Third 20 columns"
   ]
  },
  {
   "cell_type": "code",
   "execution_count": 14,
   "metadata": {},
   "outputs": [
    {
     "data": {
      "text/html": [
       "<div>\n",
       "<style scoped>\n",
       "    .dataframe tbody tr th:only-of-type {\n",
       "        vertical-align: middle;\n",
       "    }\n",
       "\n",
       "    .dataframe tbody tr th {\n",
       "        vertical-align: top;\n",
       "    }\n",
       "\n",
       "    .dataframe thead th {\n",
       "        text-align: right;\n",
       "    }\n",
       "</style>\n",
       "<table border=\"1\" class=\"dataframe\">\n",
       "  <thead>\n",
       "    <tr style=\"text-align: right;\">\n",
       "      <th></th>\n",
       "      <th>Heating</th>\n",
       "      <th>Heating QC</th>\n",
       "      <th>Central Air</th>\n",
       "      <th>Electrical</th>\n",
       "      <th>1st Flr SF</th>\n",
       "      <th>2nd Flr SF</th>\n",
       "      <th>Low Qual Fin SF</th>\n",
       "      <th>Gr Liv Area</th>\n",
       "      <th>Bsmt Full Bath</th>\n",
       "      <th>Bsmt Half Bath</th>\n",
       "      <th>Full Bath</th>\n",
       "      <th>Half Bath</th>\n",
       "      <th>Bedroom AbvGr</th>\n",
       "      <th>Kitchen AbvGr</th>\n",
       "      <th>Kitchen Qual</th>\n",
       "      <th>TotRms AbvGrd</th>\n",
       "      <th>Functional</th>\n",
       "      <th>Fireplaces</th>\n",
       "      <th>Fireplace Qu</th>\n",
       "      <th>Garage Type</th>\n",
       "    </tr>\n",
       "  </thead>\n",
       "  <tbody>\n",
       "    <tr>\n",
       "      <th>0</th>\n",
       "      <td>GasA</td>\n",
       "      <td>Ex</td>\n",
       "      <td>Y</td>\n",
       "      <td>SBrkr</td>\n",
       "      <td>725</td>\n",
       "      <td>754</td>\n",
       "      <td>0</td>\n",
       "      <td>1479</td>\n",
       "      <td>0.0</td>\n",
       "      <td>0.0</td>\n",
       "      <td>2</td>\n",
       "      <td>1</td>\n",
       "      <td>3</td>\n",
       "      <td>1</td>\n",
       "      <td>Gd</td>\n",
       "      <td>6</td>\n",
       "      <td>Typ</td>\n",
       "      <td>0</td>\n",
       "      <td>NaN</td>\n",
       "      <td>Attchd</td>\n",
       "    </tr>\n",
       "    <tr>\n",
       "      <th>1</th>\n",
       "      <td>GasA</td>\n",
       "      <td>Ex</td>\n",
       "      <td>Y</td>\n",
       "      <td>SBrkr</td>\n",
       "      <td>913</td>\n",
       "      <td>1209</td>\n",
       "      <td>0</td>\n",
       "      <td>2122</td>\n",
       "      <td>1.0</td>\n",
       "      <td>0.0</td>\n",
       "      <td>2</td>\n",
       "      <td>1</td>\n",
       "      <td>4</td>\n",
       "      <td>1</td>\n",
       "      <td>Gd</td>\n",
       "      <td>8</td>\n",
       "      <td>Typ</td>\n",
       "      <td>1</td>\n",
       "      <td>TA</td>\n",
       "      <td>Attchd</td>\n",
       "    </tr>\n",
       "    <tr>\n",
       "      <th>2</th>\n",
       "      <td>GasA</td>\n",
       "      <td>TA</td>\n",
       "      <td>Y</td>\n",
       "      <td>SBrkr</td>\n",
       "      <td>1057</td>\n",
       "      <td>0</td>\n",
       "      <td>0</td>\n",
       "      <td>1057</td>\n",
       "      <td>1.0</td>\n",
       "      <td>0.0</td>\n",
       "      <td>1</td>\n",
       "      <td>0</td>\n",
       "      <td>3</td>\n",
       "      <td>1</td>\n",
       "      <td>Gd</td>\n",
       "      <td>5</td>\n",
       "      <td>Typ</td>\n",
       "      <td>0</td>\n",
       "      <td>NaN</td>\n",
       "      <td>Detchd</td>\n",
       "    </tr>\n",
       "    <tr>\n",
       "      <th>3</th>\n",
       "      <td>GasA</td>\n",
       "      <td>Gd</td>\n",
       "      <td>Y</td>\n",
       "      <td>SBrkr</td>\n",
       "      <td>744</td>\n",
       "      <td>700</td>\n",
       "      <td>0</td>\n",
       "      <td>1444</td>\n",
       "      <td>0.0</td>\n",
       "      <td>0.0</td>\n",
       "      <td>2</td>\n",
       "      <td>1</td>\n",
       "      <td>3</td>\n",
       "      <td>1</td>\n",
       "      <td>TA</td>\n",
       "      <td>7</td>\n",
       "      <td>Typ</td>\n",
       "      <td>0</td>\n",
       "      <td>NaN</td>\n",
       "      <td>BuiltIn</td>\n",
       "    </tr>\n",
       "    <tr>\n",
       "      <th>4</th>\n",
       "      <td>GasA</td>\n",
       "      <td>TA</td>\n",
       "      <td>Y</td>\n",
       "      <td>SBrkr</td>\n",
       "      <td>831</td>\n",
       "      <td>614</td>\n",
       "      <td>0</td>\n",
       "      <td>1445</td>\n",
       "      <td>0.0</td>\n",
       "      <td>0.0</td>\n",
       "      <td>2</td>\n",
       "      <td>0</td>\n",
       "      <td>3</td>\n",
       "      <td>1</td>\n",
       "      <td>TA</td>\n",
       "      <td>6</td>\n",
       "      <td>Typ</td>\n",
       "      <td>0</td>\n",
       "      <td>NaN</td>\n",
       "      <td>Detchd</td>\n",
       "    </tr>\n",
       "  </tbody>\n",
       "</table>\n",
       "</div>"
      ],
      "text/plain": [
       "  Heating Heating QC Central Air Electrical  1st Flr SF  2nd Flr SF  Low Qual Fin SF  Gr Liv Area  Bsmt Full Bath  Bsmt Half Bath  Full Bath  Half Bath  Bedroom AbvGr  Kitchen AbvGr Kitchen Qual  TotRms AbvGrd Functional  Fireplaces Fireplace Qu Garage Type\n",
       "0    GasA         Ex           Y      SBrkr         725         754                0         1479             0.0             0.0          2          1              3              1           Gd              6        Typ           0          NaN      Attchd\n",
       "1    GasA         Ex           Y      SBrkr         913        1209                0         2122             1.0             0.0          2          1              4              1           Gd              8        Typ           1           TA      Attchd\n",
       "2    GasA         TA           Y      SBrkr        1057           0                0         1057             1.0             0.0          1          0              3              1           Gd              5        Typ           0          NaN      Detchd\n",
       "3    GasA         Gd           Y      SBrkr         744         700                0         1444             0.0             0.0          2          1              3              1           TA              7        Typ           0          NaN     BuiltIn\n",
       "4    GasA         TA           Y      SBrkr         831         614                0         1445             0.0             0.0          2          0              3              1           TA              6        Typ           0          NaN      Detchd"
      ]
     },
     "execution_count": 14,
     "metadata": {},
     "output_type": "execute_result"
    }
   ],
   "source": [
    "# checking third 20 columns\n",
    "df.iloc[:, 40:60].head()"
   ]
  },
  {
   "cell_type": "code",
   "execution_count": 15,
   "metadata": {},
   "outputs": [
    {
     "name": "stdout",
     "output_type": "stream",
     "text": [
      "<class 'pandas.core.frame.DataFrame'>\n",
      "Int64Index: 2930 entries, 0 to 878\n",
      "Data columns (total 20 columns):\n",
      " #   Column           Non-Null Count  Dtype  \n",
      "---  ------           --------------  -----  \n",
      " 0   Heating          2930 non-null   object \n",
      " 1   Heating QC       2930 non-null   object \n",
      " 2   Central Air      2930 non-null   object \n",
      " 3   Electrical       2929 non-null   object \n",
      " 4   1st Flr SF       2930 non-null   int64  \n",
      " 5   2nd Flr SF       2930 non-null   int64  \n",
      " 6   Low Qual Fin SF  2930 non-null   int64  \n",
      " 7   Gr Liv Area      2930 non-null   int64  \n",
      " 8   Bsmt Full Bath   2928 non-null   float64\n",
      " 9   Bsmt Half Bath   2928 non-null   float64\n",
      " 10  Full Bath        2930 non-null   int64  \n",
      " 11  Half Bath        2930 non-null   int64  \n",
      " 12  Bedroom AbvGr    2930 non-null   int64  \n",
      " 13  Kitchen AbvGr    2930 non-null   int64  \n",
      " 14  Kitchen Qual     2930 non-null   object \n",
      " 15  TotRms AbvGrd    2930 non-null   int64  \n",
      " 16  Functional       2930 non-null   object \n",
      " 17  Fireplaces       2930 non-null   int64  \n",
      " 18  Fireplace Qu     1508 non-null   object \n",
      " 19  Garage Type      2773 non-null   object \n",
      "dtypes: float64(2), int64(10), object(8)\n",
      "memory usage: 480.7+ KB\n"
     ]
    }
   ],
   "source": [
    "# checking dtypes and null values\n",
    "df.iloc[:, 40:60].info()"
   ]
  },
  {
   "cell_type": "code",
   "execution_count": 16,
   "metadata": {},
   "outputs": [
    {
     "data": {
      "text/html": [
       "<div>\n",
       "<style scoped>\n",
       "    .dataframe tbody tr th:only-of-type {\n",
       "        vertical-align: middle;\n",
       "    }\n",
       "\n",
       "    .dataframe tbody tr th {\n",
       "        vertical-align: top;\n",
       "    }\n",
       "\n",
       "    .dataframe thead th {\n",
       "        text-align: right;\n",
       "    }\n",
       "</style>\n",
       "<table border=\"1\" class=\"dataframe\">\n",
       "  <thead>\n",
       "    <tr style=\"text-align: right;\">\n",
       "      <th></th>\n",
       "      <th>count</th>\n",
       "      <th>unique</th>\n",
       "      <th>top</th>\n",
       "      <th>freq</th>\n",
       "      <th>mean</th>\n",
       "      <th>std</th>\n",
       "      <th>min</th>\n",
       "      <th>25%</th>\n",
       "      <th>50%</th>\n",
       "      <th>75%</th>\n",
       "      <th>max</th>\n",
       "    </tr>\n",
       "  </thead>\n",
       "  <tbody>\n",
       "    <tr>\n",
       "      <th>Heating</th>\n",
       "      <td>2930</td>\n",
       "      <td>6</td>\n",
       "      <td>GasA</td>\n",
       "      <td>2885</td>\n",
       "      <td>NaN</td>\n",
       "      <td>NaN</td>\n",
       "      <td>NaN</td>\n",
       "      <td>NaN</td>\n",
       "      <td>NaN</td>\n",
       "      <td>NaN</td>\n",
       "      <td>NaN</td>\n",
       "    </tr>\n",
       "    <tr>\n",
       "      <th>Heating QC</th>\n",
       "      <td>2930</td>\n",
       "      <td>5</td>\n",
       "      <td>Ex</td>\n",
       "      <td>1495</td>\n",
       "      <td>NaN</td>\n",
       "      <td>NaN</td>\n",
       "      <td>NaN</td>\n",
       "      <td>NaN</td>\n",
       "      <td>NaN</td>\n",
       "      <td>NaN</td>\n",
       "      <td>NaN</td>\n",
       "    </tr>\n",
       "    <tr>\n",
       "      <th>Central Air</th>\n",
       "      <td>2930</td>\n",
       "      <td>2</td>\n",
       "      <td>Y</td>\n",
       "      <td>2734</td>\n",
       "      <td>NaN</td>\n",
       "      <td>NaN</td>\n",
       "      <td>NaN</td>\n",
       "      <td>NaN</td>\n",
       "      <td>NaN</td>\n",
       "      <td>NaN</td>\n",
       "      <td>NaN</td>\n",
       "    </tr>\n",
       "    <tr>\n",
       "      <th>Electrical</th>\n",
       "      <td>2929</td>\n",
       "      <td>5</td>\n",
       "      <td>SBrkr</td>\n",
       "      <td>2682</td>\n",
       "      <td>NaN</td>\n",
       "      <td>NaN</td>\n",
       "      <td>NaN</td>\n",
       "      <td>NaN</td>\n",
       "      <td>NaN</td>\n",
       "      <td>NaN</td>\n",
       "      <td>NaN</td>\n",
       "    </tr>\n",
       "    <tr>\n",
       "      <th>1st Flr SF</th>\n",
       "      <td>2930</td>\n",
       "      <td>NaN</td>\n",
       "      <td>NaN</td>\n",
       "      <td>NaN</td>\n",
       "      <td>1159.56</td>\n",
       "      <td>391.891</td>\n",
       "      <td>334</td>\n",
       "      <td>876.25</td>\n",
       "      <td>1084</td>\n",
       "      <td>1384</td>\n",
       "      <td>5095</td>\n",
       "    </tr>\n",
       "    <tr>\n",
       "      <th>2nd Flr SF</th>\n",
       "      <td>2930</td>\n",
       "      <td>NaN</td>\n",
       "      <td>NaN</td>\n",
       "      <td>NaN</td>\n",
       "      <td>335.456</td>\n",
       "      <td>428.396</td>\n",
       "      <td>0</td>\n",
       "      <td>0</td>\n",
       "      <td>0</td>\n",
       "      <td>703.75</td>\n",
       "      <td>2065</td>\n",
       "    </tr>\n",
       "    <tr>\n",
       "      <th>Low Qual Fin SF</th>\n",
       "      <td>2930</td>\n",
       "      <td>NaN</td>\n",
       "      <td>NaN</td>\n",
       "      <td>NaN</td>\n",
       "      <td>4.67679</td>\n",
       "      <td>46.3105</td>\n",
       "      <td>0</td>\n",
       "      <td>0</td>\n",
       "      <td>0</td>\n",
       "      <td>0</td>\n",
       "      <td>1064</td>\n",
       "    </tr>\n",
       "    <tr>\n",
       "      <th>Gr Liv Area</th>\n",
       "      <td>2930</td>\n",
       "      <td>NaN</td>\n",
       "      <td>NaN</td>\n",
       "      <td>NaN</td>\n",
       "      <td>1499.69</td>\n",
       "      <td>505.509</td>\n",
       "      <td>334</td>\n",
       "      <td>1126</td>\n",
       "      <td>1442</td>\n",
       "      <td>1742.75</td>\n",
       "      <td>5642</td>\n",
       "    </tr>\n",
       "    <tr>\n",
       "      <th>Bsmt Full Bath</th>\n",
       "      <td>2928</td>\n",
       "      <td>NaN</td>\n",
       "      <td>NaN</td>\n",
       "      <td>NaN</td>\n",
       "      <td>0.431352</td>\n",
       "      <td>0.52482</td>\n",
       "      <td>0</td>\n",
       "      <td>0</td>\n",
       "      <td>0</td>\n",
       "      <td>1</td>\n",
       "      <td>3</td>\n",
       "    </tr>\n",
       "    <tr>\n",
       "      <th>Bsmt Half Bath</th>\n",
       "      <td>2928</td>\n",
       "      <td>NaN</td>\n",
       "      <td>NaN</td>\n",
       "      <td>NaN</td>\n",
       "      <td>0.0611339</td>\n",
       "      <td>0.245254</td>\n",
       "      <td>0</td>\n",
       "      <td>0</td>\n",
       "      <td>0</td>\n",
       "      <td>0</td>\n",
       "      <td>2</td>\n",
       "    </tr>\n",
       "    <tr>\n",
       "      <th>Full Bath</th>\n",
       "      <td>2930</td>\n",
       "      <td>NaN</td>\n",
       "      <td>NaN</td>\n",
       "      <td>NaN</td>\n",
       "      <td>1.56655</td>\n",
       "      <td>0.552941</td>\n",
       "      <td>0</td>\n",
       "      <td>1</td>\n",
       "      <td>2</td>\n",
       "      <td>2</td>\n",
       "      <td>4</td>\n",
       "    </tr>\n",
       "    <tr>\n",
       "      <th>Half Bath</th>\n",
       "      <td>2930</td>\n",
       "      <td>NaN</td>\n",
       "      <td>NaN</td>\n",
       "      <td>NaN</td>\n",
       "      <td>0.379522</td>\n",
       "      <td>0.502629</td>\n",
       "      <td>0</td>\n",
       "      <td>0</td>\n",
       "      <td>0</td>\n",
       "      <td>1</td>\n",
       "      <td>2</td>\n",
       "    </tr>\n",
       "    <tr>\n",
       "      <th>Bedroom AbvGr</th>\n",
       "      <td>2930</td>\n",
       "      <td>NaN</td>\n",
       "      <td>NaN</td>\n",
       "      <td>NaN</td>\n",
       "      <td>2.85427</td>\n",
       "      <td>0.827731</td>\n",
       "      <td>0</td>\n",
       "      <td>2</td>\n",
       "      <td>3</td>\n",
       "      <td>3</td>\n",
       "      <td>8</td>\n",
       "    </tr>\n",
       "    <tr>\n",
       "      <th>Kitchen AbvGr</th>\n",
       "      <td>2930</td>\n",
       "      <td>NaN</td>\n",
       "      <td>NaN</td>\n",
       "      <td>NaN</td>\n",
       "      <td>1.04437</td>\n",
       "      <td>0.214076</td>\n",
       "      <td>0</td>\n",
       "      <td>1</td>\n",
       "      <td>1</td>\n",
       "      <td>1</td>\n",
       "      <td>3</td>\n",
       "    </tr>\n",
       "    <tr>\n",
       "      <th>Kitchen Qual</th>\n",
       "      <td>2930</td>\n",
       "      <td>5</td>\n",
       "      <td>TA</td>\n",
       "      <td>1494</td>\n",
       "      <td>NaN</td>\n",
       "      <td>NaN</td>\n",
       "      <td>NaN</td>\n",
       "      <td>NaN</td>\n",
       "      <td>NaN</td>\n",
       "      <td>NaN</td>\n",
       "      <td>NaN</td>\n",
       "    </tr>\n",
       "    <tr>\n",
       "      <th>TotRms AbvGrd</th>\n",
       "      <td>2930</td>\n",
       "      <td>NaN</td>\n",
       "      <td>NaN</td>\n",
       "      <td>NaN</td>\n",
       "      <td>6.443</td>\n",
       "      <td>1.57296</td>\n",
       "      <td>2</td>\n",
       "      <td>5</td>\n",
       "      <td>6</td>\n",
       "      <td>7</td>\n",
       "      <td>15</td>\n",
       "    </tr>\n",
       "    <tr>\n",
       "      <th>Functional</th>\n",
       "      <td>2930</td>\n",
       "      <td>8</td>\n",
       "      <td>Typ</td>\n",
       "      <td>2728</td>\n",
       "      <td>NaN</td>\n",
       "      <td>NaN</td>\n",
       "      <td>NaN</td>\n",
       "      <td>NaN</td>\n",
       "      <td>NaN</td>\n",
       "      <td>NaN</td>\n",
       "      <td>NaN</td>\n",
       "    </tr>\n",
       "    <tr>\n",
       "      <th>Fireplaces</th>\n",
       "      <td>2930</td>\n",
       "      <td>NaN</td>\n",
       "      <td>NaN</td>\n",
       "      <td>NaN</td>\n",
       "      <td>0.599317</td>\n",
       "      <td>0.647921</td>\n",
       "      <td>0</td>\n",
       "      <td>0</td>\n",
       "      <td>1</td>\n",
       "      <td>1</td>\n",
       "      <td>4</td>\n",
       "    </tr>\n",
       "    <tr>\n",
       "      <th>Fireplace Qu</th>\n",
       "      <td>1508</td>\n",
       "      <td>5</td>\n",
       "      <td>Gd</td>\n",
       "      <td>744</td>\n",
       "      <td>NaN</td>\n",
       "      <td>NaN</td>\n",
       "      <td>NaN</td>\n",
       "      <td>NaN</td>\n",
       "      <td>NaN</td>\n",
       "      <td>NaN</td>\n",
       "      <td>NaN</td>\n",
       "    </tr>\n",
       "    <tr>\n",
       "      <th>Garage Type</th>\n",
       "      <td>2773</td>\n",
       "      <td>6</td>\n",
       "      <td>Attchd</td>\n",
       "      <td>1731</td>\n",
       "      <td>NaN</td>\n",
       "      <td>NaN</td>\n",
       "      <td>NaN</td>\n",
       "      <td>NaN</td>\n",
       "      <td>NaN</td>\n",
       "      <td>NaN</td>\n",
       "      <td>NaN</td>\n",
       "    </tr>\n",
       "  </tbody>\n",
       "</table>\n",
       "</div>"
      ],
      "text/plain": [
       "                count unique     top  freq       mean       std  min     25%   50%      75%   max\n",
       "Heating          2930      6    GasA  2885        NaN       NaN  NaN     NaN   NaN      NaN   NaN\n",
       "Heating QC       2930      5      Ex  1495        NaN       NaN  NaN     NaN   NaN      NaN   NaN\n",
       "Central Air      2930      2       Y  2734        NaN       NaN  NaN     NaN   NaN      NaN   NaN\n",
       "Electrical       2929      5   SBrkr  2682        NaN       NaN  NaN     NaN   NaN      NaN   NaN\n",
       "1st Flr SF       2930    NaN     NaN   NaN    1159.56   391.891  334  876.25  1084     1384  5095\n",
       "2nd Flr SF       2930    NaN     NaN   NaN    335.456   428.396    0       0     0   703.75  2065\n",
       "Low Qual Fin SF  2930    NaN     NaN   NaN    4.67679   46.3105    0       0     0        0  1064\n",
       "Gr Liv Area      2930    NaN     NaN   NaN    1499.69   505.509  334    1126  1442  1742.75  5642\n",
       "Bsmt Full Bath   2928    NaN     NaN   NaN   0.431352   0.52482    0       0     0        1     3\n",
       "Bsmt Half Bath   2928    NaN     NaN   NaN  0.0611339  0.245254    0       0     0        0     2\n",
       "Full Bath        2930    NaN     NaN   NaN    1.56655  0.552941    0       1     2        2     4\n",
       "Half Bath        2930    NaN     NaN   NaN   0.379522  0.502629    0       0     0        1     2\n",
       "Bedroom AbvGr    2930    NaN     NaN   NaN    2.85427  0.827731    0       2     3        3     8\n",
       "Kitchen AbvGr    2930    NaN     NaN   NaN    1.04437  0.214076    0       1     1        1     3\n",
       "Kitchen Qual     2930      5      TA  1494        NaN       NaN  NaN     NaN   NaN      NaN   NaN\n",
       "TotRms AbvGrd    2930    NaN     NaN   NaN      6.443   1.57296    2       5     6        7    15\n",
       "Functional       2930      8     Typ  2728        NaN       NaN  NaN     NaN   NaN      NaN   NaN\n",
       "Fireplaces       2930    NaN     NaN   NaN   0.599317  0.647921    0       0     1        1     4\n",
       "Fireplace Qu     1508      5      Gd   744        NaN       NaN  NaN     NaN   NaN      NaN   NaN\n",
       "Garage Type      2773      6  Attchd  1731        NaN       NaN  NaN     NaN   NaN      NaN   NaN"
      ]
     },
     "execution_count": 16,
     "metadata": {},
     "output_type": "execute_result"
    }
   ],
   "source": [
    "df.iloc[:, 40:60].describe(include='all').T"
   ]
  },
  {
   "cell_type": "markdown",
   "metadata": {},
   "source": [
    "### 3.3. comments:\n",
    "- All dtypes of the 20 features are correct for what they suppose to represent\n",
    "- Missing datas:\n",
    "  - Bsmt Full Bath, float64\n",
    "  - Bsmt Half Bath, float 64\n",
    "  - Fireplace Qu, object\n",
    "  - Garage Type, object\n",
    "- No Negative values noted"
   ]
  },
  {
   "cell_type": "markdown",
   "metadata": {},
   "source": [
    "## 3.4. last 21 columns"
   ]
  },
  {
   "cell_type": "code",
   "execution_count": 17,
   "metadata": {},
   "outputs": [
    {
     "data": {
      "text/html": [
       "<div>\n",
       "<style scoped>\n",
       "    .dataframe tbody tr th:only-of-type {\n",
       "        vertical-align: middle;\n",
       "    }\n",
       "\n",
       "    .dataframe tbody tr th {\n",
       "        vertical-align: top;\n",
       "    }\n",
       "\n",
       "    .dataframe thead th {\n",
       "        text-align: right;\n",
       "    }\n",
       "</style>\n",
       "<table border=\"1\" class=\"dataframe\">\n",
       "  <thead>\n",
       "    <tr style=\"text-align: right;\">\n",
       "      <th></th>\n",
       "      <th>Garage Yr Blt</th>\n",
       "      <th>Garage Finish</th>\n",
       "      <th>Garage Cars</th>\n",
       "      <th>Garage Area</th>\n",
       "      <th>Garage Qual</th>\n",
       "      <th>Garage Cond</th>\n",
       "      <th>Paved Drive</th>\n",
       "      <th>Wood Deck SF</th>\n",
       "      <th>Open Porch SF</th>\n",
       "      <th>Enclosed Porch</th>\n",
       "      <th>3Ssn Porch</th>\n",
       "      <th>Screen Porch</th>\n",
       "      <th>Pool Area</th>\n",
       "      <th>Pool QC</th>\n",
       "      <th>Fence</th>\n",
       "      <th>Misc Feature</th>\n",
       "      <th>Misc Val</th>\n",
       "      <th>Mo Sold</th>\n",
       "      <th>Yr Sold</th>\n",
       "      <th>Sale Type</th>\n",
       "      <th>SalePrice</th>\n",
       "    </tr>\n",
       "  </thead>\n",
       "  <tbody>\n",
       "    <tr>\n",
       "      <th>0</th>\n",
       "      <td>1976.0</td>\n",
       "      <td>RFn</td>\n",
       "      <td>2.0</td>\n",
       "      <td>475.0</td>\n",
       "      <td>TA</td>\n",
       "      <td>TA</td>\n",
       "      <td>Y</td>\n",
       "      <td>0</td>\n",
       "      <td>44</td>\n",
       "      <td>0</td>\n",
       "      <td>0</td>\n",
       "      <td>0</td>\n",
       "      <td>0</td>\n",
       "      <td>NaN</td>\n",
       "      <td>NaN</td>\n",
       "      <td>NaN</td>\n",
       "      <td>0</td>\n",
       "      <td>3</td>\n",
       "      <td>2010</td>\n",
       "      <td>WD</td>\n",
       "      <td>130500</td>\n",
       "    </tr>\n",
       "    <tr>\n",
       "      <th>1</th>\n",
       "      <td>1997.0</td>\n",
       "      <td>RFn</td>\n",
       "      <td>2.0</td>\n",
       "      <td>559.0</td>\n",
       "      <td>TA</td>\n",
       "      <td>TA</td>\n",
       "      <td>Y</td>\n",
       "      <td>0</td>\n",
       "      <td>74</td>\n",
       "      <td>0</td>\n",
       "      <td>0</td>\n",
       "      <td>0</td>\n",
       "      <td>0</td>\n",
       "      <td>NaN</td>\n",
       "      <td>NaN</td>\n",
       "      <td>NaN</td>\n",
       "      <td>0</td>\n",
       "      <td>4</td>\n",
       "      <td>2009</td>\n",
       "      <td>WD</td>\n",
       "      <td>220000</td>\n",
       "    </tr>\n",
       "    <tr>\n",
       "      <th>2</th>\n",
       "      <td>1953.0</td>\n",
       "      <td>Unf</td>\n",
       "      <td>1.0</td>\n",
       "      <td>246.0</td>\n",
       "      <td>TA</td>\n",
       "      <td>TA</td>\n",
       "      <td>Y</td>\n",
       "      <td>0</td>\n",
       "      <td>52</td>\n",
       "      <td>0</td>\n",
       "      <td>0</td>\n",
       "      <td>0</td>\n",
       "      <td>0</td>\n",
       "      <td>NaN</td>\n",
       "      <td>NaN</td>\n",
       "      <td>NaN</td>\n",
       "      <td>0</td>\n",
       "      <td>1</td>\n",
       "      <td>2010</td>\n",
       "      <td>WD</td>\n",
       "      <td>109000</td>\n",
       "    </tr>\n",
       "    <tr>\n",
       "      <th>3</th>\n",
       "      <td>2007.0</td>\n",
       "      <td>Fin</td>\n",
       "      <td>2.0</td>\n",
       "      <td>400.0</td>\n",
       "      <td>TA</td>\n",
       "      <td>TA</td>\n",
       "      <td>Y</td>\n",
       "      <td>100</td>\n",
       "      <td>0</td>\n",
       "      <td>0</td>\n",
       "      <td>0</td>\n",
       "      <td>0</td>\n",
       "      <td>0</td>\n",
       "      <td>NaN</td>\n",
       "      <td>NaN</td>\n",
       "      <td>NaN</td>\n",
       "      <td>0</td>\n",
       "      <td>4</td>\n",
       "      <td>2010</td>\n",
       "      <td>WD</td>\n",
       "      <td>174000</td>\n",
       "    </tr>\n",
       "    <tr>\n",
       "      <th>4</th>\n",
       "      <td>1957.0</td>\n",
       "      <td>Unf</td>\n",
       "      <td>2.0</td>\n",
       "      <td>484.0</td>\n",
       "      <td>TA</td>\n",
       "      <td>TA</td>\n",
       "      <td>N</td>\n",
       "      <td>0</td>\n",
       "      <td>59</td>\n",
       "      <td>0</td>\n",
       "      <td>0</td>\n",
       "      <td>0</td>\n",
       "      <td>0</td>\n",
       "      <td>NaN</td>\n",
       "      <td>NaN</td>\n",
       "      <td>NaN</td>\n",
       "      <td>0</td>\n",
       "      <td>3</td>\n",
       "      <td>2010</td>\n",
       "      <td>WD</td>\n",
       "      <td>138500</td>\n",
       "    </tr>\n",
       "  </tbody>\n",
       "</table>\n",
       "</div>"
      ],
      "text/plain": [
       "   Garage Yr Blt Garage Finish  Garage Cars  Garage Area Garage Qual Garage Cond Paved Drive  Wood Deck SF  Open Porch SF  Enclosed Porch  3Ssn Porch  Screen Porch  Pool Area Pool QC Fence Misc Feature  Misc Val  Mo Sold  Yr Sold Sale Type  SalePrice\n",
       "0         1976.0           RFn          2.0        475.0          TA          TA           Y             0             44               0           0             0          0     NaN   NaN          NaN         0        3     2010       WD      130500\n",
       "1         1997.0           RFn          2.0        559.0          TA          TA           Y             0             74               0           0             0          0     NaN   NaN          NaN         0        4     2009       WD      220000\n",
       "2         1953.0           Unf          1.0        246.0          TA          TA           Y             0             52               0           0             0          0     NaN   NaN          NaN         0        1     2010       WD      109000\n",
       "3         2007.0           Fin          2.0        400.0          TA          TA           Y           100              0               0           0             0          0     NaN   NaN          NaN         0        4     2010       WD      174000\n",
       "4         1957.0           Unf          2.0        484.0          TA          TA           N             0             59               0           0             0          0     NaN   NaN          NaN         0        3     2010       WD      138500"
      ]
     },
     "execution_count": 17,
     "metadata": {},
     "output_type": "execute_result"
    }
   ],
   "source": [
    "# checking last 21 columns\n",
    "df.iloc[:, 60:].head()"
   ]
  },
  {
   "cell_type": "code",
   "execution_count": 18,
   "metadata": {},
   "outputs": [
    {
     "name": "stdout",
     "output_type": "stream",
     "text": [
      "<class 'pandas.core.frame.DataFrame'>\n",
      "Int64Index: 2930 entries, 0 to 878\n",
      "Data columns (total 21 columns):\n",
      " #   Column          Non-Null Count  Dtype  \n",
      "---  ------          --------------  -----  \n",
      " 0   Garage Yr Blt   2771 non-null   float64\n",
      " 1   Garage Finish   2771 non-null   object \n",
      " 2   Garage Cars     2929 non-null   float64\n",
      " 3   Garage Area     2929 non-null   float64\n",
      " 4   Garage Qual     2771 non-null   object \n",
      " 5   Garage Cond     2771 non-null   object \n",
      " 6   Paved Drive     2930 non-null   object \n",
      " 7   Wood Deck SF    2930 non-null   int64  \n",
      " 8   Open Porch SF   2930 non-null   int64  \n",
      " 9   Enclosed Porch  2930 non-null   int64  \n",
      " 10  3Ssn Porch      2930 non-null   int64  \n",
      " 11  Screen Porch    2930 non-null   int64  \n",
      " 12  Pool Area       2930 non-null   int64  \n",
      " 13  Pool QC         13 non-null     object \n",
      " 14  Fence           572 non-null    object \n",
      " 15  Misc Feature    106 non-null    object \n",
      " 16  Misc Val        2930 non-null   int64  \n",
      " 17  Mo Sold         2930 non-null   int64  \n",
      " 18  Yr Sold         2930 non-null   int64  \n",
      " 19  Sale Type       2930 non-null   object \n",
      " 20  SalePrice       2930 non-null   int64  \n",
      "dtypes: float64(3), int64(10), object(8)\n",
      "memory usage: 503.6+ KB\n"
     ]
    }
   ],
   "source": [
    "df.iloc[:, 60:].info()"
   ]
  },
  {
   "cell_type": "code",
   "execution_count": 19,
   "metadata": {},
   "outputs": [
    {
     "data": {
      "text/html": [
       "<div>\n",
       "<style scoped>\n",
       "    .dataframe tbody tr th:only-of-type {\n",
       "        vertical-align: middle;\n",
       "    }\n",
       "\n",
       "    .dataframe tbody tr th {\n",
       "        vertical-align: top;\n",
       "    }\n",
       "\n",
       "    .dataframe thead th {\n",
       "        text-align: right;\n",
       "    }\n",
       "</style>\n",
       "<table border=\"1\" class=\"dataframe\">\n",
       "  <thead>\n",
       "    <tr style=\"text-align: right;\">\n",
       "      <th></th>\n",
       "      <th>count</th>\n",
       "      <th>unique</th>\n",
       "      <th>top</th>\n",
       "      <th>freq</th>\n",
       "      <th>mean</th>\n",
       "      <th>std</th>\n",
       "      <th>min</th>\n",
       "      <th>25%</th>\n",
       "      <th>50%</th>\n",
       "      <th>75%</th>\n",
       "      <th>max</th>\n",
       "    </tr>\n",
       "  </thead>\n",
       "  <tbody>\n",
       "    <tr>\n",
       "      <th>Garage Yr Blt</th>\n",
       "      <td>2771</td>\n",
       "      <td>NaN</td>\n",
       "      <td>NaN</td>\n",
       "      <td>NaN</td>\n",
       "      <td>1978.13</td>\n",
       "      <td>25.5284</td>\n",
       "      <td>1895</td>\n",
       "      <td>1960</td>\n",
       "      <td>1979</td>\n",
       "      <td>2002</td>\n",
       "      <td>2207</td>\n",
       "    </tr>\n",
       "    <tr>\n",
       "      <th>Garage Finish</th>\n",
       "      <td>2771</td>\n",
       "      <td>3</td>\n",
       "      <td>Unf</td>\n",
       "      <td>1231</td>\n",
       "      <td>NaN</td>\n",
       "      <td>NaN</td>\n",
       "      <td>NaN</td>\n",
       "      <td>NaN</td>\n",
       "      <td>NaN</td>\n",
       "      <td>NaN</td>\n",
       "      <td>NaN</td>\n",
       "    </tr>\n",
       "    <tr>\n",
       "      <th>Garage Cars</th>\n",
       "      <td>2929</td>\n",
       "      <td>NaN</td>\n",
       "      <td>NaN</td>\n",
       "      <td>NaN</td>\n",
       "      <td>1.76681</td>\n",
       "      <td>0.760566</td>\n",
       "      <td>0</td>\n",
       "      <td>1</td>\n",
       "      <td>2</td>\n",
       "      <td>2</td>\n",
       "      <td>5</td>\n",
       "    </tr>\n",
       "    <tr>\n",
       "      <th>Garage Area</th>\n",
       "      <td>2929</td>\n",
       "      <td>NaN</td>\n",
       "      <td>NaN</td>\n",
       "      <td>NaN</td>\n",
       "      <td>472.82</td>\n",
       "      <td>215.047</td>\n",
       "      <td>0</td>\n",
       "      <td>320</td>\n",
       "      <td>480</td>\n",
       "      <td>576</td>\n",
       "      <td>1488</td>\n",
       "    </tr>\n",
       "    <tr>\n",
       "      <th>Garage Qual</th>\n",
       "      <td>2771</td>\n",
       "      <td>5</td>\n",
       "      <td>TA</td>\n",
       "      <td>2615</td>\n",
       "      <td>NaN</td>\n",
       "      <td>NaN</td>\n",
       "      <td>NaN</td>\n",
       "      <td>NaN</td>\n",
       "      <td>NaN</td>\n",
       "      <td>NaN</td>\n",
       "      <td>NaN</td>\n",
       "    </tr>\n",
       "    <tr>\n",
       "      <th>Garage Cond</th>\n",
       "      <td>2771</td>\n",
       "      <td>5</td>\n",
       "      <td>TA</td>\n",
       "      <td>2665</td>\n",
       "      <td>NaN</td>\n",
       "      <td>NaN</td>\n",
       "      <td>NaN</td>\n",
       "      <td>NaN</td>\n",
       "      <td>NaN</td>\n",
       "      <td>NaN</td>\n",
       "      <td>NaN</td>\n",
       "    </tr>\n",
       "    <tr>\n",
       "      <th>Paved Drive</th>\n",
       "      <td>2930</td>\n",
       "      <td>3</td>\n",
       "      <td>Y</td>\n",
       "      <td>2652</td>\n",
       "      <td>NaN</td>\n",
       "      <td>NaN</td>\n",
       "      <td>NaN</td>\n",
       "      <td>NaN</td>\n",
       "      <td>NaN</td>\n",
       "      <td>NaN</td>\n",
       "      <td>NaN</td>\n",
       "    </tr>\n",
       "    <tr>\n",
       "      <th>Wood Deck SF</th>\n",
       "      <td>2930</td>\n",
       "      <td>NaN</td>\n",
       "      <td>NaN</td>\n",
       "      <td>NaN</td>\n",
       "      <td>93.7519</td>\n",
       "      <td>126.362</td>\n",
       "      <td>0</td>\n",
       "      <td>0</td>\n",
       "      <td>0</td>\n",
       "      <td>168</td>\n",
       "      <td>1424</td>\n",
       "    </tr>\n",
       "    <tr>\n",
       "      <th>Open Porch SF</th>\n",
       "      <td>2930</td>\n",
       "      <td>NaN</td>\n",
       "      <td>NaN</td>\n",
       "      <td>NaN</td>\n",
       "      <td>47.5334</td>\n",
       "      <td>67.4834</td>\n",
       "      <td>0</td>\n",
       "      <td>0</td>\n",
       "      <td>27</td>\n",
       "      <td>70</td>\n",
       "      <td>742</td>\n",
       "    </tr>\n",
       "    <tr>\n",
       "      <th>Enclosed Porch</th>\n",
       "      <td>2930</td>\n",
       "      <td>NaN</td>\n",
       "      <td>NaN</td>\n",
       "      <td>NaN</td>\n",
       "      <td>23.0116</td>\n",
       "      <td>64.1391</td>\n",
       "      <td>0</td>\n",
       "      <td>0</td>\n",
       "      <td>0</td>\n",
       "      <td>0</td>\n",
       "      <td>1012</td>\n",
       "    </tr>\n",
       "    <tr>\n",
       "      <th>3Ssn Porch</th>\n",
       "      <td>2930</td>\n",
       "      <td>NaN</td>\n",
       "      <td>NaN</td>\n",
       "      <td>NaN</td>\n",
       "      <td>2.59249</td>\n",
       "      <td>25.1413</td>\n",
       "      <td>0</td>\n",
       "      <td>0</td>\n",
       "      <td>0</td>\n",
       "      <td>0</td>\n",
       "      <td>508</td>\n",
       "    </tr>\n",
       "    <tr>\n",
       "      <th>Screen Porch</th>\n",
       "      <td>2930</td>\n",
       "      <td>NaN</td>\n",
       "      <td>NaN</td>\n",
       "      <td>NaN</td>\n",
       "      <td>16.002</td>\n",
       "      <td>56.0874</td>\n",
       "      <td>0</td>\n",
       "      <td>0</td>\n",
       "      <td>0</td>\n",
       "      <td>0</td>\n",
       "      <td>576</td>\n",
       "    </tr>\n",
       "    <tr>\n",
       "      <th>Pool Area</th>\n",
       "      <td>2930</td>\n",
       "      <td>NaN</td>\n",
       "      <td>NaN</td>\n",
       "      <td>NaN</td>\n",
       "      <td>2.24334</td>\n",
       "      <td>35.5972</td>\n",
       "      <td>0</td>\n",
       "      <td>0</td>\n",
       "      <td>0</td>\n",
       "      <td>0</td>\n",
       "      <td>800</td>\n",
       "    </tr>\n",
       "    <tr>\n",
       "      <th>Pool QC</th>\n",
       "      <td>13</td>\n",
       "      <td>4</td>\n",
       "      <td>Ex</td>\n",
       "      <td>4</td>\n",
       "      <td>NaN</td>\n",
       "      <td>NaN</td>\n",
       "      <td>NaN</td>\n",
       "      <td>NaN</td>\n",
       "      <td>NaN</td>\n",
       "      <td>NaN</td>\n",
       "      <td>NaN</td>\n",
       "    </tr>\n",
       "    <tr>\n",
       "      <th>Fence</th>\n",
       "      <td>572</td>\n",
       "      <td>4</td>\n",
       "      <td>MnPrv</td>\n",
       "      <td>330</td>\n",
       "      <td>NaN</td>\n",
       "      <td>NaN</td>\n",
       "      <td>NaN</td>\n",
       "      <td>NaN</td>\n",
       "      <td>NaN</td>\n",
       "      <td>NaN</td>\n",
       "      <td>NaN</td>\n",
       "    </tr>\n",
       "    <tr>\n",
       "      <th>Misc Feature</th>\n",
       "      <td>106</td>\n",
       "      <td>5</td>\n",
       "      <td>Shed</td>\n",
       "      <td>95</td>\n",
       "      <td>NaN</td>\n",
       "      <td>NaN</td>\n",
       "      <td>NaN</td>\n",
       "      <td>NaN</td>\n",
       "      <td>NaN</td>\n",
       "      <td>NaN</td>\n",
       "      <td>NaN</td>\n",
       "    </tr>\n",
       "    <tr>\n",
       "      <th>Misc Val</th>\n",
       "      <td>2930</td>\n",
       "      <td>NaN</td>\n",
       "      <td>NaN</td>\n",
       "      <td>NaN</td>\n",
       "      <td>50.6352</td>\n",
       "      <td>566.344</td>\n",
       "      <td>0</td>\n",
       "      <td>0</td>\n",
       "      <td>0</td>\n",
       "      <td>0</td>\n",
       "      <td>17000</td>\n",
       "    </tr>\n",
       "    <tr>\n",
       "      <th>Mo Sold</th>\n",
       "      <td>2930</td>\n",
       "      <td>NaN</td>\n",
       "      <td>NaN</td>\n",
       "      <td>NaN</td>\n",
       "      <td>6.21604</td>\n",
       "      <td>2.71449</td>\n",
       "      <td>1</td>\n",
       "      <td>4</td>\n",
       "      <td>6</td>\n",
       "      <td>8</td>\n",
       "      <td>12</td>\n",
       "    </tr>\n",
       "    <tr>\n",
       "      <th>Yr Sold</th>\n",
       "      <td>2930</td>\n",
       "      <td>NaN</td>\n",
       "      <td>NaN</td>\n",
       "      <td>NaN</td>\n",
       "      <td>2007.79</td>\n",
       "      <td>1.31661</td>\n",
       "      <td>2006</td>\n",
       "      <td>2007</td>\n",
       "      <td>2008</td>\n",
       "      <td>2009</td>\n",
       "      <td>2010</td>\n",
       "    </tr>\n",
       "    <tr>\n",
       "      <th>Sale Type</th>\n",
       "      <td>2930</td>\n",
       "      <td>10</td>\n",
       "      <td>WD</td>\n",
       "      <td>2536</td>\n",
       "      <td>NaN</td>\n",
       "      <td>NaN</td>\n",
       "      <td>NaN</td>\n",
       "      <td>NaN</td>\n",
       "      <td>NaN</td>\n",
       "      <td>NaN</td>\n",
       "      <td>NaN</td>\n",
       "    </tr>\n",
       "    <tr>\n",
       "      <th>SalePrice</th>\n",
       "      <td>2930</td>\n",
       "      <td>NaN</td>\n",
       "      <td>NaN</td>\n",
       "      <td>NaN</td>\n",
       "      <td>127029</td>\n",
       "      <td>106370</td>\n",
       "      <td>0</td>\n",
       "      <td>0</td>\n",
       "      <td>134500</td>\n",
       "      <td>186600</td>\n",
       "      <td>611657</td>\n",
       "    </tr>\n",
       "  </tbody>\n",
       "</table>\n",
       "</div>"
      ],
      "text/plain": [
       "               count unique    top  freq     mean       std   min   25%     50%     75%     max\n",
       "Garage Yr Blt   2771    NaN    NaN   NaN  1978.13   25.5284  1895  1960    1979    2002    2207\n",
       "Garage Finish   2771      3    Unf  1231      NaN       NaN   NaN   NaN     NaN     NaN     NaN\n",
       "Garage Cars     2929    NaN    NaN   NaN  1.76681  0.760566     0     1       2       2       5\n",
       "Garage Area     2929    NaN    NaN   NaN   472.82   215.047     0   320     480     576    1488\n",
       "Garage Qual     2771      5     TA  2615      NaN       NaN   NaN   NaN     NaN     NaN     NaN\n",
       "Garage Cond     2771      5     TA  2665      NaN       NaN   NaN   NaN     NaN     NaN     NaN\n",
       "Paved Drive     2930      3      Y  2652      NaN       NaN   NaN   NaN     NaN     NaN     NaN\n",
       "Wood Deck SF    2930    NaN    NaN   NaN  93.7519   126.362     0     0       0     168    1424\n",
       "Open Porch SF   2930    NaN    NaN   NaN  47.5334   67.4834     0     0      27      70     742\n",
       "Enclosed Porch  2930    NaN    NaN   NaN  23.0116   64.1391     0     0       0       0    1012\n",
       "3Ssn Porch      2930    NaN    NaN   NaN  2.59249   25.1413     0     0       0       0     508\n",
       "Screen Porch    2930    NaN    NaN   NaN   16.002   56.0874     0     0       0       0     576\n",
       "Pool Area       2930    NaN    NaN   NaN  2.24334   35.5972     0     0       0       0     800\n",
       "Pool QC           13      4     Ex     4      NaN       NaN   NaN   NaN     NaN     NaN     NaN\n",
       "Fence            572      4  MnPrv   330      NaN       NaN   NaN   NaN     NaN     NaN     NaN\n",
       "Misc Feature     106      5   Shed    95      NaN       NaN   NaN   NaN     NaN     NaN     NaN\n",
       "Misc Val        2930    NaN    NaN   NaN  50.6352   566.344     0     0       0       0   17000\n",
       "Mo Sold         2930    NaN    NaN   NaN  6.21604   2.71449     1     4       6       8      12\n",
       "Yr Sold         2930    NaN    NaN   NaN  2007.79   1.31661  2006  2007    2008    2009    2010\n",
       "Sale Type       2930     10    WD   2536      NaN       NaN   NaN   NaN     NaN     NaN     NaN\n",
       "SalePrice       2930    NaN    NaN   NaN   127029    106370     0     0  134500  186600  611657"
      ]
     },
     "execution_count": 19,
     "metadata": {},
     "output_type": "execute_result"
    }
   ],
   "source": [
    "df.iloc[:, 60:].describe(include='all').T"
   ]
  },
  {
   "cell_type": "markdown",
   "metadata": {},
   "source": [
    "### 3.4. comments:\n",
    "- All dtypes of the 20 features are correct for what they suppose to represent\n",
    "- Missing datas:\n",
    "  - Garage Yr Blt, float64\n",
    "  -  Garage Finish, object\n",
    "  - Garage Cars, float64\n",
    "  - Garage Area, float 64\n",
    "  - Garage Qual, object\n",
    "  - Garage Cond, object\n",
    "  - Pool QC, object\n",
    "  - Fence, object\n",
    "  - Misc Feature, object\n",
    "- No Negative values noted"
   ]
  },
  {
   "cell_type": "markdown",
   "metadata": {},
   "source": [
    "# 4. Data Cleaning"
   ]
  },
  {
   "cell_type": "markdown",
   "metadata": {},
   "source": [
    "### 4.1 Counting the missing values"
   ]
  },
  {
   "cell_type": "code",
   "execution_count": 20,
   "metadata": {},
   "outputs": [
    {
     "data": {
      "text/plain": [
       "Pool QC           2917\n",
       "Misc Feature      2824\n",
       "Alley             2732\n",
       "Fence             2358\n",
       "Fireplace Qu      1422\n",
       "Lot Frontage       490\n",
       "Garage Qual        159\n",
       "Garage Finish      159\n",
       "Garage Yr Blt      159\n",
       "Garage Cond        159\n",
       "Garage Type        157\n",
       "Bsmt Exposure       83\n",
       "BsmtFin Type 2      81\n",
       "Bsmt Qual           80\n",
       "Bsmt Cond           80\n",
       "BsmtFin Type 1      80\n",
       "Mas Vnr Area        23\n",
       "Mas Vnr Type        23\n",
       "Bsmt Half Bath       2\n",
       "Bsmt Full Bath       2\n",
       "Garage Area          1\n",
       "Garage Cars          1\n",
       "BsmtFin SF 2         1\n",
       "BsmtFin SF 1         1\n",
       "Bsmt Unf SF          1\n",
       "Total Bsmt SF        1\n",
       "Electrical           1\n",
       "dtype: int64"
      ]
     },
     "execution_count": 20,
     "metadata": {},
     "output_type": "execute_result"
    }
   ],
   "source": [
    "#checking the count and list of nan values\n",
    "nan_values = df.isna().sum().sort_values(ascending = False)\n",
    "nan_values_list = nan_values[nan_values >= 1]\n",
    "nan_values_list"
   ]
  },
  {
   "cell_type": "markdown",
   "metadata": {},
   "source": [
    "### 4.1. comments\n",
    "Missing values above will either be removed or filled in after manual inspection with data dictionary"
   ]
  },
  {
   "cell_type": "markdown",
   "metadata": {},
   "source": [
    "# 4.2. Filling Missing values"
   ]
  },
  {
   "cell_type": "markdown",
   "metadata": {},
   "source": [
    "## 4.2.1 Filling Missing values in Pool QC\n",
    "- Base on data dictionary, empty values suppose to be houses without pools\n",
    "- Thus the information will need to be filled in"
   ]
  },
  {
   "cell_type": "code",
   "execution_count": 21,
   "metadata": {},
   "outputs": [
    {
     "data": {
      "text/plain": [
       "879"
      ]
     },
     "execution_count": 21,
     "metadata": {},
     "output_type": "execute_result"
    }
   ],
   "source": [
    "#importing datasets without NA filter\n",
    "df_train_nona = pd.read_csv('../datasets/train.csv', na_filter = False)\n",
    "df_test_nona = pd.read_csv('../datasets/test.csv', na_filter = False)\n",
    "df_nona = pd.concat([df_train_nona, df_test_nona], ignore_index=False, sort=False, axis = 0)\n",
    "df_nona.isna().sum().sum()"
   ]
  },
  {
   "cell_type": "markdown",
   "metadata": {},
   "source": [
    "Missing data belongs to Test data set with no sale price data"
   ]
  },
  {
   "cell_type": "code",
   "execution_count": 22,
   "metadata": {},
   "outputs": [
    {
     "data": {
      "text/plain": [
       "array([nan, 'Fa', 'Gd', 'Ex', 'TA'], dtype=object)"
      ]
     },
     "execution_count": 22,
     "metadata": {},
     "output_type": "execute_result"
    }
   ],
   "source": [
    "#checking for unique values\n",
    "df['Pool QC'].unique()"
   ]
  },
  {
   "cell_type": "code",
   "execution_count": 23,
   "metadata": {},
   "outputs": [
    {
     "data": {
      "text/plain": [
       "array(['NA', 'Fa', 'Gd', 'Ex', 'TA'], dtype=object)"
      ]
     },
     "execution_count": 23,
     "metadata": {},
     "output_type": "execute_result"
    }
   ],
   "source": [
    "#checking for unique values\n",
    "df_nona['Pool QC'].unique()"
   ]
  },
  {
   "cell_type": "code",
   "execution_count": 24,
   "metadata": {},
   "outputs": [
    {
     "data": {
      "text/plain": [
       "array(['NA', 'Fa', 'Gd', 'Ex', 'TA'], dtype=object)"
      ]
     },
     "execution_count": 24,
     "metadata": {},
     "output_type": "execute_result"
    }
   ],
   "source": [
    "#replacing nan value with NA for Pool QC\n",
    "df['Pool QC'].fillna('NA', inplace = True)\n",
    "#checking unique values of Pool QC\n",
    "df['Pool QC'].unique()"
   ]
  },
  {
   "cell_type": "code",
   "execution_count": 25,
   "metadata": {},
   "outputs": [
    {
     "data": {
      "text/plain": [
       "0"
      ]
     },
     "execution_count": 25,
     "metadata": {},
     "output_type": "execute_result"
    }
   ],
   "source": [
    "df['Pool QC'].isna().sum()"
   ]
  },
  {
   "cell_type": "markdown",
   "metadata": {},
   "source": [
    "### 4.2.1 comments: \n",
    "All missing values in 'Pool QC' has been filled"
   ]
  },
  {
   "cell_type": "markdown",
   "metadata": {},
   "source": [
    "## 4.2.2 Filling missing values in Misc Feature\n",
    "- base on data dictionary, missing values should be house without misc feature\n",
    "- thus information will need to be filled in"
   ]
  },
  {
   "cell_type": "code",
   "execution_count": 26,
   "metadata": {},
   "outputs": [
    {
     "data": {
      "text/plain": [
       "array([nan, 'Shed', 'TenC', 'Gar2', 'Othr', 'Elev'], dtype=object)"
      ]
     },
     "execution_count": 26,
     "metadata": {},
     "output_type": "execute_result"
    }
   ],
   "source": [
    "#checking for unique values\n",
    "df['Misc Feature'].unique()"
   ]
  },
  {
   "cell_type": "code",
   "execution_count": 27,
   "metadata": {},
   "outputs": [
    {
     "data": {
      "text/plain": [
       "array(['NA', 'Shed', 'TenC', 'Gar2', 'Othr', 'Elev'], dtype=object)"
      ]
     },
     "execution_count": 27,
     "metadata": {},
     "output_type": "execute_result"
    }
   ],
   "source": [
    "#checking for unique values\n",
    "df_nona['Misc Feature'].unique()"
   ]
  },
  {
   "cell_type": "code",
   "execution_count": 28,
   "metadata": {},
   "outputs": [
    {
     "data": {
      "text/plain": [
       "array(['NA', 'Shed', 'TenC', 'Gar2', 'Othr', 'Elev'], dtype=object)"
      ]
     },
     "execution_count": 28,
     "metadata": {},
     "output_type": "execute_result"
    }
   ],
   "source": [
    "#replacing nan value with NA for Misc Feature\n",
    "df['Misc Feature'].fillna('NA', inplace = True)\n",
    "#checking unique values of Pool QC\n",
    "df['Misc Feature'].unique()"
   ]
  },
  {
   "cell_type": "code",
   "execution_count": 29,
   "metadata": {},
   "outputs": [
    {
     "data": {
      "text/plain": [
       "0"
      ]
     },
     "execution_count": 29,
     "metadata": {},
     "output_type": "execute_result"
    }
   ],
   "source": [
    "df['Misc Feature'].isna().sum()"
   ]
  },
  {
   "cell_type": "markdown",
   "metadata": {},
   "source": [
    "### 4.2.2 comments: \n",
    "All missing values in 'Misc Feature' has been filled"
   ]
  },
  {
   "cell_type": "markdown",
   "metadata": {},
   "source": [
    "## 4.2.3 Filling missing values in Alley category\n",
    "- base on data dictionary, missing values should be house without alley access\n",
    "- thus information will need to be filled in"
   ]
  },
  {
   "cell_type": "code",
   "execution_count": 30,
   "metadata": {},
   "outputs": [
    {
     "data": {
      "text/plain": [
       "array([nan, 'Pave', 'Grvl'], dtype=object)"
      ]
     },
     "execution_count": 30,
     "metadata": {},
     "output_type": "execute_result"
    }
   ],
   "source": [
    "#checking for unique values\n",
    "df['Alley'].unique()"
   ]
  },
  {
   "cell_type": "code",
   "execution_count": 31,
   "metadata": {},
   "outputs": [
    {
     "data": {
      "text/plain": [
       "array(['NA', 'Pave', 'Grvl'], dtype=object)"
      ]
     },
     "execution_count": 31,
     "metadata": {},
     "output_type": "execute_result"
    }
   ],
   "source": [
    "#checking for unique values\n",
    "df_nona['Alley'].unique()"
   ]
  },
  {
   "cell_type": "code",
   "execution_count": 32,
   "metadata": {},
   "outputs": [
    {
     "data": {
      "text/plain": [
       "array(['NA', 'Pave', 'Grvl'], dtype=object)"
      ]
     },
     "execution_count": 32,
     "metadata": {},
     "output_type": "execute_result"
    }
   ],
   "source": [
    "#replacing nan value with NA for Alley\n",
    "df['Alley'].fillna('NA', inplace = True)\n",
    "#checking unique values of Pool QC\n",
    "df['Alley'].unique()"
   ]
  },
  {
   "cell_type": "code",
   "execution_count": 33,
   "metadata": {},
   "outputs": [
    {
     "data": {
      "text/plain": [
       "0"
      ]
     },
     "execution_count": 33,
     "metadata": {},
     "output_type": "execute_result"
    }
   ],
   "source": [
    "df['Alley'].isna().sum()"
   ]
  },
  {
   "cell_type": "markdown",
   "metadata": {},
   "source": [
    "### 4.2.3 comments: \n",
    "All missing values in 'Alley' has been filled"
   ]
  },
  {
   "cell_type": "markdown",
   "metadata": {},
   "source": [
    "## 4.2.4 Filling missing values in Fence category\n",
    "- base on data dictionary, missing values should be house without fence\n",
    "- thus information will need to be filled in"
   ]
  },
  {
   "cell_type": "code",
   "execution_count": 34,
   "metadata": {},
   "outputs": [
    {
     "data": {
      "text/plain": [
       "array([nan, 'MnPrv', 'GdPrv', 'GdWo', 'MnWw'], dtype=object)"
      ]
     },
     "execution_count": 34,
     "metadata": {},
     "output_type": "execute_result"
    }
   ],
   "source": [
    "#checking for unique values\n",
    "df['Fence'].unique()"
   ]
  },
  {
   "cell_type": "code",
   "execution_count": 35,
   "metadata": {},
   "outputs": [
    {
     "data": {
      "text/plain": [
       "array(['NA', 'MnPrv', 'GdPrv', 'GdWo', 'MnWw'], dtype=object)"
      ]
     },
     "execution_count": 35,
     "metadata": {},
     "output_type": "execute_result"
    }
   ],
   "source": [
    "#checking for unique values\n",
    "df_nona['Fence'].unique()"
   ]
  },
  {
   "cell_type": "code",
   "execution_count": 36,
   "metadata": {},
   "outputs": [
    {
     "data": {
      "text/plain": [
       "array(['NA', 'MnPrv', 'GdPrv', 'GdWo', 'MnWw'], dtype=object)"
      ]
     },
     "execution_count": 36,
     "metadata": {},
     "output_type": "execute_result"
    }
   ],
   "source": [
    "#replacing nan value with NA for Alley\n",
    "df['Fence'].fillna('NA', inplace = True)\n",
    "#checking unique values of Pool QC\n",
    "df['Fence'].unique()"
   ]
  },
  {
   "cell_type": "code",
   "execution_count": 37,
   "metadata": {},
   "outputs": [
    {
     "data": {
      "text/plain": [
       "0"
      ]
     },
     "execution_count": 37,
     "metadata": {},
     "output_type": "execute_result"
    }
   ],
   "source": [
    "df['Fence'].isna().sum()"
   ]
  },
  {
   "cell_type": "markdown",
   "metadata": {},
   "source": [
    "### 4.2.4 comments: \n",
    "All missing values in 'Fence' has been filled"
   ]
  },
  {
   "cell_type": "markdown",
   "metadata": {},
   "source": [
    "## 4.2.5 Filling missing values in Fireplace QU\n",
    "- base on data dictionary, missing values should be house without fireplaces\n",
    "- thus information will need to be filled in"
   ]
  },
  {
   "cell_type": "code",
   "execution_count": 38,
   "metadata": {},
   "outputs": [
    {
     "data": {
      "text/plain": [
       "array([nan, 'TA', 'Gd', 'Po', 'Ex', 'Fa'], dtype=object)"
      ]
     },
     "execution_count": 38,
     "metadata": {},
     "output_type": "execute_result"
    }
   ],
   "source": [
    "#checking for unique values\n",
    "df['Fireplace Qu'].unique()"
   ]
  },
  {
   "cell_type": "code",
   "execution_count": 39,
   "metadata": {},
   "outputs": [
    {
     "data": {
      "text/plain": [
       "array(['NA', 'TA', 'Gd', 'Po', 'Ex', 'Fa'], dtype=object)"
      ]
     },
     "execution_count": 39,
     "metadata": {},
     "output_type": "execute_result"
    }
   ],
   "source": [
    "#checking for unique values\n",
    "df_nona['Fireplace Qu'].unique()"
   ]
  },
  {
   "cell_type": "code",
   "execution_count": 40,
   "metadata": {},
   "outputs": [
    {
     "data": {
      "text/plain": [
       "array(['NA', 'TA', 'Gd', 'Po', 'Ex', 'Fa'], dtype=object)"
      ]
     },
     "execution_count": 40,
     "metadata": {},
     "output_type": "execute_result"
    }
   ],
   "source": [
    "#replacing nan value with NA for Alley\n",
    "df['Fireplace Qu'].fillna('NA', inplace = True)\n",
    "#checking unique values of Pool QC\n",
    "df['Fireplace Qu'].unique()"
   ]
  },
  {
   "cell_type": "code",
   "execution_count": 41,
   "metadata": {},
   "outputs": [
    {
     "data": {
      "text/plain": [
       "0"
      ]
     },
     "execution_count": 41,
     "metadata": {},
     "output_type": "execute_result"
    }
   ],
   "source": [
    "df['Fence'].isna().sum()"
   ]
  },
  {
   "cell_type": "markdown",
   "metadata": {},
   "source": [
    "### 4.2.5 comments: \n",
    "All missing values in 'Fireplace QU' has been filled"
   ]
  },
  {
   "cell_type": "markdown",
   "metadata": {},
   "source": [
    "## 4.2.6 Filling missing values in Lot Frontage\n",
    "- base on data dictionary, missing values should be Linear feet of street connected to property\n",
    "- adding in 0 for missing values to keep the datatype as a float"
   ]
  },
  {
   "cell_type": "code",
   "execution_count": 42,
   "metadata": {},
   "outputs": [
    {
     "data": {
      "text/plain": [
       "490"
      ]
     },
     "execution_count": 42,
     "metadata": {},
     "output_type": "execute_result"
    }
   ],
   "source": [
    "#checking for null values\n",
    "df['Lot Frontage'].isnull().sum()"
   ]
  },
  {
   "cell_type": "code",
   "execution_count": 43,
   "metadata": {},
   "outputs": [],
   "source": [
    "#replacing nan value with 0 for Lot Frontage\n",
    "df['Lot Frontage'].fillna(0, inplace = True)"
   ]
  },
  {
   "cell_type": "code",
   "execution_count": 44,
   "metadata": {},
   "outputs": [
    {
     "data": {
      "text/plain": [
       "0"
      ]
     },
     "execution_count": 44,
     "metadata": {},
     "output_type": "execute_result"
    }
   ],
   "source": [
    "#checking for null values\n",
    "df['Lot Frontage'].isnull().sum()"
   ]
  },
  {
   "cell_type": "markdown",
   "metadata": {},
   "source": [
    "### 4.2.6 comments: \n",
    "All missing values in 'Lot Frontage' has been filled"
   ]
  },
  {
   "cell_type": "markdown",
   "metadata": {},
   "source": [
    "# 4.2.7 Handling Garage related columns"
   ]
  },
  {
   "cell_type": "code",
   "execution_count": 45,
   "metadata": {},
   "outputs": [
    {
     "data": {
      "text/plain": [
       "Garage Type      157\n",
       "Garage Yr Blt    159\n",
       "Garage Finish    159\n",
       "Garage Cars        1\n",
       "Garage Area        1\n",
       "Garage Qual      159\n",
       "Garage Cond      159\n",
       "dtype: int64"
      ]
     },
     "execution_count": 45,
     "metadata": {},
     "output_type": "execute_result"
    }
   ],
   "source": [
    "#Filtering Garage related columns\n",
    "df_garage = df.filter(regex='Garage')\n",
    "df_garage.isna().sum()"
   ]
  },
  {
   "cell_type": "code",
   "execution_count": 46,
   "metadata": {},
   "outputs": [
    {
     "name": "stdout",
     "output_type": "stream",
     "text": [
      "<class 'pandas.core.frame.DataFrame'>\n",
      "Int64Index: 2930 entries, 0 to 878\n",
      "Data columns (total 7 columns):\n",
      " #   Column         Non-Null Count  Dtype  \n",
      "---  ------         --------------  -----  \n",
      " 0   Garage Type    2773 non-null   object \n",
      " 1   Garage Yr Blt  2771 non-null   float64\n",
      " 2   Garage Finish  2771 non-null   object \n",
      " 3   Garage Cars    2929 non-null   float64\n",
      " 4   Garage Area    2929 non-null   float64\n",
      " 5   Garage Qual    2771 non-null   object \n",
      " 6   Garage Cond    2771 non-null   object \n",
      "dtypes: float64(3), object(4)\n",
      "memory usage: 183.1+ KB\n"
     ]
    }
   ],
   "source": [
    "#checking dtypes\n",
    "df_garage.info()"
   ]
  },
  {
   "cell_type": "markdown",
   "metadata": {},
   "source": [
    "- 'Garage Type', 'Garage Finish', 'Garage Qual' and 'Garage Cond'should have NA values in them.\n",
    "- 'Garage Yr Blt' refers to year Garage is built, so a number need to be insert for dtype to remain float\n",
    "- Garage cars and Garage area denotes the number of car and area size of garade, therefore a number need to be filled in for nan values"
   ]
  },
  {
   "cell_type": "code",
   "execution_count": 47,
   "metadata": {},
   "outputs": [],
   "source": [
    "#filling dtypes object nan values\n",
    "df['Garage Type'].fillna('NA', inplace = True)\n",
    "df['Garage Finish'].fillna('NA', inplace = True)\n",
    "df['Garage Qual'].fillna('NA', inplace = True)\n",
    "df['Garage Cond'].fillna('NA', inplace = True)\n",
    "\n",
    "#filling dtypes float64 nan values with number 0\n",
    "df['Garage Yr Blt'].fillna(0 , inplace = True)\n",
    "df['Garage Cars'].fillna(0 , inplace = True)\n",
    "df['Garage Area'].fillna(0 , inplace = True)"
   ]
  },
  {
   "cell_type": "code",
   "execution_count": 48,
   "metadata": {},
   "outputs": [
    {
     "name": "stdout",
     "output_type": "stream",
     "text": [
      "<class 'pandas.core.frame.DataFrame'>\n",
      "Int64Index: 2930 entries, 0 to 878\n",
      "Data columns (total 7 columns):\n",
      " #   Column         Non-Null Count  Dtype  \n",
      "---  ------         --------------  -----  \n",
      " 0   Garage Type    2930 non-null   object \n",
      " 1   Garage Yr Blt  2930 non-null   float64\n",
      " 2   Garage Finish  2930 non-null   object \n",
      " 3   Garage Cars    2930 non-null   float64\n",
      " 4   Garage Area    2930 non-null   float64\n",
      " 5   Garage Qual    2930 non-null   object \n",
      " 6   Garage Cond    2930 non-null   object \n",
      "dtypes: float64(3), object(4)\n",
      "memory usage: 183.1+ KB\n"
     ]
    }
   ],
   "source": [
    "df_garage = df.filter(regex='Garage')\n",
    "df_garage.info()"
   ]
  },
  {
   "cell_type": "markdown",
   "metadata": {},
   "source": [
    "### 4.2.7. Comments\n",
    "\n",
    "All missing values in Garage category has been filled"
   ]
  },
  {
   "cell_type": "markdown",
   "metadata": {},
   "source": [
    "# 4.2.8 Handling Basement related columns"
   ]
  },
  {
   "cell_type": "code",
   "execution_count": 49,
   "metadata": {},
   "outputs": [
    {
     "data": {
      "text/plain": [
       "Bsmt Qual         80\n",
       "Bsmt Cond         80\n",
       "Bsmt Exposure     83\n",
       "BsmtFin Type 1    80\n",
       "BsmtFin SF 1       1\n",
       "BsmtFin Type 2    81\n",
       "BsmtFin SF 2       1\n",
       "Bsmt Unf SF        1\n",
       "Total Bsmt SF      1\n",
       "Bsmt Full Bath     2\n",
       "Bsmt Half Bath     2\n",
       "dtype: int64"
      ]
     },
     "execution_count": 49,
     "metadata": {},
     "output_type": "execute_result"
    }
   ],
   "source": [
    "df_bsmt = df.filter(regex='Bsmt')\n",
    "df_bsmt.isnull().sum()"
   ]
  },
  {
   "cell_type": "code",
   "execution_count": 50,
   "metadata": {},
   "outputs": [
    {
     "name": "stdout",
     "output_type": "stream",
     "text": [
      "<class 'pandas.core.frame.DataFrame'>\n",
      "Int64Index: 2930 entries, 0 to 878\n",
      "Data columns (total 11 columns):\n",
      " #   Column          Non-Null Count  Dtype  \n",
      "---  ------          --------------  -----  \n",
      " 0   Bsmt Qual       2850 non-null   object \n",
      " 1   Bsmt Cond       2850 non-null   object \n",
      " 2   Bsmt Exposure   2847 non-null   object \n",
      " 3   BsmtFin Type 1  2850 non-null   object \n",
      " 4   BsmtFin SF 1    2929 non-null   float64\n",
      " 5   BsmtFin Type 2  2849 non-null   object \n",
      " 6   BsmtFin SF 2    2929 non-null   float64\n",
      " 7   Bsmt Unf SF     2929 non-null   float64\n",
      " 8   Total Bsmt SF   2929 non-null   float64\n",
      " 9   Bsmt Full Bath  2928 non-null   float64\n",
      " 10  Bsmt Half Bath  2928 non-null   float64\n",
      "dtypes: float64(6), object(5)\n",
      "memory usage: 274.7+ KB\n"
     ]
    }
   ],
   "source": [
    "df_bsmt.info()"
   ]
  },
  {
   "cell_type": "markdown",
   "metadata": {},
   "source": [
    "- BsmtFin SF 1, BsmtFin SF 2, Bsmt Unf SF, Total Bsmt SF, Bsmt Full Bath,Bsmt Half Bath has values as float, which are all regarding measurements, missing values to fill in as 0\n",
    "- Bsmt Qual, Bsmt Cond, Bsmt Exposure, BsmtFin Type 1, BsmtFin Type 2 are all values with categories, like quality and conditions of basement. missing values to be filled with NA."
   ]
  },
  {
   "cell_type": "code",
   "execution_count": 51,
   "metadata": {},
   "outputs": [],
   "source": [
    "#filling dtypes object nan values\n",
    "df['Bsmt Qual'].fillna('NA', inplace = True)\n",
    "df['Bsmt Cond'].fillna('NA', inplace = True)\n",
    "df['Bsmt Exposure'].fillna('NA', inplace = True)\n",
    "df['BsmtFin Type 1'].fillna('NA', inplace = True)\n",
    "df['BsmtFin Type 2'].fillna('NA', inplace = True)\n",
    "\n",
    "#filling dtypes float64 nan values with number 0\n",
    "df['BsmtFin SF 1'].fillna(0 , inplace = True)\n",
    "df['BsmtFin SF 2'].fillna(0 , inplace = True)\n",
    "df['Bsmt Unf SF'].fillna(0 , inplace = True)\n",
    "df['Total Bsmt SF'].fillna(0 , inplace = True)\n",
    "df['Bsmt Full Bath'].fillna(0 , inplace = True)\n",
    "df['Bsmt Half Bath'].fillna(0 , inplace = True)"
   ]
  },
  {
   "cell_type": "code",
   "execution_count": 52,
   "metadata": {},
   "outputs": [
    {
     "name": "stdout",
     "output_type": "stream",
     "text": [
      "<class 'pandas.core.frame.DataFrame'>\n",
      "Int64Index: 2930 entries, 0 to 878\n",
      "Data columns (total 11 columns):\n",
      " #   Column          Non-Null Count  Dtype  \n",
      "---  ------          --------------  -----  \n",
      " 0   Bsmt Qual       2930 non-null   object \n",
      " 1   Bsmt Cond       2930 non-null   object \n",
      " 2   Bsmt Exposure   2930 non-null   object \n",
      " 3   BsmtFin Type 1  2930 non-null   object \n",
      " 4   BsmtFin SF 1    2930 non-null   float64\n",
      " 5   BsmtFin Type 2  2930 non-null   object \n",
      " 6   BsmtFin SF 2    2930 non-null   float64\n",
      " 7   Bsmt Unf SF     2930 non-null   float64\n",
      " 8   Total Bsmt SF   2930 non-null   float64\n",
      " 9   Bsmt Full Bath  2930 non-null   float64\n",
      " 10  Bsmt Half Bath  2930 non-null   float64\n",
      "dtypes: float64(6), object(5)\n",
      "memory usage: 274.7+ KB\n"
     ]
    }
   ],
   "source": [
    "df_bsmt = df.filter(regex='Bsmt')\n",
    "df_bsmt.info()"
   ]
  },
  {
   "cell_type": "markdown",
   "metadata": {},
   "source": [
    "### 4.2.8. Comments\n",
    "\n",
    "All missing values in Basement category has been filled"
   ]
  },
  {
   "cell_type": "markdown",
   "metadata": {},
   "source": [
    "# 4.2.9 Handling Mansory related columns"
   ]
  },
  {
   "cell_type": "code",
   "execution_count": 53,
   "metadata": {},
   "outputs": [
    {
     "data": {
      "text/plain": [
       "Mas Vnr Type    23\n",
       "Mas Vnr Area    23\n",
       "dtype: int64"
      ]
     },
     "execution_count": 53,
     "metadata": {},
     "output_type": "execute_result"
    }
   ],
   "source": [
    "df_bsmt = df.filter(regex='Mas')\n",
    "df_bsmt.isnull().sum()"
   ]
  },
  {
   "cell_type": "code",
   "execution_count": 54,
   "metadata": {},
   "outputs": [
    {
     "name": "stdout",
     "output_type": "stream",
     "text": [
      "<class 'pandas.core.frame.DataFrame'>\n",
      "Int64Index: 2930 entries, 0 to 878\n",
      "Data columns (total 2 columns):\n",
      " #   Column        Non-Null Count  Dtype  \n",
      "---  ------        --------------  -----  \n",
      " 0   Mas Vnr Type  2907 non-null   object \n",
      " 1   Mas Vnr Area  2907 non-null   float64\n",
      "dtypes: float64(1), object(1)\n",
      "memory usage: 68.7+ KB\n"
     ]
    }
   ],
   "source": [
    "df_bsmt.info()"
   ]
  },
  {
   "cell_type": "markdown",
   "metadata": {},
   "source": [
    "- Mas Vnr Type is a categorical label, therefore filling missing data with NA\n",
    "- Mas Vnr Area is the measurement of the Mansory, therefore filling the missing value with 0 to keep the datatype a float"
   ]
  },
  {
   "cell_type": "code",
   "execution_count": 55,
   "metadata": {},
   "outputs": [],
   "source": [
    "#filling dtypes object nan values\n",
    "df['Mas Vnr Type'].fillna('NA' , inplace = True)\n",
    "\n",
    "#filling dtypes float64 nan values with number 0\n",
    "df['Mas Vnr Area'].fillna(0 , inplace = True)"
   ]
  },
  {
   "cell_type": "code",
   "execution_count": 56,
   "metadata": {},
   "outputs": [
    {
     "name": "stdout",
     "output_type": "stream",
     "text": [
      "<class 'pandas.core.frame.DataFrame'>\n",
      "Int64Index: 2930 entries, 0 to 878\n",
      "Data columns (total 2 columns):\n",
      " #   Column        Non-Null Count  Dtype  \n",
      "---  ------        --------------  -----  \n",
      " 0   Mas Vnr Type  2930 non-null   object \n",
      " 1   Mas Vnr Area  2930 non-null   float64\n",
      "dtypes: float64(1), object(1)\n",
      "memory usage: 68.7+ KB\n"
     ]
    }
   ],
   "source": [
    "df_bsmt = df.filter(regex='Mas')\n",
    "df_bsmt.info()"
   ]
  },
  {
   "cell_type": "markdown",
   "metadata": {},
   "source": [
    "### 4.2.9. Comments\n",
    "\n",
    "All missing values in Mansory category has been filled"
   ]
  },
  {
   "cell_type": "markdown",
   "metadata": {},
   "source": [
    "# 4.2.9 Filling missing values in Electrical "
   ]
  },
  {
   "cell_type": "code",
   "execution_count": 57,
   "metadata": {},
   "outputs": [
    {
     "data": {
      "text/plain": [
       "array(['SBrkr', 'FuseF', 'FuseA', 'FuseP', 'Mix', nan], dtype=object)"
      ]
     },
     "execution_count": 57,
     "metadata": {},
     "output_type": "execute_result"
    }
   ],
   "source": [
    "#checking for unique values\n",
    "df['Electrical'].unique()"
   ]
  },
  {
   "cell_type": "code",
   "execution_count": 58,
   "metadata": {},
   "outputs": [
    {
     "data": {
      "text/plain": [
       "array(['SBrkr', 'FuseF', 'FuseA', 'FuseP', 'Mix', ''], dtype=object)"
      ]
     },
     "execution_count": 58,
     "metadata": {},
     "output_type": "execute_result"
    }
   ],
   "source": [
    "#checking for unique values\n",
    "df_nona['Electrical'].unique()"
   ]
  },
  {
   "cell_type": "code",
   "execution_count": 59,
   "metadata": {},
   "outputs": [
    {
     "data": {
      "text/plain": [
       "array(['SBrkr', 'FuseF', 'FuseA', 'FuseP', 'Mix', 'NA'], dtype=object)"
      ]
     },
     "execution_count": 59,
     "metadata": {},
     "output_type": "execute_result"
    }
   ],
   "source": [
    "#replacing nan value with NA for Misc Feature\n",
    "df['Electrical'].fillna('NA', inplace = True)\n",
    "#checking unique values of Pool QC\n",
    "df['Electrical'].unique()"
   ]
  },
  {
   "cell_type": "code",
   "execution_count": 60,
   "metadata": {},
   "outputs": [
    {
     "data": {
      "text/plain": [
       "0"
      ]
     },
     "execution_count": 60,
     "metadata": {},
     "output_type": "execute_result"
    }
   ],
   "source": [
    "df['Electrical'].isna().sum()"
   ]
  },
  {
   "cell_type": "markdown",
   "metadata": {},
   "source": [
    "All missing values have been filled"
   ]
  },
  {
   "cell_type": "code",
   "execution_count": 61,
   "metadata": {},
   "outputs": [
    {
     "data": {
      "text/plain": [
       "0"
      ]
     },
     "execution_count": 61,
     "metadata": {},
     "output_type": "execute_result"
    }
   ],
   "source": [
    "#final check for any null values in dataset\n",
    "df.isnull().sum().sum()"
   ]
  },
  {
   "cell_type": "markdown",
   "metadata": {},
   "source": [
    "# 4.3 Changing Categories to Ordinal Data\n",
    "- Some Categorical datas can be seen as Ordinal data \n",
    "- therefore it is better to convert them for better fitting into the models"
   ]
  },
  {
   "cell_type": "markdown",
   "metadata": {},
   "source": [
    "### 4.3.1 `'Exter Qual'`"
   ]
  },
  {
   "cell_type": "code",
   "execution_count": 62,
   "metadata": {},
   "outputs": [
    {
     "data": {
      "text/plain": [
       "TA    1799\n",
       "Gd     989\n",
       "Ex     107\n",
       "Fa      35\n",
       "Name: Exter Qual, dtype: int64"
      ]
     },
     "execution_count": 62,
     "metadata": {},
     "output_type": "execute_result"
    }
   ],
   "source": [
    "df['Exter Qual'].value_counts()"
   ]
  },
  {
   "cell_type": "code",
   "execution_count": 63,
   "metadata": {},
   "outputs": [
    {
     "data": {
      "text/plain": [
       "dtype('int64')"
      ]
     },
     "execution_count": 63,
     "metadata": {},
     "output_type": "execute_result"
    }
   ],
   "source": [
    "#labels = df_train_pp['Exter Qual'].astype('category').cat.categories.tolist() \n",
    "#{'carrier' : {k: v for k,v in zip(labels,list(range(1,len(labels)+1)))}}\n",
    "labels = {'Exter Qual': {'Ex': 5, 'Gd': 4, 'TA': 3, 'Fa': 2, 'Po': 1} }\n",
    "df.replace(labels, inplace=True)\n",
    "df['Exter Qual'].astype('int64').dtypes"
   ]
  },
  {
   "cell_type": "code",
   "execution_count": 64,
   "metadata": {},
   "outputs": [
    {
     "data": {
      "text/plain": [
       "3    1799\n",
       "4     989\n",
       "5     107\n",
       "2      35\n",
       "Name: Exter Qual, dtype: int64"
      ]
     },
     "execution_count": 64,
     "metadata": {},
     "output_type": "execute_result"
    }
   ],
   "source": [
    "df['Exter Qual'].value_counts()"
   ]
  },
  {
   "cell_type": "markdown",
   "metadata": {},
   "source": [
    "### 4.3.2 `'Exter Cond'`"
   ]
  },
  {
   "cell_type": "code",
   "execution_count": 65,
   "metadata": {},
   "outputs": [
    {
     "data": {
      "text/plain": [
       "TA    2549\n",
       "Gd     299\n",
       "Fa      67\n",
       "Ex      12\n",
       "Po       3\n",
       "Name: Exter Cond, dtype: int64"
      ]
     },
     "execution_count": 65,
     "metadata": {},
     "output_type": "execute_result"
    }
   ],
   "source": [
    "df['Exter Cond'].value_counts()"
   ]
  },
  {
   "cell_type": "code",
   "execution_count": 66,
   "metadata": {},
   "outputs": [
    {
     "data": {
      "text/plain": [
       "dtype('int64')"
      ]
     },
     "execution_count": 66,
     "metadata": {},
     "output_type": "execute_result"
    }
   ],
   "source": [
    "#labels = df_train_pp['Exter Qual'].astype('category').cat.categories.tolist() \n",
    "#{'carrier' : {k: v for k,v in zip(labels,list(range(1,len(labels)+1)))}}\n",
    "labels = {'Exter Cond': {'Ex': 5, 'Gd': 4, 'TA': 3, 'Fa': 2, 'Po': 1} }\n",
    "df.replace(labels, inplace=True)\n",
    "df['Exter Cond'].astype('int64').dtypes"
   ]
  },
  {
   "cell_type": "code",
   "execution_count": 67,
   "metadata": {},
   "outputs": [
    {
     "data": {
      "text/plain": [
       "3    2549\n",
       "4     299\n",
       "2      67\n",
       "5      12\n",
       "1       3\n",
       "Name: Exter Cond, dtype: int64"
      ]
     },
     "execution_count": 67,
     "metadata": {},
     "output_type": "execute_result"
    }
   ],
   "source": [
    "df['Exter Cond'].value_counts()"
   ]
  },
  {
   "cell_type": "markdown",
   "metadata": {},
   "source": [
    "## 4.3.3 `'Bsmt Qual'`"
   ]
  },
  {
   "cell_type": "code",
   "execution_count": 68,
   "metadata": {},
   "outputs": [
    {
     "data": {
      "text/plain": [
       "TA    1283\n",
       "Gd    1219\n",
       "Ex     258\n",
       "Fa      88\n",
       "NA      80\n",
       "Po       2\n",
       "Name: Bsmt Qual, dtype: int64"
      ]
     },
     "execution_count": 68,
     "metadata": {},
     "output_type": "execute_result"
    }
   ],
   "source": [
    "df['Bsmt Qual'].value_counts()"
   ]
  },
  {
   "cell_type": "code",
   "execution_count": 69,
   "metadata": {},
   "outputs": [
    {
     "data": {
      "text/plain": [
       "dtype('int64')"
      ]
     },
     "execution_count": 69,
     "metadata": {},
     "output_type": "execute_result"
    }
   ],
   "source": [
    "labels = {'Bsmt Qual': {'Ex': 5, 'Gd': 4, 'TA': 3, 'Fa': 2, 'Po': 1, 'NA': 0} }\n",
    "df.replace(labels, inplace=True)\n",
    "df['Bsmt Qual'].astype('int64').dtypes"
   ]
  },
  {
   "cell_type": "code",
   "execution_count": 70,
   "metadata": {},
   "outputs": [
    {
     "data": {
      "text/plain": [
       "3    1283\n",
       "4    1219\n",
       "5     258\n",
       "2      88\n",
       "0      80\n",
       "1       2\n",
       "Name: Bsmt Qual, dtype: int64"
      ]
     },
     "execution_count": 70,
     "metadata": {},
     "output_type": "execute_result"
    }
   ],
   "source": [
    "df['Bsmt Qual'].value_counts()"
   ]
  },
  {
   "cell_type": "markdown",
   "metadata": {},
   "source": [
    "## 4.3.4 `'Bsmt Cond'`"
   ]
  },
  {
   "cell_type": "code",
   "execution_count": 71,
   "metadata": {},
   "outputs": [
    {
     "data": {
      "text/plain": [
       "TA    2616\n",
       "Gd     122\n",
       "Fa     104\n",
       "NA      80\n",
       "Po       5\n",
       "Ex       3\n",
       "Name: Bsmt Cond, dtype: int64"
      ]
     },
     "execution_count": 71,
     "metadata": {},
     "output_type": "execute_result"
    }
   ],
   "source": [
    "df['Bsmt Cond'].value_counts()"
   ]
  },
  {
   "cell_type": "code",
   "execution_count": 72,
   "metadata": {},
   "outputs": [
    {
     "data": {
      "text/plain": [
       "dtype('int64')"
      ]
     },
     "execution_count": 72,
     "metadata": {},
     "output_type": "execute_result"
    }
   ],
   "source": [
    "labels = {'Bsmt Cond': {'Ex': 5, 'Gd': 4, 'TA': 3, 'Fa': 2, 'Po': 1, 'NA': 0} }\n",
    "df.replace(labels, inplace=True)\n",
    "df['Bsmt Cond'].astype('int64').dtypes"
   ]
  },
  {
   "cell_type": "code",
   "execution_count": 73,
   "metadata": {},
   "outputs": [
    {
     "data": {
      "text/plain": [
       "3    2616\n",
       "4     122\n",
       "2     104\n",
       "0      80\n",
       "1       5\n",
       "5       3\n",
       "Name: Bsmt Cond, dtype: int64"
      ]
     },
     "execution_count": 73,
     "metadata": {},
     "output_type": "execute_result"
    }
   ],
   "source": [
    "df['Bsmt Cond'].value_counts()"
   ]
  },
  {
   "cell_type": "markdown",
   "metadata": {},
   "source": [
    "## 4.3.5 `'Bsmt Exposure'`"
   ]
  },
  {
   "cell_type": "code",
   "execution_count": 74,
   "metadata": {},
   "outputs": [
    {
     "data": {
      "text/plain": [
       "No    1906\n",
       "Av     418\n",
       "Gd     284\n",
       "Mn     239\n",
       "NA      83\n",
       "Name: Bsmt Exposure, dtype: int64"
      ]
     },
     "execution_count": 74,
     "metadata": {},
     "output_type": "execute_result"
    }
   ],
   "source": [
    "df['Bsmt Exposure'].value_counts()"
   ]
  },
  {
   "cell_type": "code",
   "execution_count": 75,
   "metadata": {},
   "outputs": [
    {
     "data": {
      "text/plain": [
       "dtype('int64')"
      ]
     },
     "execution_count": 75,
     "metadata": {},
     "output_type": "execute_result"
    }
   ],
   "source": [
    "labels = {'Bsmt Exposure': {'Gd': 4, 'Av': 3, 'Mn': 2, 'No': 1, 'NA': 0} }\n",
    "df.replace(labels, inplace=True)\n",
    "df['Bsmt Exposure'].astype('int64').dtypes"
   ]
  },
  {
   "cell_type": "code",
   "execution_count": 76,
   "metadata": {},
   "outputs": [
    {
     "data": {
      "text/plain": [
       "1    1906\n",
       "3     418\n",
       "4     284\n",
       "2     239\n",
       "0      83\n",
       "Name: Bsmt Exposure, dtype: int64"
      ]
     },
     "execution_count": 76,
     "metadata": {},
     "output_type": "execute_result"
    }
   ],
   "source": [
    "df['Bsmt Exposure'].value_counts()"
   ]
  },
  {
   "cell_type": "markdown",
   "metadata": {},
   "source": [
    "## 4.3.6 `'Bsmt Type 1'`"
   ]
  },
  {
   "cell_type": "code",
   "execution_count": 77,
   "metadata": {},
   "outputs": [
    {
     "data": {
      "text/plain": [
       "GLQ    859\n",
       "Unf    851\n",
       "ALQ    429\n",
       "Rec    288\n",
       "BLQ    269\n",
       "LwQ    154\n",
       "NA      80\n",
       "Name: BsmtFin Type 1, dtype: int64"
      ]
     },
     "execution_count": 77,
     "metadata": {},
     "output_type": "execute_result"
    }
   ],
   "source": [
    "df['BsmtFin Type 1'].value_counts()"
   ]
  },
  {
   "cell_type": "code",
   "execution_count": 78,
   "metadata": {},
   "outputs": [
    {
     "data": {
      "text/plain": [
       "dtype('int64')"
      ]
     },
     "execution_count": 78,
     "metadata": {},
     "output_type": "execute_result"
    }
   ],
   "source": [
    "labels = {'BsmtFin Type 1': {'GLQ': 6, 'ALQ': 5, 'BLQ': 4, 'Rec': 3, 'LwQ': 2, 'Unf': 1, 'NA': 0} }\n",
    "df.replace(labels, inplace=True)\n",
    "df['BsmtFin Type 1'].astype('int64').dtypes"
   ]
  },
  {
   "cell_type": "code",
   "execution_count": 79,
   "metadata": {},
   "outputs": [
    {
     "data": {
      "text/plain": [
       "6    859\n",
       "1    851\n",
       "5    429\n",
       "3    288\n",
       "4    269\n",
       "2    154\n",
       "0     80\n",
       "Name: BsmtFin Type 1, dtype: int64"
      ]
     },
     "execution_count": 79,
     "metadata": {},
     "output_type": "execute_result"
    }
   ],
   "source": [
    "df['BsmtFin Type 1'].value_counts()"
   ]
  },
  {
   "cell_type": "markdown",
   "metadata": {},
   "source": [
    "## 4.3.7 `'Heating QC'`"
   ]
  },
  {
   "cell_type": "code",
   "execution_count": 80,
   "metadata": {},
   "outputs": [
    {
     "data": {
      "text/plain": [
       "Ex    1495\n",
       "TA     864\n",
       "Gd     476\n",
       "Fa      92\n",
       "Po       3\n",
       "Name: Heating QC, dtype: int64"
      ]
     },
     "execution_count": 80,
     "metadata": {},
     "output_type": "execute_result"
    }
   ],
   "source": [
    "df['Heating QC'].value_counts() "
   ]
  },
  {
   "cell_type": "code",
   "execution_count": 81,
   "metadata": {},
   "outputs": [
    {
     "data": {
      "text/plain": [
       "dtype('int64')"
      ]
     },
     "execution_count": 81,
     "metadata": {},
     "output_type": "execute_result"
    }
   ],
   "source": [
    "labels = {'Heating QC': {'Ex': 5, 'Gd': 4, 'TA': 3, 'Fa': 2, 'Po': 1} }\n",
    "df.replace(labels, inplace=True)\n",
    "df['Heating QC'].astype('int64').dtypes"
   ]
  },
  {
   "cell_type": "code",
   "execution_count": 82,
   "metadata": {},
   "outputs": [
    {
     "data": {
      "text/plain": [
       "5    1495\n",
       "3     864\n",
       "4     476\n",
       "2      92\n",
       "1       3\n",
       "Name: Heating QC, dtype: int64"
      ]
     },
     "execution_count": 82,
     "metadata": {},
     "output_type": "execute_result"
    }
   ],
   "source": [
    "df['Heating QC'].value_counts() "
   ]
  },
  {
   "cell_type": "markdown",
   "metadata": {},
   "source": [
    "## 4.3.8 `'Heating QC'`"
   ]
  },
  {
   "cell_type": "code",
   "execution_count": 83,
   "metadata": {},
   "outputs": [
    {
     "data": {
      "text/plain": [
       "Y    2734\n",
       "N     196\n",
       "Name: Central Air, dtype: int64"
      ]
     },
     "execution_count": 83,
     "metadata": {},
     "output_type": "execute_result"
    }
   ],
   "source": [
    "df['Central Air'].value_counts() "
   ]
  },
  {
   "cell_type": "code",
   "execution_count": 84,
   "metadata": {},
   "outputs": [
    {
     "data": {
      "text/plain": [
       "dtype('int64')"
      ]
     },
     "execution_count": 84,
     "metadata": {},
     "output_type": "execute_result"
    }
   ],
   "source": [
    "labels = {'Central Air': {'Y': 1, 'N': 0} }\n",
    "df.replace(labels, inplace=True)\n",
    "df['Central Air'].astype('int64').dtypes"
   ]
  },
  {
   "cell_type": "code",
   "execution_count": 85,
   "metadata": {},
   "outputs": [
    {
     "data": {
      "text/plain": [
       "1    2734\n",
       "0     196\n",
       "Name: Central Air, dtype: int64"
      ]
     },
     "execution_count": 85,
     "metadata": {},
     "output_type": "execute_result"
    }
   ],
   "source": [
    "df['Central Air'].value_counts() "
   ]
  },
  {
   "cell_type": "markdown",
   "metadata": {},
   "source": [
    "## 4.3.9 `'Kitchen Qual'`"
   ]
  },
  {
   "cell_type": "code",
   "execution_count": 86,
   "metadata": {},
   "outputs": [
    {
     "data": {
      "text/plain": [
       "TA    1494\n",
       "Gd    1160\n",
       "Ex     205\n",
       "Fa      70\n",
       "Po       1\n",
       "Name: Kitchen Qual, dtype: int64"
      ]
     },
     "execution_count": 86,
     "metadata": {},
     "output_type": "execute_result"
    }
   ],
   "source": [
    "df['Kitchen Qual'].value_counts() "
   ]
  },
  {
   "cell_type": "code",
   "execution_count": 87,
   "metadata": {},
   "outputs": [
    {
     "data": {
      "text/plain": [
       "dtype('int64')"
      ]
     },
     "execution_count": 87,
     "metadata": {},
     "output_type": "execute_result"
    }
   ],
   "source": [
    "labels = {'Kitchen Qual': {'Ex': 5, 'Gd': 4, 'TA': 3, 'Fa': 2, 'Po': 1} }\n",
    "df.replace(labels, inplace=True)\n",
    "df['Kitchen Qual'].astype('int64').dtypes"
   ]
  },
  {
   "cell_type": "code",
   "execution_count": 88,
   "metadata": {},
   "outputs": [
    {
     "data": {
      "text/plain": [
       "3    1494\n",
       "4    1160\n",
       "5     205\n",
       "2      70\n",
       "1       1\n",
       "Name: Kitchen Qual, dtype: int64"
      ]
     },
     "execution_count": 88,
     "metadata": {},
     "output_type": "execute_result"
    }
   ],
   "source": [
    "df['Kitchen Qual'].value_counts() "
   ]
  },
  {
   "cell_type": "markdown",
   "metadata": {},
   "source": [
    "## 4.3.10 `'Functional'`"
   ]
  },
  {
   "cell_type": "code",
   "execution_count": 89,
   "metadata": {},
   "outputs": [
    {
     "data": {
      "text/plain": [
       "Typ     2728\n",
       "Min2      70\n",
       "Min1      65\n",
       "Mod       35\n",
       "Maj1      19\n",
       "Maj2       9\n",
       "Sev        2\n",
       "Sal        2\n",
       "Name: Functional, dtype: int64"
      ]
     },
     "execution_count": 89,
     "metadata": {},
     "output_type": "execute_result"
    }
   ],
   "source": [
    "df['Functional'].value_counts() "
   ]
  },
  {
   "cell_type": "code",
   "execution_count": 90,
   "metadata": {},
   "outputs": [
    {
     "data": {
      "text/plain": [
       "dtype('int64')"
      ]
     },
     "execution_count": 90,
     "metadata": {},
     "output_type": "execute_result"
    }
   ],
   "source": [
    "labels = {'Functional': {'Typ': 8, 'Min1': 7, 'Min2': 6, 'Mod': 5, 'Maj1': 4, \n",
    "                         'Maj2': 3, 'Sev': 2, 'Sal': 1} }\n",
    "df.replace(labels, inplace=True)\n",
    "df['Functional'].astype('int64').dtypes"
   ]
  },
  {
   "cell_type": "code",
   "execution_count": 91,
   "metadata": {},
   "outputs": [
    {
     "data": {
      "text/plain": [
       "8    2728\n",
       "6      70\n",
       "7      65\n",
       "5      35\n",
       "4      19\n",
       "3       9\n",
       "1       2\n",
       "2       2\n",
       "Name: Functional, dtype: int64"
      ]
     },
     "execution_count": 91,
     "metadata": {},
     "output_type": "execute_result"
    }
   ],
   "source": [
    "df['Functional'].value_counts() "
   ]
  },
  {
   "cell_type": "markdown",
   "metadata": {},
   "source": [
    "## 4.3.11 `'Fireplace Qu'`"
   ]
  },
  {
   "cell_type": "code",
   "execution_count": 92,
   "metadata": {},
   "outputs": [
    {
     "data": {
      "text/plain": [
       "NA    1422\n",
       "Gd     744\n",
       "TA     600\n",
       "Fa      75\n",
       "Po      46\n",
       "Ex      43\n",
       "Name: Fireplace Qu, dtype: int64"
      ]
     },
     "execution_count": 92,
     "metadata": {},
     "output_type": "execute_result"
    }
   ],
   "source": [
    "df['Fireplace Qu'].value_counts() "
   ]
  },
  {
   "cell_type": "code",
   "execution_count": 93,
   "metadata": {},
   "outputs": [
    {
     "data": {
      "text/plain": [
       "dtype('int64')"
      ]
     },
     "execution_count": 93,
     "metadata": {},
     "output_type": "execute_result"
    }
   ],
   "source": [
    "labels = {'Fireplace Qu': {'Ex': 5, 'Gd': 4, 'TA': 3, 'Fa': 2, 'Po': 1, 'NA': 0} }\n",
    "df.replace(labels, inplace=True)\n",
    "df['Fireplace Qu'].astype('int64').dtypes"
   ]
  },
  {
   "cell_type": "code",
   "execution_count": 94,
   "metadata": {},
   "outputs": [
    {
     "data": {
      "text/plain": [
       "0    1422\n",
       "4     744\n",
       "3     600\n",
       "2      75\n",
       "1      46\n",
       "5      43\n",
       "Name: Fireplace Qu, dtype: int64"
      ]
     },
     "execution_count": 94,
     "metadata": {},
     "output_type": "execute_result"
    }
   ],
   "source": [
    "df['Fireplace Qu'].value_counts() "
   ]
  },
  {
   "cell_type": "markdown",
   "metadata": {},
   "source": [
    "## 4.3.12 `'Garage Finish'`"
   ]
  },
  {
   "cell_type": "code",
   "execution_count": 95,
   "metadata": {},
   "outputs": [
    {
     "data": {
      "text/plain": [
       "Unf    1231\n",
       "RFn     812\n",
       "Fin     728\n",
       "NA      159\n",
       "Name: Garage Finish, dtype: int64"
      ]
     },
     "execution_count": 95,
     "metadata": {},
     "output_type": "execute_result"
    }
   ],
   "source": [
    "df['Garage Finish'].value_counts() "
   ]
  },
  {
   "cell_type": "code",
   "execution_count": 96,
   "metadata": {},
   "outputs": [
    {
     "data": {
      "text/plain": [
       "dtype('int64')"
      ]
     },
     "execution_count": 96,
     "metadata": {},
     "output_type": "execute_result"
    }
   ],
   "source": [
    "labels = {'Garage Finish': {'Fin': 3, 'RFn': 2, 'Unf': 1, 'NA': 0} }\n",
    "df.replace(labels, inplace=True)\n",
    "df['Garage Finish'].astype('int64').dtypes"
   ]
  },
  {
   "cell_type": "code",
   "execution_count": 97,
   "metadata": {},
   "outputs": [
    {
     "data": {
      "text/plain": [
       "1    1231\n",
       "2     812\n",
       "3     728\n",
       "0     159\n",
       "Name: Garage Finish, dtype: int64"
      ]
     },
     "execution_count": 97,
     "metadata": {},
     "output_type": "execute_result"
    }
   ],
   "source": [
    "df['Garage Finish'].value_counts() "
   ]
  },
  {
   "cell_type": "markdown",
   "metadata": {},
   "source": [
    "## 4.3.13 `'Garage Qual'`"
   ]
  },
  {
   "cell_type": "code",
   "execution_count": 98,
   "metadata": {},
   "outputs": [
    {
     "data": {
      "text/plain": [
       "TA    2615\n",
       "NA     159\n",
       "Fa     124\n",
       "Gd      24\n",
       "Po       5\n",
       "Ex       3\n",
       "Name: Garage Qual, dtype: int64"
      ]
     },
     "execution_count": 98,
     "metadata": {},
     "output_type": "execute_result"
    }
   ],
   "source": [
    "df['Garage Qual'].value_counts() "
   ]
  },
  {
   "cell_type": "code",
   "execution_count": 99,
   "metadata": {},
   "outputs": [
    {
     "data": {
      "text/plain": [
       "dtype('int64')"
      ]
     },
     "execution_count": 99,
     "metadata": {},
     "output_type": "execute_result"
    }
   ],
   "source": [
    "labels = {'Garage Qual': {'Ex': 5, 'Gd': 4, 'TA': 3, 'Fa': 2, 'Po': 1, 'NA': 0} }\n",
    "df.replace(labels, inplace=True)\n",
    "df['Garage Qual'].astype('int64').dtypes"
   ]
  },
  {
   "cell_type": "code",
   "execution_count": 100,
   "metadata": {},
   "outputs": [
    {
     "data": {
      "text/plain": [
       "3    2615\n",
       "0     159\n",
       "2     124\n",
       "4      24\n",
       "1       5\n",
       "5       3\n",
       "Name: Garage Qual, dtype: int64"
      ]
     },
     "execution_count": 100,
     "metadata": {},
     "output_type": "execute_result"
    }
   ],
   "source": [
    "df['Garage Qual'].value_counts() "
   ]
  },
  {
   "cell_type": "markdown",
   "metadata": {},
   "source": [
    "## 4.3.14 `'Garage Qual'`"
   ]
  },
  {
   "cell_type": "code",
   "execution_count": 101,
   "metadata": {},
   "outputs": [
    {
     "data": {
      "text/plain": [
       "TA    2665\n",
       "NA     159\n",
       "Fa      74\n",
       "Gd      15\n",
       "Po      14\n",
       "Ex       3\n",
       "Name: Garage Cond, dtype: int64"
      ]
     },
     "execution_count": 101,
     "metadata": {},
     "output_type": "execute_result"
    }
   ],
   "source": [
    "df['Garage Cond'].value_counts() "
   ]
  },
  {
   "cell_type": "code",
   "execution_count": 102,
   "metadata": {},
   "outputs": [
    {
     "data": {
      "text/plain": [
       "dtype('int64')"
      ]
     },
     "execution_count": 102,
     "metadata": {},
     "output_type": "execute_result"
    }
   ],
   "source": [
    "labels = {'Garage Cond': {'Ex': 5, 'Gd': 4, 'TA': 3, 'Fa': 2, 'Po': 1, 'NA': 0} }\n",
    "df.replace(labels, inplace=True)\n",
    "df['Garage Cond'].astype('int64').dtypes"
   ]
  },
  {
   "cell_type": "code",
   "execution_count": 103,
   "metadata": {},
   "outputs": [
    {
     "data": {
      "text/plain": [
       "3    2665\n",
       "0     159\n",
       "2      74\n",
       "4      15\n",
       "1      14\n",
       "5       3\n",
       "Name: Garage Cond, dtype: int64"
      ]
     },
     "execution_count": 103,
     "metadata": {},
     "output_type": "execute_result"
    }
   ],
   "source": [
    "df['Garage Cond'].value_counts() "
   ]
  },
  {
   "cell_type": "markdown",
   "metadata": {},
   "source": [
    "## 4.3.15 `'Lot Shape'`"
   ]
  },
  {
   "cell_type": "code",
   "execution_count": 104,
   "metadata": {},
   "outputs": [
    {
     "data": {
      "text/plain": [
       "Reg    1859\n",
       "IR1     979\n",
       "IR2      76\n",
       "IR3      16\n",
       "Name: Lot Shape, dtype: int64"
      ]
     },
     "execution_count": 104,
     "metadata": {},
     "output_type": "execute_result"
    }
   ],
   "source": [
    "df['Lot Shape'].value_counts() "
   ]
  },
  {
   "cell_type": "code",
   "execution_count": 105,
   "metadata": {},
   "outputs": [
    {
     "data": {
      "text/plain": [
       "dtype('int64')"
      ]
     },
     "execution_count": 105,
     "metadata": {},
     "output_type": "execute_result"
    }
   ],
   "source": [
    "labels = {'Lot Shape': {'Reg': 4, 'IR1': 3, 'IR2': 2, 'IR3': 1} }\n",
    "df.replace(labels, inplace=True)\n",
    "df['Lot Shape'].astype('int64').dtypes"
   ]
  },
  {
   "cell_type": "code",
   "execution_count": 106,
   "metadata": {},
   "outputs": [
    {
     "data": {
      "text/plain": [
       "4    1859\n",
       "3     979\n",
       "2      76\n",
       "1      16\n",
       "Name: Lot Shape, dtype: int64"
      ]
     },
     "execution_count": 106,
     "metadata": {},
     "output_type": "execute_result"
    }
   ],
   "source": [
    "df['Lot Shape'].value_counts() "
   ]
  },
  {
   "cell_type": "markdown",
   "metadata": {},
   "source": [
    "## 4.3.16 `'Utilities'`"
   ]
  },
  {
   "cell_type": "code",
   "execution_count": 107,
   "metadata": {},
   "outputs": [
    {
     "data": {
      "text/plain": [
       "AllPub    2927\n",
       "NoSewr       2\n",
       "NoSeWa       1\n",
       "Name: Utilities, dtype: int64"
      ]
     },
     "execution_count": 107,
     "metadata": {},
     "output_type": "execute_result"
    }
   ],
   "source": [
    "df['Utilities'].value_counts() "
   ]
  },
  {
   "cell_type": "code",
   "execution_count": 108,
   "metadata": {},
   "outputs": [
    {
     "data": {
      "text/plain": [
       "dtype('int64')"
      ]
     },
     "execution_count": 108,
     "metadata": {},
     "output_type": "execute_result"
    }
   ],
   "source": [
    "labels = {'Utilities': {'AllPub': 3, 'NoSewr': 2, 'NoSeWa': 1} }\n",
    "df.replace(labels, inplace=True)\n",
    "df['Utilities'].astype('int64').dtypes"
   ]
  },
  {
   "cell_type": "code",
   "execution_count": 109,
   "metadata": {},
   "outputs": [
    {
     "data": {
      "text/plain": [
       "3    2927\n",
       "2       2\n",
       "1       1\n",
       "Name: Utilities, dtype: int64"
      ]
     },
     "execution_count": 109,
     "metadata": {},
     "output_type": "execute_result"
    }
   ],
   "source": [
    "df['Utilities'].value_counts() "
   ]
  },
  {
   "cell_type": "markdown",
   "metadata": {},
   "source": [
    "## 4.3.17 `'Land Slope'`"
   ]
  },
  {
   "cell_type": "code",
   "execution_count": 110,
   "metadata": {},
   "outputs": [
    {
     "data": {
      "text/plain": [
       "Gtl    2789\n",
       "Mod     125\n",
       "Sev      16\n",
       "Name: Land Slope, dtype: int64"
      ]
     },
     "execution_count": 110,
     "metadata": {},
     "output_type": "execute_result"
    }
   ],
   "source": [
    "df['Land Slope'].value_counts() "
   ]
  },
  {
   "cell_type": "code",
   "execution_count": 111,
   "metadata": {},
   "outputs": [
    {
     "data": {
      "text/plain": [
       "dtype('int64')"
      ]
     },
     "execution_count": 111,
     "metadata": {},
     "output_type": "execute_result"
    }
   ],
   "source": [
    "labels = {'Land Slope': {'Gtl': 3, 'Mod': 2, 'Sev': 1} }\n",
    "df.replace(labels, inplace=True)\n",
    "df['Land Slope'].astype('int64').dtypes"
   ]
  },
  {
   "cell_type": "code",
   "execution_count": 112,
   "metadata": {},
   "outputs": [
    {
     "data": {
      "text/plain": [
       "3    2789\n",
       "2     125\n",
       "1      16\n",
       "Name: Land Slope, dtype: int64"
      ]
     },
     "execution_count": 112,
     "metadata": {},
     "output_type": "execute_result"
    }
   ],
   "source": [
    "df['Land Slope'].value_counts() "
   ]
  },
  {
   "cell_type": "markdown",
   "metadata": {},
   "source": [
    "## 4.3.18 `'Foundation'`"
   ]
  },
  {
   "cell_type": "code",
   "execution_count": 113,
   "metadata": {},
   "outputs": [
    {
     "data": {
      "text/plain": [
       "PConc     1310\n",
       "CBlock    1244\n",
       "BrkTil     311\n",
       "Slab        49\n",
       "Stone       11\n",
       "Wood         5\n",
       "Name: Foundation, dtype: int64"
      ]
     },
     "execution_count": 113,
     "metadata": {},
     "output_type": "execute_result"
    }
   ],
   "source": [
    "df['Foundation'].value_counts() "
   ]
  },
  {
   "cell_type": "code",
   "execution_count": 114,
   "metadata": {},
   "outputs": [
    {
     "data": {
      "text/plain": [
       "dtype('int64')"
      ]
     },
     "execution_count": 114,
     "metadata": {},
     "output_type": "execute_result"
    }
   ],
   "source": [
    "labels = {'Foundation': {'BrkTil': 6, 'CBlock': 5, 'PConc': 4, 'Slab': 3, 'Stone': 2, 'Wood': 1} }\n",
    "df.replace(labels, inplace=True)\n",
    "df['Foundation'].astype('int64').dtypes"
   ]
  },
  {
   "cell_type": "code",
   "execution_count": 115,
   "metadata": {},
   "outputs": [
    {
     "data": {
      "text/plain": [
       "4    1310\n",
       "5    1244\n",
       "6     311\n",
       "3      49\n",
       "2      11\n",
       "1       5\n",
       "Name: Foundation, dtype: int64"
      ]
     },
     "execution_count": 115,
     "metadata": {},
     "output_type": "execute_result"
    }
   ],
   "source": [
    "df['Foundation'].value_counts() "
   ]
  },
  {
   "cell_type": "markdown",
   "metadata": {},
   "source": [
    "## 4.3.19 `'BsmtFin Type 2'`"
   ]
  },
  {
   "cell_type": "code",
   "execution_count": 116,
   "metadata": {},
   "outputs": [
    {
     "data": {
      "text/plain": [
       "Unf    2499\n",
       "Rec     106\n",
       "LwQ      89\n",
       "NA       81\n",
       "BLQ      68\n",
       "ALQ      53\n",
       "GLQ      34\n",
       "Name: BsmtFin Type 2, dtype: int64"
      ]
     },
     "execution_count": 116,
     "metadata": {},
     "output_type": "execute_result"
    }
   ],
   "source": [
    "df['BsmtFin Type 2'].value_counts() "
   ]
  },
  {
   "cell_type": "code",
   "execution_count": 117,
   "metadata": {},
   "outputs": [
    {
     "data": {
      "text/plain": [
       "dtype('int64')"
      ]
     },
     "execution_count": 117,
     "metadata": {},
     "output_type": "execute_result"
    }
   ],
   "source": [
    "labels = {'BsmtFin Type 2': {'GLQ': 6, 'ALQ': 5, 'BLQ': 4, 'Rec': 3, 'LwQ': 2, 'Unf': 1, 'NA': 0} }\n",
    "df.replace(labels, inplace=True)\n",
    "df['BsmtFin Type 2'].astype('int64').dtypes"
   ]
  },
  {
   "cell_type": "code",
   "execution_count": 118,
   "metadata": {},
   "outputs": [
    {
     "data": {
      "text/plain": [
       "1    2499\n",
       "3     106\n",
       "2      89\n",
       "0      81\n",
       "4      68\n",
       "5      53\n",
       "6      34\n",
       "Name: BsmtFin Type 2, dtype: int64"
      ]
     },
     "execution_count": 118,
     "metadata": {},
     "output_type": "execute_result"
    }
   ],
   "source": [
    "df['BsmtFin Type 2'].value_counts() "
   ]
  },
  {
   "cell_type": "markdown",
   "metadata": {},
   "source": [
    "## 4.3.20 `'Electrical`"
   ]
  },
  {
   "cell_type": "code",
   "execution_count": 119,
   "metadata": {},
   "outputs": [
    {
     "data": {
      "text/plain": [
       "SBrkr    2682\n",
       "FuseA     188\n",
       "FuseF      50\n",
       "FuseP       8\n",
       "Mix         1\n",
       "NA          1\n",
       "Name: Electrical, dtype: int64"
      ]
     },
     "execution_count": 119,
     "metadata": {},
     "output_type": "execute_result"
    }
   ],
   "source": [
    "df['Electrical'].value_counts() "
   ]
  },
  {
   "cell_type": "code",
   "execution_count": 120,
   "metadata": {},
   "outputs": [
    {
     "data": {
      "text/plain": [
       "dtype('int64')"
      ]
     },
     "execution_count": 120,
     "metadata": {},
     "output_type": "execute_result"
    }
   ],
   "source": [
    "labels = {'Electrical': {'SBrkr': 5, 'FuseA': 4, 'FuseF': 3, 'FuseP': 2, 'Mix': 1, 'NA': 0} }\n",
    "df.replace(labels, inplace=True)\n",
    "df['Electrical'].astype('int64').dtypes"
   ]
  },
  {
   "cell_type": "code",
   "execution_count": 121,
   "metadata": {},
   "outputs": [
    {
     "data": {
      "text/plain": [
       "5    2682\n",
       "4     188\n",
       "3      50\n",
       "2       8\n",
       "1       1\n",
       "0       1\n",
       "Name: Electrical, dtype: int64"
      ]
     },
     "execution_count": 121,
     "metadata": {},
     "output_type": "execute_result"
    }
   ],
   "source": [
    "df['Electrical'].value_counts() "
   ]
  },
  {
   "cell_type": "markdown",
   "metadata": {},
   "source": [
    "## 4.3.21 `'Paved Drive`"
   ]
  },
  {
   "cell_type": "code",
   "execution_count": 122,
   "metadata": {},
   "outputs": [
    {
     "data": {
      "text/plain": [
       "Y    2652\n",
       "N     216\n",
       "P      62\n",
       "Name: Paved Drive, dtype: int64"
      ]
     },
     "execution_count": 122,
     "metadata": {},
     "output_type": "execute_result"
    }
   ],
   "source": [
    "df['Paved Drive'].value_counts() "
   ]
  },
  {
   "cell_type": "code",
   "execution_count": 123,
   "metadata": {},
   "outputs": [
    {
     "data": {
      "text/plain": [
       "dtype('int64')"
      ]
     },
     "execution_count": 123,
     "metadata": {},
     "output_type": "execute_result"
    }
   ],
   "source": [
    "labels = {'Paved Drive': {'Y': 2, 'P': 1, 'N': 0} }\n",
    "df.replace(labels, inplace=True)\n",
    "df['Paved Drive'].astype('int64').dtypes"
   ]
  },
  {
   "cell_type": "code",
   "execution_count": 124,
   "metadata": {},
   "outputs": [
    {
     "data": {
      "text/plain": [
       "2    2652\n",
       "0     216\n",
       "1      62\n",
       "Name: Paved Drive, dtype: int64"
      ]
     },
     "execution_count": 124,
     "metadata": {},
     "output_type": "execute_result"
    }
   ],
   "source": [
    "df['Paved Drive'].value_counts() "
   ]
  },
  {
   "cell_type": "markdown",
   "metadata": {},
   "source": [
    "## 4.3.22 `'Pool QC`"
   ]
  },
  {
   "cell_type": "code",
   "execution_count": 125,
   "metadata": {},
   "outputs": [
    {
     "data": {
      "text/plain": [
       "NA    2917\n",
       "Ex       4\n",
       "Gd       4\n",
       "TA       3\n",
       "Fa       2\n",
       "Name: Pool QC, dtype: int64"
      ]
     },
     "execution_count": 125,
     "metadata": {},
     "output_type": "execute_result"
    }
   ],
   "source": [
    "df['Pool QC'].value_counts() "
   ]
  },
  {
   "cell_type": "code",
   "execution_count": 126,
   "metadata": {},
   "outputs": [
    {
     "data": {
      "text/plain": [
       "dtype('int64')"
      ]
     },
     "execution_count": 126,
     "metadata": {},
     "output_type": "execute_result"
    }
   ],
   "source": [
    "labels = {'Pool QC': {'Ex': 4, 'Gd': 3, 'TA': 2, 'Fa': 1, 'NA': 0} }\n",
    "df.replace(labels, inplace=True)\n",
    "df['Pool QC'].astype('int64').dtypes"
   ]
  },
  {
   "cell_type": "code",
   "execution_count": 127,
   "metadata": {},
   "outputs": [
    {
     "data": {
      "text/plain": [
       "0    2917\n",
       "3       4\n",
       "4       4\n",
       "2       3\n",
       "1       2\n",
       "Name: Pool QC, dtype: int64"
      ]
     },
     "execution_count": 127,
     "metadata": {},
     "output_type": "execute_result"
    }
   ],
   "source": [
    "df['Pool QC'].value_counts()"
   ]
  },
  {
   "cell_type": "markdown",
   "metadata": {},
   "source": [
    "## 4.3.23 `'Fence`"
   ]
  },
  {
   "cell_type": "code",
   "execution_count": 128,
   "metadata": {},
   "outputs": [
    {
     "data": {
      "text/plain": [
       "NA       2358\n",
       "MnPrv     330\n",
       "GdPrv     118\n",
       "GdWo      112\n",
       "MnWw       12\n",
       "Name: Fence, dtype: int64"
      ]
     },
     "execution_count": 128,
     "metadata": {},
     "output_type": "execute_result"
    }
   ],
   "source": [
    "df['Fence'].value_counts()"
   ]
  },
  {
   "cell_type": "code",
   "execution_count": 129,
   "metadata": {},
   "outputs": [
    {
     "data": {
      "text/plain": [
       "dtype('int64')"
      ]
     },
     "execution_count": 129,
     "metadata": {},
     "output_type": "execute_result"
    }
   ],
   "source": [
    "labels = {'Fence': {'GdPrv': 4, 'MnPrv': 3, 'GdWo': 2, 'MnWw': 1, 'NA': 0} }\n",
    "df.replace(labels, inplace=True)\n",
    "df['Fence'].astype('int64').dtypes"
   ]
  },
  {
   "cell_type": "code",
   "execution_count": 130,
   "metadata": {},
   "outputs": [
    {
     "data": {
      "text/plain": [
       "0    2358\n",
       "3     330\n",
       "4     118\n",
       "2     112\n",
       "1      12\n",
       "Name: Fence, dtype: int64"
      ]
     },
     "execution_count": 130,
     "metadata": {},
     "output_type": "execute_result"
    }
   ],
   "source": [
    "df['Fence'].value_counts()"
   ]
  },
  {
   "cell_type": "markdown",
   "metadata": {},
   "source": [
    "All ordinal data has been converted"
   ]
  },
  {
   "cell_type": "code",
   "execution_count": 131,
   "metadata": {},
   "outputs": [
    {
     "name": "stdout",
     "output_type": "stream",
     "text": [
      "<class 'pandas.core.frame.DataFrame'>\n",
      "Int64Index: 2930 entries, 0 to 878\n",
      "Data columns (total 81 columns):\n",
      " #   Column           Non-Null Count  Dtype  \n",
      "---  ------           --------------  -----  \n",
      " 0   Id               2930 non-null   int64  \n",
      " 1   PID              2930 non-null   int64  \n",
      " 2   MS SubClass      2930 non-null   int64  \n",
      " 3   MS Zoning        2930 non-null   object \n",
      " 4   Lot Frontage     2930 non-null   float64\n",
      " 5   Lot Area         2930 non-null   int64  \n",
      " 6   Street           2930 non-null   object \n",
      " 7   Alley            2930 non-null   object \n",
      " 8   Lot Shape        2930 non-null   int64  \n",
      " 9   Land Contour     2930 non-null   object \n",
      " 10  Utilities        2930 non-null   int64  \n",
      " 11  Lot Config       2930 non-null   object \n",
      " 12  Land Slope       2930 non-null   int64  \n",
      " 13  Neighborhood     2930 non-null   object \n",
      " 14  Condition 1      2930 non-null   object \n",
      " 15  Condition 2      2930 non-null   object \n",
      " 16  Bldg Type        2930 non-null   object \n",
      " 17  House Style      2930 non-null   object \n",
      " 18  Overall Qual     2930 non-null   int64  \n",
      " 19  Overall Cond     2930 non-null   int64  \n",
      " 20  Year Built       2930 non-null   int64  \n",
      " 21  Year Remod/Add   2930 non-null   int64  \n",
      " 22  Roof Style       2930 non-null   object \n",
      " 23  Roof Matl        2930 non-null   object \n",
      " 24  Exterior 1st     2930 non-null   object \n",
      " 25  Exterior 2nd     2930 non-null   object \n",
      " 26  Mas Vnr Type     2930 non-null   object \n",
      " 27  Mas Vnr Area     2930 non-null   float64\n",
      " 28  Exter Qual       2930 non-null   int64  \n",
      " 29  Exter Cond       2930 non-null   int64  \n",
      " 30  Foundation       2930 non-null   int64  \n",
      " 31  Bsmt Qual        2930 non-null   int64  \n",
      " 32  Bsmt Cond        2930 non-null   int64  \n",
      " 33  Bsmt Exposure    2930 non-null   int64  \n",
      " 34  BsmtFin Type 1   2930 non-null   int64  \n",
      " 35  BsmtFin SF 1     2930 non-null   float64\n",
      " 36  BsmtFin Type 2   2930 non-null   int64  \n",
      " 37  BsmtFin SF 2     2930 non-null   float64\n",
      " 38  Bsmt Unf SF      2930 non-null   float64\n",
      " 39  Total Bsmt SF    2930 non-null   float64\n",
      " 40  Heating          2930 non-null   object \n",
      " 41  Heating QC       2930 non-null   int64  \n",
      " 42  Central Air      2930 non-null   int64  \n",
      " 43  Electrical       2930 non-null   int64  \n",
      " 44  1st Flr SF       2930 non-null   int64  \n",
      " 45  2nd Flr SF       2930 non-null   int64  \n",
      " 46  Low Qual Fin SF  2930 non-null   int64  \n",
      " 47  Gr Liv Area      2930 non-null   int64  \n",
      " 48  Bsmt Full Bath   2930 non-null   float64\n",
      " 49  Bsmt Half Bath   2930 non-null   float64\n",
      " 50  Full Bath        2930 non-null   int64  \n",
      " 51  Half Bath        2930 non-null   int64  \n",
      " 52  Bedroom AbvGr    2930 non-null   int64  \n",
      " 53  Kitchen AbvGr    2930 non-null   int64  \n",
      " 54  Kitchen Qual     2930 non-null   int64  \n",
      " 55  TotRms AbvGrd    2930 non-null   int64  \n",
      " 56  Functional       2930 non-null   int64  \n",
      " 57  Fireplaces       2930 non-null   int64  \n",
      " 58  Fireplace Qu     2930 non-null   int64  \n",
      " 59  Garage Type      2930 non-null   object \n",
      " 60  Garage Yr Blt    2930 non-null   float64\n",
      " 61  Garage Finish    2930 non-null   int64  \n",
      " 62  Garage Cars      2930 non-null   float64\n",
      " 63  Garage Area      2930 non-null   float64\n",
      " 64  Garage Qual      2930 non-null   int64  \n",
      " 65  Garage Cond      2930 non-null   int64  \n",
      " 66  Paved Drive      2930 non-null   int64  \n",
      " 67  Wood Deck SF     2930 non-null   int64  \n",
      " 68  Open Porch SF    2930 non-null   int64  \n",
      " 69  Enclosed Porch   2930 non-null   int64  \n",
      " 70  3Ssn Porch       2930 non-null   int64  \n",
      " 71  Screen Porch     2930 non-null   int64  \n",
      " 72  Pool Area        2930 non-null   int64  \n",
      " 73  Pool QC          2930 non-null   int64  \n",
      " 74  Fence            2930 non-null   int64  \n",
      " 75  Misc Feature     2930 non-null   object \n",
      " 76  Misc Val         2930 non-null   int64  \n",
      " 77  Mo Sold          2930 non-null   int64  \n",
      " 78  Yr Sold          2930 non-null   int64  \n",
      " 79  Sale Type        2930 non-null   object \n",
      " 80  SalePrice        2930 non-null   int64  \n",
      "dtypes: float64(11), int64(51), object(19)\n",
      "memory usage: 1.8+ MB\n"
     ]
    }
   ],
   "source": [
    "df.info()"
   ]
  },
  {
   "cell_type": "code",
   "execution_count": 133,
   "metadata": {},
   "outputs": [
    {
     "name": "stdout",
     "output_type": "stream",
     "text": [
      "<class 'pandas.core.frame.DataFrame'>\n",
      "Int64Index: 2930 entries, 0 to 878\n",
      "Data columns (total 11 columns):\n",
      " #   Column          Non-Null Count  Dtype  \n",
      "---  ------          --------------  -----  \n",
      " 0   Bsmt Qual       2930 non-null   int64  \n",
      " 1   Bsmt Cond       2930 non-null   int64  \n",
      " 2   Bsmt Exposure   2930 non-null   int64  \n",
      " 3   BsmtFin Type 1  2930 non-null   int64  \n",
      " 4   BsmtFin SF 1    2930 non-null   float64\n",
      " 5   BsmtFin Type 2  2930 non-null   int64  \n",
      " 6   BsmtFin SF 2    2930 non-null   float64\n",
      " 7   Bsmt Unf SF     2930 non-null   float64\n",
      " 8   Total Bsmt SF   2930 non-null   float64\n",
      " 9   Bsmt Full Bath  2930 non-null   float64\n",
      " 10  Bsmt Half Bath  2930 non-null   float64\n",
      "dtypes: float64(6), int64(5)\n",
      "memory usage: 274.7 KB\n"
     ]
    }
   ],
   "source": [
    "bsmt = df.filter(regex='Bsmt')\n",
    "bsmt.info()"
   ]
  },
  {
   "cell_type": "code",
   "execution_count": 135,
   "metadata": {},
   "outputs": [
    {
     "name": "stdout",
     "output_type": "stream",
     "text": [
      "<class 'pandas.core.frame.DataFrame'>\n",
      "Int64Index: 2930 entries, 0 to 878\n",
      "Data columns (total 7 columns):\n",
      " #   Column         Non-Null Count  Dtype  \n",
      "---  ------         --------------  -----  \n",
      " 0   Garage Type    2930 non-null   object \n",
      " 1   Garage Yr Blt  2930 non-null   float64\n",
      " 2   Garage Finish  2930 non-null   int64  \n",
      " 3   Garage Cars    2930 non-null   float64\n",
      " 4   Garage Area    2930 non-null   float64\n",
      " 5   Garage Qual    2930 non-null   int64  \n",
      " 6   Garage Cond    2930 non-null   int64  \n",
      "dtypes: float64(3), int64(3), object(1)\n",
      "memory usage: 183.1+ KB\n"
     ]
    }
   ],
   "source": [
    "garage = df.filter(regex='Garage')\n",
    "garage.info()"
   ]
  },
  {
   "cell_type": "code",
   "execution_count": 136,
   "metadata": {},
   "outputs": [
    {
     "name": "stdout",
     "output_type": "stream",
     "text": [
      "<class 'pandas.core.frame.DataFrame'>\n",
      "Int64Index: 2930 entries, 0 to 878\n",
      "Data columns (total 4 columns):\n",
      " #   Column        Non-Null Count  Dtype  \n",
      "---  ------        --------------  -----  \n",
      " 0   Lot Frontage  2930 non-null   float64\n",
      " 1   Lot Area      2930 non-null   int64  \n",
      " 2   Lot Shape     2930 non-null   int64  \n",
      " 3   Lot Config    2930 non-null   object \n",
      "dtypes: float64(1), int64(2), object(1)\n",
      "memory usage: 114.5+ KB\n"
     ]
    }
   ],
   "source": [
    "lot = df.filter(regex='Lot')\n",
    "lot.info()"
   ]
  },
  {
   "cell_type": "code",
   "execution_count": 137,
   "metadata": {},
   "outputs": [
    {
     "name": "stdout",
     "output_type": "stream",
     "text": [
      "<class 'pandas.core.frame.DataFrame'>\n",
      "Int64Index: 2930 entries, 0 to 878\n",
      "Data columns (total 2 columns):\n",
      " #   Column        Non-Null Count  Dtype\n",
      "---  ------        --------------  -----\n",
      " 0   Overall Qual  2930 non-null   int64\n",
      " 1   Overall Cond  2930 non-null   int64\n",
      "dtypes: int64(2)\n",
      "memory usage: 68.7 KB\n"
     ]
    }
   ],
   "source": [
    "ovr = df.filter(regex='Overall')\n",
    "ovr.info()"
   ]
  },
  {
   "cell_type": "code",
   "execution_count": 142,
   "metadata": {},
   "outputs": [
    {
     "name": "stdout",
     "output_type": "stream",
     "text": [
      "<class 'pandas.core.frame.DataFrame'>\n",
      "Int64Index: 2930 entries, 0 to 878\n",
      "Data columns (total 4 columns):\n",
      " #   Column        Non-Null Count  Dtype \n",
      "---  ------        --------------  ----- \n",
      " 0   Exterior 1st  2930 non-null   object\n",
      " 1   Exterior 2nd  2930 non-null   object\n",
      " 2   Exter Qual    2930 non-null   int64 \n",
      " 3   Exter Cond    2930 non-null   int64 \n",
      "dtypes: int64(2), object(2)\n",
      "memory usage: 114.5+ KB\n"
     ]
    }
   ],
   "source": [
    "extr = df.filter(regex='Exter')\n",
    "extr.info()"
   ]
  },
  {
   "cell_type": "code",
   "execution_count": 138,
   "metadata": {},
   "outputs": [
    {
     "name": "stdout",
     "output_type": "stream",
     "text": [
      "<class 'pandas.core.frame.DataFrame'>\n",
      "Int64Index: 2930 entries, 0 to 878\n",
      "Data columns (total 2 columns):\n",
      " #   Column        Non-Null Count  Dtype  \n",
      "---  ------        --------------  -----  \n",
      " 0   Mas Vnr Type  2930 non-null   object \n",
      " 1   Mas Vnr Area  2930 non-null   float64\n",
      "dtypes: float64(1), object(1)\n",
      "memory usage: 68.7+ KB\n"
     ]
    }
   ],
   "source": [
    "mas = df.filter(regex='Mas')\n",
    "mas.info()"
   ]
  },
  {
   "cell_type": "code",
   "execution_count": 139,
   "metadata": {},
   "outputs": [
    {
     "name": "stdout",
     "output_type": "stream",
     "text": [
      "<class 'pandas.core.frame.DataFrame'>\n",
      "Int64Index: 2930 entries, 0 to 878\n",
      "Data columns (total 2 columns):\n",
      " #   Column      Non-Null Count  Dtype\n",
      "---  ------      --------------  -----\n",
      " 0   1st Flr SF  2930 non-null   int64\n",
      " 1   2nd Flr SF  2930 non-null   int64\n",
      "dtypes: int64(2)\n",
      "memory usage: 68.7 KB\n"
     ]
    }
   ],
   "source": [
    "flr = df.filter(regex='Flr')\n",
    "flr.info()"
   ]
  },
  {
   "cell_type": "code",
   "execution_count": 140,
   "metadata": {},
   "outputs": [
    {
     "name": "stdout",
     "output_type": "stream",
     "text": [
      "<class 'pandas.core.frame.DataFrame'>\n",
      "Int64Index: 2930 entries, 0 to 878\n",
      "Data columns (total 2 columns):\n",
      " #   Column        Non-Null Count  Dtype\n",
      "---  ------        --------------  -----\n",
      " 0   Fireplaces    2930 non-null   int64\n",
      " 1   Fireplace Qu  2930 non-null   int64\n",
      "dtypes: int64(2)\n",
      "memory usage: 68.7 KB\n"
     ]
    }
   ],
   "source": [
    "frpl = df.filter(regex='Fireplace')\n",
    "frpl.info()"
   ]
  },
  {
   "cell_type": "code",
   "execution_count": 143,
   "metadata": {},
   "outputs": [
    {
     "name": "stdout",
     "output_type": "stream",
     "text": [
      "<class 'pandas.core.frame.DataFrame'>\n",
      "Int64Index: 2930 entries, 0 to 878\n",
      "Data columns (total 4 columns):\n",
      " #   Column          Non-Null Count  Dtype\n",
      "---  ------          --------------  -----\n",
      " 0   Open Porch SF   2930 non-null   int64\n",
      " 1   Enclosed Porch  2930 non-null   int64\n",
      " 2   3Ssn Porch      2930 non-null   int64\n",
      " 3   Screen Porch    2930 non-null   int64\n",
      "dtypes: int64(4)\n",
      "memory usage: 114.5 KB\n"
     ]
    }
   ],
   "source": [
    "porch = df.filter(regex= 'Porch')\n",
    "porch.info()"
   ]
  },
  {
   "cell_type": "markdown",
   "metadata": {},
   "source": [
    "# 4.4 Splitting combined data for analysis"
   ]
  },
  {
   "cell_type": "code",
   "execution_count": null,
   "metadata": {},
   "outputs": [],
   "source": [
    "df_train_rows = df_train['Id'].tolist()\n",
    "df_test_rows = df_test['Id'].tolist()\n",
    "df_train_clean = df.loc[df['Id'].isin(df_train_rows)]\n",
    "df_test_clean = df.loc[df['Id'].isin(df_test_rows)]"
   ]
  },
  {
   "cell_type": "code",
   "execution_count": null,
   "metadata": {},
   "outputs": [],
   "source": [
    "df_train_clean.shape , df_test_clean.shape"
   ]
  },
  {
   "cell_type": "code",
   "execution_count": null,
   "metadata": {},
   "outputs": [],
   "source": [
    "df_train_clean['SalePrice'].isna().sum() , df_test_clean['SalePrice'].value_counts() # checking if the data split is correct by checking SalePrice"
   ]
  },
  {
   "cell_type": "code",
   "execution_count": null,
   "metadata": {},
   "outputs": [],
   "source": [
    "df_train_clean.head()"
   ]
  },
  {
   "cell_type": "code",
   "execution_count": null,
   "metadata": {},
   "outputs": [],
   "source": [
    "df_test_clean.head()"
   ]
  },
  {
   "cell_type": "markdown",
   "metadata": {},
   "source": [
    "## 5. Exploratory Data Analysis(EDA)"
   ]
  },
  {
   "cell_type": "markdown",
   "metadata": {},
   "source": [
    "- Will use `'df_train_clean'` dataset to do the analysis"
   ]
  },
  {
   "cell_type": "code",
   "execution_count": null,
   "metadata": {},
   "outputs": [],
   "source": [
    "df_train_clean.shape"
   ]
  },
  {
   "cell_type": "code",
   "execution_count": null,
   "metadata": {},
   "outputs": [],
   "source": [
    "df_train_clean.info()"
   ]
  },
  {
   "cell_type": "markdown",
   "metadata": {},
   "source": [
    "- will scale down the number of columns to prevent overfitting the model later\n",
    "- looking at values that has low correlation with `'SalePrice'`"
   ]
  },
  {
   "cell_type": "markdown",
   "metadata": {},
   "source": [
    "## 5.1 Correlation to SalePrice"
   ]
  },
  {
   "cell_type": "code",
   "execution_count": null,
   "metadata": {},
   "outputs": [],
   "source": [
    "#looking for columns with no correlation to sales price\n",
    "df_corr = df_train_clean[df_train_clean.columns[1::]].corr()['SalePrice'][:]\n",
    "\n",
    "df_corr[(df_corr <= 0.5) & (df_corr >= -0.5)].sort_values(ascending = False)"
   ]
  },
  {
   "cell_type": "code",
   "execution_count": null,
   "metadata": {},
   "outputs": [],
   "source": [
    "#sort out keys with low correlation with sales price\n",
    "no_corr = df_corr[(df_corr <= 0.5) & (df_corr >= -0.5)].keys()\n",
    "print(no_corr.size)\n",
    "no_corr"
   ]
  },
  {
   "cell_type": "code",
   "execution_count": null,
   "metadata": {},
   "outputs": [],
   "source": [
    "df_train_clean.drop(columns=no_corr,inplace = True) #low corr columns removed\n",
    "\n",
    "df_test_clean.drop(columns=no_corr,inplace = True) #low corr columns removed \n",
    "\n",
    "df_train_clean.shape, df_test_clean.shape"
   ]
  },
  {
   "cell_type": "markdown",
   "metadata": {},
   "source": [
    "## 5.2 Plot data against Sales price\n",
    "- check for correlation between data\n",
    "- remove data that has no significant influence to Sales Price"
   ]
  },
  {
   "cell_type": "code",
   "execution_count": null,
   "metadata": {},
   "outputs": [],
   "source": [
    "num_df = df_train_clean.select_dtypes(['int64', 'float64']).keys() # getting the list of numerical data\n",
    "\n",
    "num_df = [i for i in num_df if i != 'Id']\n",
    "print(len(num_df))"
   ]
  },
  {
   "cell_type": "code",
   "execution_count": null,
   "metadata": {},
   "outputs": [],
   "source": [
    "#def function to scatter plot data agaisnt sale price\n",
    "def subplot_scatter(xcolumns, xlabels, dataframe = df_train_clean):\n",
    "    nrows = int(np.ceil(len(xcolumns)/3)) # Makes sure you have enough rows\n",
    "    fig, ax = plt.subplots(nrows=nrows, ncols=3, figsize=(15, 4*nrows)) # You'll want to specify your figsize\n",
    "    plt.subplots_adjust(hspace = 0.4, wspace = 0.4)\n",
    "    ax = ax.ravel() # Ravel turns a matrix into a vector, which is easier to iterate\n",
    "    for i, column in enumerate(xcolumns):  # Gives us an index value to get into all our lists\n",
    "        sns.regplot(x = dataframe[column], y = dataframe['SalePrice'], \n",
    "                    data = dataframe, ax = ax[i], line_kws = {'color':'b'})#plot Scatter plot for each data\n",
    "        ax[i].set_xlabel(xlabels[i])# Set x label for each plot"
   ]
  },
  {
   "cell_type": "code",
   "execution_count": null,
   "metadata": {
    "scrolled": false
   },
   "outputs": [],
   "source": [
    "subplot_scatter(xcolumns = num_df, xlabels = num_df) # plotting data with high positive or negative corr with SalePrice"
   ]
  },
  {
   "cell_type": "markdown",
   "metadata": {},
   "source": [
    "### 5.2.1 comments on plots:\n",
    "- Noticeable outliers in a few graphs\n",
    "- will eliminate the outliers for better plots\n",
    "- should have a better solution then removing."
   ]
  },
  {
   "cell_type": "markdown",
   "metadata": {},
   "source": [
    "## 5.2.2 Removal of Outliers"
   ]
  },
  {
   "cell_type": "code",
   "execution_count": null,
   "metadata": {},
   "outputs": [],
   "source": [
    "z = np.abs(stats.zscore(df_train_clean[num_df]))\n",
    "z"
   ]
  },
  {
   "cell_type": "code",
   "execution_count": null,
   "metadata": {},
   "outputs": [],
   "source": [
    "threshold = 4\n",
    "np.where(z> threshold);"
   ]
  },
  {
   "cell_type": "code",
   "execution_count": null,
   "metadata": {},
   "outputs": [],
   "source": [
    "df_train_clean.shape"
   ]
  },
  {
   "cell_type": "code",
   "execution_count": null,
   "metadata": {},
   "outputs": [],
   "source": [
    "df_train_clean = df_train_clean[(z<threshold).all(axis=1)]\n",
    "df_train_clean.shape"
   ]
  },
  {
   "cell_type": "code",
   "execution_count": null,
   "metadata": {
    "scrolled": false
   },
   "outputs": [],
   "source": [
    "subplot_scatter(xcolumns = num_df, xlabels = num_df, dataframe = df_train_clean) \n",
    "# plotting data with high positive or negative corr with SalePrice"
   ]
  },
  {
   "cell_type": "markdown",
   "metadata": {},
   "source": [
    "## 5.2.2 comments \n",
    "- No visible outliers is noticed\n",
    "- data looks correlated to sale price and will be used for model"
   ]
  },
  {
   "cell_type": "markdown",
   "metadata": {},
   "source": [
    "## 5.2.2 Sorting Object Dtypes"
   ]
  },
  {
   "cell_type": "code",
   "execution_count": null,
   "metadata": {},
   "outputs": [],
   "source": [
    "obj_data = df_train_clean.select_dtypes(['object']).keys()\n",
    "print(len(obj_data))\n",
    "obj_data"
   ]
  },
  {
   "cell_type": "code",
   "execution_count": null,
   "metadata": {},
   "outputs": [],
   "source": [
    "df_train_clean_obj = df_train_clean.loc[:, obj_data]\n",
    "df_train_clean_obj['SalePrice'] = df_train_clean['SalePrice'] #adding in saleprice column for obj dataframe\n",
    "print(df_train_clean_obj.shape)\n",
    "df_train_clean_obj.head()"
   ]
  },
  {
   "cell_type": "code",
   "execution_count": null,
   "metadata": {},
   "outputs": [],
   "source": [
    "def subplot_boxplot(xcolumns, xlabels, dataframe = df_train_clean):\n",
    "    nrows = int(np.ceil(len(xcolumns)/2)) # Makes sure you have enough rows\n",
    "    fig, ax = plt.subplots(nrows=nrows, ncols=2, figsize=(14, 5*nrows)) # You'll want to specify your figsize\n",
    "    plt.subplots_adjust(hspace = 0.4, wspace = 0.4)\n",
    "    ax = ax.ravel() # Ravel turns a matrix into a vector, which is easier to iterate\n",
    "    for i, column in enumerate(xcolumns):  # Gives us an index value to get into all our lists\n",
    "        sns.boxplot(x = column, y = 'SalePrice', ax = ax[i], data = dataframe) #plot Scatter plot for each data\n",
    "        \n",
    "        medians = dataframe.groupby(column)['SalePrice'].median().values # Calculate number of obs per group & median to position labels\n",
    "        nobs = dataframe[column].value_counts().values\n",
    "        nobs = [str(x) for x in nobs.tolist()]\n",
    "        nobs = [\"n: \" + i for i in nobs]\n",
    "        \n",
    "        pos = range(len(nobs))\n",
    "        for tick,label in zip(pos,ax[i].get_xticklabels()):\n",
    "            ax[i].text(pos[tick], medians[tick] + 0.03, nobs[tick],\n",
    "                    horizontalalignment='center', size='medium', color='r', weight='semibold')\n",
    "\n",
    "        \n",
    "        ax[i].set_xlabel(xlabels[i])# Set x label for each plot\n",
    "        ax[i].set_xticklabels(ax[i].get_xticklabels(), rotation=45);"
   ]
  },
  {
   "cell_type": "code",
   "execution_count": null,
   "metadata": {
    "scrolled": false
   },
   "outputs": [],
   "source": [
    "subplot_boxplot(xcolumns = obj_data, xlabels = obj_data)"
   ]
  },
  {
   "cell_type": "markdown",
   "metadata": {},
   "source": [
    "## 5.2.2 comments:\n",
    "To be removed:\n",
    "- Alley\n",
    "- Street\n",
    "- MS Zoning\n",
    "- Misc Feature\n",
    "- Mas Vnr Type\n",
    "- Exterior 2nd"
   ]
  },
  {
   "cell_type": "code",
   "execution_count": null,
   "metadata": {},
   "outputs": [],
   "source": [
    "# dropping redundant datas\n",
    "box_to_drop = ['Alley', 'Street', 'MS Zoning', \n",
    "               'Misc Feature', 'Mas Vnr Type',\n",
    "               'Exterior 2nd'] # 6 columns removed\n",
    "df_train_clean.drop(columns=box_to_drop,inplace = True) #6 columns removed \n",
    "\n",
    "df_test_clean.drop(columns=box_to_drop,inplace = True) #6 columns removed \n",
    "\n",
    "df_train_clean.shape, df_test_clean.shape"
   ]
  },
  {
   "cell_type": "code",
   "execution_count": null,
   "metadata": {},
   "outputs": [],
   "source": [
    "df_train_clean.columns"
   ]
  },
  {
   "cell_type": "code",
   "execution_count": null,
   "metadata": {},
   "outputs": [],
   "source": [
    "#26 columns left after EDA\n",
    "\n",
    "#export dataset for further evaluation\n",
    "df = pd.concat([df_train_clean, df_test_clean], ignore_index=False, sort=False, axis = 0)\n",
    "print(df.shape)\n",
    "\n",
    "df.to_csv(\"../datasets/AHD_EDA.csv\", index=False)"
   ]
  },
  {
   "cell_type": "markdown",
   "metadata": {},
   "source": [
    "## to be continued to Preprocessing and Feature Engineering"
   ]
  },
  {
   "cell_type": "code",
   "execution_count": null,
   "metadata": {},
   "outputs": [],
   "source": []
  }
 ],
 "metadata": {
  "kernelspec": {
   "display_name": "Python 3",
   "language": "python",
   "name": "python3"
  },
  "language_info": {
   "codemirror_mode": {
    "name": "ipython",
    "version": 3
   },
   "file_extension": ".py",
   "mimetype": "text/x-python",
   "name": "python",
   "nbconvert_exporter": "python",
   "pygments_lexer": "ipython3",
   "version": "3.7.7"
  }
 },
 "nbformat": 4,
 "nbformat_minor": 4
}
