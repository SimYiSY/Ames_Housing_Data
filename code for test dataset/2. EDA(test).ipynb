{
 "cells": [
  {
   "cell_type": "markdown",
   "metadata": {},
   "source": [
    "# Ames Housing Saleprice\n",
    "\n",
    "## Problem Statement\n",
    "\n",
    "Create a regression model where we are able to predict the price of the house at sales."
   ]
  },
  {
   "cell_type": "markdown",
   "metadata": {},
   "source": [
    "## Executive Summary\n",
    "\n",
    "### Contents:\n",
    "- [5. Exploratory Data Analysis(EDA)](#5.-Exploratory-Data-Analysis(EDA))\n",
    "\n",
    "\n",
    "Links:\n",
    "[Kaggle challenge link](https://www.kaggle.com/c/dsi-us-6-project-2-regression-challenge/data)"
   ]
  },
  {
   "cell_type": "markdown",
   "metadata": {},
   "source": [
    "## 5. Exploratory Data Analysis(EDA)"
   ]
  },
  {
   "cell_type": "code",
   "execution_count": 1,
   "metadata": {},
   "outputs": [],
   "source": [
    "#Imports:\n",
    "import pandas as pd\n",
    "import numpy as np\n",
    "import seaborn as sns\n",
    "import matplotlib.pyplot as plt\n",
    "import scipy.stats as stats\n",
    "plt.style.use('ggplot')"
   ]
  },
  {
   "cell_type": "code",
   "execution_count": 2,
   "metadata": {},
   "outputs": [],
   "source": [
    "# Importing cleaned dataset for EDA\n",
    "df_train_eda = pd.read_csv(\"../datasets/test_clean.csv\", na_filter=False)\n",
    "df_train_s_eda = pd.read_csv(\"../datasets/train_clean.csv\", na_filter=False)"
   ]
  },
  {
   "cell_type": "code",
   "execution_count": 3,
   "metadata": {},
   "outputs": [
    {
     "data": {
      "text/plain": [
       "(879, 80)"
      ]
     },
     "execution_count": 3,
     "metadata": {},
     "output_type": "execute_result"
    }
   ],
   "source": [
    "df_train_eda.shape"
   ]
  },
  {
   "cell_type": "code",
   "execution_count": 4,
   "metadata": {},
   "outputs": [
    {
     "data": {
      "text/html": [
       "<div>\n",
       "<style scoped>\n",
       "    .dataframe tbody tr th:only-of-type {\n",
       "        vertical-align: middle;\n",
       "    }\n",
       "\n",
       "    .dataframe tbody tr th {\n",
       "        vertical-align: top;\n",
       "    }\n",
       "\n",
       "    .dataframe thead th {\n",
       "        text-align: right;\n",
       "    }\n",
       "</style>\n",
       "<table border=\"1\" class=\"dataframe\">\n",
       "  <thead>\n",
       "    <tr style=\"text-align: right;\">\n",
       "      <th></th>\n",
       "      <th>Id</th>\n",
       "      <th>PID</th>\n",
       "      <th>MS SubClass</th>\n",
       "      <th>MS Zoning</th>\n",
       "      <th>Lot Frontage</th>\n",
       "      <th>Lot Area</th>\n",
       "      <th>Street</th>\n",
       "      <th>Alley</th>\n",
       "      <th>Lot Shape</th>\n",
       "      <th>Land Contour</th>\n",
       "      <th>...</th>\n",
       "      <th>3Ssn Porch</th>\n",
       "      <th>Screen Porch</th>\n",
       "      <th>Pool Area</th>\n",
       "      <th>Pool QC</th>\n",
       "      <th>Fence</th>\n",
       "      <th>Misc Feature</th>\n",
       "      <th>Misc Val</th>\n",
       "      <th>Mo Sold</th>\n",
       "      <th>Yr Sold</th>\n",
       "      <th>Sale Type</th>\n",
       "    </tr>\n",
       "  </thead>\n",
       "  <tbody>\n",
       "    <tr>\n",
       "      <th>0</th>\n",
       "      <td>2658</td>\n",
       "      <td>902301120</td>\n",
       "      <td>190</td>\n",
       "      <td>RM</td>\n",
       "      <td>69.0</td>\n",
       "      <td>9142</td>\n",
       "      <td>Pave</td>\n",
       "      <td>Grvl</td>\n",
       "      <td>Reg</td>\n",
       "      <td>Lvl</td>\n",
       "      <td>...</td>\n",
       "      <td>0</td>\n",
       "      <td>0</td>\n",
       "      <td>0</td>\n",
       "      <td>NA</td>\n",
       "      <td>NA</td>\n",
       "      <td>NA</td>\n",
       "      <td>0</td>\n",
       "      <td>4</td>\n",
       "      <td>2006</td>\n",
       "      <td>WD</td>\n",
       "    </tr>\n",
       "    <tr>\n",
       "      <th>1</th>\n",
       "      <td>2718</td>\n",
       "      <td>905108090</td>\n",
       "      <td>90</td>\n",
       "      <td>RL</td>\n",
       "      <td>0.0</td>\n",
       "      <td>9662</td>\n",
       "      <td>Pave</td>\n",
       "      <td>NA</td>\n",
       "      <td>IR1</td>\n",
       "      <td>Lvl</td>\n",
       "      <td>...</td>\n",
       "      <td>0</td>\n",
       "      <td>0</td>\n",
       "      <td>0</td>\n",
       "      <td>NA</td>\n",
       "      <td>NA</td>\n",
       "      <td>NA</td>\n",
       "      <td>0</td>\n",
       "      <td>8</td>\n",
       "      <td>2006</td>\n",
       "      <td>WD</td>\n",
       "    </tr>\n",
       "    <tr>\n",
       "      <th>2</th>\n",
       "      <td>2414</td>\n",
       "      <td>528218130</td>\n",
       "      <td>60</td>\n",
       "      <td>RL</td>\n",
       "      <td>58.0</td>\n",
       "      <td>17104</td>\n",
       "      <td>Pave</td>\n",
       "      <td>NA</td>\n",
       "      <td>IR1</td>\n",
       "      <td>Lvl</td>\n",
       "      <td>...</td>\n",
       "      <td>0</td>\n",
       "      <td>0</td>\n",
       "      <td>0</td>\n",
       "      <td>NA</td>\n",
       "      <td>NA</td>\n",
       "      <td>NA</td>\n",
       "      <td>0</td>\n",
       "      <td>9</td>\n",
       "      <td>2006</td>\n",
       "      <td>New</td>\n",
       "    </tr>\n",
       "    <tr>\n",
       "      <th>3</th>\n",
       "      <td>1989</td>\n",
       "      <td>902207150</td>\n",
       "      <td>30</td>\n",
       "      <td>RM</td>\n",
       "      <td>60.0</td>\n",
       "      <td>8520</td>\n",
       "      <td>Pave</td>\n",
       "      <td>NA</td>\n",
       "      <td>Reg</td>\n",
       "      <td>Lvl</td>\n",
       "      <td>...</td>\n",
       "      <td>0</td>\n",
       "      <td>0</td>\n",
       "      <td>0</td>\n",
       "      <td>NA</td>\n",
       "      <td>NA</td>\n",
       "      <td>NA</td>\n",
       "      <td>0</td>\n",
       "      <td>7</td>\n",
       "      <td>2007</td>\n",
       "      <td>WD</td>\n",
       "    </tr>\n",
       "    <tr>\n",
       "      <th>4</th>\n",
       "      <td>625</td>\n",
       "      <td>535105100</td>\n",
       "      <td>20</td>\n",
       "      <td>RL</td>\n",
       "      <td>0.0</td>\n",
       "      <td>9500</td>\n",
       "      <td>Pave</td>\n",
       "      <td>NA</td>\n",
       "      <td>IR1</td>\n",
       "      <td>Lvl</td>\n",
       "      <td>...</td>\n",
       "      <td>0</td>\n",
       "      <td>185</td>\n",
       "      <td>0</td>\n",
       "      <td>NA</td>\n",
       "      <td>NA</td>\n",
       "      <td>NA</td>\n",
       "      <td>0</td>\n",
       "      <td>7</td>\n",
       "      <td>2009</td>\n",
       "      <td>WD</td>\n",
       "    </tr>\n",
       "  </tbody>\n",
       "</table>\n",
       "<p>5 rows × 80 columns</p>\n",
       "</div>"
      ],
      "text/plain": [
       "     Id        PID  MS SubClass MS Zoning  Lot Frontage  Lot Area Street  \\\n",
       "0  2658  902301120          190        RM          69.0      9142   Pave   \n",
       "1  2718  905108090           90        RL           0.0      9662   Pave   \n",
       "2  2414  528218130           60        RL          58.0     17104   Pave   \n",
       "3  1989  902207150           30        RM          60.0      8520   Pave   \n",
       "4   625  535105100           20        RL           0.0      9500   Pave   \n",
       "\n",
       "  Alley Lot Shape Land Contour  ... 3Ssn Porch Screen Porch Pool Area Pool QC  \\\n",
       "0  Grvl       Reg          Lvl  ...          0            0         0      NA   \n",
       "1    NA       IR1          Lvl  ...          0            0         0      NA   \n",
       "2    NA       IR1          Lvl  ...          0            0         0      NA   \n",
       "3    NA       Reg          Lvl  ...          0            0         0      NA   \n",
       "4    NA       IR1          Lvl  ...          0          185         0      NA   \n",
       "\n",
       "  Fence Misc Feature Misc Val Mo Sold  Yr Sold  Sale Type  \n",
       "0    NA           NA        0       4     2006        WD   \n",
       "1    NA           NA        0       8     2006        WD   \n",
       "2    NA           NA        0       9     2006        New  \n",
       "3    NA           NA        0       7     2007        WD   \n",
       "4    NA           NA        0       7     2009        WD   \n",
       "\n",
       "[5 rows x 80 columns]"
      ]
     },
     "execution_count": 4,
     "metadata": {},
     "output_type": "execute_result"
    }
   ],
   "source": [
    "df_train_eda.head()"
   ]
  },
  {
   "cell_type": "code",
   "execution_count": 5,
   "metadata": {},
   "outputs": [
    {
     "name": "stdout",
     "output_type": "stream",
     "text": [
      "<class 'pandas.core.frame.DataFrame'>\n",
      "RangeIndex: 879 entries, 0 to 878\n",
      "Data columns (total 80 columns):\n",
      " #   Column           Non-Null Count  Dtype  \n",
      "---  ------           --------------  -----  \n",
      " 0   Id               879 non-null    int64  \n",
      " 1   PID              879 non-null    int64  \n",
      " 2   MS SubClass      879 non-null    int64  \n",
      " 3   MS Zoning        879 non-null    object \n",
      " 4   Lot Frontage     879 non-null    float64\n",
      " 5   Lot Area         879 non-null    int64  \n",
      " 6   Street           879 non-null    object \n",
      " 7   Alley            879 non-null    object \n",
      " 8   Lot Shape        879 non-null    object \n",
      " 9   Land Contour     879 non-null    object \n",
      " 10  Utilities        879 non-null    object \n",
      " 11  Lot Config       879 non-null    object \n",
      " 12  Land Slope       879 non-null    object \n",
      " 13  Neighborhood     879 non-null    object \n",
      " 14  Condition 1      879 non-null    object \n",
      " 15  Condition 2      879 non-null    object \n",
      " 16  Bldg Type        879 non-null    object \n",
      " 17  House Style      879 non-null    object \n",
      " 18  Overall Qual     879 non-null    int64  \n",
      " 19  Overall Cond     879 non-null    int64  \n",
      " 20  Year Built       879 non-null    int64  \n",
      " 21  Year Remod/Add   879 non-null    int64  \n",
      " 22  Roof Style       879 non-null    object \n",
      " 23  Roof Matl        879 non-null    object \n",
      " 24  Exterior 1st     879 non-null    object \n",
      " 25  Exterior 2nd     879 non-null    object \n",
      " 26  Mas Vnr Type     879 non-null    object \n",
      " 27  Mas Vnr Area     879 non-null    float64\n",
      " 28  Exter Qual       879 non-null    object \n",
      " 29  Exter Cond       879 non-null    object \n",
      " 30  Foundation       879 non-null    object \n",
      " 31  Bsmt Qual        879 non-null    object \n",
      " 32  Bsmt Cond        879 non-null    object \n",
      " 33  Bsmt Exposure    879 non-null    object \n",
      " 34  BsmtFin Type 1   879 non-null    object \n",
      " 35  BsmtFin SF 1     879 non-null    int64  \n",
      " 36  BsmtFin Type 2   879 non-null    object \n",
      " 37  BsmtFin SF 2     879 non-null    int64  \n",
      " 38  Bsmt Unf SF      879 non-null    int64  \n",
      " 39  Total Bsmt SF    879 non-null    int64  \n",
      " 40  Heating          879 non-null    object \n",
      " 41  Heating QC       879 non-null    object \n",
      " 42  Central Air      879 non-null    object \n",
      " 43  Electrical       879 non-null    object \n",
      " 44  1st Flr SF       879 non-null    int64  \n",
      " 45  2nd Flr SF       879 non-null    int64  \n",
      " 46  Low Qual Fin SF  879 non-null    int64  \n",
      " 47  Gr Liv Area      879 non-null    int64  \n",
      " 48  Bsmt Full Bath   879 non-null    int64  \n",
      " 49  Bsmt Half Bath   879 non-null    int64  \n",
      " 50  Full Bath        879 non-null    int64  \n",
      " 51  Half Bath        879 non-null    int64  \n",
      " 52  Bedroom AbvGr    879 non-null    int64  \n",
      " 53  Kitchen AbvGr    879 non-null    int64  \n",
      " 54  Kitchen Qual     879 non-null    object \n",
      " 55  TotRms AbvGrd    879 non-null    int64  \n",
      " 56  Functional       879 non-null    object \n",
      " 57  Fireplaces       879 non-null    int64  \n",
      " 58  Fireplace Qu     879 non-null    object \n",
      " 59  Garage Type      879 non-null    object \n",
      " 60  Garage Yr Blt    879 non-null    float64\n",
      " 61  Garage Finish    879 non-null    object \n",
      " 62  Garage Cars      879 non-null    int64  \n",
      " 63  Garage Area      879 non-null    int64  \n",
      " 64  Garage Qual      879 non-null    object \n",
      " 65  Garage Cond      879 non-null    object \n",
      " 66  Paved Drive      879 non-null    object \n",
      " 67  Wood Deck SF     879 non-null    int64  \n",
      " 68  Open Porch SF    879 non-null    int64  \n",
      " 69  Enclosed Porch   879 non-null    int64  \n",
      " 70  3Ssn Porch       879 non-null    int64  \n",
      " 71  Screen Porch     879 non-null    int64  \n",
      " 72  Pool Area        879 non-null    int64  \n",
      " 73  Pool QC          879 non-null    object \n",
      " 74  Fence            879 non-null    object \n",
      " 75  Misc Feature     879 non-null    object \n",
      " 76  Misc Val         879 non-null    int64  \n",
      " 77  Mo Sold          879 non-null    int64  \n",
      " 78  Yr Sold          879 non-null    int64  \n",
      " 79  Sale Type        879 non-null    object \n",
      "dtypes: float64(3), int64(35), object(42)\n",
      "memory usage: 549.5+ KB\n"
     ]
    }
   ],
   "source": [
    "df_train_eda.info()"
   ]
  },
  {
   "cell_type": "code",
   "execution_count": 6,
   "metadata": {},
   "outputs": [
    {
     "data": {
      "text/plain": [
       "0"
      ]
     },
     "execution_count": 6,
     "metadata": {},
     "output_type": "execute_result"
    }
   ],
   "source": [
    "#checking for null value\n",
    "df_train_eda.isna().sum().sum()"
   ]
  },
  {
   "cell_type": "markdown",
   "metadata": {},
   "source": [
    "## 5.1 removing data with zero correlation to Sales price \n",
    "- removing columns that has no correlation to Sales price\n",
    "- as it will not help us with our predictive model"
   ]
  },
  {
   "cell_type": "code",
   "execution_count": 7,
   "metadata": {},
   "outputs": [
    {
     "data": {
      "text/plain": [
       "Misc Val          -0.007375\n",
       "Yr Sold           -0.015203\n",
       "Low Qual Fin SF   -0.041594\n",
       "Bsmt Half Bath    -0.045290\n",
       "MS SubClass       -0.087335\n",
       "Overall Cond      -0.097019\n",
       "Kitchen AbvGr     -0.125444\n",
       "Enclosed Porch    -0.135656\n",
       "PID               -0.255052\n",
       "Name: SalePrice, dtype: float64"
      ]
     },
     "execution_count": 7,
     "metadata": {},
     "output_type": "execute_result"
    }
   ],
   "source": [
    "#remove columns with no correlation to sales price\n",
    "df_corr = df_train_s_eda[df_train_s_eda.columns[1::]].corr()['SalePrice'][:]\n",
    "\n",
    "df_corr[df_corr <= 0].sort_values(ascending = False)"
   ]
  },
  {
   "cell_type": "code",
   "execution_count": 8,
   "metadata": {},
   "outputs": [
    {
     "data": {
      "text/plain": [
       "Index(['PID', 'MS SubClass', 'Overall Cond', 'Low Qual Fin SF',\n",
       "       'Bsmt Half Bath', 'Kitchen AbvGr', 'Enclosed Porch', 'Misc Val',\n",
       "       'Yr Sold'],\n",
       "      dtype='object')"
      ]
     },
     "execution_count": 8,
     "metadata": {},
     "output_type": "execute_result"
    }
   ],
   "source": [
    "#sort out keys with negative correlation with sales price\n",
    "df_corr[df_corr <= 0].keys()"
   ]
  },
  {
   "cell_type": "code",
   "execution_count": 9,
   "metadata": {},
   "outputs": [
    {
     "data": {
      "text/plain": [
       "(879, 71)"
      ]
     },
     "execution_count": 9,
     "metadata": {},
     "output_type": "execute_result"
    }
   ],
   "source": [
    "no_corr = df_corr[df_corr <= 0].keys() # 9 columns removed\n",
    "df_train_eda.drop(columns=no_corr,inplace = True) #9 columns removed \n",
    "df_train_eda.shape"
   ]
  },
  {
   "cell_type": "markdown",
   "metadata": {},
   "source": [
    "## 5.2 Plot data against Sales price\n",
    "- check for correlation between data\n",
    "- remove data that has no significant influence to Sales Price"
   ]
  },
  {
   "cell_type": "markdown",
   "metadata": {},
   "source": [
    "## 5.2.1 Sorting according to datatypes"
   ]
  },
  {
   "cell_type": "code",
   "execution_count": 10,
   "metadata": {},
   "outputs": [
    {
     "data": {
      "text/plain": [
       "Index(['Id', 'Lot Frontage', 'Lot Area', 'Overall Qual', 'Year Built',\n",
       "       'Year Remod/Add', 'Mas Vnr Area', 'BsmtFin SF 1', 'BsmtFin SF 2',\n",
       "       'Bsmt Unf SF', 'Total Bsmt SF', '1st Flr SF', '2nd Flr SF',\n",
       "       'Gr Liv Area', 'Bsmt Full Bath', 'Full Bath', 'Half Bath',\n",
       "       'Bedroom AbvGr', 'TotRms AbvGrd', 'Fireplaces', 'Garage Yr Blt',\n",
       "       'Garage Cars', 'Garage Area', 'Wood Deck SF', 'Open Porch SF',\n",
       "       '3Ssn Porch', 'Screen Porch', 'Pool Area', 'Mo Sold'],\n",
       "      dtype='object')"
      ]
     },
     "execution_count": 10,
     "metadata": {},
     "output_type": "execute_result"
    }
   ],
   "source": [
    "num_data = df_train_eda.select_dtypes(['int64', 'float64']).keys()\n",
    "num_data"
   ]
  },
  {
   "cell_type": "code",
   "execution_count": 11,
   "metadata": {},
   "outputs": [
    {
     "name": "stdout",
     "output_type": "stream",
     "text": [
      "(879, 29)\n"
     ]
    },
    {
     "data": {
      "text/html": [
       "<div>\n",
       "<style scoped>\n",
       "    .dataframe tbody tr th:only-of-type {\n",
       "        vertical-align: middle;\n",
       "    }\n",
       "\n",
       "    .dataframe tbody tr th {\n",
       "        vertical-align: top;\n",
       "    }\n",
       "\n",
       "    .dataframe thead th {\n",
       "        text-align: right;\n",
       "    }\n",
       "</style>\n",
       "<table border=\"1\" class=\"dataframe\">\n",
       "  <thead>\n",
       "    <tr style=\"text-align: right;\">\n",
       "      <th></th>\n",
       "      <th>Id</th>\n",
       "      <th>Lot Frontage</th>\n",
       "      <th>Lot Area</th>\n",
       "      <th>Overall Qual</th>\n",
       "      <th>Year Built</th>\n",
       "      <th>Year Remod/Add</th>\n",
       "      <th>Mas Vnr Area</th>\n",
       "      <th>BsmtFin SF 1</th>\n",
       "      <th>BsmtFin SF 2</th>\n",
       "      <th>Bsmt Unf SF</th>\n",
       "      <th>...</th>\n",
       "      <th>Fireplaces</th>\n",
       "      <th>Garage Yr Blt</th>\n",
       "      <th>Garage Cars</th>\n",
       "      <th>Garage Area</th>\n",
       "      <th>Wood Deck SF</th>\n",
       "      <th>Open Porch SF</th>\n",
       "      <th>3Ssn Porch</th>\n",
       "      <th>Screen Porch</th>\n",
       "      <th>Pool Area</th>\n",
       "      <th>Mo Sold</th>\n",
       "    </tr>\n",
       "  </thead>\n",
       "  <tbody>\n",
       "    <tr>\n",
       "      <th>0</th>\n",
       "      <td>2658</td>\n",
       "      <td>69.0</td>\n",
       "      <td>9142</td>\n",
       "      <td>6</td>\n",
       "      <td>1910</td>\n",
       "      <td>1950</td>\n",
       "      <td>0.0</td>\n",
       "      <td>0</td>\n",
       "      <td>0</td>\n",
       "      <td>1020</td>\n",
       "      <td>...</td>\n",
       "      <td>0</td>\n",
       "      <td>1910.0</td>\n",
       "      <td>1</td>\n",
       "      <td>440</td>\n",
       "      <td>0</td>\n",
       "      <td>60</td>\n",
       "      <td>0</td>\n",
       "      <td>0</td>\n",
       "      <td>0</td>\n",
       "      <td>4</td>\n",
       "    </tr>\n",
       "    <tr>\n",
       "      <th>1</th>\n",
       "      <td>2718</td>\n",
       "      <td>0.0</td>\n",
       "      <td>9662</td>\n",
       "      <td>5</td>\n",
       "      <td>1977</td>\n",
       "      <td>1977</td>\n",
       "      <td>0.0</td>\n",
       "      <td>0</td>\n",
       "      <td>0</td>\n",
       "      <td>1967</td>\n",
       "      <td>...</td>\n",
       "      <td>0</td>\n",
       "      <td>1977.0</td>\n",
       "      <td>2</td>\n",
       "      <td>580</td>\n",
       "      <td>170</td>\n",
       "      <td>0</td>\n",
       "      <td>0</td>\n",
       "      <td>0</td>\n",
       "      <td>0</td>\n",
       "      <td>8</td>\n",
       "    </tr>\n",
       "    <tr>\n",
       "      <th>2</th>\n",
       "      <td>2414</td>\n",
       "      <td>58.0</td>\n",
       "      <td>17104</td>\n",
       "      <td>7</td>\n",
       "      <td>2006</td>\n",
       "      <td>2006</td>\n",
       "      <td>0.0</td>\n",
       "      <td>554</td>\n",
       "      <td>0</td>\n",
       "      <td>100</td>\n",
       "      <td>...</td>\n",
       "      <td>1</td>\n",
       "      <td>2006.0</td>\n",
       "      <td>2</td>\n",
       "      <td>426</td>\n",
       "      <td>100</td>\n",
       "      <td>24</td>\n",
       "      <td>0</td>\n",
       "      <td>0</td>\n",
       "      <td>0</td>\n",
       "      <td>9</td>\n",
       "    </tr>\n",
       "    <tr>\n",
       "      <th>3</th>\n",
       "      <td>1989</td>\n",
       "      <td>60.0</td>\n",
       "      <td>8520</td>\n",
       "      <td>5</td>\n",
       "      <td>1923</td>\n",
       "      <td>2006</td>\n",
       "      <td>0.0</td>\n",
       "      <td>0</td>\n",
       "      <td>0</td>\n",
       "      <td>968</td>\n",
       "      <td>...</td>\n",
       "      <td>0</td>\n",
       "      <td>1935.0</td>\n",
       "      <td>2</td>\n",
       "      <td>480</td>\n",
       "      <td>0</td>\n",
       "      <td>0</td>\n",
       "      <td>0</td>\n",
       "      <td>0</td>\n",
       "      <td>0</td>\n",
       "      <td>7</td>\n",
       "    </tr>\n",
       "    <tr>\n",
       "      <th>4</th>\n",
       "      <td>625</td>\n",
       "      <td>0.0</td>\n",
       "      <td>9500</td>\n",
       "      <td>6</td>\n",
       "      <td>1963</td>\n",
       "      <td>1963</td>\n",
       "      <td>247.0</td>\n",
       "      <td>609</td>\n",
       "      <td>0</td>\n",
       "      <td>785</td>\n",
       "      <td>...</td>\n",
       "      <td>2</td>\n",
       "      <td>1963.0</td>\n",
       "      <td>2</td>\n",
       "      <td>514</td>\n",
       "      <td>0</td>\n",
       "      <td>76</td>\n",
       "      <td>0</td>\n",
       "      <td>185</td>\n",
       "      <td>0</td>\n",
       "      <td>7</td>\n",
       "    </tr>\n",
       "  </tbody>\n",
       "</table>\n",
       "<p>5 rows × 29 columns</p>\n",
       "</div>"
      ],
      "text/plain": [
       "     Id  Lot Frontage  Lot Area  Overall Qual  Year Built  Year Remod/Add  \\\n",
       "0  2658          69.0      9142             6        1910            1950   \n",
       "1  2718           0.0      9662             5        1977            1977   \n",
       "2  2414          58.0     17104             7        2006            2006   \n",
       "3  1989          60.0      8520             5        1923            2006   \n",
       "4   625           0.0      9500             6        1963            1963   \n",
       "\n",
       "   Mas Vnr Area  BsmtFin SF 1  BsmtFin SF 2  Bsmt Unf SF  ...  Fireplaces  \\\n",
       "0           0.0             0             0         1020  ...           0   \n",
       "1           0.0             0             0         1967  ...           0   \n",
       "2           0.0           554             0          100  ...           1   \n",
       "3           0.0             0             0          968  ...           0   \n",
       "4         247.0           609             0          785  ...           2   \n",
       "\n",
       "   Garage Yr Blt  Garage Cars  Garage Area  Wood Deck SF  Open Porch SF  \\\n",
       "0         1910.0            1          440             0             60   \n",
       "1         1977.0            2          580           170              0   \n",
       "2         2006.0            2          426           100             24   \n",
       "3         1935.0            2          480             0              0   \n",
       "4         1963.0            2          514             0             76   \n",
       "\n",
       "   3Ssn Porch  Screen Porch  Pool Area  Mo Sold  \n",
       "0           0             0          0        4  \n",
       "1           0             0          0        8  \n",
       "2           0             0          0        9  \n",
       "3           0             0          0        7  \n",
       "4           0           185          0        7  \n",
       "\n",
       "[5 rows x 29 columns]"
      ]
     },
     "execution_count": 11,
     "metadata": {},
     "output_type": "execute_result"
    }
   ],
   "source": [
    "df_train_eda_num = df_train_eda.loc[:,num_data]\n",
    "print(df_train_eda_num.shape)\n",
    "df_train_eda_num.head()"
   ]
  },
  {
   "cell_type": "markdown",
   "metadata": {},
   "source": [
    "### 5.2.1 comments on plots:\n",
    "To be removed: \n",
    "- Id: Should be the identification for the house, no relevance to sales price\n",
    "- Lot Frontage: No clear correlation with Salesprice\n",
    "- Lot Area: No clear correlation with Salesprice\n",
    "- Bsmtfin SF 2: Data seems to be around the same prices, otherwise is recorded as not having a basement\n",
    "- Bsmt Full Bath: No clear correlation with Salesprice\n",
    "- Half Bath: No clear correlation with Salesprice\n",
    "- Garage Yr Blt: Too many is built in the 2000s, making all the data congregate in that year, thus not helpful for model\n",
    "- 3Ssn Porch: too many null value\n",
    "- Screen Porch: data seems to be randomly spread, no correlation to sales price\n",
    "- Pool Area: too little house has pool area\n",
    "- Mo Sold: no correlation to sales price"
   ]
  },
  {
   "cell_type": "code",
   "execution_count": 12,
   "metadata": {},
   "outputs": [
    {
     "data": {
      "text/plain": [
       "(879, 60)"
      ]
     },
     "execution_count": 12,
     "metadata": {},
     "output_type": "execute_result"
    }
   ],
   "source": [
    "# dropping redundant datas\n",
    "scatter_to_drop = ['Id' , 'Lot Frontage', 'Lot Area',\n",
    "           'BsmtFin SF 2', 'Bsmt Full Bath', 'Half Bath', \n",
    "           'Garage Yr Blt', '3Ssn Porch', 'Screen Porch', \n",
    "           'Pool Area', 'Mo Sold'] # 11 columns removed\n",
    "df_train_eda.drop(columns=scatter_to_drop,inplace = True) #11 columns removed \n",
    "df_train_eda.shape"
   ]
  },
  {
   "cell_type": "markdown",
   "metadata": {},
   "source": [
    "## 5.2.2 Sorting Object Dtypes"
   ]
  },
  {
   "cell_type": "code",
   "execution_count": 13,
   "metadata": {},
   "outputs": [
    {
     "data": {
      "text/plain": [
       "Index(['MS Zoning', 'Street', 'Alley', 'Lot Shape', 'Land Contour',\n",
       "       'Utilities', 'Lot Config', 'Land Slope', 'Neighborhood', 'Condition 1',\n",
       "       'Condition 2', 'Bldg Type', 'House Style', 'Roof Style', 'Roof Matl',\n",
       "       'Exterior 1st', 'Exterior 2nd', 'Mas Vnr Type', 'Exter Qual',\n",
       "       'Exter Cond', 'Foundation', 'Bsmt Qual', 'Bsmt Cond', 'Bsmt Exposure',\n",
       "       'BsmtFin Type 1', 'BsmtFin Type 2', 'Heating', 'Heating QC',\n",
       "       'Central Air', 'Electrical', 'Kitchen Qual', 'Functional',\n",
       "       'Fireplace Qu', 'Garage Type', 'Garage Finish', 'Garage Qual',\n",
       "       'Garage Cond', 'Paved Drive', 'Pool QC', 'Fence', 'Misc Feature',\n",
       "       'Sale Type'],\n",
       "      dtype='object')"
      ]
     },
     "execution_count": 13,
     "metadata": {},
     "output_type": "execute_result"
    }
   ],
   "source": [
    "obj_data = df_train_eda.select_dtypes(['object']).keys()\n",
    "obj_data"
   ]
  },
  {
   "cell_type": "code",
   "execution_count": 14,
   "metadata": {},
   "outputs": [
    {
     "data": {
      "text/plain": [
       "42"
      ]
     },
     "execution_count": 14,
     "metadata": {},
     "output_type": "execute_result"
    }
   ],
   "source": [
    "len(obj_data)"
   ]
  },
  {
   "cell_type": "code",
   "execution_count": null,
   "metadata": {},
   "outputs": [],
   "source": []
  },
  {
   "cell_type": "markdown",
   "metadata": {},
   "source": [
    "## 5.2.2 comments:\n",
    "To be removed:\n",
    "- Utilities \n",
    "- Lot Shape \n",
    "- Land Contour \n",
    "- Lot Config\n",
    "- Land Slope \n",
    "- Condition 2\n",
    "- Roof Matl\n",
    "- Mas Vnr Type\n",
    "- BsmtFin Type 2\n",
    "- Pool QC\n",
    "- Fence \n",
    "- Misc Feature"
   ]
  },
  {
   "cell_type": "code",
   "execution_count": 15,
   "metadata": {},
   "outputs": [
    {
     "data": {
      "text/plain": [
       "(879, 48)"
      ]
     },
     "execution_count": 15,
     "metadata": {},
     "output_type": "execute_result"
    }
   ],
   "source": [
    "# dropping redundant datas\n",
    "box_to_drop = ['Utilities', 'Lot Shape', 'Land Contour', \n",
    "               'Lot Config', 'Land Slope', 'Condition 2',\n",
    "               'Roof Matl', 'Mas Vnr Type', 'BsmtFin Type 2',\n",
    "               'Pool QC', 'Fence', 'Misc Feature'] # 12 columns removed\n",
    "df_train_eda.drop(columns=box_to_drop,inplace = True) #12 columns removed \n",
    "df_train_eda.shape"
   ]
  },
  {
   "cell_type": "code",
   "execution_count": 16,
   "metadata": {},
   "outputs": [
    {
     "data": {
      "text/plain": [
       "Index(['MS Zoning', 'Street', 'Alley', 'Neighborhood', 'Condition 1',\n",
       "       'Bldg Type', 'House Style', 'Overall Qual', 'Year Built',\n",
       "       'Year Remod/Add', 'Roof Style', 'Exterior 1st', 'Exterior 2nd',\n",
       "       'Mas Vnr Area', 'Exter Qual', 'Exter Cond', 'Foundation', 'Bsmt Qual',\n",
       "       'Bsmt Cond', 'Bsmt Exposure', 'BsmtFin Type 1', 'BsmtFin SF 1',\n",
       "       'Bsmt Unf SF', 'Total Bsmt SF', 'Heating', 'Heating QC', 'Central Air',\n",
       "       'Electrical', '1st Flr SF', '2nd Flr SF', 'Gr Liv Area', 'Full Bath',\n",
       "       'Bedroom AbvGr', 'Kitchen Qual', 'TotRms AbvGrd', 'Functional',\n",
       "       'Fireplaces', 'Fireplace Qu', 'Garage Type', 'Garage Finish',\n",
       "       'Garage Cars', 'Garage Area', 'Garage Qual', 'Garage Cond',\n",
       "       'Paved Drive', 'Wood Deck SF', 'Open Porch SF', 'Sale Type'],\n",
       "      dtype='object')"
      ]
     },
     "execution_count": 16,
     "metadata": {},
     "output_type": "execute_result"
    }
   ],
   "source": [
    "df_train_eda.columns"
   ]
  },
  {
   "cell_type": "code",
   "execution_count": 17,
   "metadata": {},
   "outputs": [],
   "source": [
    "#32 columns were removed after EDA\n",
    "\n",
    "#export dataset for Pre - Processing\n",
    "\n",
    "df_train_eda.to_csv(\"../datasets/test_EDA_sorted.csv\", index=False)"
   ]
  },
  {
   "cell_type": "markdown",
   "metadata": {},
   "source": [
    "# To be continued"
   ]
  },
  {
   "cell_type": "code",
   "execution_count": null,
   "metadata": {},
   "outputs": [],
   "source": []
  }
 ],
 "metadata": {
  "kernelspec": {
   "display_name": "Python 3",
   "language": "python",
   "name": "python3"
  },
  "language_info": {
   "codemirror_mode": {
    "name": "ipython",
    "version": 3
   },
   "file_extension": ".py",
   "mimetype": "text/x-python",
   "name": "python",
   "nbconvert_exporter": "python",
   "pygments_lexer": "ipython3",
   "version": "3.7.7"
  }
 },
 "nbformat": 4,
 "nbformat_minor": 4
}
