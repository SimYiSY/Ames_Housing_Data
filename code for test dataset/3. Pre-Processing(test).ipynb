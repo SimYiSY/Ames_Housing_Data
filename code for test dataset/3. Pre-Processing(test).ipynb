{
 "cells": [
  {
   "cell_type": "markdown",
   "metadata": {},
   "source": [
    "# Ames Housing Saleprice\n",
    "\n",
    "## Problem Statement\n",
    "\n",
    "Create a regression model where we are able to predict the price of the house at sales."
   ]
  },
  {
   "cell_type": "markdown",
   "metadata": {},
   "source": [
    "## Executive Summary\n",
    "\n",
    "### Contents:\n",
    "- [6. Pre-Processing](#6.-Pre-Processing)\n",
    "\n",
    "\n",
    "Links:\n",
    "[Kaggle challenge link](https://www.kaggle.com/c/dsi-us-6-project-2-regression-challenge/data)"
   ]
  },
  {
   "cell_type": "markdown",
   "metadata": {},
   "source": [
    "## 6. Pre Processing"
   ]
  },
  {
   "cell_type": "code",
   "execution_count": 1,
   "metadata": {},
   "outputs": [],
   "source": [
    "#Imports:\n",
    "import pandas as pd\n",
    "import numpy as np\n",
    "import seaborn as sns\n",
    "import matplotlib.pyplot as plt\n",
    "import scipy.stats as stats\n",
    "from sklearn.preprocessing import StandardScaler\n",
    "from sklearn.preprocessing import PolynomialFeatures\n",
    "plt.style.use('ggplot')"
   ]
  },
  {
   "cell_type": "code",
   "execution_count": 2,
   "metadata": {},
   "outputs": [],
   "source": [
    "# Importing cleaned dataset for Pre Processing\n",
    "df_train_pp = pd.read_csv(\"../datasets/test_EDA_sorted.csv\", na_filter=False)"
   ]
  },
  {
   "cell_type": "code",
   "execution_count": 3,
   "metadata": {},
   "outputs": [
    {
     "data": {
      "text/html": [
       "<div>\n",
       "<style scoped>\n",
       "    .dataframe tbody tr th:only-of-type {\n",
       "        vertical-align: middle;\n",
       "    }\n",
       "\n",
       "    .dataframe tbody tr th {\n",
       "        vertical-align: top;\n",
       "    }\n",
       "\n",
       "    .dataframe thead th {\n",
       "        text-align: right;\n",
       "    }\n",
       "</style>\n",
       "<table border=\"1\" class=\"dataframe\">\n",
       "  <thead>\n",
       "    <tr style=\"text-align: right;\">\n",
       "      <th></th>\n",
       "      <th>MS Zoning</th>\n",
       "      <th>Street</th>\n",
       "      <th>Alley</th>\n",
       "      <th>Neighborhood</th>\n",
       "      <th>Condition 1</th>\n",
       "      <th>Bldg Type</th>\n",
       "      <th>House Style</th>\n",
       "      <th>Overall Qual</th>\n",
       "      <th>Year Built</th>\n",
       "      <th>Year Remod/Add</th>\n",
       "      <th>...</th>\n",
       "      <th>Garage Type</th>\n",
       "      <th>Garage Finish</th>\n",
       "      <th>Garage Cars</th>\n",
       "      <th>Garage Area</th>\n",
       "      <th>Garage Qual</th>\n",
       "      <th>Garage Cond</th>\n",
       "      <th>Paved Drive</th>\n",
       "      <th>Wood Deck SF</th>\n",
       "      <th>Open Porch SF</th>\n",
       "      <th>Sale Type</th>\n",
       "    </tr>\n",
       "  </thead>\n",
       "  <tbody>\n",
       "    <tr>\n",
       "      <th>0</th>\n",
       "      <td>RM</td>\n",
       "      <td>Pave</td>\n",
       "      <td>Grvl</td>\n",
       "      <td>OldTown</td>\n",
       "      <td>Norm</td>\n",
       "      <td>2fmCon</td>\n",
       "      <td>2Story</td>\n",
       "      <td>6</td>\n",
       "      <td>1910</td>\n",
       "      <td>1950</td>\n",
       "      <td>...</td>\n",
       "      <td>Detchd</td>\n",
       "      <td>Unf</td>\n",
       "      <td>1</td>\n",
       "      <td>440</td>\n",
       "      <td>Po</td>\n",
       "      <td>Po</td>\n",
       "      <td>Y</td>\n",
       "      <td>0</td>\n",
       "      <td>60</td>\n",
       "      <td>WD</td>\n",
       "    </tr>\n",
       "    <tr>\n",
       "      <th>1</th>\n",
       "      <td>RL</td>\n",
       "      <td>Pave</td>\n",
       "      <td>NA</td>\n",
       "      <td>Sawyer</td>\n",
       "      <td>Norm</td>\n",
       "      <td>Duplex</td>\n",
       "      <td>1Story</td>\n",
       "      <td>5</td>\n",
       "      <td>1977</td>\n",
       "      <td>1977</td>\n",
       "      <td>...</td>\n",
       "      <td>Attchd</td>\n",
       "      <td>Fin</td>\n",
       "      <td>2</td>\n",
       "      <td>580</td>\n",
       "      <td>TA</td>\n",
       "      <td>TA</td>\n",
       "      <td>Y</td>\n",
       "      <td>170</td>\n",
       "      <td>0</td>\n",
       "      <td>WD</td>\n",
       "    </tr>\n",
       "    <tr>\n",
       "      <th>2</th>\n",
       "      <td>RL</td>\n",
       "      <td>Pave</td>\n",
       "      <td>NA</td>\n",
       "      <td>Gilbert</td>\n",
       "      <td>Norm</td>\n",
       "      <td>1Fam</td>\n",
       "      <td>2Story</td>\n",
       "      <td>7</td>\n",
       "      <td>2006</td>\n",
       "      <td>2006</td>\n",
       "      <td>...</td>\n",
       "      <td>Attchd</td>\n",
       "      <td>RFn</td>\n",
       "      <td>2</td>\n",
       "      <td>426</td>\n",
       "      <td>TA</td>\n",
       "      <td>TA</td>\n",
       "      <td>Y</td>\n",
       "      <td>100</td>\n",
       "      <td>24</td>\n",
       "      <td>New</td>\n",
       "    </tr>\n",
       "    <tr>\n",
       "      <th>3</th>\n",
       "      <td>RM</td>\n",
       "      <td>Pave</td>\n",
       "      <td>NA</td>\n",
       "      <td>OldTown</td>\n",
       "      <td>Norm</td>\n",
       "      <td>1Fam</td>\n",
       "      <td>1Story</td>\n",
       "      <td>5</td>\n",
       "      <td>1923</td>\n",
       "      <td>2006</td>\n",
       "      <td>...</td>\n",
       "      <td>Detchd</td>\n",
       "      <td>Unf</td>\n",
       "      <td>2</td>\n",
       "      <td>480</td>\n",
       "      <td>Fa</td>\n",
       "      <td>TA</td>\n",
       "      <td>N</td>\n",
       "      <td>0</td>\n",
       "      <td>0</td>\n",
       "      <td>WD</td>\n",
       "    </tr>\n",
       "    <tr>\n",
       "      <th>4</th>\n",
       "      <td>RL</td>\n",
       "      <td>Pave</td>\n",
       "      <td>NA</td>\n",
       "      <td>NAmes</td>\n",
       "      <td>Norm</td>\n",
       "      <td>1Fam</td>\n",
       "      <td>1Story</td>\n",
       "      <td>6</td>\n",
       "      <td>1963</td>\n",
       "      <td>1963</td>\n",
       "      <td>...</td>\n",
       "      <td>Attchd</td>\n",
       "      <td>RFn</td>\n",
       "      <td>2</td>\n",
       "      <td>514</td>\n",
       "      <td>TA</td>\n",
       "      <td>TA</td>\n",
       "      <td>Y</td>\n",
       "      <td>0</td>\n",
       "      <td>76</td>\n",
       "      <td>WD</td>\n",
       "    </tr>\n",
       "  </tbody>\n",
       "</table>\n",
       "<p>5 rows × 48 columns</p>\n",
       "</div>"
      ],
      "text/plain": [
       "  MS Zoning Street Alley Neighborhood Condition 1 Bldg Type House Style  \\\n",
       "0        RM   Pave  Grvl      OldTown        Norm    2fmCon      2Story   \n",
       "1        RL   Pave    NA       Sawyer        Norm    Duplex      1Story   \n",
       "2        RL   Pave    NA      Gilbert        Norm      1Fam      2Story   \n",
       "3        RM   Pave    NA      OldTown        Norm      1Fam      1Story   \n",
       "4        RL   Pave    NA        NAmes        Norm      1Fam      1Story   \n",
       "\n",
       "   Overall Qual  Year Built  Year Remod/Add  ... Garage Type Garage Finish  \\\n",
       "0             6        1910            1950  ...      Detchd           Unf   \n",
       "1             5        1977            1977  ...      Attchd           Fin   \n",
       "2             7        2006            2006  ...      Attchd           RFn   \n",
       "3             5        1923            2006  ...      Detchd           Unf   \n",
       "4             6        1963            1963  ...      Attchd           RFn   \n",
       "\n",
       "  Garage Cars  Garage Area Garage Qual Garage Cond Paved Drive Wood Deck SF  \\\n",
       "0           1          440          Po          Po           Y            0   \n",
       "1           2          580          TA          TA           Y          170   \n",
       "2           2          426          TA          TA           Y          100   \n",
       "3           2          480          Fa          TA           N            0   \n",
       "4           2          514          TA          TA           Y            0   \n",
       "\n",
       "  Open Porch SF Sale Type  \n",
       "0            60       WD   \n",
       "1             0       WD   \n",
       "2            24       New  \n",
       "3             0       WD   \n",
       "4            76       WD   \n",
       "\n",
       "[5 rows x 48 columns]"
      ]
     },
     "execution_count": 3,
     "metadata": {},
     "output_type": "execute_result"
    }
   ],
   "source": [
    "df_train_pp.head()"
   ]
  },
  {
   "cell_type": "code",
   "execution_count": 4,
   "metadata": {},
   "outputs": [
    {
     "name": "stdout",
     "output_type": "stream",
     "text": [
      "<class 'pandas.core.frame.DataFrame'>\n",
      "RangeIndex: 879 entries, 0 to 878\n",
      "Data columns (total 48 columns):\n",
      " #   Column          Non-Null Count  Dtype  \n",
      "---  ------          --------------  -----  \n",
      " 0   MS Zoning       879 non-null    object \n",
      " 1   Street          879 non-null    object \n",
      " 2   Alley           879 non-null    object \n",
      " 3   Neighborhood    879 non-null    object \n",
      " 4   Condition 1     879 non-null    object \n",
      " 5   Bldg Type       879 non-null    object \n",
      " 6   House Style     879 non-null    object \n",
      " 7   Overall Qual    879 non-null    int64  \n",
      " 8   Year Built      879 non-null    int64  \n",
      " 9   Year Remod/Add  879 non-null    int64  \n",
      " 10  Roof Style      879 non-null    object \n",
      " 11  Exterior 1st    879 non-null    object \n",
      " 12  Exterior 2nd    879 non-null    object \n",
      " 13  Mas Vnr Area    879 non-null    float64\n",
      " 14  Exter Qual      879 non-null    object \n",
      " 15  Exter Cond      879 non-null    object \n",
      " 16  Foundation      879 non-null    object \n",
      " 17  Bsmt Qual       879 non-null    object \n",
      " 18  Bsmt Cond       879 non-null    object \n",
      " 19  Bsmt Exposure   879 non-null    object \n",
      " 20  BsmtFin Type 1  879 non-null    object \n",
      " 21  BsmtFin SF 1    879 non-null    int64  \n",
      " 22  Bsmt Unf SF     879 non-null    int64  \n",
      " 23  Total Bsmt SF   879 non-null    int64  \n",
      " 24  Heating         879 non-null    object \n",
      " 25  Heating QC      879 non-null    object \n",
      " 26  Central Air     879 non-null    object \n",
      " 27  Electrical      879 non-null    object \n",
      " 28  1st Flr SF      879 non-null    int64  \n",
      " 29  2nd Flr SF      879 non-null    int64  \n",
      " 30  Gr Liv Area     879 non-null    int64  \n",
      " 31  Full Bath       879 non-null    int64  \n",
      " 32  Bedroom AbvGr   879 non-null    int64  \n",
      " 33  Kitchen Qual    879 non-null    object \n",
      " 34  TotRms AbvGrd   879 non-null    int64  \n",
      " 35  Functional      879 non-null    object \n",
      " 36  Fireplaces      879 non-null    int64  \n",
      " 37  Fireplace Qu    879 non-null    object \n",
      " 38  Garage Type     879 non-null    object \n",
      " 39  Garage Finish   879 non-null    object \n",
      " 40  Garage Cars     879 non-null    int64  \n",
      " 41  Garage Area     879 non-null    int64  \n",
      " 42  Garage Qual     879 non-null    object \n",
      " 43  Garage Cond     879 non-null    object \n",
      " 44  Paved Drive     879 non-null    object \n",
      " 45  Wood Deck SF    879 non-null    int64  \n",
      " 46  Open Porch SF   879 non-null    int64  \n",
      " 47  Sale Type       879 non-null    object \n",
      "dtypes: float64(1), int64(17), object(30)\n",
      "memory usage: 329.8+ KB\n"
     ]
    }
   ],
   "source": [
    "df_train_pp.info()"
   ]
  },
  {
   "cell_type": "markdown",
   "metadata": {},
   "source": [
    "# 6.1 Changing Categories to Ordinal data\n",
    "- Some Categorical datas can be seen as Ordinal data \n",
    "- therefore it is better to convert them for better fitting into the models"
   ]
  },
  {
   "cell_type": "code",
   "execution_count": 5,
   "metadata": {},
   "outputs": [
    {
     "data": {
      "text/plain": [
       "TA    552\n",
       "Gd    292\n",
       "Ex     26\n",
       "Fa      9\n",
       "Name: Exter Qual, dtype: int64"
      ]
     },
     "execution_count": 5,
     "metadata": {},
     "output_type": "execute_result"
    }
   ],
   "source": [
    "df_train_pp['Exter Qual'].value_counts()"
   ]
  },
  {
   "cell_type": "code",
   "execution_count": 6,
   "metadata": {},
   "outputs": [
    {
     "data": {
      "text/plain": [
       "dtype('int64')"
      ]
     },
     "execution_count": 6,
     "metadata": {},
     "output_type": "execute_result"
    }
   ],
   "source": [
    "#labels = df_train_pp['Exter Qual'].astype('category').cat.categories.tolist() \n",
    "#{'carrier' : {k: v for k,v in zip(labels,list(range(1,len(labels)+1)))}}\n",
    "labels = {'Exter Qual': {'Ex': 5, 'Gd': 4, 'TA': 3, 'Fa': 2, 'Po': 1} }\n",
    "df_train_pp.replace(labels, inplace=True)\n",
    "df_train_pp['Exter Qual'].astype('int64').dtypes"
   ]
  },
  {
   "cell_type": "code",
   "execution_count": 7,
   "metadata": {},
   "outputs": [
    {
     "data": {
      "text/plain": [
       "TA    771\n",
       "Gd     84\n",
       "Fa     18\n",
       "Ex      5\n",
       "Po      1\n",
       "Name: Exter Cond, dtype: int64"
      ]
     },
     "execution_count": 7,
     "metadata": {},
     "output_type": "execute_result"
    }
   ],
   "source": [
    "df_train_pp['Exter Cond'].value_counts()"
   ]
  },
  {
   "cell_type": "code",
   "execution_count": 8,
   "metadata": {},
   "outputs": [
    {
     "data": {
      "text/plain": [
       "dtype('int64')"
      ]
     },
     "execution_count": 8,
     "metadata": {},
     "output_type": "execute_result"
    }
   ],
   "source": [
    "#labels = df_train_pp['Exter Qual'].astype('category').cat.categories.tolist() \n",
    "#{'carrier' : {k: v for k,v in zip(labels,list(range(1,len(labels)+1)))}}\n",
    "labels = {'Exter Cond': {'Ex': 5, 'Gd': 4, 'TA': 3, 'Fa': 2, 'Po': 1} }\n",
    "df_train_pp.replace(labels, inplace=True)\n",
    "df_train_pp['Exter Cond'].astype('int64').dtypes"
   ]
  },
  {
   "cell_type": "code",
   "execution_count": 9,
   "metadata": {},
   "outputs": [
    {
     "data": {
      "text/plain": [
       "TA    396\n",
       "Gd    355\n",
       "Ex     74\n",
       "Fa     28\n",
       "NA     25\n",
       "Po      1\n",
       "Name: Bsmt Qual, dtype: int64"
      ]
     },
     "execution_count": 9,
     "metadata": {},
     "output_type": "execute_result"
    }
   ],
   "source": [
    "df_train_pp['Bsmt Qual'].value_counts()"
   ]
  },
  {
   "cell_type": "code",
   "execution_count": 10,
   "metadata": {},
   "outputs": [
    {
     "data": {
      "text/plain": [
       "dtype('int64')"
      ]
     },
     "execution_count": 10,
     "metadata": {},
     "output_type": "execute_result"
    }
   ],
   "source": [
    "labels = {'Bsmt Qual': {'Ex': 5, 'Gd': 4, 'TA': 3, 'Fa': 2, 'Po': 1, 'NA': 0} }\n",
    "df_train_pp.replace(labels, inplace=True)\n",
    "df_train_pp['Bsmt Qual'].astype('int64').dtypes"
   ]
  },
  {
   "cell_type": "code",
   "execution_count": 11,
   "metadata": {},
   "outputs": [
    {
     "data": {
      "text/plain": [
       "TA    782\n",
       "Fa     39\n",
       "Gd     33\n",
       "NA     25\n",
       "Name: Bsmt Cond, dtype: int64"
      ]
     },
     "execution_count": 11,
     "metadata": {},
     "output_type": "execute_result"
    }
   ],
   "source": [
    "df_train_pp['Bsmt Cond'].value_counts()"
   ]
  },
  {
   "cell_type": "code",
   "execution_count": 12,
   "metadata": {},
   "outputs": [
    {
     "data": {
      "text/plain": [
       "dtype('int64')"
      ]
     },
     "execution_count": 12,
     "metadata": {},
     "output_type": "execute_result"
    }
   ],
   "source": [
    "labels = {'Bsmt Cond': {'Ex': 5, 'Gd': 4, 'TA': 3, 'Fa': 2, 'Po': 1, 'NA': 0} }\n",
    "df_train_pp.replace(labels, inplace=True)\n",
    "df_train_pp['Bsmt Cond'].astype('int64').dtypes"
   ]
  },
  {
   "cell_type": "code",
   "execution_count": 13,
   "metadata": {},
   "outputs": [
    {
     "data": {
      "text/plain": [
       "No    567\n",
       "Av    130\n",
       "Gd     81\n",
       "Mn     76\n",
       "NA     25\n",
       "Name: Bsmt Exposure, dtype: int64"
      ]
     },
     "execution_count": 13,
     "metadata": {},
     "output_type": "execute_result"
    }
   ],
   "source": [
    "df_train_pp['Bsmt Exposure'].value_counts()"
   ]
  },
  {
   "cell_type": "code",
   "execution_count": 14,
   "metadata": {},
   "outputs": [
    {
     "data": {
      "text/plain": [
       "dtype('int64')"
      ]
     },
     "execution_count": 14,
     "metadata": {},
     "output_type": "execute_result"
    }
   ],
   "source": [
    "labels = {'Bsmt Exposure': {'Gd': 4, 'Av': 3, 'Mn': 2, 'No': 1, 'NA': 0} }\n",
    "df_train_pp.replace(labels, inplace=True)\n",
    "df_train_pp['Bsmt Exposure'].astype('int64').dtypes"
   ]
  },
  {
   "cell_type": "code",
   "execution_count": 15,
   "metadata": {},
   "outputs": [
    {
     "data": {
      "text/plain": [
       "Unf    248\n",
       "GLQ    244\n",
       "ALQ    136\n",
       "Rec    105\n",
       "BLQ     69\n",
       "LwQ     52\n",
       "NA      25\n",
       "Name: BsmtFin Type 1, dtype: int64"
      ]
     },
     "execution_count": 15,
     "metadata": {},
     "output_type": "execute_result"
    }
   ],
   "source": [
    "df_train_pp['BsmtFin Type 1'].value_counts()"
   ]
  },
  {
   "cell_type": "code",
   "execution_count": 16,
   "metadata": {},
   "outputs": [
    {
     "data": {
      "text/plain": [
       "dtype('int64')"
      ]
     },
     "execution_count": 16,
     "metadata": {},
     "output_type": "execute_result"
    }
   ],
   "source": [
    "labels = {'BsmtFin Type 1': {'GLQ': 6, 'ALQ': 5, 'BLQ': 4, 'Rec': 3, 'LwQ': 2, 'Unf': 1, 'NA': 0} }\n",
    "df_train_pp.replace(labels, inplace=True)\n",
    "df_train_pp['BsmtFin Type 1'].astype('int64').dtypes"
   ]
  },
  {
   "cell_type": "code",
   "execution_count": 17,
   "metadata": {},
   "outputs": [
    {
     "data": {
      "text/plain": [
       "Ex    430\n",
       "TA    267\n",
       "Gd    157\n",
       "Fa     25\n",
       "Name: Heating QC, dtype: int64"
      ]
     },
     "execution_count": 17,
     "metadata": {},
     "output_type": "execute_result"
    }
   ],
   "source": [
    "df_train_pp['Heating QC'].value_counts() "
   ]
  },
  {
   "cell_type": "code",
   "execution_count": 18,
   "metadata": {},
   "outputs": [
    {
     "data": {
      "text/plain": [
       "dtype('int64')"
      ]
     },
     "execution_count": 18,
     "metadata": {},
     "output_type": "execute_result"
    }
   ],
   "source": [
    "labels = {'Heating QC': {'Ex': 5, 'Gd': 4, 'TA': 3, 'Fa': 2, 'Po': 1} }\n",
    "df_train_pp.replace(labels, inplace=True)\n",
    "df_train_pp['Heating QC'].astype('int64').dtypes"
   ]
  },
  {
   "cell_type": "code",
   "execution_count": 19,
   "metadata": {},
   "outputs": [
    {
     "data": {
      "text/plain": [
       "Y    824\n",
       "N     55\n",
       "Name: Central Air, dtype: int64"
      ]
     },
     "execution_count": 19,
     "metadata": {},
     "output_type": "execute_result"
    }
   ],
   "source": [
    "df_train_pp['Central Air'].value_counts() "
   ]
  },
  {
   "cell_type": "code",
   "execution_count": 20,
   "metadata": {},
   "outputs": [
    {
     "data": {
      "text/plain": [
       "dtype('int64')"
      ]
     },
     "execution_count": 20,
     "metadata": {},
     "output_type": "execute_result"
    }
   ],
   "source": [
    "labels = {'Central Air': {'Y': 1, 'N': 0} }\n",
    "df_train_pp.replace(labels, inplace=True)\n",
    "df_train_pp['Central Air'].astype('int64').dtypes"
   ]
  },
  {
   "cell_type": "code",
   "execution_count": 21,
   "metadata": {},
   "outputs": [
    {
     "data": {
      "text/plain": [
       "TA    447\n",
       "Gd    354\n",
       "Ex     54\n",
       "Fa     23\n",
       "Po      1\n",
       "Name: Kitchen Qual, dtype: int64"
      ]
     },
     "execution_count": 21,
     "metadata": {},
     "output_type": "execute_result"
    }
   ],
   "source": [
    "df_train_pp['Kitchen Qual'].value_counts() "
   ]
  },
  {
   "cell_type": "code",
   "execution_count": 22,
   "metadata": {},
   "outputs": [
    {
     "data": {
      "text/plain": [
       "dtype('int64')"
      ]
     },
     "execution_count": 22,
     "metadata": {},
     "output_type": "execute_result"
    }
   ],
   "source": [
    "labels = {'Kitchen Qual': {'Ex': 5, 'Gd': 4, 'TA': 3, 'Fa': 2, 'Po': 1} }\n",
    "df_train_pp.replace(labels, inplace=True)\n",
    "df_train_pp['Kitchen Qual'].astype('int64').dtypes"
   ]
  },
  {
   "cell_type": "code",
   "execution_count": 23,
   "metadata": {},
   "outputs": [
    {
     "data": {
      "text/plain": [
       "Typ     813\n",
       "Min2     28\n",
       "Min1     23\n",
       "Maj1      7\n",
       "Mod       6\n",
       "Maj2      2\n",
       "Name: Functional, dtype: int64"
      ]
     },
     "execution_count": 23,
     "metadata": {},
     "output_type": "execute_result"
    }
   ],
   "source": [
    "df_train_pp['Functional'].value_counts() "
   ]
  },
  {
   "cell_type": "code",
   "execution_count": 24,
   "metadata": {},
   "outputs": [
    {
     "data": {
      "text/plain": [
       "dtype('int64')"
      ]
     },
     "execution_count": 24,
     "metadata": {},
     "output_type": "execute_result"
    }
   ],
   "source": [
    "labels = {'Functional': {'Typ': 7, 'Min1': 6, 'Min2': 5, 'Mod': 4, 'Maj1': 3, \n",
    "                         'Maj2': 2, 'Sev': 1, 'Sal': 0} }\n",
    "df_train_pp.replace(labels, inplace=True)\n",
    "df_train_pp['Functional'].astype('int64').dtypes"
   ]
  },
  {
   "cell_type": "code",
   "execution_count": 25,
   "metadata": {},
   "outputs": [
    {
     "data": {
      "text/plain": [
       "NA    422\n",
       "Gd    221\n",
       "TA    193\n",
       "Fa     16\n",
       "Po     15\n",
       "Ex     12\n",
       "Name: Fireplace Qu, dtype: int64"
      ]
     },
     "execution_count": 25,
     "metadata": {},
     "output_type": "execute_result"
    }
   ],
   "source": [
    "df_train_pp['Fireplace Qu'].value_counts() "
   ]
  },
  {
   "cell_type": "code",
   "execution_count": 26,
   "metadata": {},
   "outputs": [
    {
     "data": {
      "text/plain": [
       "dtype('int64')"
      ]
     },
     "execution_count": 26,
     "metadata": {},
     "output_type": "execute_result"
    }
   ],
   "source": [
    "labels = {'Fireplace Qu': {'Ex': 5, 'Gd': 4, 'TA': 3, 'Fa': 2, 'Po': 1, 'NA': 0} }\n",
    "df_train_pp.replace(labels, inplace=True)\n",
    "df_train_pp['Fireplace Qu'].astype('int64').dtypes"
   ]
  },
  {
   "cell_type": "code",
   "execution_count": 27,
   "metadata": {},
   "outputs": [
    {
     "data": {
      "text/plain": [
       "Unf    382\n",
       "RFn    233\n",
       "Fin    219\n",
       "NA      45\n",
       "Name: Garage Finish, dtype: int64"
      ]
     },
     "execution_count": 27,
     "metadata": {},
     "output_type": "execute_result"
    }
   ],
   "source": [
    "df_train_pp['Garage Finish'].value_counts() "
   ]
  },
  {
   "cell_type": "code",
   "execution_count": 28,
   "metadata": {},
   "outputs": [
    {
     "data": {
      "text/plain": [
       "dtype('int64')"
      ]
     },
     "execution_count": 28,
     "metadata": {},
     "output_type": "execute_result"
    }
   ],
   "source": [
    "labels = {'Garage Finish': {'Fin': 3, 'RFn': 2, 'Unf': 1, 'NA': 0} }\n",
    "df_train_pp.replace(labels, inplace=True)\n",
    "df_train_pp['Garage Finish'].astype('int64').dtypes"
   ]
  },
  {
   "cell_type": "code",
   "execution_count": 29,
   "metadata": {},
   "outputs": [
    {
     "data": {
      "text/plain": [
       "TA    783\n",
       "NA     45\n",
       "Fa     42\n",
       "Gd      6\n",
       "Po      3\n",
       "Name: Garage Qual, dtype: int64"
      ]
     },
     "execution_count": 29,
     "metadata": {},
     "output_type": "execute_result"
    }
   ],
   "source": [
    "df_train_pp['Garage Qual'].value_counts() "
   ]
  },
  {
   "cell_type": "code",
   "execution_count": 30,
   "metadata": {},
   "outputs": [
    {
     "data": {
      "text/plain": [
       "dtype('int64')"
      ]
     },
     "execution_count": 30,
     "metadata": {},
     "output_type": "execute_result"
    }
   ],
   "source": [
    "labels = {'Garage Qual': {'Ex': 5, 'Gd': 4, 'TA': 3, 'Fa': 2, 'Po': 1, 'NA': 0} }\n",
    "df_train_pp.replace(labels, inplace=True)\n",
    "df_train_pp['Garage Qual'].astype('int64').dtypes"
   ]
  },
  {
   "cell_type": "code",
   "execution_count": 31,
   "metadata": {},
   "outputs": [
    {
     "data": {
      "text/plain": [
       "TA    797\n",
       "NA     45\n",
       "Fa     27\n",
       "Po      6\n",
       "Gd      3\n",
       "Ex      1\n",
       "Name: Garage Cond, dtype: int64"
      ]
     },
     "execution_count": 31,
     "metadata": {},
     "output_type": "execute_result"
    }
   ],
   "source": [
    "df_train_pp['Garage Cond'].value_counts() "
   ]
  },
  {
   "cell_type": "code",
   "execution_count": 32,
   "metadata": {},
   "outputs": [
    {
     "data": {
      "text/plain": [
       "dtype('int64')"
      ]
     },
     "execution_count": 32,
     "metadata": {},
     "output_type": "execute_result"
    }
   ],
   "source": [
    "labels = {'Garage Cond': {'Ex': 5, 'Gd': 4, 'TA': 3, 'Fa': 2, 'Po': 1, 'NA': 0} }\n",
    "df_train_pp.replace(labels, inplace=True)\n",
    "df_train_pp['Garage Cond'].astype('int64').dtypes"
   ]
  },
  {
   "cell_type": "code",
   "execution_count": 33,
   "metadata": {},
   "outputs": [
    {
     "name": "stdout",
     "output_type": "stream",
     "text": [
      "<class 'pandas.core.frame.DataFrame'>\n",
      "RangeIndex: 879 entries, 0 to 878\n",
      "Data columns (total 48 columns):\n",
      " #   Column          Non-Null Count  Dtype  \n",
      "---  ------          --------------  -----  \n",
      " 0   MS Zoning       879 non-null    object \n",
      " 1   Street          879 non-null    object \n",
      " 2   Alley           879 non-null    object \n",
      " 3   Neighborhood    879 non-null    object \n",
      " 4   Condition 1     879 non-null    object \n",
      " 5   Bldg Type       879 non-null    object \n",
      " 6   House Style     879 non-null    object \n",
      " 7   Overall Qual    879 non-null    int64  \n",
      " 8   Year Built      879 non-null    int64  \n",
      " 9   Year Remod/Add  879 non-null    int64  \n",
      " 10  Roof Style      879 non-null    object \n",
      " 11  Exterior 1st    879 non-null    object \n",
      " 12  Exterior 2nd    879 non-null    object \n",
      " 13  Mas Vnr Area    879 non-null    float64\n",
      " 14  Exter Qual      879 non-null    int64  \n",
      " 15  Exter Cond      879 non-null    int64  \n",
      " 16  Foundation      879 non-null    object \n",
      " 17  Bsmt Qual       879 non-null    int64  \n",
      " 18  Bsmt Cond       879 non-null    int64  \n",
      " 19  Bsmt Exposure   879 non-null    int64  \n",
      " 20  BsmtFin Type 1  879 non-null    int64  \n",
      " 21  BsmtFin SF 1    879 non-null    int64  \n",
      " 22  Bsmt Unf SF     879 non-null    int64  \n",
      " 23  Total Bsmt SF   879 non-null    int64  \n",
      " 24  Heating         879 non-null    object \n",
      " 25  Heating QC      879 non-null    int64  \n",
      " 26  Central Air     879 non-null    int64  \n",
      " 27  Electrical      879 non-null    object \n",
      " 28  1st Flr SF      879 non-null    int64  \n",
      " 29  2nd Flr SF      879 non-null    int64  \n",
      " 30  Gr Liv Area     879 non-null    int64  \n",
      " 31  Full Bath       879 non-null    int64  \n",
      " 32  Bedroom AbvGr   879 non-null    int64  \n",
      " 33  Kitchen Qual    879 non-null    int64  \n",
      " 34  TotRms AbvGrd   879 non-null    int64  \n",
      " 35  Functional      879 non-null    int64  \n",
      " 36  Fireplaces      879 non-null    int64  \n",
      " 37  Fireplace Qu    879 non-null    int64  \n",
      " 38  Garage Type     879 non-null    object \n",
      " 39  Garage Finish   879 non-null    int64  \n",
      " 40  Garage Cars     879 non-null    int64  \n",
      " 41  Garage Area     879 non-null    int64  \n",
      " 42  Garage Qual     879 non-null    int64  \n",
      " 43  Garage Cond     879 non-null    int64  \n",
      " 44  Paved Drive     879 non-null    object \n",
      " 45  Wood Deck SF    879 non-null    int64  \n",
      " 46  Open Porch SF   879 non-null    int64  \n",
      " 47  Sale Type       879 non-null    object \n",
      "dtypes: float64(1), int64(31), object(16)\n",
      "memory usage: 329.8+ KB\n"
     ]
    }
   ],
   "source": [
    "df_train_pp.info()"
   ]
  },
  {
   "cell_type": "markdown",
   "metadata": {},
   "source": [
    "## 6.1 comments:\n",
    "Changed 14 ordinal categories data to int data types"
   ]
  },
  {
   "cell_type": "markdown",
   "metadata": {},
   "source": [
    "# 6.2 Scaling of Data"
   ]
  },
  {
   "cell_type": "code",
   "execution_count": 34,
   "metadata": {},
   "outputs": [
    {
     "data": {
      "text/plain": [
       "(879, 32)"
      ]
     },
     "execution_count": 34,
     "metadata": {},
     "output_type": "execute_result"
    }
   ],
   "source": [
    "num_data = df_train_pp.select_dtypes(['int64', 'float64']).keys()\n",
    "num_data = [x for x in num_data if x != 'SalePrice']\n",
    "\n",
    "nums = df_train_pp[num_data]\n",
    "ss = StandardScaler()\n",
    "ss.fit(nums)\n",
    "nums_scaled = ss.transform(nums)\n",
    "\n",
    "nums_scaled.shape"
   ]
  },
  {
   "cell_type": "code",
   "execution_count": 35,
   "metadata": {},
   "outputs": [
    {
     "data": {
      "text/html": [
       "<div>\n",
       "<style scoped>\n",
       "    .dataframe tbody tr th:only-of-type {\n",
       "        vertical-align: middle;\n",
       "    }\n",
       "\n",
       "    .dataframe tbody tr th {\n",
       "        vertical-align: top;\n",
       "    }\n",
       "\n",
       "    .dataframe thead th {\n",
       "        text-align: right;\n",
       "    }\n",
       "</style>\n",
       "<table border=\"1\" class=\"dataframe\">\n",
       "  <thead>\n",
       "    <tr style=\"text-align: right;\">\n",
       "      <th></th>\n",
       "      <th>Overall Qual</th>\n",
       "      <th>Year Built</th>\n",
       "      <th>Year Remod/Add</th>\n",
       "      <th>Mas Vnr Area</th>\n",
       "      <th>Exter Qual</th>\n",
       "      <th>Exter Cond</th>\n",
       "      <th>Bsmt Qual</th>\n",
       "      <th>Bsmt Cond</th>\n",
       "      <th>Bsmt Exposure</th>\n",
       "      <th>BsmtFin Type 1</th>\n",
       "      <th>...</th>\n",
       "      <th>Functional</th>\n",
       "      <th>Fireplaces</th>\n",
       "      <th>Fireplace Qu</th>\n",
       "      <th>Garage Finish</th>\n",
       "      <th>Garage Cars</th>\n",
       "      <th>Garage Area</th>\n",
       "      <th>Garage Qual</th>\n",
       "      <th>Garage Cond</th>\n",
       "      <th>Wood Deck SF</th>\n",
       "      <th>Open Porch SF</th>\n",
       "    </tr>\n",
       "  </thead>\n",
       "  <tbody>\n",
       "    <tr>\n",
       "      <th>0</th>\n",
       "      <td>-0.039744</td>\n",
       "      <td>-1.992138</td>\n",
       "      <td>-1.684928</td>\n",
       "      <td>-0.567876</td>\n",
       "      <td>-0.678508</td>\n",
       "      <td>-2.937136</td>\n",
       "      <td>-1.596589</td>\n",
       "      <td>0.160561</td>\n",
       "      <td>-0.590655</td>\n",
       "      <td>-1.200628</td>\n",
       "      <td>...</td>\n",
       "      <td>0.250557</td>\n",
       "      <td>-0.925183</td>\n",
       "      <td>-0.992319</td>\n",
       "      <td>-0.793429</td>\n",
       "      <td>-0.991066</td>\n",
       "      <td>-0.144789</td>\n",
       "      <td>-2.573520</td>\n",
       "      <td>-2.583088</td>\n",
       "      <td>-0.772558</td>\n",
       "      <td>0.181019</td>\n",
       "    </tr>\n",
       "    <tr>\n",
       "      <th>1</th>\n",
       "      <td>-0.767560</td>\n",
       "      <td>0.212808</td>\n",
       "      <td>-0.364176</td>\n",
       "      <td>-0.567876</td>\n",
       "      <td>-0.678508</td>\n",
       "      <td>-0.228067</td>\n",
       "      <td>0.601378</td>\n",
       "      <td>0.160561</td>\n",
       "      <td>-0.590655</td>\n",
       "      <td>-1.200628</td>\n",
       "      <td>...</td>\n",
       "      <td>0.250557</td>\n",
       "      <td>-0.925183</td>\n",
       "      <td>-0.992319</td>\n",
       "      <td>1.434763</td>\n",
       "      <td>0.340963</td>\n",
       "      <td>0.512645</td>\n",
       "      <td>0.288117</td>\n",
       "      <td>0.274727</td>\n",
       "      <td>0.631179</td>\n",
       "      <td>-0.686412</td>\n",
       "    </tr>\n",
       "    <tr>\n",
       "      <th>2</th>\n",
       "      <td>0.688072</td>\n",
       "      <td>1.167188</td>\n",
       "      <td>1.054409</td>\n",
       "      <td>-0.567876</td>\n",
       "      <td>1.101815</td>\n",
       "      <td>-0.228067</td>\n",
       "      <td>0.601378</td>\n",
       "      <td>1.902942</td>\n",
       "      <td>1.283662</td>\n",
       "      <td>1.189208</td>\n",
       "      <td>...</td>\n",
       "      <td>0.250557</td>\n",
       "      <td>0.569736</td>\n",
       "      <td>1.229970</td>\n",
       "      <td>0.320667</td>\n",
       "      <td>0.340963</td>\n",
       "      <td>-0.210533</td>\n",
       "      <td>0.288117</td>\n",
       "      <td>0.274727</td>\n",
       "      <td>0.053170</td>\n",
       "      <td>-0.339439</td>\n",
       "    </tr>\n",
       "    <tr>\n",
       "      <th>3</th>\n",
       "      <td>-0.767560</td>\n",
       "      <td>-1.564313</td>\n",
       "      <td>1.054409</td>\n",
       "      <td>-0.567876</td>\n",
       "      <td>1.101815</td>\n",
       "      <td>-0.228067</td>\n",
       "      <td>-0.497606</td>\n",
       "      <td>0.160561</td>\n",
       "      <td>-0.590655</td>\n",
       "      <td>-1.200628</td>\n",
       "      <td>...</td>\n",
       "      <td>0.250557</td>\n",
       "      <td>-0.925183</td>\n",
       "      <td>-0.992319</td>\n",
       "      <td>-0.793429</td>\n",
       "      <td>0.340963</td>\n",
       "      <td>0.043049</td>\n",
       "      <td>-1.142701</td>\n",
       "      <td>0.274727</td>\n",
       "      <td>-0.772558</td>\n",
       "      <td>-0.686412</td>\n",
       "    </tr>\n",
       "    <tr>\n",
       "      <th>4</th>\n",
       "      <td>-0.039744</td>\n",
       "      <td>-0.247927</td>\n",
       "      <td>-1.049010</td>\n",
       "      <td>0.744718</td>\n",
       "      <td>-0.678508</td>\n",
       "      <td>-0.228067</td>\n",
       "      <td>0.601378</td>\n",
       "      <td>0.160561</td>\n",
       "      <td>-0.590655</td>\n",
       "      <td>0.233274</td>\n",
       "      <td>...</td>\n",
       "      <td>0.250557</td>\n",
       "      <td>2.064656</td>\n",
       "      <td>1.229970</td>\n",
       "      <td>0.320667</td>\n",
       "      <td>0.340963</td>\n",
       "      <td>0.202712</td>\n",
       "      <td>0.288117</td>\n",
       "      <td>0.274727</td>\n",
       "      <td>-0.772558</td>\n",
       "      <td>0.412334</td>\n",
       "    </tr>\n",
       "  </tbody>\n",
       "</table>\n",
       "<p>5 rows × 32 columns</p>\n",
       "</div>"
      ],
      "text/plain": [
       "   Overall Qual  Year Built  Year Remod/Add  Mas Vnr Area  Exter Qual  \\\n",
       "0     -0.039744   -1.992138       -1.684928     -0.567876   -0.678508   \n",
       "1     -0.767560    0.212808       -0.364176     -0.567876   -0.678508   \n",
       "2      0.688072    1.167188        1.054409     -0.567876    1.101815   \n",
       "3     -0.767560   -1.564313        1.054409     -0.567876    1.101815   \n",
       "4     -0.039744   -0.247927       -1.049010      0.744718   -0.678508   \n",
       "\n",
       "   Exter Cond  Bsmt Qual  Bsmt Cond  Bsmt Exposure  BsmtFin Type 1  ...  \\\n",
       "0   -2.937136  -1.596589   0.160561      -0.590655       -1.200628  ...   \n",
       "1   -0.228067   0.601378   0.160561      -0.590655       -1.200628  ...   \n",
       "2   -0.228067   0.601378   1.902942       1.283662        1.189208  ...   \n",
       "3   -0.228067  -0.497606   0.160561      -0.590655       -1.200628  ...   \n",
       "4   -0.228067   0.601378   0.160561      -0.590655        0.233274  ...   \n",
       "\n",
       "   Functional  Fireplaces  Fireplace Qu  Garage Finish  Garage Cars  \\\n",
       "0    0.250557   -0.925183     -0.992319      -0.793429    -0.991066   \n",
       "1    0.250557   -0.925183     -0.992319       1.434763     0.340963   \n",
       "2    0.250557    0.569736      1.229970       0.320667     0.340963   \n",
       "3    0.250557   -0.925183     -0.992319      -0.793429     0.340963   \n",
       "4    0.250557    2.064656      1.229970       0.320667     0.340963   \n",
       "\n",
       "   Garage Area  Garage Qual  Garage Cond  Wood Deck SF  Open Porch SF  \n",
       "0    -0.144789    -2.573520    -2.583088     -0.772558       0.181019  \n",
       "1     0.512645     0.288117     0.274727      0.631179      -0.686412  \n",
       "2    -0.210533     0.288117     0.274727      0.053170      -0.339439  \n",
       "3     0.043049    -1.142701     0.274727     -0.772558      -0.686412  \n",
       "4     0.202712     0.288117     0.274727     -0.772558       0.412334  \n",
       "\n",
       "[5 rows x 32 columns]"
      ]
     },
     "execution_count": 35,
     "metadata": {},
     "output_type": "execute_result"
    }
   ],
   "source": [
    "nums_scaled_pd = pd.DataFrame(nums_scaled, columns = num_data) #create pd for combining later\n",
    "nums_scaled_pd.head()"
   ]
  },
  {
   "cell_type": "markdown",
   "metadata": {},
   "source": [
    "# 6.3 One-hot encode categorical variables\n",
    "\n",
    "- Creating dummies for dataframe"
   ]
  },
  {
   "cell_type": "code",
   "execution_count": 36,
   "metadata": {},
   "outputs": [
    {
     "name": "stdout",
     "output_type": "stream",
     "text": [
      "Index(['MS Zoning', 'Street', 'Alley', 'Neighborhood', 'Condition 1',\n",
      "       'Bldg Type', 'House Style', 'Roof Style', 'Exterior 1st',\n",
      "       'Exterior 2nd', 'Foundation', 'Heating', 'Electrical', 'Garage Type',\n",
      "       'Paved Drive', 'Sale Type'],\n",
      "      dtype='object')\n"
     ]
    },
    {
     "data": {
      "text/plain": [
       "16"
      ]
     },
     "execution_count": 36,
     "metadata": {},
     "output_type": "execute_result"
    }
   ],
   "source": [
    "#selecting object dtypes to create dummies\n",
    "obj_data = df_train_pp.select_dtypes(['object']).keys()\n",
    "print(obj_data)\n",
    "len(obj_data)"
   ]
  },
  {
   "cell_type": "code",
   "execution_count": 37,
   "metadata": {},
   "outputs": [
    {
     "data": {
      "text/html": [
       "<div>\n",
       "<style scoped>\n",
       "    .dataframe tbody tr th:only-of-type {\n",
       "        vertical-align: middle;\n",
       "    }\n",
       "\n",
       "    .dataframe tbody tr th {\n",
       "        vertical-align: top;\n",
       "    }\n",
       "\n",
       "    .dataframe thead th {\n",
       "        text-align: right;\n",
       "    }\n",
       "</style>\n",
       "<table border=\"1\" class=\"dataframe\">\n",
       "  <thead>\n",
       "    <tr style=\"text-align: right;\">\n",
       "      <th></th>\n",
       "      <th>MS Zoning_C (all)</th>\n",
       "      <th>MS Zoning_FV</th>\n",
       "      <th>MS Zoning_I (all)</th>\n",
       "      <th>MS Zoning_RH</th>\n",
       "      <th>MS Zoning_RL</th>\n",
       "      <th>MS Zoning_RM</th>\n",
       "      <th>Street_Grvl</th>\n",
       "      <th>Street_Pave</th>\n",
       "      <th>Alley_Grvl</th>\n",
       "      <th>Alley_NA</th>\n",
       "      <th>...</th>\n",
       "      <th>Sale Type_COD</th>\n",
       "      <th>Sale Type_CWD</th>\n",
       "      <th>Sale Type_Con</th>\n",
       "      <th>Sale Type_ConLD</th>\n",
       "      <th>Sale Type_ConLI</th>\n",
       "      <th>Sale Type_ConLw</th>\n",
       "      <th>Sale Type_New</th>\n",
       "      <th>Sale Type_Oth</th>\n",
       "      <th>Sale Type_VWD</th>\n",
       "      <th>Sale Type_WD</th>\n",
       "    </tr>\n",
       "  </thead>\n",
       "  <tbody>\n",
       "    <tr>\n",
       "      <th>0</th>\n",
       "      <td>0</td>\n",
       "      <td>0</td>\n",
       "      <td>0</td>\n",
       "      <td>0</td>\n",
       "      <td>0</td>\n",
       "      <td>1</td>\n",
       "      <td>0</td>\n",
       "      <td>1</td>\n",
       "      <td>1</td>\n",
       "      <td>0</td>\n",
       "      <td>...</td>\n",
       "      <td>0</td>\n",
       "      <td>0</td>\n",
       "      <td>0</td>\n",
       "      <td>0</td>\n",
       "      <td>0</td>\n",
       "      <td>0</td>\n",
       "      <td>0</td>\n",
       "      <td>0</td>\n",
       "      <td>0</td>\n",
       "      <td>1</td>\n",
       "    </tr>\n",
       "    <tr>\n",
       "      <th>1</th>\n",
       "      <td>0</td>\n",
       "      <td>0</td>\n",
       "      <td>0</td>\n",
       "      <td>0</td>\n",
       "      <td>1</td>\n",
       "      <td>0</td>\n",
       "      <td>0</td>\n",
       "      <td>1</td>\n",
       "      <td>0</td>\n",
       "      <td>1</td>\n",
       "      <td>...</td>\n",
       "      <td>0</td>\n",
       "      <td>0</td>\n",
       "      <td>0</td>\n",
       "      <td>0</td>\n",
       "      <td>0</td>\n",
       "      <td>0</td>\n",
       "      <td>0</td>\n",
       "      <td>0</td>\n",
       "      <td>0</td>\n",
       "      <td>1</td>\n",
       "    </tr>\n",
       "    <tr>\n",
       "      <th>2</th>\n",
       "      <td>0</td>\n",
       "      <td>0</td>\n",
       "      <td>0</td>\n",
       "      <td>0</td>\n",
       "      <td>1</td>\n",
       "      <td>0</td>\n",
       "      <td>0</td>\n",
       "      <td>1</td>\n",
       "      <td>0</td>\n",
       "      <td>1</td>\n",
       "      <td>...</td>\n",
       "      <td>0</td>\n",
       "      <td>0</td>\n",
       "      <td>0</td>\n",
       "      <td>0</td>\n",
       "      <td>0</td>\n",
       "      <td>0</td>\n",
       "      <td>1</td>\n",
       "      <td>0</td>\n",
       "      <td>0</td>\n",
       "      <td>0</td>\n",
       "    </tr>\n",
       "    <tr>\n",
       "      <th>3</th>\n",
       "      <td>0</td>\n",
       "      <td>0</td>\n",
       "      <td>0</td>\n",
       "      <td>0</td>\n",
       "      <td>0</td>\n",
       "      <td>1</td>\n",
       "      <td>0</td>\n",
       "      <td>1</td>\n",
       "      <td>0</td>\n",
       "      <td>1</td>\n",
       "      <td>...</td>\n",
       "      <td>0</td>\n",
       "      <td>0</td>\n",
       "      <td>0</td>\n",
       "      <td>0</td>\n",
       "      <td>0</td>\n",
       "      <td>0</td>\n",
       "      <td>0</td>\n",
       "      <td>0</td>\n",
       "      <td>0</td>\n",
       "      <td>1</td>\n",
       "    </tr>\n",
       "    <tr>\n",
       "      <th>4</th>\n",
       "      <td>0</td>\n",
       "      <td>0</td>\n",
       "      <td>0</td>\n",
       "      <td>0</td>\n",
       "      <td>1</td>\n",
       "      <td>0</td>\n",
       "      <td>0</td>\n",
       "      <td>1</td>\n",
       "      <td>0</td>\n",
       "      <td>1</td>\n",
       "      <td>...</td>\n",
       "      <td>0</td>\n",
       "      <td>0</td>\n",
       "      <td>0</td>\n",
       "      <td>0</td>\n",
       "      <td>0</td>\n",
       "      <td>0</td>\n",
       "      <td>0</td>\n",
       "      <td>0</td>\n",
       "      <td>0</td>\n",
       "      <td>1</td>\n",
       "    </tr>\n",
       "    <tr>\n",
       "      <th>...</th>\n",
       "      <td>...</td>\n",
       "      <td>...</td>\n",
       "      <td>...</td>\n",
       "      <td>...</td>\n",
       "      <td>...</td>\n",
       "      <td>...</td>\n",
       "      <td>...</td>\n",
       "      <td>...</td>\n",
       "      <td>...</td>\n",
       "      <td>...</td>\n",
       "      <td>...</td>\n",
       "      <td>...</td>\n",
       "      <td>...</td>\n",
       "      <td>...</td>\n",
       "      <td>...</td>\n",
       "      <td>...</td>\n",
       "      <td>...</td>\n",
       "      <td>...</td>\n",
       "      <td>...</td>\n",
       "      <td>...</td>\n",
       "      <td>...</td>\n",
       "    </tr>\n",
       "    <tr>\n",
       "      <th>874</th>\n",
       "      <td>0</td>\n",
       "      <td>0</td>\n",
       "      <td>0</td>\n",
       "      <td>0</td>\n",
       "      <td>1</td>\n",
       "      <td>0</td>\n",
       "      <td>0</td>\n",
       "      <td>1</td>\n",
       "      <td>0</td>\n",
       "      <td>1</td>\n",
       "      <td>...</td>\n",
       "      <td>0</td>\n",
       "      <td>0</td>\n",
       "      <td>0</td>\n",
       "      <td>0</td>\n",
       "      <td>0</td>\n",
       "      <td>0</td>\n",
       "      <td>0</td>\n",
       "      <td>0</td>\n",
       "      <td>0</td>\n",
       "      <td>1</td>\n",
       "    </tr>\n",
       "    <tr>\n",
       "      <th>875</th>\n",
       "      <td>0</td>\n",
       "      <td>0</td>\n",
       "      <td>0</td>\n",
       "      <td>0</td>\n",
       "      <td>1</td>\n",
       "      <td>0</td>\n",
       "      <td>0</td>\n",
       "      <td>1</td>\n",
       "      <td>0</td>\n",
       "      <td>1</td>\n",
       "      <td>...</td>\n",
       "      <td>0</td>\n",
       "      <td>0</td>\n",
       "      <td>0</td>\n",
       "      <td>0</td>\n",
       "      <td>0</td>\n",
       "      <td>0</td>\n",
       "      <td>0</td>\n",
       "      <td>0</td>\n",
       "      <td>0</td>\n",
       "      <td>1</td>\n",
       "    </tr>\n",
       "    <tr>\n",
       "      <th>876</th>\n",
       "      <td>0</td>\n",
       "      <td>0</td>\n",
       "      <td>0</td>\n",
       "      <td>0</td>\n",
       "      <td>1</td>\n",
       "      <td>0</td>\n",
       "      <td>0</td>\n",
       "      <td>1</td>\n",
       "      <td>0</td>\n",
       "      <td>1</td>\n",
       "      <td>...</td>\n",
       "      <td>0</td>\n",
       "      <td>0</td>\n",
       "      <td>0</td>\n",
       "      <td>0</td>\n",
       "      <td>0</td>\n",
       "      <td>0</td>\n",
       "      <td>0</td>\n",
       "      <td>0</td>\n",
       "      <td>0</td>\n",
       "      <td>1</td>\n",
       "    </tr>\n",
       "    <tr>\n",
       "      <th>877</th>\n",
       "      <td>0</td>\n",
       "      <td>0</td>\n",
       "      <td>0</td>\n",
       "      <td>0</td>\n",
       "      <td>1</td>\n",
       "      <td>0</td>\n",
       "      <td>0</td>\n",
       "      <td>1</td>\n",
       "      <td>0</td>\n",
       "      <td>1</td>\n",
       "      <td>...</td>\n",
       "      <td>0</td>\n",
       "      <td>0</td>\n",
       "      <td>0</td>\n",
       "      <td>0</td>\n",
       "      <td>0</td>\n",
       "      <td>0</td>\n",
       "      <td>0</td>\n",
       "      <td>0</td>\n",
       "      <td>0</td>\n",
       "      <td>1</td>\n",
       "    </tr>\n",
       "    <tr>\n",
       "      <th>878</th>\n",
       "      <td>0</td>\n",
       "      <td>0</td>\n",
       "      <td>0</td>\n",
       "      <td>0</td>\n",
       "      <td>1</td>\n",
       "      <td>0</td>\n",
       "      <td>0</td>\n",
       "      <td>1</td>\n",
       "      <td>0</td>\n",
       "      <td>1</td>\n",
       "      <td>...</td>\n",
       "      <td>0</td>\n",
       "      <td>0</td>\n",
       "      <td>0</td>\n",
       "      <td>0</td>\n",
       "      <td>0</td>\n",
       "      <td>0</td>\n",
       "      <td>0</td>\n",
       "      <td>0</td>\n",
       "      <td>0</td>\n",
       "      <td>1</td>\n",
       "    </tr>\n",
       "  </tbody>\n",
       "</table>\n",
       "<p>879 rows × 129 columns</p>\n",
       "</div>"
      ],
      "text/plain": [
       "     MS Zoning_C (all)  MS Zoning_FV  MS Zoning_I (all)  MS Zoning_RH  \\\n",
       "0                    0             0                  0             0   \n",
       "1                    0             0                  0             0   \n",
       "2                    0             0                  0             0   \n",
       "3                    0             0                  0             0   \n",
       "4                    0             0                  0             0   \n",
       "..                 ...           ...                ...           ...   \n",
       "874                  0             0                  0             0   \n",
       "875                  0             0                  0             0   \n",
       "876                  0             0                  0             0   \n",
       "877                  0             0                  0             0   \n",
       "878                  0             0                  0             0   \n",
       "\n",
       "     MS Zoning_RL  MS Zoning_RM  Street_Grvl  Street_Pave  Alley_Grvl  \\\n",
       "0               0             1            0            1           1   \n",
       "1               1             0            0            1           0   \n",
       "2               1             0            0            1           0   \n",
       "3               0             1            0            1           0   \n",
       "4               1             0            0            1           0   \n",
       "..            ...           ...          ...          ...         ...   \n",
       "874             1             0            0            1           0   \n",
       "875             1             0            0            1           0   \n",
       "876             1             0            0            1           0   \n",
       "877             1             0            0            1           0   \n",
       "878             1             0            0            1           0   \n",
       "\n",
       "     Alley_NA  ...  Sale Type_COD  Sale Type_CWD  Sale Type_Con  \\\n",
       "0           0  ...              0              0              0   \n",
       "1           1  ...              0              0              0   \n",
       "2           1  ...              0              0              0   \n",
       "3           1  ...              0              0              0   \n",
       "4           1  ...              0              0              0   \n",
       "..        ...  ...            ...            ...            ...   \n",
       "874         1  ...              0              0              0   \n",
       "875         1  ...              0              0              0   \n",
       "876         1  ...              0              0              0   \n",
       "877         1  ...              0              0              0   \n",
       "878         1  ...              0              0              0   \n",
       "\n",
       "     Sale Type_ConLD  Sale Type_ConLI  Sale Type_ConLw  Sale Type_New  \\\n",
       "0                  0                0                0              0   \n",
       "1                  0                0                0              0   \n",
       "2                  0                0                0              1   \n",
       "3                  0                0                0              0   \n",
       "4                  0                0                0              0   \n",
       "..               ...              ...              ...            ...   \n",
       "874                0                0                0              0   \n",
       "875                0                0                0              0   \n",
       "876                0                0                0              0   \n",
       "877                0                0                0              0   \n",
       "878                0                0                0              0   \n",
       "\n",
       "     Sale Type_Oth  Sale Type_VWD  Sale Type_WD   \n",
       "0                0              0              1  \n",
       "1                0              0              1  \n",
       "2                0              0              0  \n",
       "3                0              0              1  \n",
       "4                0              0              1  \n",
       "..             ...            ...            ...  \n",
       "874              0              0              1  \n",
       "875              0              0              1  \n",
       "876              0              0              1  \n",
       "877              0              0              1  \n",
       "878              0              0              1  \n",
       "\n",
       "[879 rows x 129 columns]"
      ]
     },
     "execution_count": 37,
     "metadata": {},
     "output_type": "execute_result"
    }
   ],
   "source": [
    "obj_processed = pd.get_dummies(df_train_pp[obj_data], columns = obj_data)\n",
    "obj_processed"
   ]
  },
  {
   "cell_type": "code",
   "execution_count": 38,
   "metadata": {},
   "outputs": [
    {
     "data": {
      "text/plain": [
       "Index(['Alley_NA', 'Neighborhood_NAmes', 'Garage Type_NA'], dtype='object')"
      ]
     },
     "execution_count": 38,
     "metadata": {},
     "output_type": "execute_result"
    }
   ],
   "source": [
    "#remove columns with NA count values\n",
    "na_col = obj_processed.filter(regex = 'NA')\n",
    "na_col_keys = na_col.keys()\n",
    "na_col_keys"
   ]
  },
  {
   "cell_type": "code",
   "execution_count": 39,
   "metadata": {},
   "outputs": [
    {
     "data": {
      "text/plain": [
       "(879, 126)"
      ]
     },
     "execution_count": 39,
     "metadata": {},
     "output_type": "execute_result"
    }
   ],
   "source": [
    "obj_processed.drop(columns = na_col_keys, inplace = True)\n",
    "obj_processed.shape "
   ]
  },
  {
   "cell_type": "code",
   "execution_count": 41,
   "metadata": {},
   "outputs": [
    {
     "data": {
      "text/plain": [
       "(879, 158)"
      ]
     },
     "execution_count": 41,
     "metadata": {},
     "output_type": "execute_result"
    }
   ],
   "source": [
    "df_processed = pd.concat([nums_scaled_pd, obj_processed], ignore_index=False, sort=False, axis = 1)\n",
    "df_processed.shape"
   ]
  },
  {
   "cell_type": "code",
   "execution_count": 42,
   "metadata": {},
   "outputs": [
    {
     "data": {
      "text/html": [
       "<div>\n",
       "<style scoped>\n",
       "    .dataframe tbody tr th:only-of-type {\n",
       "        vertical-align: middle;\n",
       "    }\n",
       "\n",
       "    .dataframe tbody tr th {\n",
       "        vertical-align: top;\n",
       "    }\n",
       "\n",
       "    .dataframe thead th {\n",
       "        text-align: right;\n",
       "    }\n",
       "</style>\n",
       "<table border=\"1\" class=\"dataframe\">\n",
       "  <thead>\n",
       "    <tr style=\"text-align: right;\">\n",
       "      <th></th>\n",
       "      <th>Overall Qual</th>\n",
       "      <th>Year Built</th>\n",
       "      <th>Year Remod/Add</th>\n",
       "      <th>Mas Vnr Area</th>\n",
       "      <th>Exter Qual</th>\n",
       "      <th>Exter Cond</th>\n",
       "      <th>Bsmt Qual</th>\n",
       "      <th>Bsmt Cond</th>\n",
       "      <th>Bsmt Exposure</th>\n",
       "      <th>BsmtFin Type 1</th>\n",
       "      <th>...</th>\n",
       "      <th>Sale Type_COD</th>\n",
       "      <th>Sale Type_CWD</th>\n",
       "      <th>Sale Type_Con</th>\n",
       "      <th>Sale Type_ConLD</th>\n",
       "      <th>Sale Type_ConLI</th>\n",
       "      <th>Sale Type_ConLw</th>\n",
       "      <th>Sale Type_New</th>\n",
       "      <th>Sale Type_Oth</th>\n",
       "      <th>Sale Type_VWD</th>\n",
       "      <th>Sale Type_WD</th>\n",
       "    </tr>\n",
       "  </thead>\n",
       "  <tbody>\n",
       "    <tr>\n",
       "      <th>0</th>\n",
       "      <td>-0.039744</td>\n",
       "      <td>-1.992138</td>\n",
       "      <td>-1.684928</td>\n",
       "      <td>-0.567876</td>\n",
       "      <td>-0.678508</td>\n",
       "      <td>-2.937136</td>\n",
       "      <td>-1.596589</td>\n",
       "      <td>0.160561</td>\n",
       "      <td>-0.590655</td>\n",
       "      <td>-1.200628</td>\n",
       "      <td>...</td>\n",
       "      <td>0</td>\n",
       "      <td>0</td>\n",
       "      <td>0</td>\n",
       "      <td>0</td>\n",
       "      <td>0</td>\n",
       "      <td>0</td>\n",
       "      <td>0</td>\n",
       "      <td>0</td>\n",
       "      <td>0</td>\n",
       "      <td>1</td>\n",
       "    </tr>\n",
       "    <tr>\n",
       "      <th>1</th>\n",
       "      <td>-0.767560</td>\n",
       "      <td>0.212808</td>\n",
       "      <td>-0.364176</td>\n",
       "      <td>-0.567876</td>\n",
       "      <td>-0.678508</td>\n",
       "      <td>-0.228067</td>\n",
       "      <td>0.601378</td>\n",
       "      <td>0.160561</td>\n",
       "      <td>-0.590655</td>\n",
       "      <td>-1.200628</td>\n",
       "      <td>...</td>\n",
       "      <td>0</td>\n",
       "      <td>0</td>\n",
       "      <td>0</td>\n",
       "      <td>0</td>\n",
       "      <td>0</td>\n",
       "      <td>0</td>\n",
       "      <td>0</td>\n",
       "      <td>0</td>\n",
       "      <td>0</td>\n",
       "      <td>1</td>\n",
       "    </tr>\n",
       "    <tr>\n",
       "      <th>2</th>\n",
       "      <td>0.688072</td>\n",
       "      <td>1.167188</td>\n",
       "      <td>1.054409</td>\n",
       "      <td>-0.567876</td>\n",
       "      <td>1.101815</td>\n",
       "      <td>-0.228067</td>\n",
       "      <td>0.601378</td>\n",
       "      <td>1.902942</td>\n",
       "      <td>1.283662</td>\n",
       "      <td>1.189208</td>\n",
       "      <td>...</td>\n",
       "      <td>0</td>\n",
       "      <td>0</td>\n",
       "      <td>0</td>\n",
       "      <td>0</td>\n",
       "      <td>0</td>\n",
       "      <td>0</td>\n",
       "      <td>1</td>\n",
       "      <td>0</td>\n",
       "      <td>0</td>\n",
       "      <td>0</td>\n",
       "    </tr>\n",
       "    <tr>\n",
       "      <th>3</th>\n",
       "      <td>-0.767560</td>\n",
       "      <td>-1.564313</td>\n",
       "      <td>1.054409</td>\n",
       "      <td>-0.567876</td>\n",
       "      <td>1.101815</td>\n",
       "      <td>-0.228067</td>\n",
       "      <td>-0.497606</td>\n",
       "      <td>0.160561</td>\n",
       "      <td>-0.590655</td>\n",
       "      <td>-1.200628</td>\n",
       "      <td>...</td>\n",
       "      <td>0</td>\n",
       "      <td>0</td>\n",
       "      <td>0</td>\n",
       "      <td>0</td>\n",
       "      <td>0</td>\n",
       "      <td>0</td>\n",
       "      <td>0</td>\n",
       "      <td>0</td>\n",
       "      <td>0</td>\n",
       "      <td>1</td>\n",
       "    </tr>\n",
       "    <tr>\n",
       "      <th>4</th>\n",
       "      <td>-0.039744</td>\n",
       "      <td>-0.247927</td>\n",
       "      <td>-1.049010</td>\n",
       "      <td>0.744718</td>\n",
       "      <td>-0.678508</td>\n",
       "      <td>-0.228067</td>\n",
       "      <td>0.601378</td>\n",
       "      <td>0.160561</td>\n",
       "      <td>-0.590655</td>\n",
       "      <td>0.233274</td>\n",
       "      <td>...</td>\n",
       "      <td>0</td>\n",
       "      <td>0</td>\n",
       "      <td>0</td>\n",
       "      <td>0</td>\n",
       "      <td>0</td>\n",
       "      <td>0</td>\n",
       "      <td>0</td>\n",
       "      <td>0</td>\n",
       "      <td>0</td>\n",
       "      <td>1</td>\n",
       "    </tr>\n",
       "  </tbody>\n",
       "</table>\n",
       "<p>5 rows × 158 columns</p>\n",
       "</div>"
      ],
      "text/plain": [
       "   Overall Qual  Year Built  Year Remod/Add  Mas Vnr Area  Exter Qual  \\\n",
       "0     -0.039744   -1.992138       -1.684928     -0.567876   -0.678508   \n",
       "1     -0.767560    0.212808       -0.364176     -0.567876   -0.678508   \n",
       "2      0.688072    1.167188        1.054409     -0.567876    1.101815   \n",
       "3     -0.767560   -1.564313        1.054409     -0.567876    1.101815   \n",
       "4     -0.039744   -0.247927       -1.049010      0.744718   -0.678508   \n",
       "\n",
       "   Exter Cond  Bsmt Qual  Bsmt Cond  Bsmt Exposure  BsmtFin Type 1  ...  \\\n",
       "0   -2.937136  -1.596589   0.160561      -0.590655       -1.200628  ...   \n",
       "1   -0.228067   0.601378   0.160561      -0.590655       -1.200628  ...   \n",
       "2   -0.228067   0.601378   1.902942       1.283662        1.189208  ...   \n",
       "3   -0.228067  -0.497606   0.160561      -0.590655       -1.200628  ...   \n",
       "4   -0.228067   0.601378   0.160561      -0.590655        0.233274  ...   \n",
       "\n",
       "   Sale Type_COD  Sale Type_CWD  Sale Type_Con  Sale Type_ConLD  \\\n",
       "0              0              0              0                0   \n",
       "1              0              0              0                0   \n",
       "2              0              0              0                0   \n",
       "3              0              0              0                0   \n",
       "4              0              0              0                0   \n",
       "\n",
       "   Sale Type_ConLI  Sale Type_ConLw  Sale Type_New  Sale Type_Oth  \\\n",
       "0                0                0              0              0   \n",
       "1                0                0              0              0   \n",
       "2                0                0              1              0   \n",
       "3                0                0              0              0   \n",
       "4                0                0              0              0   \n",
       "\n",
       "   Sale Type_VWD  Sale Type_WD   \n",
       "0              0              1  \n",
       "1              0              1  \n",
       "2              0              0  \n",
       "3              0              1  \n",
       "4              0              1  \n",
       "\n",
       "[5 rows x 158 columns]"
      ]
     },
     "execution_count": 42,
     "metadata": {},
     "output_type": "execute_result"
    }
   ],
   "source": [
    "df_processed.head()"
   ]
  },
  {
   "cell_type": "markdown",
   "metadata": {},
   "source": [
    "# 6.4 Exporting Data for Model"
   ]
  },
  {
   "cell_type": "code",
   "execution_count": 43,
   "metadata": {},
   "outputs": [],
   "source": [
    "df_processed.to_csv(\"../datasets/test_processed.csv\", index=False)"
   ]
  },
  {
   "cell_type": "code",
   "execution_count": null,
   "metadata": {},
   "outputs": [],
   "source": []
  }
 ],
 "metadata": {
  "kernelspec": {
   "display_name": "Python 3",
   "language": "python",
   "name": "python3"
  },
  "language_info": {
   "codemirror_mode": {
    "name": "ipython",
    "version": 3
   },
   "file_extension": ".py",
   "mimetype": "text/x-python",
   "name": "python",
   "nbconvert_exporter": "python",
   "pygments_lexer": "ipython3",
   "version": "3.7.7"
  }
 },
 "nbformat": 4,
 "nbformat_minor": 4
}
