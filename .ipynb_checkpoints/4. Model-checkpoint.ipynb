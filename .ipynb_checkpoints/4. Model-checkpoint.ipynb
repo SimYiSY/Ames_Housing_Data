{
 "cells": [
  {
   "cell_type": "markdown",
   "metadata": {},
   "source": [
    "# Ames Housing Saleprice\n",
    "\n",
    "## Problem Statement\n",
    "\n",
    "Create a regression model where we are able to predict the price of the house at sales."
   ]
  },
  {
   "cell_type": "markdown",
   "metadata": {},
   "source": [
    "## Executive Summary\n",
    "\n",
    "### Contents:\n",
    "- [7. Model_Benchmarks](#7.-Model-Benchmarks)\n",
    "\n",
    "\n",
    "Links:\n",
    "[Kaggle challenge link](https://www.kaggle.com/c/dsi-us-6-project-2-regression-challenge/data)"
   ]
  },
  {
   "cell_type": "markdown",
   "metadata": {},
   "source": [
    "# 7. Model Benchmarks"
   ]
  },
  {
   "cell_type": "markdown",
   "metadata": {},
   "source": [
    "## 7.1 Importing Data"
   ]
  },
  {
   "cell_type": "code",
   "execution_count": 1,
   "metadata": {},
   "outputs": [],
   "source": [
    "#Imports:\n",
    "import pandas as pd\n",
    "import numpy as np\n",
    "import seaborn as sns\n",
    "import matplotlib.pyplot as plt\n",
    "import scipy.stats as stats\n",
    "from sklearn.model_selection import train_test_split\n",
    "from sklearn.linear_model import LinearRegression, Ridge, RidgeCV, Lasso, LassoCV, ElasticNet, ElasticNetCV\n",
    "from sklearn.model_selection import cross_val_score\n",
    "from sklearn.preprocessing import StandardScaler\n",
    "from sklearn.preprocessing import PolynomialFeatures\n",
    "from sklearn import metrics\n",
    "plt.style.use('ggplot')"
   ]
  },
  {
   "cell_type": "code",
   "execution_count": 2,
   "metadata": {},
   "outputs": [],
   "source": [
    "# Importing cleaned dataset for Pre Processing\n",
    "df_processed = pd.read_csv(\"./datasets/train_processed.csv\", na_filter=False)"
   ]
  },
  {
   "cell_type": "code",
   "execution_count": 3,
   "metadata": {},
   "outputs": [
    {
     "name": "stdout",
     "output_type": "stream",
     "text": [
      "<class 'pandas.core.frame.DataFrame'>\n",
      "RangeIndex: 2051 entries, 0 to 2050\n",
      "Columns: 163 entries, Overall Qual to SalePrice\n",
      "dtypes: float64(32), int64(131)\n",
      "memory usage: 2.6 MB\n"
     ]
    }
   ],
   "source": [
    "df_processed.info()"
   ]
  },
  {
   "cell_type": "code",
   "execution_count": 4,
   "metadata": {},
   "outputs": [
    {
     "data": {
      "text/html": [
       "<div>\n",
       "<style scoped>\n",
       "    .dataframe tbody tr th:only-of-type {\n",
       "        vertical-align: middle;\n",
       "    }\n",
       "\n",
       "    .dataframe tbody tr th {\n",
       "        vertical-align: top;\n",
       "    }\n",
       "\n",
       "    .dataframe thead th {\n",
       "        text-align: right;\n",
       "    }\n",
       "</style>\n",
       "<table border=\"1\" class=\"dataframe\">\n",
       "  <thead>\n",
       "    <tr style=\"text-align: right;\">\n",
       "      <th></th>\n",
       "      <th>Overall Qual</th>\n",
       "      <th>Year Built</th>\n",
       "      <th>Year Remod/Add</th>\n",
       "      <th>Mas Vnr Area</th>\n",
       "      <th>Exter Qual</th>\n",
       "      <th>Exter Cond</th>\n",
       "      <th>Bsmt Qual</th>\n",
       "      <th>Bsmt Cond</th>\n",
       "      <th>Bsmt Exposure</th>\n",
       "      <th>BsmtFin Type 1</th>\n",
       "      <th>...</th>\n",
       "      <th>Sale Type_COD</th>\n",
       "      <th>Sale Type_CWD</th>\n",
       "      <th>Sale Type_Con</th>\n",
       "      <th>Sale Type_ConLD</th>\n",
       "      <th>Sale Type_ConLI</th>\n",
       "      <th>Sale Type_ConLw</th>\n",
       "      <th>Sale Type_New</th>\n",
       "      <th>Sale Type_Oth</th>\n",
       "      <th>Sale Type_WD</th>\n",
       "      <th>SalePrice</th>\n",
       "    </tr>\n",
       "  </thead>\n",
       "  <tbody>\n",
       "    <tr>\n",
       "      <th>0</th>\n",
       "      <td>-0.078644</td>\n",
       "      <td>0.142227</td>\n",
       "      <td>0.989479</td>\n",
       "      <td>1.092329</td>\n",
       "      <td>1.010273</td>\n",
       "      <td>-0.230243</td>\n",
       "      <td>-0.543594</td>\n",
       "      <td>0.123625</td>\n",
       "      <td>-0.582816</td>\n",
       "      <td>1.14603</td>\n",
       "      <td>...</td>\n",
       "      <td>0</td>\n",
       "      <td>0</td>\n",
       "      <td>0</td>\n",
       "      <td>0</td>\n",
       "      <td>0</td>\n",
       "      <td>0</td>\n",
       "      <td>0</td>\n",
       "      <td>0</td>\n",
       "      <td>1</td>\n",
       "      <td>130500</td>\n",
       "    </tr>\n",
       "    <tr>\n",
       "      <th>1</th>\n",
       "      <td>0.622656</td>\n",
       "      <td>0.805126</td>\n",
       "      <td>0.609090</td>\n",
       "      <td>0.191491</td>\n",
       "      <td>1.010273</td>\n",
       "      <td>-0.230243</td>\n",
       "      <td>0.565771</td>\n",
       "      <td>0.123625</td>\n",
       "      <td>-0.582816</td>\n",
       "      <td>1.14603</td>\n",
       "      <td>...</td>\n",
       "      <td>0</td>\n",
       "      <td>0</td>\n",
       "      <td>0</td>\n",
       "      <td>0</td>\n",
       "      <td>0</td>\n",
       "      <td>0</td>\n",
       "      <td>0</td>\n",
       "      <td>0</td>\n",
       "      <td>1</td>\n",
       "      <td>220000</td>\n",
       "    </tr>\n",
       "    <tr>\n",
       "      <th>2</th>\n",
       "      <td>-0.779944</td>\n",
       "      <td>-0.620106</td>\n",
       "      <td>1.084576</td>\n",
       "      <td>-0.565901</td>\n",
       "      <td>-0.690934</td>\n",
       "      <td>2.452869</td>\n",
       "      <td>-0.543594</td>\n",
       "      <td>0.123625</td>\n",
       "      <td>-0.582816</td>\n",
       "      <td>1.14603</td>\n",
       "      <td>...</td>\n",
       "      <td>0</td>\n",
       "      <td>0</td>\n",
       "      <td>0</td>\n",
       "      <td>0</td>\n",
       "      <td>0</td>\n",
       "      <td>0</td>\n",
       "      <td>0</td>\n",
       "      <td>0</td>\n",
       "      <td>1</td>\n",
       "      <td>109000</td>\n",
       "    </tr>\n",
       "    <tr>\n",
       "      <th>3</th>\n",
       "      <td>-0.779944</td>\n",
       "      <td>1.136575</td>\n",
       "      <td>1.084576</td>\n",
       "      <td>-0.565901</td>\n",
       "      <td>-0.690934</td>\n",
       "      <td>-0.230243</td>\n",
       "      <td>0.565771</td>\n",
       "      <td>0.123625</td>\n",
       "      <td>-0.582816</td>\n",
       "      <td>-1.20683</td>\n",
       "      <td>...</td>\n",
       "      <td>0</td>\n",
       "      <td>0</td>\n",
       "      <td>0</td>\n",
       "      <td>0</td>\n",
       "      <td>0</td>\n",
       "      <td>0</td>\n",
       "      <td>0</td>\n",
       "      <td>0</td>\n",
       "      <td>1</td>\n",
       "      <td>174000</td>\n",
       "    </tr>\n",
       "    <tr>\n",
       "      <th>4</th>\n",
       "      <td>-0.078644</td>\n",
       "      <td>-2.376787</td>\n",
       "      <td>0.418896</td>\n",
       "      <td>-0.565901</td>\n",
       "      <td>-0.690934</td>\n",
       "      <td>-0.230243</td>\n",
       "      <td>-1.652959</td>\n",
       "      <td>1.872274</td>\n",
       "      <td>-0.582816</td>\n",
       "      <td>-1.20683</td>\n",
       "      <td>...</td>\n",
       "      <td>0</td>\n",
       "      <td>0</td>\n",
       "      <td>0</td>\n",
       "      <td>0</td>\n",
       "      <td>0</td>\n",
       "      <td>0</td>\n",
       "      <td>0</td>\n",
       "      <td>0</td>\n",
       "      <td>1</td>\n",
       "      <td>138500</td>\n",
       "    </tr>\n",
       "  </tbody>\n",
       "</table>\n",
       "<p>5 rows × 163 columns</p>\n",
       "</div>"
      ],
      "text/plain": [
       "   Overall Qual  Year Built  Year Remod/Add  Mas Vnr Area  Exter Qual  \\\n",
       "0     -0.078644    0.142227        0.989479      1.092329    1.010273   \n",
       "1      0.622656    0.805126        0.609090      0.191491    1.010273   \n",
       "2     -0.779944   -0.620106        1.084576     -0.565901   -0.690934   \n",
       "3     -0.779944    1.136575        1.084576     -0.565901   -0.690934   \n",
       "4     -0.078644   -2.376787        0.418896     -0.565901   -0.690934   \n",
       "\n",
       "   Exter Cond  Bsmt Qual  Bsmt Cond  Bsmt Exposure  BsmtFin Type 1  ...  \\\n",
       "0   -0.230243  -0.543594   0.123625      -0.582816         1.14603  ...   \n",
       "1   -0.230243   0.565771   0.123625      -0.582816         1.14603  ...   \n",
       "2    2.452869  -0.543594   0.123625      -0.582816         1.14603  ...   \n",
       "3   -0.230243   0.565771   0.123625      -0.582816        -1.20683  ...   \n",
       "4   -0.230243  -1.652959   1.872274      -0.582816        -1.20683  ...   \n",
       "\n",
       "   Sale Type_COD  Sale Type_CWD  Sale Type_Con  Sale Type_ConLD  \\\n",
       "0              0              0              0                0   \n",
       "1              0              0              0                0   \n",
       "2              0              0              0                0   \n",
       "3              0              0              0                0   \n",
       "4              0              0              0                0   \n",
       "\n",
       "   Sale Type_ConLI  Sale Type_ConLw  Sale Type_New  Sale Type_Oth  \\\n",
       "0                0                0              0              0   \n",
       "1                0                0              0              0   \n",
       "2                0                0              0              0   \n",
       "3                0                0              0              0   \n",
       "4                0                0              0              0   \n",
       "\n",
       "   Sale Type_WD   SalePrice  \n",
       "0              1     130500  \n",
       "1              1     220000  \n",
       "2              1     109000  \n",
       "3              1     174000  \n",
       "4              1     138500  \n",
       "\n",
       "[5 rows x 163 columns]"
      ]
     },
     "execution_count": 4,
     "metadata": {},
     "output_type": "execute_result"
    }
   ],
   "source": [
    "df_processed.head()"
   ]
  },
  {
   "cell_type": "markdown",
   "metadata": {},
   "source": [
    "# 7.2 Train Split Test"
   ]
  },
  {
   "cell_type": "code",
   "execution_count": 5,
   "metadata": {},
   "outputs": [
    {
     "data": {
      "text/plain": [
       "Index(['Overall Qual', 'Year Built', 'Year Remod/Add', 'Mas Vnr Area',\n",
       "       'Exter Qual', 'Exter Cond', 'Bsmt Qual', 'Bsmt Cond', 'Bsmt Exposure',\n",
       "       'BsmtFin Type 1',\n",
       "       ...\n",
       "       'Paved Drive_Y', 'Sale Type_COD', 'Sale Type_CWD', 'Sale Type_Con',\n",
       "       'Sale Type_ConLD', 'Sale Type_ConLI', 'Sale Type_ConLw',\n",
       "       'Sale Type_New', 'Sale Type_Oth', 'Sale Type_WD '],\n",
       "      dtype='object', length=162)"
      ]
     },
     "execution_count": 5,
     "metadata": {},
     "output_type": "execute_result"
    }
   ],
   "source": [
    "col_keys = df_processed.drop(columns = 'SalePrice').keys()\n",
    "col_keys"
   ]
  },
  {
   "cell_type": "code",
   "execution_count": 6,
   "metadata": {},
   "outputs": [],
   "source": [
    "y = df_processed['SalePrice']\n",
    "X = df_processed[col_keys]"
   ]
  },
  {
   "cell_type": "raw",
   "metadata": {},
   "source": []
  },
  {
   "cell_type": "markdown",
   "metadata": {},
   "source": [
    "# Linear"
   ]
  },
  {
   "cell_type": "code",
   "execution_count": 8,
   "metadata": {},
   "outputs": [
    {
     "data": {
      "text/plain": [
       "LinearRegression()"
      ]
     },
     "execution_count": 8,
     "metadata": {},
     "output_type": "execute_result"
    }
   ],
   "source": [
    "model = LinearRegression()\n",
    "model.fit(X_train, y_train)"
   ]
  },
  {
   "cell_type": "code",
   "execution_count": 18,
   "metadata": {},
   "outputs": [
    {
     "data": {
      "text/plain": [
       "-1.5281073802771345e+23"
      ]
     },
     "execution_count": 18,
     "metadata": {},
     "output_type": "execute_result"
    }
   ],
   "source": [
    "cross_val_score(model, X= X_test, y = y_test, cv= 5).mean()"
   ]
  },
  {
   "cell_type": "code",
   "execution_count": 19,
   "metadata": {},
   "outputs": [
    {
     "data": {
      "text/plain": [
       "-1.8743952294966427e+22"
      ]
     },
     "execution_count": 19,
     "metadata": {},
     "output_type": "execute_result"
    }
   ],
   "source": [
    "cross_val_score(model, X= X_train, y = y_train, cv= 5).mean()"
   ]
  },
  {
   "cell_type": "markdown",
   "metadata": {},
   "source": [
    "# Lasso"
   ]
  },
  {
   "cell_type": "code",
   "execution_count": 13,
   "metadata": {},
   "outputs": [],
   "source": [
    "lasso = LassoCV()"
   ]
  },
  {
   "cell_type": "code",
   "execution_count": 14,
   "metadata": {},
   "outputs": [
    {
     "data": {
      "text/plain": [
       "LassoCV()"
      ]
     },
     "execution_count": 14,
     "metadata": {},
     "output_type": "execute_result"
    }
   ],
   "source": [
    "lasso.fit(X_train, y_train)"
   ]
  },
  {
   "cell_type": "code",
   "execution_count": 44,
   "metadata": {},
   "outputs": [],
   "source": [
    "lasso_y_preds = lasso.predict(X_train)"
   ]
  },
  {
   "cell_type": "code",
   "execution_count": 45,
   "metadata": {},
   "outputs": [
    {
     "data": {
      "text/plain": [
       "131.97371887911726"
      ]
     },
     "execution_count": 45,
     "metadata": {},
     "output_type": "execute_result"
    }
   ],
   "source": [
    "np.sqrt(metrics.mean_absolute_error(y_train,lasso_y_preds))"
   ]
  },
  {
   "cell_type": "code",
   "execution_count": 17,
   "metadata": {},
   "outputs": [
    {
     "data": {
      "text/plain": [
       "0.8388692689787612"
      ]
     },
     "execution_count": 17,
     "metadata": {},
     "output_type": "execute_result"
    }
   ],
   "source": [
    "cross_val_score(lasso, X= X_train, y = y_train, cv= 5).mean()"
   ]
  },
  {
   "cell_type": "code",
   "execution_count": 20,
   "metadata": {},
   "outputs": [
    {
     "data": {
      "text/plain": [
       "0.8890933726434609"
      ]
     },
     "execution_count": 20,
     "metadata": {},
     "output_type": "execute_result"
    }
   ],
   "source": [
    "cross_val_score(lasso, X= X_test, y = y_test, cv= 5).mean()"
   ]
  },
  {
   "cell_type": "markdown",
   "metadata": {},
   "source": [
    "# Ridge"
   ]
  },
  {
   "cell_type": "code",
   "execution_count": 105,
   "metadata": {},
   "outputs": [],
   "source": [
    "ridge = RidgeCV()"
   ]
  },
  {
   "cell_type": "code",
   "execution_count": 106,
   "metadata": {},
   "outputs": [
    {
     "data": {
      "text/plain": [
       "RidgeCV(alphas=array([ 0.1,  1. , 10. ]))"
      ]
     },
     "execution_count": 106,
     "metadata": {},
     "output_type": "execute_result"
    }
   ],
   "source": [
    "ridge.fit(X_train, y_train)"
   ]
  },
  {
   "cell_type": "code",
   "execution_count": 107,
   "metadata": {},
   "outputs": [],
   "source": [
    "ridge_y_preds = ridge.predict(X_train)"
   ]
  },
  {
   "cell_type": "code",
   "execution_count": 108,
   "metadata": {},
   "outputs": [
    {
     "data": {
      "text/plain": [
       "130.92832641591585"
      ]
     },
     "execution_count": 108,
     "metadata": {},
     "output_type": "execute_result"
    }
   ],
   "source": [
    "np.sqrt(metrics.mean_absolute_error(y_train,ridge_y_preds))"
   ]
  },
  {
   "cell_type": "code",
   "execution_count": 109,
   "metadata": {},
   "outputs": [
    {
     "data": {
      "text/plain": [
       "0.8362658714481789"
      ]
     },
     "execution_count": 109,
     "metadata": {},
     "output_type": "execute_result"
    }
   ],
   "source": [
    "cross_val_score(ridge, X= X_train, y = y_train, cv= 5).mean()"
   ]
  },
  {
   "cell_type": "code",
   "execution_count": 110,
   "metadata": {},
   "outputs": [
    {
     "data": {
      "text/plain": [
       "0.8970677999662477"
      ]
     },
     "execution_count": 110,
     "metadata": {},
     "output_type": "execute_result"
    }
   ],
   "source": [
    "cross_val_score(ridge, X= X_test, y = y_test, cv= 5).mean()"
   ]
  },
  {
   "cell_type": "markdown",
   "metadata": {},
   "source": [
    "# Elastic Net"
   ]
  },
  {
   "cell_type": "code",
   "execution_count": 29,
   "metadata": {},
   "outputs": [],
   "source": [
    "elasticnet = ElasticNetCV()"
   ]
  },
  {
   "cell_type": "code",
   "execution_count": 30,
   "metadata": {},
   "outputs": [
    {
     "data": {
      "text/plain": [
       "ElasticNetCV()"
      ]
     },
     "execution_count": 30,
     "metadata": {},
     "output_type": "execute_result"
    }
   ],
   "source": [
    "elasticnet.fit(X_train, y_train)"
   ]
  },
  {
   "cell_type": "code",
   "execution_count": 46,
   "metadata": {},
   "outputs": [],
   "source": [
    "elasticnet_y_preds = elasticnet.predict(X_train)"
   ]
  },
  {
   "cell_type": "code",
   "execution_count": 47,
   "metadata": {},
   "outputs": [
    {
     "data": {
      "text/plain": [
       "226.61310165119306"
      ]
     },
     "execution_count": 47,
     "metadata": {},
     "output_type": "execute_result"
    }
   ],
   "source": [
    "np.sqrt(metrics.mean_absolute_error(y_train,elasticnet_y_preds))"
   ]
  },
  {
   "cell_type": "code",
   "execution_count": 31,
   "metadata": {},
   "outputs": [
    {
     "data": {
      "text/plain": [
       "0.20137021309136133"
      ]
     },
     "execution_count": 31,
     "metadata": {},
     "output_type": "execute_result"
    }
   ],
   "source": [
    "cross_val_score(elasticnet, X= X_train, y = y_train, cv= 5).mean()"
   ]
  },
  {
   "cell_type": "code",
   "execution_count": 32,
   "metadata": {},
   "outputs": [
    {
     "data": {
      "text/plain": [
       "0.18639907042954346"
      ]
     },
     "execution_count": 32,
     "metadata": {},
     "output_type": "execute_result"
    }
   ],
   "source": [
    "cross_val_score(elasticnet, X= X_test, y = y_test, cv= 5).mean()"
   ]
  },
  {
   "cell_type": "code",
   "execution_count": null,
   "metadata": {},
   "outputs": [],
   "source": []
  },
  {
   "cell_type": "markdown",
   "metadata": {},
   "source": [
    "# for Kaggle Submission"
   ]
  },
  {
   "cell_type": "code",
   "execution_count": 53,
   "metadata": {},
   "outputs": [
    {
     "data": {
      "text/html": [
       "<div>\n",
       "<style scoped>\n",
       "    .dataframe tbody tr th:only-of-type {\n",
       "        vertical-align: middle;\n",
       "    }\n",
       "\n",
       "    .dataframe tbody tr th {\n",
       "        vertical-align: top;\n",
       "    }\n",
       "\n",
       "    .dataframe thead th {\n",
       "        text-align: right;\n",
       "    }\n",
       "</style>\n",
       "<table border=\"1\" class=\"dataframe\">\n",
       "  <thead>\n",
       "    <tr style=\"text-align: right;\">\n",
       "      <th></th>\n",
       "      <th>Overall Qual</th>\n",
       "      <th>Year Built</th>\n",
       "      <th>Year Remod/Add</th>\n",
       "      <th>Mas Vnr Area</th>\n",
       "      <th>Exter Qual</th>\n",
       "      <th>Exter Cond</th>\n",
       "      <th>Bsmt Qual</th>\n",
       "      <th>Bsmt Cond</th>\n",
       "      <th>Bsmt Exposure</th>\n",
       "      <th>BsmtFin Type 1</th>\n",
       "      <th>...</th>\n",
       "      <th>Sale Type_COD</th>\n",
       "      <th>Sale Type_CWD</th>\n",
       "      <th>Sale Type_Con</th>\n",
       "      <th>Sale Type_ConLD</th>\n",
       "      <th>Sale Type_ConLI</th>\n",
       "      <th>Sale Type_ConLw</th>\n",
       "      <th>Sale Type_New</th>\n",
       "      <th>Sale Type_Oth</th>\n",
       "      <th>Sale Type_VWD</th>\n",
       "      <th>Sale Type_WD</th>\n",
       "    </tr>\n",
       "  </thead>\n",
       "  <tbody>\n",
       "    <tr>\n",
       "      <th>0</th>\n",
       "      <td>-0.039744</td>\n",
       "      <td>-1.992138</td>\n",
       "      <td>-1.684928</td>\n",
       "      <td>-0.567876</td>\n",
       "      <td>-0.678508</td>\n",
       "      <td>-2.937136</td>\n",
       "      <td>-1.596589</td>\n",
       "      <td>0.160561</td>\n",
       "      <td>-0.590655</td>\n",
       "      <td>-1.200628</td>\n",
       "      <td>...</td>\n",
       "      <td>0</td>\n",
       "      <td>0</td>\n",
       "      <td>0</td>\n",
       "      <td>0</td>\n",
       "      <td>0</td>\n",
       "      <td>0</td>\n",
       "      <td>0</td>\n",
       "      <td>0</td>\n",
       "      <td>0</td>\n",
       "      <td>1</td>\n",
       "    </tr>\n",
       "    <tr>\n",
       "      <th>1</th>\n",
       "      <td>-0.767560</td>\n",
       "      <td>0.212808</td>\n",
       "      <td>-0.364176</td>\n",
       "      <td>-0.567876</td>\n",
       "      <td>-0.678508</td>\n",
       "      <td>-0.228067</td>\n",
       "      <td>0.601378</td>\n",
       "      <td>0.160561</td>\n",
       "      <td>-0.590655</td>\n",
       "      <td>-1.200628</td>\n",
       "      <td>...</td>\n",
       "      <td>0</td>\n",
       "      <td>0</td>\n",
       "      <td>0</td>\n",
       "      <td>0</td>\n",
       "      <td>0</td>\n",
       "      <td>0</td>\n",
       "      <td>0</td>\n",
       "      <td>0</td>\n",
       "      <td>0</td>\n",
       "      <td>1</td>\n",
       "    </tr>\n",
       "    <tr>\n",
       "      <th>2</th>\n",
       "      <td>0.688072</td>\n",
       "      <td>1.167188</td>\n",
       "      <td>1.054409</td>\n",
       "      <td>-0.567876</td>\n",
       "      <td>1.101815</td>\n",
       "      <td>-0.228067</td>\n",
       "      <td>0.601378</td>\n",
       "      <td>1.902942</td>\n",
       "      <td>1.283662</td>\n",
       "      <td>1.189208</td>\n",
       "      <td>...</td>\n",
       "      <td>0</td>\n",
       "      <td>0</td>\n",
       "      <td>0</td>\n",
       "      <td>0</td>\n",
       "      <td>0</td>\n",
       "      <td>0</td>\n",
       "      <td>1</td>\n",
       "      <td>0</td>\n",
       "      <td>0</td>\n",
       "      <td>0</td>\n",
       "    </tr>\n",
       "    <tr>\n",
       "      <th>3</th>\n",
       "      <td>-0.767560</td>\n",
       "      <td>-1.564313</td>\n",
       "      <td>1.054409</td>\n",
       "      <td>-0.567876</td>\n",
       "      <td>1.101815</td>\n",
       "      <td>-0.228067</td>\n",
       "      <td>-0.497606</td>\n",
       "      <td>0.160561</td>\n",
       "      <td>-0.590655</td>\n",
       "      <td>-1.200628</td>\n",
       "      <td>...</td>\n",
       "      <td>0</td>\n",
       "      <td>0</td>\n",
       "      <td>0</td>\n",
       "      <td>0</td>\n",
       "      <td>0</td>\n",
       "      <td>0</td>\n",
       "      <td>0</td>\n",
       "      <td>0</td>\n",
       "      <td>0</td>\n",
       "      <td>1</td>\n",
       "    </tr>\n",
       "    <tr>\n",
       "      <th>4</th>\n",
       "      <td>-0.039744</td>\n",
       "      <td>-0.247927</td>\n",
       "      <td>-1.049010</td>\n",
       "      <td>0.744718</td>\n",
       "      <td>-0.678508</td>\n",
       "      <td>-0.228067</td>\n",
       "      <td>0.601378</td>\n",
       "      <td>0.160561</td>\n",
       "      <td>-0.590655</td>\n",
       "      <td>0.233274</td>\n",
       "      <td>...</td>\n",
       "      <td>0</td>\n",
       "      <td>0</td>\n",
       "      <td>0</td>\n",
       "      <td>0</td>\n",
       "      <td>0</td>\n",
       "      <td>0</td>\n",
       "      <td>0</td>\n",
       "      <td>0</td>\n",
       "      <td>0</td>\n",
       "      <td>1</td>\n",
       "    </tr>\n",
       "  </tbody>\n",
       "</table>\n",
       "<p>5 rows × 158 columns</p>\n",
       "</div>"
      ],
      "text/plain": [
       "   Overall Qual  Year Built  Year Remod/Add  Mas Vnr Area  Exter Qual  \\\n",
       "0     -0.039744   -1.992138       -1.684928     -0.567876   -0.678508   \n",
       "1     -0.767560    0.212808       -0.364176     -0.567876   -0.678508   \n",
       "2      0.688072    1.167188        1.054409     -0.567876    1.101815   \n",
       "3     -0.767560   -1.564313        1.054409     -0.567876    1.101815   \n",
       "4     -0.039744   -0.247927       -1.049010      0.744718   -0.678508   \n",
       "\n",
       "   Exter Cond  Bsmt Qual  Bsmt Cond  Bsmt Exposure  BsmtFin Type 1  ...  \\\n",
       "0   -2.937136  -1.596589   0.160561      -0.590655       -1.200628  ...   \n",
       "1   -0.228067   0.601378   0.160561      -0.590655       -1.200628  ...   \n",
       "2   -0.228067   0.601378   1.902942       1.283662        1.189208  ...   \n",
       "3   -0.228067  -0.497606   0.160561      -0.590655       -1.200628  ...   \n",
       "4   -0.228067   0.601378   0.160561      -0.590655        0.233274  ...   \n",
       "\n",
       "   Sale Type_COD  Sale Type_CWD  Sale Type_Con  Sale Type_ConLD  \\\n",
       "0              0              0              0                0   \n",
       "1              0              0              0                0   \n",
       "2              0              0              0                0   \n",
       "3              0              0              0                0   \n",
       "4              0              0              0                0   \n",
       "\n",
       "   Sale Type_ConLI  Sale Type_ConLw  Sale Type_New  Sale Type_Oth  \\\n",
       "0                0                0              0              0   \n",
       "1                0                0              0              0   \n",
       "2                0                0              1              0   \n",
       "3                0                0              0              0   \n",
       "4                0                0              0              0   \n",
       "\n",
       "   Sale Type_VWD  Sale Type_WD   \n",
       "0              0              1  \n",
       "1              0              1  \n",
       "2              0              0  \n",
       "3              0              1  \n",
       "4              0              1  \n",
       "\n",
       "[5 rows x 158 columns]"
      ]
     },
     "execution_count": 53,
     "metadata": {},
     "output_type": "execute_result"
    }
   ],
   "source": [
    "df_test = pd.read_csv(\"./datasets/test_processed.csv\", na_filter=False) #import test data to submit to kaggle\n",
    "df_test_id = pd.read_csv(\"./datasets/test.csv\", na_filter=False) #import test data to submit to kaggle\n",
    "df_test.head()"
   ]
  },
  {
   "cell_type": "code",
   "execution_count": 113,
   "metadata": {},
   "outputs": [
    {
     "data": {
      "text/plain": [
       "['Sale Type_VWD',\n",
       " 'Exterior 1st_PreCast',\n",
       " 'Exterior 2nd_Other',\n",
       " 'Exterior 2nd_PreCast',\n",
       " 'Heating_Floor',\n",
       " 'Electrical_']"
      ]
     },
     "execution_count": 113,
     "metadata": {},
     "output_type": "execute_result"
    }
   ],
   "source": [
    "list(set(df_test) - set(df_processed))"
   ]
  },
  {
   "cell_type": "code",
   "execution_count": 114,
   "metadata": {},
   "outputs": [
    {
     "data": {
      "text/plain": [
       "['Heating_OthW',\n",
       " 'SalePrice',\n",
       " 'Exterior 1st_ImStucc',\n",
       " 'Neighborhood_Landmrk',\n",
       " 'Exterior 1st_CBlock',\n",
       " 'Electrical_Mix',\n",
       " 'MS Zoning_A (agr)',\n",
       " 'Exterior 1st_Stone',\n",
       " 'Exterior 2nd_Stone',\n",
       " 'Heating_Wall',\n",
       " 'Neighborhood_GrnHill']"
      ]
     },
     "execution_count": 114,
     "metadata": {},
     "output_type": "execute_result"
    }
   ],
   "source": [
    "list(set(df_processed) - set(df_test))"
   ]
  },
  {
   "cell_type": "code",
   "execution_count": 123,
   "metadata": {},
   "outputs": [
    {
     "data": {
      "text/plain": [
       "(879, 152)"
      ]
     },
     "execution_count": 123,
     "metadata": {},
     "output_type": "execute_result"
    }
   ],
   "source": [
    "X_test = df_test.drop(list(set(df_test) - set(df_processed)), axis = 1)\n",
    "X_test.shape"
   ]
  },
  {
   "cell_type": "code",
   "execution_count": 122,
   "metadata": {},
   "outputs": [
    {
     "data": {
      "text/plain": [
       "(2051, 152)"
      ]
     },
     "execution_count": 122,
     "metadata": {},
     "output_type": "execute_result"
    }
   ],
   "source": [
    "X_train = df_processed.drop(list(set(df_processed) - set(df_test)), axis = 1)\n",
    "X_train.shape"
   ]
  },
  {
   "cell_type": "code",
   "execution_count": 124,
   "metadata": {},
   "outputs": [
    {
     "data": {
      "text/plain": [
       "RidgeCV(alphas=array([ 0.1,  1. , 10. ]))"
      ]
     },
     "execution_count": 124,
     "metadata": {},
     "output_type": "execute_result"
    }
   ],
   "source": [
    "ridge.fit(X_train, y)"
   ]
  },
  {
   "cell_type": "code",
   "execution_count": 126,
   "metadata": {},
   "outputs": [
    {
     "data": {
      "text/plain": [
       "0.8599238670780102"
      ]
     },
     "execution_count": 126,
     "metadata": {},
     "output_type": "execute_result"
    }
   ],
   "source": [
    "cross_val_score(ridge, X= X_train, y = y, cv= 5).mean()"
   ]
  },
  {
   "cell_type": "code",
   "execution_count": 133,
   "metadata": {},
   "outputs": [
    {
     "data": {
      "text/plain": [
       "array([118350.54557964, 153447.25049879, 230703.65865197, 113548.50007421,\n",
       "       181283.04064326,  72448.01602517, 101650.32605814, 142932.25452447,\n",
       "       168920.93682026, 175925.40856196, 149037.16052204, 125573.48846715,\n",
       "       146338.87500957, 265406.74370862, 139489.8353711 , 123974.88280684,\n",
       "       162676.57948665, 115832.01508582, 192004.53150269, 184047.64244607,\n",
       "       160788.41162066, 125982.51952194, 174188.54186033, 170743.4568508 ,\n",
       "       178248.17278233, 120250.4544773 , 135393.00146467, 136062.8161438 ,\n",
       "       171732.8288702 ,  50248.02240588, 101898.56014386, 105054.60535488,\n",
       "       211787.54775008, 160852.45798701, 215960.3901392 , 183055.91618884,\n",
       "       116013.15893762,  70772.02664242, 158673.85323175, 199920.17530661,\n",
       "       167608.92233619, 206101.00046157, 161117.05319266, 169446.12215747,\n",
       "       215102.80452918,  88792.33554905, 225110.81567299, 122421.62986175,\n",
       "       124474.82438462, 108081.33626072, 108123.45666302, 223293.10697738,\n",
       "       245540.26408492, 126636.44432873,  98896.90929843, 166302.92088951,\n",
       "       165561.0920512 , 151805.95634852, 165907.39123331, 232268.84956432,\n",
       "       323690.73291476, 127233.7882479 , 154622.68100592, 161183.89873409,\n",
       "       187414.44269759, 331149.92603999,  98270.51265157, 227565.35329604,\n",
       "        99384.18723645, 166037.69958717, 110081.82184976, 348102.81005999,\n",
       "       200240.68762701, 184264.7450973 , 136719.27135814, 176680.85840237,\n",
       "       512292.07621172, 161611.96288629, 145117.78942342, 102234.82836138,\n",
       "       380545.7958961 , 200707.80641479, 119054.55328761, 134563.8961706 ,\n",
       "       116096.77203655, 213830.53674125, 341676.41106418, 126718.0282169 ,\n",
       "       184733.58889763, 233246.1003032 , 135111.47938024, 134688.26588398,\n",
       "        77345.32871838, 114681.60871546, 237047.39319174, 135454.57929443,\n",
       "       127636.87345181, 166510.5576158 , 244578.27428443, 194550.40303886,\n",
       "       217525.59853676, 311801.56475015, 186806.59139489, 121609.35073095,\n",
       "       430464.50113886, 145738.88031348, 121354.4717565 , 178652.73263316,\n",
       "       204898.48271862, 157554.75631225, 121966.15636256, 187388.54417843,\n",
       "       223816.37151742,  89551.05586316, 129980.65683584, 246006.20752333,\n",
       "       445194.21320218, 144227.9812466 , 101353.49249864, 319493.79826233,\n",
       "       188048.33082386, 389657.44157391, 321274.79272457, 316115.36390571,\n",
       "       169604.54753201, 140349.301188  , 372335.24060972, 121210.22781961,\n",
       "       133630.71109694, 111896.64112943, 268873.82983015, 140610.57252862,\n",
       "       205245.412684  , 146344.09835792, 180545.63566701, 152292.76620708,\n",
       "       235238.67445553, 201315.08242231, 166210.20519649, 238750.30229019,\n",
       "       120704.85083944, 187696.51884204, 164497.27658261, 135708.09085825,\n",
       "       150252.58281206,  99682.59901198, 123956.8723605 , 151940.61366641,\n",
       "       136929.9226423 ,  57103.40102799, 228985.83473874, 191480.13902005,\n",
       "       154282.47563146, 109949.58977029, 123377.1402003 , 122797.01821279,\n",
       "       132456.30008589,  68815.32611549, 145132.48476375, 247318.74699509,\n",
       "       246101.72567144, 222107.02370309, 118840.29362823, 130082.48924039,\n",
       "       446065.25779102, 275618.67746198, 245670.56575146, 160553.34573402,\n",
       "       172105.40449154, 269956.13832511, 203351.84172037, 458292.77946043,\n",
       "       136184.92543312, 166871.63634697, 150544.48363811, 211409.66075554,\n",
       "       183330.82638004,  92950.51495218, 156915.0655091 ,  70774.61151229,\n",
       "       150535.47173359, 131215.46330469, 191710.10693932, 257206.77134532,\n",
       "       197802.83171926, 160874.57994416, 120692.07501599, 206642.27636987,\n",
       "       207748.14979789, 130440.36143154,  70385.76395621, 176917.83075334,\n",
       "       137479.39784479, 104296.1731144 , 105496.06013217, 188488.69889467,\n",
       "       162699.62792965, 301651.24564958, 152688.62518293, 121346.5866658 ,\n",
       "       118861.25261624, 293320.11414424, 172462.19069724, 124291.94267705,\n",
       "       187602.36885053, 121029.35385457, 128905.2841052 , 139429.73573989,\n",
       "       134824.11196021, 232471.23303365, 222762.6678264 , 186005.03227981,\n",
       "       204350.96798381, 111789.26286499, 268570.91542746, 257854.6163274 ,\n",
       "       200885.27972467, 236183.68583191, 138899.76307943, 115290.22937227,\n",
       "       161272.3052288 , 191800.17187278, 129269.0515506 , 179326.3943249 ,\n",
       "       197925.45390005, 126735.28339184, 105360.45671027, 253213.79206846,\n",
       "       227159.15293687, 155430.15588662, 287290.4668325 , 164962.48384659,\n",
       "        79818.8967923 , 140513.01657579,  96880.01272672, 262835.52683059,\n",
       "       169194.07003357,  75577.25655919, 412636.07937269, 324443.54923151,\n",
       "       187759.36206537, 251152.97730265, 152491.69992487, 314955.48537825,\n",
       "       240515.67960219, 304157.47666226, 263546.73416372, 125429.28585371,\n",
       "       123147.96119886, 168226.74374751, 306263.05656363, 290736.87480335,\n",
       "       154483.24507102, 236666.68854883, 234890.64047734, 195400.9458008 ,\n",
       "       110766.39069338,  79636.28796513, 414595.77019538, 220737.06993473,\n",
       "       244433.2456799 , 198517.79432424, 128147.07728729, 105524.25468413,\n",
       "       159203.05121437, 231946.34436404, 156442.15553345, 138752.74928835,\n",
       "       214684.01308318, 169513.629997  , 142863.84273547, 208973.91105799,\n",
       "       209324.32295207, 159873.81157845, 335144.53336017, 119871.24004849,\n",
       "       131537.68358805, 151617.60802268, 185829.96390493, 116569.19010143,\n",
       "       114681.23148895, 228169.0662948 , 119376.18980597, 134393.13609991,\n",
       "        99220.40588027, 144063.55511854, 246429.19781222, 209044.61778069,\n",
       "       101228.80732093, 103236.04485064, 129290.88950414, 102507.91135225,\n",
       "       123931.39122881,  65100.58995578, 118831.57624566, 172030.3127953 ,\n",
       "       159362.70939545, 212135.11928278, 270066.25844551, 264868.08295731,\n",
       "       156868.60390274, 188808.19692858, 324560.44910689, 137231.24130168,\n",
       "       123249.22750534,  79650.57739496, 107676.62283957, 198375.86167447,\n",
       "       217782.64389587, 135009.3040823 , 114331.47993472, 218402.63292489,\n",
       "       247351.45638302, 248164.25380362, 285487.20323867, 134008.92611174,\n",
       "       382191.54579277, 387054.43770607, 295560.32055515, 233579.83542935,\n",
       "       136564.15347616,  73693.74147119, 112011.80747744, 166296.26526556,\n",
       "       274830.49062398, 145624.10708927, 125769.6090823 , 163725.79522365,\n",
       "       191941.46142354, 198747.84646798, 134088.26440036, 167577.51147209,\n",
       "       179529.32619567, 145048.64078975, 203787.3094214 ,  97332.29390322,\n",
       "       148576.44469141,  75038.92934181, 114121.43425831, 138334.70556833,\n",
       "       182392.26059156, 193174.07027806, 103414.49619965, 137164.23878591,\n",
       "       184722.85849752, 289893.01195926, 246721.65540307, 168897.09309897,\n",
       "       105800.73132502, 217744.15347343, 169042.59729831, 146921.94572606,\n",
       "       167656.5649104 , 104871.57113426, 291201.27259822, 143725.07473247,\n",
       "       270908.56117458, 161167.78548824, 215978.78028546, 267371.42494776,\n",
       "       113112.32062351, 135970.86458838, 142069.93813331,  80533.02717606,\n",
       "       146002.24033553, 209795.61273793, 271723.8330471 , 205116.30884418,\n",
       "       232345.2306838 , 213566.68363181,  99811.49261425, 190119.94008409,\n",
       "       102798.40842168, 156468.5410239 , 381353.12418422, 134832.71659994,\n",
       "       288878.53359968, 181805.32405996, 276607.81867413, 229357.66246757,\n",
       "       125584.29097264, 150168.3296122 , 134056.67309176, 347999.45676992,\n",
       "       341496.62103647, 224087.38710541, 215270.73560168, 181772.85383867,\n",
       "       191370.04316251, 125571.12177813, 110742.66333555,  89554.21368026,\n",
       "       314082.34477413, 151746.55793109, 128591.56272982, 180505.5244264 ,\n",
       "        62487.06186277, 193429.70221378, 188350.37799349, 145690.93225055,\n",
       "        93207.89449694, 225402.41599959, 244867.93995526, 132770.7184557 ,\n",
       "       297669.59792635, 127961.74931253, 141327.45290083, 150414.78909377,\n",
       "       224956.86142521, 307792.45209225, 131129.98356131, 105583.17964798,\n",
       "       164543.85530421, 248399.07416522, 122784.40820054, 254050.70922945,\n",
       "       335288.6416881 , 119367.16703772, 232263.27637504, 118046.62306094,\n",
       "       161978.39495192, 254108.15452146, 118367.64634055, 232609.51732692,\n",
       "       104997.86658738, 218670.5822821 , 392278.86174495, 200173.50305251,\n",
       "       212430.42251721, 137697.47292716, 284720.99320098, 106598.02225278,\n",
       "       143022.88619942, 136346.33490245, 205066.5331237 ,  99491.28493517,\n",
       "       338513.86716843, 221858.29682946, 160629.31231351, 147164.38559665,\n",
       "       138626.6489341 , 195984.38228777, 144006.4025546 , 109143.91781409,\n",
       "       185023.83272153, 163842.35713243, 215257.43214398,  35590.19305797,\n",
       "        85287.39055062, 299507.43541964, 135845.34163946, 227044.68899481,\n",
       "       285412.78596646, 247643.5663029 , 172717.66375698, 212506.21305875,\n",
       "       245470.60009111, 233651.5065856 , 117464.46645676, 240074.91662283,\n",
       "       119597.19038916, 147370.70980248, 120670.95228891, 167827.17233886,\n",
       "       488106.16090985, 120799.76875478, 226987.9078172 , 241935.17324723,\n",
       "       221507.63148035,  99596.71432902, 132334.31108415, 136549.93834274,\n",
       "       248978.21523534, 178230.6685644 , 114236.25975385, 239019.95623081,\n",
       "       228614.02060678, 105040.55899698, 129029.38825567,  88609.62722121,\n",
       "       199676.24019906,  80646.5893624 , 214614.24578147, 114732.31475585,\n",
       "       185787.77986521, 312532.79887587, 146312.73790347, 174554.35102429,\n",
       "       189374.79911658, 184931.38393555, 152727.03066615, 141083.83754877,\n",
       "       216298.8880583 , 163487.80789952, 232696.19654759, 378743.34697459,\n",
       "       171949.87498164,  90873.53898049, 118968.00432936, 182936.62423646,\n",
       "        94818.78249314, 180505.28066115, 234286.5033473 , 199932.54362614,\n",
       "       151276.15648623, 247190.87781378, 129290.13848779, 276885.02929878,\n",
       "       101364.92903447, 113382.00274719, 265631.35529502, 122179.16623161,\n",
       "       117581.84485573, 128291.50414908, 152542.13621341,  37788.2575172 ,\n",
       "       185372.91285581, 150958.42251732, 202095.81017189, 271420.97086646,\n",
       "       274069.94112894, 110783.32291397, 125520.16480709, 126912.84698234,\n",
       "       126447.69055915, 225009.60221627, 422395.02009647, 193234.48889975,\n",
       "       117016.27096044, 138703.10015386,  19068.74124896, 117566.52596176,\n",
       "       213641.36739798, 149399.08919521, 192435.88832641, 183756.55307553,\n",
       "       141622.08691055,  64269.54557771, 244283.13951693, 139103.86633449,\n",
       "       175477.7737185 , 147150.36509564, 102768.36359738,  80991.53206068,\n",
       "       129921.99252005, 241524.72829258, 346986.19226364, 241877.57718286,\n",
       "       122947.77891129,  89571.77847277, 312066.0470727 , 138414.97255897,\n",
       "       296260.35799482,  87454.27351938, 190566.39937235, 228679.63362079,\n",
       "        93723.90113206, 104139.5582535 , 148710.10944314,  90814.47160343,\n",
       "       171473.77644288, 117644.37237508, 156449.30707113, 179240.63000812,\n",
       "       138445.68173733, 124928.03473169, 133540.17320508, 119545.46635702,\n",
       "       198028.34842479, 121977.61546352, 152986.82287116, 165633.30949503,\n",
       "       131773.09295752,  84038.25864032, 153346.78642924, 170716.50465731,\n",
       "       116862.4136148 , 177733.35023706, 152120.89491505, 191827.71801486,\n",
       "       109567.67907885, 150459.41476779, 162077.88061899, 274491.352815  ,\n",
       "        96439.90429225, 149632.90771575, 171001.57696045, 145077.51816891,\n",
       "       110747.86699576, 286490.82603152, 234846.53643562, 128790.79819514,\n",
       "       117094.63634568, 135888.00087095, 133953.09069208, 338148.15216754,\n",
       "       235501.75677484, 133125.15545637, 136128.94134054, 102378.97864332,\n",
       "       381788.74358265, 125055.05994764, 200265.23318927, 131381.12244588,\n",
       "       181216.63907611, 240130.71487876,  95055.09961773, 128674.14804718,\n",
       "       123649.35690467, 174432.4581456 , 136029.43735854, 119831.71124454,\n",
       "       353084.30587319, 232057.80936767, 134343.33780155, 141927.20984916,\n",
       "        14381.20285067, 220892.06533217, 281145.54194767,  67080.09644854,\n",
       "       180435.2354336 , 216062.0604446 , 117223.22804567, 150203.83548515,\n",
       "       106263.42501469, 146260.18467728, 163917.4478851 , 194449.08762223,\n",
       "       120865.79658519, 338684.56098529, 144536.98054013, 188626.64078955,\n",
       "       177152.15833026, 123078.12705024,  58163.12181052, 151629.3251859 ,\n",
       "       196597.23669672, 124869.389027  , 151154.85025334, 138647.98842817,\n",
       "       154281.76505516, 313999.49028127, 134249.04851418, 233498.89870874,\n",
       "       266566.52769088, 165040.03861726,  65474.71998651, 234716.21826593,\n",
       "       184728.87417413, 124440.64376843, 162597.57475753, 163836.16888438,\n",
       "       125980.31812081, 114981.70768649, 153732.99845652,  62440.76101367,\n",
       "       165076.50718191, 209963.34512272, 144372.61043318, 276638.06296104,\n",
       "       171710.35709337, 152317.43118645, 151060.6280093 , 159886.045386  ,\n",
       "       229289.68785001, 390582.35343439, 220603.32769109, 214912.45688001,\n",
       "       161678.29928629, 167866.18964319, 275636.38256413, 235740.88653033,\n",
       "       235502.26748454, 258545.75553017, 143005.59411281, 126798.85989782,\n",
       "       139719.82580965, 132533.08927073,  76758.96007699, 134447.84201864,\n",
       "       120150.71644572, 339498.03827056, 199810.39372945, 169725.5236082 ,\n",
       "       244082.67429257, 198739.49415756, 151963.51683913, 211659.43933552,\n",
       "       396571.1491084 , 160625.47277351, 169166.26108767,  72605.29190721,\n",
       "       123990.75359189, 299518.11980455, 131280.23495743, 233011.94823042,\n",
       "       171889.3561883 , 220874.70498195, 363536.0374196 ,  99317.56265307,\n",
       "       257616.34827196, 161334.13551196, 153202.8235547 , 139168.92113898,\n",
       "       113764.6837135 , 295876.03320525, 271969.05902217, 156776.49609218,\n",
       "       136681.8784287 , 109251.08048104, 337531.97372614, 224717.34173281,\n",
       "       108430.29186706, 135856.3229538 , 134035.1709616 , 129913.7509606 ,\n",
       "       204317.87295221, 304055.82060306, 210839.97708797, 185083.80361259,\n",
       "       232206.6057879 , 221882.94515884, 269085.00750401, 127754.21958122,\n",
       "       113868.94565884, 309748.9604048 , 211314.05146521, 194548.11940588,\n",
       "       140866.9485128 , 285788.52155213,  91413.94050211, 260148.79405698,\n",
       "       178602.69763457, 250936.03454834, 150023.12444695, 194750.83583858,\n",
       "       163776.07629747, 149348.74643943, 143935.42620609, 145035.53458742,\n",
       "       137427.43971812, 227115.33853162, 197088.36804519, 149636.9287598 ,\n",
       "        97328.17006776, 186568.66348281, 176195.57423059, 187813.20623951,\n",
       "       215550.43241768, 115885.50565635, 335578.76463315, 260167.08842998,\n",
       "       134548.96788009, 140061.4514155 , 173799.07665673, 142510.0315009 ,\n",
       "       115802.71708206, 427569.08103784,  67813.06283453, 145121.16434433,\n",
       "       250121.3132171 , 151779.1380084 , 219007.35201149, 137745.87039232,\n",
       "       249954.98973087, 160668.02029383, 310278.36093901, 182393.93146613,\n",
       "       210472.38909587, 305464.37455602, 160314.05894056, 266459.7515255 ,\n",
       "       201290.95485604, 133658.14404545, 236424.13649749, 114587.68971337,\n",
       "       132244.99848422, 230786.08350368, 148935.62351071, 115361.80859042,\n",
       "       137841.3423874 , 189373.96936751, 396411.84626055,  91145.30361144,\n",
       "       124103.72417415, 104143.0446134 , 169658.08519693, 263628.89423516,\n",
       "       119197.1836961 , 265251.42776254, 162757.84929182, 203353.70856594,\n",
       "       233929.90286913, 185069.08821842, 295132.73197624, 166329.12433002,\n",
       "       208015.36132875, 163228.99191555, 251554.73093438, 235306.382153  ,\n",
       "       232555.44833677, 142340.39906205, 114694.78912835, 161270.13625486,\n",
       "        89529.95951463, 248908.97105735, 109702.67762254, 123438.4781048 ,\n",
       "       182200.28078698, 146199.1140874 , 114804.46324563, 140833.04398501,\n",
       "       329513.67379536, 174114.6308321 , 162307.08876833, 243396.07868276,\n",
       "       218612.28179259, 234571.15419703,  73993.1479077 , 100466.56182582,\n",
       "       150162.52861543, 176804.03243617, 111896.37856794, 353149.87912877,\n",
       "       129601.56370961, 173724.27403361, 225978.60138512, 337536.22972254,\n",
       "       140373.87131414, 187393.88999088, 146909.16378278, 166253.94704999,\n",
       "       149466.94674449, 280952.19576143, 238265.62281939, 147851.24150028,\n",
       "       118721.98827964, 344465.5429748 , 154969.10618601, 136103.12102705,\n",
       "       126125.06532374, 197078.64782898, 209581.72104973, 250977.48095781,\n",
       "       139752.086621  , 169784.23765155, 156351.4948486 , 263348.81894399,\n",
       "       244991.66344792, 101586.14169865, 156707.30021713, 159406.68920845,\n",
       "       173489.41407663, 137484.02824792, 151863.52001513, 158101.28554211,\n",
       "        97981.98761206, 266087.1906331 ,  95965.09206743, 192902.05232479,\n",
       "       116894.29076547, 359981.24173824, 139791.84452268, 105940.73324143,\n",
       "       170316.20973995, 154726.05021522, 190636.74763091, 192438.58410056,\n",
       "       247195.83417191, 173673.42881144, 184417.1992105 , 257283.3108859 ,\n",
       "       339225.75349965, 206567.68226924, 186318.99409419, 220454.73766136,\n",
       "       133032.07287713, 113696.40902692, 133397.64624528])"
      ]
     },
     "execution_count": 133,
     "metadata": {},
     "output_type": "execute_result"
    }
   ],
   "source": [
    "test_predict = ridge.predict(X_test)\n",
    "test_predict"
   ]
  },
  {
   "cell_type": "code",
   "execution_count": 134,
   "metadata": {},
   "outputs": [],
   "source": [
    "submit = pd.concat([df_test_id['Id'], pd.DataFrame(test_predict, columns = ['SalePrice'])], ignore_index=False, sort=False, axis = 1)\n"
   ]
  },
  {
   "cell_type": "code",
   "execution_count": 137,
   "metadata": {},
   "outputs": [
    {
     "data": {
      "text/html": [
       "<div>\n",
       "<style scoped>\n",
       "    .dataframe tbody tr th:only-of-type {\n",
       "        vertical-align: middle;\n",
       "    }\n",
       "\n",
       "    .dataframe tbody tr th {\n",
       "        vertical-align: top;\n",
       "    }\n",
       "\n",
       "    .dataframe thead th {\n",
       "        text-align: right;\n",
       "    }\n",
       "</style>\n",
       "<table border=\"1\" class=\"dataframe\">\n",
       "  <thead>\n",
       "    <tr style=\"text-align: right;\">\n",
       "      <th></th>\n",
       "      <th>Id</th>\n",
       "      <th>SalePrice</th>\n",
       "    </tr>\n",
       "  </thead>\n",
       "  <tbody>\n",
       "    <tr>\n",
       "      <th>704</th>\n",
       "      <td>2</td>\n",
       "      <td>113764.683713</td>\n",
       "    </tr>\n",
       "    <tr>\n",
       "      <th>706</th>\n",
       "      <td>4</td>\n",
       "      <td>271969.059022</td>\n",
       "    </tr>\n",
       "    <tr>\n",
       "      <th>120</th>\n",
       "      <td>6</td>\n",
       "      <td>188048.330824</td>\n",
       "    </tr>\n",
       "    <tr>\n",
       "      <th>312</th>\n",
       "      <td>7</td>\n",
       "      <td>247351.456383</td>\n",
       "    </tr>\n",
       "    <tr>\n",
       "      <th>401</th>\n",
       "      <td>17</td>\n",
       "      <td>225402.416000</td>\n",
       "    </tr>\n",
       "    <tr>\n",
       "      <th>316</th>\n",
       "      <td>18</td>\n",
       "      <td>382191.545793</td>\n",
       "    </tr>\n",
       "    <tr>\n",
       "      <th>791</th>\n",
       "      <td>22</td>\n",
       "      <td>203353.708566</td>\n",
       "    </tr>\n",
       "    <tr>\n",
       "      <th>608</th>\n",
       "      <td>27</td>\n",
       "      <td>123649.356905</td>\n",
       "    </tr>\n",
       "    <tr>\n",
       "      <th>391</th>\n",
       "      <td>31</td>\n",
       "      <td>89554.213680</td>\n",
       "    </tr>\n",
       "    <tr>\n",
       "      <th>753</th>\n",
       "      <td>36</td>\n",
       "      <td>140061.451416</td>\n",
       "    </tr>\n",
       "  </tbody>\n",
       "</table>\n",
       "</div>"
      ],
      "text/plain": [
       "     Id      SalePrice\n",
       "704   2  113764.683713\n",
       "706   4  271969.059022\n",
       "120   6  188048.330824\n",
       "312   7  247351.456383\n",
       "401  17  225402.416000\n",
       "316  18  382191.545793\n",
       "791  22  203353.708566\n",
       "608  27  123649.356905\n",
       "391  31   89554.213680\n",
       "753  36  140061.451416"
      ]
     },
     "execution_count": 137,
     "metadata": {},
     "output_type": "execute_result"
    }
   ],
   "source": [
    "submit.sort_values('Id', ascending = True, inplace = True)\n",
    "submit.head(10)\n"
   ]
  },
  {
   "cell_type": "code",
   "execution_count": 138,
   "metadata": {},
   "outputs": [],
   "source": [
    "submit.to_csv(\"./datasets/test_submit.csv\", index=False)"
   ]
  },
  {
   "cell_type": "code",
   "execution_count": null,
   "metadata": {},
   "outputs": [],
   "source": []
  }
 ],
 "metadata": {
  "kernelspec": {
   "display_name": "Python 3",
   "language": "python",
   "name": "python3"
  },
  "language_info": {
   "codemirror_mode": {
    "name": "ipython",
    "version": 3
   },
   "file_extension": ".py",
   "mimetype": "text/x-python",
   "name": "python",
   "nbconvert_exporter": "python",
   "pygments_lexer": "ipython3",
   "version": "3.7.7"
  }
 },
 "nbformat": 4,
 "nbformat_minor": 4
}
