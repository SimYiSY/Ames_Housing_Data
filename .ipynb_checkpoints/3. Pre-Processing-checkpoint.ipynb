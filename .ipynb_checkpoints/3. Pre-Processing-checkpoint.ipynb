{
 "cells": [
  {
   "cell_type": "markdown",
   "metadata": {},
   "source": [
    "# Ames Housing Saleprice\n",
    "\n",
    "## Problem Statement\n",
    "\n",
    "Create a regression model where we are able to predict the price of the house at sales."
   ]
  },
  {
   "cell_type": "markdown",
   "metadata": {},
   "source": [
    "## Executive Summary\n",
    "\n",
    "### Contents:\n",
    "- [6. Pre-Processing](#6.-Pre-Processing)\n",
    "\n",
    "\n",
    "Links:\n",
    "[Kaggle challenge link](https://www.kaggle.com/c/dsi-us-6-project-2-regression-challenge/data)"
   ]
  },
  {
   "cell_type": "markdown",
   "metadata": {},
   "source": [
    "## 6. Pre Processing"
   ]
  },
  {
   "cell_type": "code",
   "execution_count": 45,
   "metadata": {},
   "outputs": [],
   "source": [
    "#Imports:\n",
    "import pandas as pd\n",
    "import numpy as np\n",
    "import seaborn as sns\n",
    "import matplotlib.pyplot as plt\n",
    "import scipy.stats as stats\n",
    "from sklearn.model_selection import train_test_split\n",
    "from sklearn.model_selection import cross_val_score\n",
    "from sklearn.linear_model import LinearRegression\n",
    "from sklearn.preprocessing import StandardScaler\n",
    "from sklearn.preprocessing import PolynomialFeatures\n",
    "plt.style.use('ggplot')"
   ]
  },
  {
   "cell_type": "code",
   "execution_count": 2,
   "metadata": {},
   "outputs": [],
   "source": [
    "# Importing cleaned dataset for Pre Processing\n",
    "df_train_pp = pd.read_csv(\"./datasets/train_EDA_sorted.csv\", na_filter=False)"
   ]
  },
  {
   "cell_type": "code",
   "execution_count": 3,
   "metadata": {},
   "outputs": [
    {
     "data": {
      "text/html": [
       "<div>\n",
       "<style scoped>\n",
       "    .dataframe tbody tr th:only-of-type {\n",
       "        vertical-align: middle;\n",
       "    }\n",
       "\n",
       "    .dataframe tbody tr th {\n",
       "        vertical-align: top;\n",
       "    }\n",
       "\n",
       "    .dataframe thead th {\n",
       "        text-align: right;\n",
       "    }\n",
       "</style>\n",
       "<table border=\"1\" class=\"dataframe\">\n",
       "  <thead>\n",
       "    <tr style=\"text-align: right;\">\n",
       "      <th></th>\n",
       "      <th>MS Zoning</th>\n",
       "      <th>Street</th>\n",
       "      <th>Alley</th>\n",
       "      <th>Neighborhood</th>\n",
       "      <th>Condition 1</th>\n",
       "      <th>Bldg Type</th>\n",
       "      <th>House Style</th>\n",
       "      <th>Overall Qual</th>\n",
       "      <th>Year Built</th>\n",
       "      <th>Year Remod/Add</th>\n",
       "      <th>...</th>\n",
       "      <th>Garage Finish</th>\n",
       "      <th>Garage Cars</th>\n",
       "      <th>Garage Area</th>\n",
       "      <th>Garage Qual</th>\n",
       "      <th>Garage Cond</th>\n",
       "      <th>Paved Drive</th>\n",
       "      <th>Wood Deck SF</th>\n",
       "      <th>Open Porch SF</th>\n",
       "      <th>Sale Type</th>\n",
       "      <th>SalePrice</th>\n",
       "    </tr>\n",
       "  </thead>\n",
       "  <tbody>\n",
       "    <tr>\n",
       "      <th>0</th>\n",
       "      <td>RL</td>\n",
       "      <td>Pave</td>\n",
       "      <td>NA</td>\n",
       "      <td>Sawyer</td>\n",
       "      <td>RRAe</td>\n",
       "      <td>1Fam</td>\n",
       "      <td>2Story</td>\n",
       "      <td>6</td>\n",
       "      <td>1976</td>\n",
       "      <td>2005</td>\n",
       "      <td>...</td>\n",
       "      <td>RFn</td>\n",
       "      <td>2.0</td>\n",
       "      <td>475.0</td>\n",
       "      <td>TA</td>\n",
       "      <td>TA</td>\n",
       "      <td>Y</td>\n",
       "      <td>0</td>\n",
       "      <td>44</td>\n",
       "      <td>WD</td>\n",
       "      <td>130500</td>\n",
       "    </tr>\n",
       "    <tr>\n",
       "      <th>1</th>\n",
       "      <td>RL</td>\n",
       "      <td>Pave</td>\n",
       "      <td>NA</td>\n",
       "      <td>SawyerW</td>\n",
       "      <td>Norm</td>\n",
       "      <td>1Fam</td>\n",
       "      <td>2Story</td>\n",
       "      <td>7</td>\n",
       "      <td>1996</td>\n",
       "      <td>1997</td>\n",
       "      <td>...</td>\n",
       "      <td>RFn</td>\n",
       "      <td>2.0</td>\n",
       "      <td>559.0</td>\n",
       "      <td>TA</td>\n",
       "      <td>TA</td>\n",
       "      <td>Y</td>\n",
       "      <td>0</td>\n",
       "      <td>74</td>\n",
       "      <td>WD</td>\n",
       "      <td>220000</td>\n",
       "    </tr>\n",
       "    <tr>\n",
       "      <th>2</th>\n",
       "      <td>RL</td>\n",
       "      <td>Pave</td>\n",
       "      <td>NA</td>\n",
       "      <td>NAmes</td>\n",
       "      <td>Norm</td>\n",
       "      <td>1Fam</td>\n",
       "      <td>1Story</td>\n",
       "      <td>5</td>\n",
       "      <td>1953</td>\n",
       "      <td>2007</td>\n",
       "      <td>...</td>\n",
       "      <td>Unf</td>\n",
       "      <td>1.0</td>\n",
       "      <td>246.0</td>\n",
       "      <td>TA</td>\n",
       "      <td>TA</td>\n",
       "      <td>Y</td>\n",
       "      <td>0</td>\n",
       "      <td>52</td>\n",
       "      <td>WD</td>\n",
       "      <td>109000</td>\n",
       "    </tr>\n",
       "    <tr>\n",
       "      <th>3</th>\n",
       "      <td>RL</td>\n",
       "      <td>Pave</td>\n",
       "      <td>NA</td>\n",
       "      <td>Timber</td>\n",
       "      <td>Norm</td>\n",
       "      <td>1Fam</td>\n",
       "      <td>2Story</td>\n",
       "      <td>5</td>\n",
       "      <td>2006</td>\n",
       "      <td>2007</td>\n",
       "      <td>...</td>\n",
       "      <td>Fin</td>\n",
       "      <td>2.0</td>\n",
       "      <td>400.0</td>\n",
       "      <td>TA</td>\n",
       "      <td>TA</td>\n",
       "      <td>Y</td>\n",
       "      <td>100</td>\n",
       "      <td>0</td>\n",
       "      <td>WD</td>\n",
       "      <td>174000</td>\n",
       "    </tr>\n",
       "    <tr>\n",
       "      <th>4</th>\n",
       "      <td>RL</td>\n",
       "      <td>Pave</td>\n",
       "      <td>NA</td>\n",
       "      <td>SawyerW</td>\n",
       "      <td>Norm</td>\n",
       "      <td>1Fam</td>\n",
       "      <td>1.5Fin</td>\n",
       "      <td>6</td>\n",
       "      <td>1900</td>\n",
       "      <td>1993</td>\n",
       "      <td>...</td>\n",
       "      <td>Unf</td>\n",
       "      <td>2.0</td>\n",
       "      <td>484.0</td>\n",
       "      <td>TA</td>\n",
       "      <td>TA</td>\n",
       "      <td>N</td>\n",
       "      <td>0</td>\n",
       "      <td>59</td>\n",
       "      <td>WD</td>\n",
       "      <td>138500</td>\n",
       "    </tr>\n",
       "  </tbody>\n",
       "</table>\n",
       "<p>5 rows × 49 columns</p>\n",
       "</div>"
      ],
      "text/plain": [
       "  MS Zoning Street Alley Neighborhood Condition 1 Bldg Type House Style  \\\n",
       "0        RL   Pave    NA       Sawyer        RRAe      1Fam      2Story   \n",
       "1        RL   Pave    NA      SawyerW        Norm      1Fam      2Story   \n",
       "2        RL   Pave    NA        NAmes        Norm      1Fam      1Story   \n",
       "3        RL   Pave    NA       Timber        Norm      1Fam      2Story   \n",
       "4        RL   Pave    NA      SawyerW        Norm      1Fam      1.5Fin   \n",
       "\n",
       "   Overall Qual  Year Built  Year Remod/Add  ... Garage Finish Garage Cars  \\\n",
       "0             6        1976            2005  ...           RFn         2.0   \n",
       "1             7        1996            1997  ...           RFn         2.0   \n",
       "2             5        1953            2007  ...           Unf         1.0   \n",
       "3             5        2006            2007  ...           Fin         2.0   \n",
       "4             6        1900            1993  ...           Unf         2.0   \n",
       "\n",
       "  Garage Area  Garage Qual Garage Cond Paved Drive Wood Deck SF Open Porch SF  \\\n",
       "0       475.0           TA          TA           Y            0            44   \n",
       "1       559.0           TA          TA           Y            0            74   \n",
       "2       246.0           TA          TA           Y            0            52   \n",
       "3       400.0           TA          TA           Y          100             0   \n",
       "4       484.0           TA          TA           N            0            59   \n",
       "\n",
       "  Sale Type SalePrice  \n",
       "0       WD     130500  \n",
       "1       WD     220000  \n",
       "2       WD     109000  \n",
       "3       WD     174000  \n",
       "4       WD     138500  \n",
       "\n",
       "[5 rows x 49 columns]"
      ]
     },
     "execution_count": 3,
     "metadata": {},
     "output_type": "execute_result"
    }
   ],
   "source": [
    "df_train_pp.head()"
   ]
  },
  {
   "cell_type": "code",
   "execution_count": 4,
   "metadata": {},
   "outputs": [
    {
     "name": "stdout",
     "output_type": "stream",
     "text": [
      "<class 'pandas.core.frame.DataFrame'>\n",
      "RangeIndex: 2051 entries, 0 to 2050\n",
      "Data columns (total 49 columns):\n",
      " #   Column          Non-Null Count  Dtype  \n",
      "---  ------          --------------  -----  \n",
      " 0   MS Zoning       2051 non-null   object \n",
      " 1   Street          2051 non-null   object \n",
      " 2   Alley           2051 non-null   object \n",
      " 3   Neighborhood    2051 non-null   object \n",
      " 4   Condition 1     2051 non-null   object \n",
      " 5   Bldg Type       2051 non-null   object \n",
      " 6   House Style     2051 non-null   object \n",
      " 7   Overall Qual    2051 non-null   int64  \n",
      " 8   Year Built      2051 non-null   int64  \n",
      " 9   Year Remod/Add  2051 non-null   int64  \n",
      " 10  Roof Style      2051 non-null   object \n",
      " 11  Exterior 1st    2051 non-null   object \n",
      " 12  Exterior 2nd    2051 non-null   object \n",
      " 13  Mas Vnr Area    2051 non-null   float64\n",
      " 14  Exter Qual      2051 non-null   object \n",
      " 15  Exter Cond      2051 non-null   object \n",
      " 16  Foundation      2051 non-null   object \n",
      " 17  Bsmt Qual       2051 non-null   object \n",
      " 18  Bsmt Cond       2051 non-null   object \n",
      " 19  Bsmt Exposure   2051 non-null   object \n",
      " 20  BsmtFin Type 1  2051 non-null   object \n",
      " 21  BsmtFin SF 1    2051 non-null   float64\n",
      " 22  Bsmt Unf SF     2051 non-null   float64\n",
      " 23  Total Bsmt SF   2051 non-null   float64\n",
      " 24  Heating         2051 non-null   object \n",
      " 25  Heating QC      2051 non-null   object \n",
      " 26  Central Air     2051 non-null   object \n",
      " 27  Electrical      2051 non-null   object \n",
      " 28  1st Flr SF      2051 non-null   int64  \n",
      " 29  2nd Flr SF      2051 non-null   int64  \n",
      " 30  Gr Liv Area     2051 non-null   int64  \n",
      " 31  Full Bath       2051 non-null   int64  \n",
      " 32  Bedroom AbvGr   2051 non-null   int64  \n",
      " 33  Kitchen Qual    2051 non-null   object \n",
      " 34  TotRms AbvGrd   2051 non-null   int64  \n",
      " 35  Functional      2051 non-null   object \n",
      " 36  Fireplaces      2051 non-null   int64  \n",
      " 37  Fireplace Qu    2051 non-null   object \n",
      " 38  Garage Type     2051 non-null   object \n",
      " 39  Garage Finish   2051 non-null   object \n",
      " 40  Garage Cars     2051 non-null   float64\n",
      " 41  Garage Area     2051 non-null   float64\n",
      " 42  Garage Qual     2051 non-null   object \n",
      " 43  Garage Cond     2051 non-null   object \n",
      " 44  Paved Drive     2051 non-null   object \n",
      " 45  Wood Deck SF    2051 non-null   int64  \n",
      " 46  Open Porch SF   2051 non-null   int64  \n",
      " 47  Sale Type       2051 non-null   object \n",
      " 48  SalePrice       2051 non-null   int64  \n",
      "dtypes: float64(6), int64(13), object(30)\n",
      "memory usage: 785.3+ KB\n"
     ]
    }
   ],
   "source": [
    "df_train_pp.info()"
   ]
  },
  {
   "cell_type": "markdown",
   "metadata": {},
   "source": [
    "# 6.1 Changing Categories to Ordinal data\n",
    "- Some Categorical datas can be seen as Ordinal data \n",
    "- therefore it is better to convert them for better fitting into the models"
   ]
  },
  {
   "cell_type": "code",
   "execution_count": 5,
   "metadata": {},
   "outputs": [
    {
     "data": {
      "text/plain": [
       "TA    1247\n",
       "Gd     697\n",
       "Ex      81\n",
       "Fa      26\n",
       "Name: Exter Qual, dtype: int64"
      ]
     },
     "execution_count": 5,
     "metadata": {},
     "output_type": "execute_result"
    }
   ],
   "source": [
    "df_train_pp['Exter Qual'].value_counts()"
   ]
  },
  {
   "cell_type": "code",
   "execution_count": 6,
   "metadata": {},
   "outputs": [
    {
     "data": {
      "text/plain": [
       "dtype('int64')"
      ]
     },
     "execution_count": 6,
     "metadata": {},
     "output_type": "execute_result"
    }
   ],
   "source": [
    "#labels = df_train_pp['Exter Qual'].astype('category').cat.categories.tolist() \n",
    "#{'carrier' : {k: v for k,v in zip(labels,list(range(1,len(labels)+1)))}}\n",
    "labels = {'Exter Qual': {'Ex': 5, 'Gd': 4, 'TA': 3, 'Fa': 2, 'Po': 1} }\n",
    "df_train_pp.replace(labels, inplace=True)\n",
    "df_train_pp['Exter Qual'].astype('int64').dtypes"
   ]
  },
  {
   "cell_type": "code",
   "execution_count": 7,
   "metadata": {},
   "outputs": [
    {
     "data": {
      "text/plain": [
       "TA    1778\n",
       "Gd     215\n",
       "Fa      49\n",
       "Ex       7\n",
       "Po       2\n",
       "Name: Exter Cond, dtype: int64"
      ]
     },
     "execution_count": 7,
     "metadata": {},
     "output_type": "execute_result"
    }
   ],
   "source": [
    "df_train_pp['Exter Cond'].value_counts()"
   ]
  },
  {
   "cell_type": "code",
   "execution_count": 8,
   "metadata": {},
   "outputs": [
    {
     "data": {
      "text/plain": [
       "dtype('int64')"
      ]
     },
     "execution_count": 8,
     "metadata": {},
     "output_type": "execute_result"
    }
   ],
   "source": [
    "#labels = df_train_pp['Exter Qual'].astype('category').cat.categories.tolist() \n",
    "#{'carrier' : {k: v for k,v in zip(labels,list(range(1,len(labels)+1)))}}\n",
    "labels = {'Exter Cond': {'Ex': 5, 'Gd': 4, 'TA': 3, 'Fa': 2, 'Po': 1} }\n",
    "df_train_pp.replace(labels, inplace=True)\n",
    "df_train_pp['Exter Cond'].astype('int64').dtypes"
   ]
  },
  {
   "cell_type": "code",
   "execution_count": 9,
   "metadata": {},
   "outputs": [
    {
     "data": {
      "text/plain": [
       "TA    887\n",
       "Gd    864\n",
       "Ex    184\n",
       "Fa     60\n",
       "NA     55\n",
       "Po      1\n",
       "Name: Bsmt Qual, dtype: int64"
      ]
     },
     "execution_count": 9,
     "metadata": {},
     "output_type": "execute_result"
    }
   ],
   "source": [
    "df_train_pp['Bsmt Qual'].value_counts()"
   ]
  },
  {
   "cell_type": "code",
   "execution_count": 10,
   "metadata": {},
   "outputs": [
    {
     "data": {
      "text/plain": [
       "dtype('int64')"
      ]
     },
     "execution_count": 10,
     "metadata": {},
     "output_type": "execute_result"
    }
   ],
   "source": [
    "labels = {'Bsmt Qual': {'Ex': 5, 'Gd': 4, 'TA': 3, 'Fa': 2, 'Po': 1, 'NA': 0} }\n",
    "df_train_pp.replace(labels, inplace=True)\n",
    "df_train_pp['Bsmt Qual'].astype('int64').dtypes"
   ]
  },
  {
   "cell_type": "code",
   "execution_count": 11,
   "metadata": {},
   "outputs": [
    {
     "data": {
      "text/plain": [
       "TA    1834\n",
       "Gd      89\n",
       "Fa      65\n",
       "NA      55\n",
       "Po       5\n",
       "Ex       3\n",
       "Name: Bsmt Cond, dtype: int64"
      ]
     },
     "execution_count": 11,
     "metadata": {},
     "output_type": "execute_result"
    }
   ],
   "source": [
    "df_train_pp['Bsmt Cond'].value_counts()"
   ]
  },
  {
   "cell_type": "code",
   "execution_count": 12,
   "metadata": {},
   "outputs": [
    {
     "data": {
      "text/plain": [
       "dtype('int64')"
      ]
     },
     "execution_count": 12,
     "metadata": {},
     "output_type": "execute_result"
    }
   ],
   "source": [
    "labels = {'Bsmt Cond': {'Ex': 5, 'Gd': 4, 'TA': 3, 'Fa': 2, 'Po': 1, 'NA': 0} }\n",
    "df_train_pp.replace(labels, inplace=True)\n",
    "df_train_pp['Bsmt Cond'].astype('int64').dtypes"
   ]
  },
  {
   "cell_type": "code",
   "execution_count": 13,
   "metadata": {},
   "outputs": [
    {
     "data": {
      "text/plain": [
       "No    1339\n",
       "Av     288\n",
       "Gd     203\n",
       "Mn     163\n",
       "NA      58\n",
       "Name: Bsmt Exposure, dtype: int64"
      ]
     },
     "execution_count": 13,
     "metadata": {},
     "output_type": "execute_result"
    }
   ],
   "source": [
    "df_train_pp['Bsmt Exposure'].value_counts()"
   ]
  },
  {
   "cell_type": "code",
   "execution_count": 14,
   "metadata": {},
   "outputs": [
    {
     "data": {
      "text/plain": [
       "dtype('int64')"
      ]
     },
     "execution_count": 14,
     "metadata": {},
     "output_type": "execute_result"
    }
   ],
   "source": [
    "labels = {'Bsmt Exposure': {'Gd': 4, 'Av': 3, 'Mn': 2, 'No': 1, 'NA': 0} }\n",
    "df_train_pp.replace(labels, inplace=True)\n",
    "df_train_pp['Bsmt Exposure'].astype('int64').dtypes"
   ]
  },
  {
   "cell_type": "code",
   "execution_count": 15,
   "metadata": {},
   "outputs": [
    {
     "data": {
      "text/plain": [
       "GLQ    615\n",
       "Unf    603\n",
       "ALQ    293\n",
       "BLQ    200\n",
       "Rec    183\n",
       "LwQ    102\n",
       "NA      55\n",
       "Name: BsmtFin Type 1, dtype: int64"
      ]
     },
     "execution_count": 15,
     "metadata": {},
     "output_type": "execute_result"
    }
   ],
   "source": [
    "df_train_pp['BsmtFin Type 1'].value_counts()"
   ]
  },
  {
   "cell_type": "code",
   "execution_count": 16,
   "metadata": {},
   "outputs": [
    {
     "data": {
      "text/plain": [
       "dtype('int64')"
      ]
     },
     "execution_count": 16,
     "metadata": {},
     "output_type": "execute_result"
    }
   ],
   "source": [
    "labels = {'BsmtFin Type 1': {'GLQ': 6, 'ALQ': 5, 'BLQ': 4, 'Rec': 3, 'LwQ': 2, 'Unf': 1, 'NA': 0} }\n",
    "df_train_pp.replace(labels, inplace=True)\n",
    "df_train_pp['BsmtFin Type 1'].astype('int64').dtypes"
   ]
  },
  {
   "cell_type": "code",
   "execution_count": 17,
   "metadata": {},
   "outputs": [
    {
     "data": {
      "text/plain": [
       "Ex    1065\n",
       "TA     597\n",
       "Gd     319\n",
       "Fa      67\n",
       "Po       3\n",
       "Name: Heating QC, dtype: int64"
      ]
     },
     "execution_count": 17,
     "metadata": {},
     "output_type": "execute_result"
    }
   ],
   "source": [
    "df_train_pp['Heating QC'].value_counts() "
   ]
  },
  {
   "cell_type": "code",
   "execution_count": 18,
   "metadata": {},
   "outputs": [
    {
     "data": {
      "text/plain": [
       "dtype('int64')"
      ]
     },
     "execution_count": 18,
     "metadata": {},
     "output_type": "execute_result"
    }
   ],
   "source": [
    "labels = {'Heating QC': {'Ex': 5, 'Gd': 4, 'TA': 3, 'Fa': 2, 'Po': 1} }\n",
    "df_train_pp.replace(labels, inplace=True)\n",
    "df_train_pp['Heating QC'].astype('int64').dtypes"
   ]
  },
  {
   "cell_type": "code",
   "execution_count": 19,
   "metadata": {},
   "outputs": [
    {
     "data": {
      "text/plain": [
       "Y    1910\n",
       "N     141\n",
       "Name: Central Air, dtype: int64"
      ]
     },
     "execution_count": 19,
     "metadata": {},
     "output_type": "execute_result"
    }
   ],
   "source": [
    "df_train_pp['Central Air'].value_counts() "
   ]
  },
  {
   "cell_type": "code",
   "execution_count": 20,
   "metadata": {},
   "outputs": [
    {
     "data": {
      "text/plain": [
       "dtype('int64')"
      ]
     },
     "execution_count": 20,
     "metadata": {},
     "output_type": "execute_result"
    }
   ],
   "source": [
    "labels = {'Central Air': {'Y': 1, 'N': 0} }\n",
    "df_train_pp.replace(labels, inplace=True)\n",
    "df_train_pp['Central Air'].astype('int64').dtypes"
   ]
  },
  {
   "cell_type": "code",
   "execution_count": 21,
   "metadata": {},
   "outputs": [
    {
     "data": {
      "text/plain": [
       "TA    1047\n",
       "Gd     806\n",
       "Ex     151\n",
       "Fa      47\n",
       "Name: Kitchen Qual, dtype: int64"
      ]
     },
     "execution_count": 21,
     "metadata": {},
     "output_type": "execute_result"
    }
   ],
   "source": [
    "df_train_pp['Kitchen Qual'].value_counts() "
   ]
  },
  {
   "cell_type": "code",
   "execution_count": 22,
   "metadata": {},
   "outputs": [
    {
     "data": {
      "text/plain": [
       "dtype('int64')"
      ]
     },
     "execution_count": 22,
     "metadata": {},
     "output_type": "execute_result"
    }
   ],
   "source": [
    "labels = {'Kitchen Qual': {'Ex': 5, 'Gd': 4, 'TA': 3, 'Fa': 2, 'Po': 1} }\n",
    "df_train_pp.replace(labels, inplace=True)\n",
    "df_train_pp['Kitchen Qual'].astype('int64').dtypes"
   ]
  },
  {
   "cell_type": "code",
   "execution_count": 23,
   "metadata": {},
   "outputs": [
    {
     "data": {
      "text/plain": [
       "Typ     1915\n",
       "Min1      42\n",
       "Min2      42\n",
       "Mod       29\n",
       "Maj1      12\n",
       "Maj2       7\n",
       "Sal        2\n",
       "Sev        2\n",
       "Name: Functional, dtype: int64"
      ]
     },
     "execution_count": 23,
     "metadata": {},
     "output_type": "execute_result"
    }
   ],
   "source": [
    "df_train_pp['Functional'].value_counts() "
   ]
  },
  {
   "cell_type": "code",
   "execution_count": 24,
   "metadata": {},
   "outputs": [
    {
     "data": {
      "text/plain": [
       "dtype('int64')"
      ]
     },
     "execution_count": 24,
     "metadata": {},
     "output_type": "execute_result"
    }
   ],
   "source": [
    "labels = {'Functional': {'Typ': 7, 'Min1': 6, 'Min2': 5, 'Mod': 4, 'Maj1': 3, \n",
    "                         'Maj2': 2, 'Sev': 1, 'Sal': 0} }\n",
    "df_train_pp.replace(labels, inplace=True)\n",
    "df_train_pp['Functional'].astype('int64').dtypes"
   ]
  },
  {
   "cell_type": "code",
   "execution_count": 25,
   "metadata": {},
   "outputs": [
    {
     "data": {
      "text/plain": [
       "NA    1000\n",
       "Gd     523\n",
       "TA     407\n",
       "Fa      59\n",
       "Ex      31\n",
       "Po      31\n",
       "Name: Fireplace Qu, dtype: int64"
      ]
     },
     "execution_count": 25,
     "metadata": {},
     "output_type": "execute_result"
    }
   ],
   "source": [
    "df_train_pp['Fireplace Qu'].value_counts() "
   ]
  },
  {
   "cell_type": "code",
   "execution_count": 26,
   "metadata": {},
   "outputs": [
    {
     "data": {
      "text/plain": [
       "dtype('int64')"
      ]
     },
     "execution_count": 26,
     "metadata": {},
     "output_type": "execute_result"
    }
   ],
   "source": [
    "labels = {'Fireplace Qu': {'Ex': 5, 'Gd': 4, 'TA': 3, 'Fa': 2, 'Po': 1, 'NA': 0} }\n",
    "df_train_pp.replace(labels, inplace=True)\n",
    "df_train_pp['Fireplace Qu'].astype('int64').dtypes"
   ]
  },
  {
   "cell_type": "code",
   "execution_count": 27,
   "metadata": {},
   "outputs": [
    {
     "data": {
      "text/plain": [
       "Unf    849\n",
       "RFn    579\n",
       "Fin    509\n",
       "NA     114\n",
       "Name: Garage Finish, dtype: int64"
      ]
     },
     "execution_count": 27,
     "metadata": {},
     "output_type": "execute_result"
    }
   ],
   "source": [
    "df_train_pp['Garage Finish'].value_counts() "
   ]
  },
  {
   "cell_type": "code",
   "execution_count": 28,
   "metadata": {},
   "outputs": [
    {
     "data": {
      "text/plain": [
       "dtype('int64')"
      ]
     },
     "execution_count": 28,
     "metadata": {},
     "output_type": "execute_result"
    }
   ],
   "source": [
    "labels = {'Garage Finish': {'Fin': 3, 'RFn': 2, 'Unf': 1, 'NA': 0} }\n",
    "df_train_pp.replace(labels, inplace=True)\n",
    "df_train_pp['Garage Finish'].astype('int64').dtypes"
   ]
  },
  {
   "cell_type": "code",
   "execution_count": 29,
   "metadata": {},
   "outputs": [
    {
     "data": {
      "text/plain": [
       "TA    1832\n",
       "NA     114\n",
       "Fa      82\n",
       "Gd      18\n",
       "Ex       3\n",
       "Po       2\n",
       "Name: Garage Qual, dtype: int64"
      ]
     },
     "execution_count": 29,
     "metadata": {},
     "output_type": "execute_result"
    }
   ],
   "source": [
    "df_train_pp['Garage Qual'].value_counts() "
   ]
  },
  {
   "cell_type": "code",
   "execution_count": 30,
   "metadata": {},
   "outputs": [
    {
     "data": {
      "text/plain": [
       "dtype('int64')"
      ]
     },
     "execution_count": 30,
     "metadata": {},
     "output_type": "execute_result"
    }
   ],
   "source": [
    "labels = {'Garage Qual': {'Ex': 5, 'Gd': 4, 'TA': 3, 'Fa': 2, 'Po': 1, 'NA': 0} }\n",
    "df_train_pp.replace(labels, inplace=True)\n",
    "df_train_pp['Garage Qual'].astype('int64').dtypes"
   ]
  },
  {
   "cell_type": "code",
   "execution_count": 31,
   "metadata": {},
   "outputs": [
    {
     "data": {
      "text/plain": [
       "TA    1868\n",
       "NA     114\n",
       "Fa      47\n",
       "Gd      12\n",
       "Po       8\n",
       "Ex       2\n",
       "Name: Garage Cond, dtype: int64"
      ]
     },
     "execution_count": 31,
     "metadata": {},
     "output_type": "execute_result"
    }
   ],
   "source": [
    "df_train_pp['Garage Cond'].value_counts() "
   ]
  },
  {
   "cell_type": "code",
   "execution_count": 32,
   "metadata": {},
   "outputs": [
    {
     "data": {
      "text/plain": [
       "dtype('int64')"
      ]
     },
     "execution_count": 32,
     "metadata": {},
     "output_type": "execute_result"
    }
   ],
   "source": [
    "labels = {'Garage Cond': {'Ex': 5, 'Gd': 4, 'TA': 3, 'Fa': 2, 'Po': 1, 'NA': 0} }\n",
    "df_train_pp.replace(labels, inplace=True)\n",
    "df_train_pp['Garage Cond'].astype('int64').dtypes"
   ]
  },
  {
   "cell_type": "code",
   "execution_count": 33,
   "metadata": {},
   "outputs": [
    {
     "name": "stdout",
     "output_type": "stream",
     "text": [
      "<class 'pandas.core.frame.DataFrame'>\n",
      "RangeIndex: 2051 entries, 0 to 2050\n",
      "Data columns (total 49 columns):\n",
      " #   Column          Non-Null Count  Dtype  \n",
      "---  ------          --------------  -----  \n",
      " 0   MS Zoning       2051 non-null   object \n",
      " 1   Street          2051 non-null   object \n",
      " 2   Alley           2051 non-null   object \n",
      " 3   Neighborhood    2051 non-null   object \n",
      " 4   Condition 1     2051 non-null   object \n",
      " 5   Bldg Type       2051 non-null   object \n",
      " 6   House Style     2051 non-null   object \n",
      " 7   Overall Qual    2051 non-null   int64  \n",
      " 8   Year Built      2051 non-null   int64  \n",
      " 9   Year Remod/Add  2051 non-null   int64  \n",
      " 10  Roof Style      2051 non-null   object \n",
      " 11  Exterior 1st    2051 non-null   object \n",
      " 12  Exterior 2nd    2051 non-null   object \n",
      " 13  Mas Vnr Area    2051 non-null   float64\n",
      " 14  Exter Qual      2051 non-null   int64  \n",
      " 15  Exter Cond      2051 non-null   int64  \n",
      " 16  Foundation      2051 non-null   object \n",
      " 17  Bsmt Qual       2051 non-null   int64  \n",
      " 18  Bsmt Cond       2051 non-null   int64  \n",
      " 19  Bsmt Exposure   2051 non-null   int64  \n",
      " 20  BsmtFin Type 1  2051 non-null   int64  \n",
      " 21  BsmtFin SF 1    2051 non-null   float64\n",
      " 22  Bsmt Unf SF     2051 non-null   float64\n",
      " 23  Total Bsmt SF   2051 non-null   float64\n",
      " 24  Heating         2051 non-null   object \n",
      " 25  Heating QC      2051 non-null   int64  \n",
      " 26  Central Air     2051 non-null   int64  \n",
      " 27  Electrical      2051 non-null   object \n",
      " 28  1st Flr SF      2051 non-null   int64  \n",
      " 29  2nd Flr SF      2051 non-null   int64  \n",
      " 30  Gr Liv Area     2051 non-null   int64  \n",
      " 31  Full Bath       2051 non-null   int64  \n",
      " 32  Bedroom AbvGr   2051 non-null   int64  \n",
      " 33  Kitchen Qual    2051 non-null   int64  \n",
      " 34  TotRms AbvGrd   2051 non-null   int64  \n",
      " 35  Functional      2051 non-null   int64  \n",
      " 36  Fireplaces      2051 non-null   int64  \n",
      " 37  Fireplace Qu    2051 non-null   int64  \n",
      " 38  Garage Type     2051 non-null   object \n",
      " 39  Garage Finish   2051 non-null   int64  \n",
      " 40  Garage Cars     2051 non-null   float64\n",
      " 41  Garage Area     2051 non-null   float64\n",
      " 42  Garage Qual     2051 non-null   int64  \n",
      " 43  Garage Cond     2051 non-null   int64  \n",
      " 44  Paved Drive     2051 non-null   object \n",
      " 45  Wood Deck SF    2051 non-null   int64  \n",
      " 46  Open Porch SF   2051 non-null   int64  \n",
      " 47  Sale Type       2051 non-null   object \n",
      " 48  SalePrice       2051 non-null   int64  \n",
      "dtypes: float64(6), int64(27), object(16)\n",
      "memory usage: 785.3+ KB\n"
     ]
    }
   ],
   "source": [
    "df_train_pp.info()"
   ]
  },
  {
   "cell_type": "markdown",
   "metadata": {},
   "source": [
    "## 6.1 comments:\n",
    "Changed 14 ordinal categories data to int data types"
   ]
  },
  {
   "cell_type": "code",
   "execution_count": 54,
   "metadata": {},
   "outputs": [],
   "source": [
    "bsmt_cat = df_train_pp.filter(regex = 'Bsmt').columns"
   ]
  },
  {
   "cell_type": "code",
   "execution_count": 57,
   "metadata": {},
   "outputs": [
    {
     "data": {
      "text/html": [
       "<div>\n",
       "<style scoped>\n",
       "    .dataframe tbody tr th:only-of-type {\n",
       "        vertical-align: middle;\n",
       "    }\n",
       "\n",
       "    .dataframe tbody tr th {\n",
       "        vertical-align: top;\n",
       "    }\n",
       "\n",
       "    .dataframe thead th {\n",
       "        text-align: right;\n",
       "    }\n",
       "</style>\n",
       "<table border=\"1\" class=\"dataframe\">\n",
       "  <thead>\n",
       "    <tr style=\"text-align: right;\">\n",
       "      <th></th>\n",
       "      <th>Bsmt Qual</th>\n",
       "      <th>Bsmt Cond</th>\n",
       "      <th>Bsmt Exposure</th>\n",
       "      <th>BsmtFin Type 1</th>\n",
       "      <th>BsmtFin SF 1</th>\n",
       "      <th>Bsmt Unf SF</th>\n",
       "      <th>Total Bsmt SF</th>\n",
       "      <th>Bsmt Qual^2</th>\n",
       "      <th>Bsmt Qual Bsmt Cond</th>\n",
       "      <th>Bsmt Qual Bsmt Exposure</th>\n",
       "      <th>...</th>\n",
       "      <th>BsmtFin Type 1^2</th>\n",
       "      <th>BsmtFin Type 1 BsmtFin SF 1</th>\n",
       "      <th>BsmtFin Type 1 Bsmt Unf SF</th>\n",
       "      <th>BsmtFin Type 1 Total Bsmt SF</th>\n",
       "      <th>BsmtFin SF 1^2</th>\n",
       "      <th>BsmtFin SF 1 Bsmt Unf SF</th>\n",
       "      <th>BsmtFin SF 1 Total Bsmt SF</th>\n",
       "      <th>Bsmt Unf SF^2</th>\n",
       "      <th>Bsmt Unf SF Total Bsmt SF</th>\n",
       "      <th>Total Bsmt SF^2</th>\n",
       "    </tr>\n",
       "  </thead>\n",
       "  <tbody>\n",
       "    <tr>\n",
       "      <th>0</th>\n",
       "      <td>3.0</td>\n",
       "      <td>3.0</td>\n",
       "      <td>1.0</td>\n",
       "      <td>6.0</td>\n",
       "      <td>533.0</td>\n",
       "      <td>192.0</td>\n",
       "      <td>725.0</td>\n",
       "      <td>9.0</td>\n",
       "      <td>9.0</td>\n",
       "      <td>3.0</td>\n",
       "      <td>...</td>\n",
       "      <td>36.0</td>\n",
       "      <td>3198.0</td>\n",
       "      <td>1152.0</td>\n",
       "      <td>4350.0</td>\n",
       "      <td>284089.0</td>\n",
       "      <td>102336.0</td>\n",
       "      <td>386425.0</td>\n",
       "      <td>36864.0</td>\n",
       "      <td>139200.0</td>\n",
       "      <td>525625.0</td>\n",
       "    </tr>\n",
       "    <tr>\n",
       "      <th>1</th>\n",
       "      <td>4.0</td>\n",
       "      <td>3.0</td>\n",
       "      <td>1.0</td>\n",
       "      <td>6.0</td>\n",
       "      <td>637.0</td>\n",
       "      <td>276.0</td>\n",
       "      <td>913.0</td>\n",
       "      <td>16.0</td>\n",
       "      <td>12.0</td>\n",
       "      <td>4.0</td>\n",
       "      <td>...</td>\n",
       "      <td>36.0</td>\n",
       "      <td>3822.0</td>\n",
       "      <td>1656.0</td>\n",
       "      <td>5478.0</td>\n",
       "      <td>405769.0</td>\n",
       "      <td>175812.0</td>\n",
       "      <td>581581.0</td>\n",
       "      <td>76176.0</td>\n",
       "      <td>251988.0</td>\n",
       "      <td>833569.0</td>\n",
       "    </tr>\n",
       "    <tr>\n",
       "      <th>2</th>\n",
       "      <td>3.0</td>\n",
       "      <td>3.0</td>\n",
       "      <td>1.0</td>\n",
       "      <td>6.0</td>\n",
       "      <td>731.0</td>\n",
       "      <td>326.0</td>\n",
       "      <td>1057.0</td>\n",
       "      <td>9.0</td>\n",
       "      <td>9.0</td>\n",
       "      <td>3.0</td>\n",
       "      <td>...</td>\n",
       "      <td>36.0</td>\n",
       "      <td>4386.0</td>\n",
       "      <td>1956.0</td>\n",
       "      <td>6342.0</td>\n",
       "      <td>534361.0</td>\n",
       "      <td>238306.0</td>\n",
       "      <td>772667.0</td>\n",
       "      <td>106276.0</td>\n",
       "      <td>344582.0</td>\n",
       "      <td>1117249.0</td>\n",
       "    </tr>\n",
       "    <tr>\n",
       "      <th>3</th>\n",
       "      <td>4.0</td>\n",
       "      <td>3.0</td>\n",
       "      <td>1.0</td>\n",
       "      <td>1.0</td>\n",
       "      <td>0.0</td>\n",
       "      <td>384.0</td>\n",
       "      <td>384.0</td>\n",
       "      <td>16.0</td>\n",
       "      <td>12.0</td>\n",
       "      <td>4.0</td>\n",
       "      <td>...</td>\n",
       "      <td>1.0</td>\n",
       "      <td>0.0</td>\n",
       "      <td>384.0</td>\n",
       "      <td>384.0</td>\n",
       "      <td>0.0</td>\n",
       "      <td>0.0</td>\n",
       "      <td>0.0</td>\n",
       "      <td>147456.0</td>\n",
       "      <td>147456.0</td>\n",
       "      <td>147456.0</td>\n",
       "    </tr>\n",
       "    <tr>\n",
       "      <th>4</th>\n",
       "      <td>2.0</td>\n",
       "      <td>4.0</td>\n",
       "      <td>1.0</td>\n",
       "      <td>1.0</td>\n",
       "      <td>0.0</td>\n",
       "      <td>676.0</td>\n",
       "      <td>676.0</td>\n",
       "      <td>4.0</td>\n",
       "      <td>8.0</td>\n",
       "      <td>2.0</td>\n",
       "      <td>...</td>\n",
       "      <td>1.0</td>\n",
       "      <td>0.0</td>\n",
       "      <td>676.0</td>\n",
       "      <td>676.0</td>\n",
       "      <td>0.0</td>\n",
       "      <td>0.0</td>\n",
       "      <td>0.0</td>\n",
       "      <td>456976.0</td>\n",
       "      <td>456976.0</td>\n",
       "      <td>456976.0</td>\n",
       "    </tr>\n",
       "    <tr>\n",
       "      <th>...</th>\n",
       "      <td>...</td>\n",
       "      <td>...</td>\n",
       "      <td>...</td>\n",
       "      <td>...</td>\n",
       "      <td>...</td>\n",
       "      <td>...</td>\n",
       "      <td>...</td>\n",
       "      <td>...</td>\n",
       "      <td>...</td>\n",
       "      <td>...</td>\n",
       "      <td>...</td>\n",
       "      <td>...</td>\n",
       "      <td>...</td>\n",
       "      <td>...</td>\n",
       "      <td>...</td>\n",
       "      <td>...</td>\n",
       "      <td>...</td>\n",
       "      <td>...</td>\n",
       "      <td>...</td>\n",
       "      <td>...</td>\n",
       "      <td>...</td>\n",
       "    </tr>\n",
       "    <tr>\n",
       "      <th>2046</th>\n",
       "      <td>4.0</td>\n",
       "      <td>3.0</td>\n",
       "      <td>3.0</td>\n",
       "      <td>6.0</td>\n",
       "      <td>1011.0</td>\n",
       "      <td>873.0</td>\n",
       "      <td>1884.0</td>\n",
       "      <td>16.0</td>\n",
       "      <td>12.0</td>\n",
       "      <td>12.0</td>\n",
       "      <td>...</td>\n",
       "      <td>36.0</td>\n",
       "      <td>6066.0</td>\n",
       "      <td>5238.0</td>\n",
       "      <td>11304.0</td>\n",
       "      <td>1022121.0</td>\n",
       "      <td>882603.0</td>\n",
       "      <td>1904724.0</td>\n",
       "      <td>762129.0</td>\n",
       "      <td>1644732.0</td>\n",
       "      <td>3549456.0</td>\n",
       "    </tr>\n",
       "    <tr>\n",
       "      <th>2047</th>\n",
       "      <td>3.0</td>\n",
       "      <td>3.0</td>\n",
       "      <td>1.0</td>\n",
       "      <td>4.0</td>\n",
       "      <td>262.0</td>\n",
       "      <td>599.0</td>\n",
       "      <td>861.0</td>\n",
       "      <td>9.0</td>\n",
       "      <td>9.0</td>\n",
       "      <td>3.0</td>\n",
       "      <td>...</td>\n",
       "      <td>16.0</td>\n",
       "      <td>1048.0</td>\n",
       "      <td>2396.0</td>\n",
       "      <td>3444.0</td>\n",
       "      <td>68644.0</td>\n",
       "      <td>156938.0</td>\n",
       "      <td>225582.0</td>\n",
       "      <td>358801.0</td>\n",
       "      <td>515739.0</td>\n",
       "      <td>741321.0</td>\n",
       "    </tr>\n",
       "    <tr>\n",
       "      <th>2048</th>\n",
       "      <td>3.0</td>\n",
       "      <td>3.0</td>\n",
       "      <td>1.0</td>\n",
       "      <td>1.0</td>\n",
       "      <td>0.0</td>\n",
       "      <td>896.0</td>\n",
       "      <td>896.0</td>\n",
       "      <td>9.0</td>\n",
       "      <td>9.0</td>\n",
       "      <td>3.0</td>\n",
       "      <td>...</td>\n",
       "      <td>1.0</td>\n",
       "      <td>0.0</td>\n",
       "      <td>896.0</td>\n",
       "      <td>896.0</td>\n",
       "      <td>0.0</td>\n",
       "      <td>0.0</td>\n",
       "      <td>0.0</td>\n",
       "      <td>802816.0</td>\n",
       "      <td>802816.0</td>\n",
       "      <td>802816.0</td>\n",
       "    </tr>\n",
       "    <tr>\n",
       "      <th>2049</th>\n",
       "      <td>3.0</td>\n",
       "      <td>3.0</td>\n",
       "      <td>1.0</td>\n",
       "      <td>3.0</td>\n",
       "      <td>155.0</td>\n",
       "      <td>295.0</td>\n",
       "      <td>1200.0</td>\n",
       "      <td>9.0</td>\n",
       "      <td>9.0</td>\n",
       "      <td>3.0</td>\n",
       "      <td>...</td>\n",
       "      <td>9.0</td>\n",
       "      <td>465.0</td>\n",
       "      <td>885.0</td>\n",
       "      <td>3600.0</td>\n",
       "      <td>24025.0</td>\n",
       "      <td>45725.0</td>\n",
       "      <td>186000.0</td>\n",
       "      <td>87025.0</td>\n",
       "      <td>354000.0</td>\n",
       "      <td>1440000.0</td>\n",
       "    </tr>\n",
       "    <tr>\n",
       "      <th>2050</th>\n",
       "      <td>3.0</td>\n",
       "      <td>3.0</td>\n",
       "      <td>1.0</td>\n",
       "      <td>1.0</td>\n",
       "      <td>0.0</td>\n",
       "      <td>994.0</td>\n",
       "      <td>994.0</td>\n",
       "      <td>9.0</td>\n",
       "      <td>9.0</td>\n",
       "      <td>3.0</td>\n",
       "      <td>...</td>\n",
       "      <td>1.0</td>\n",
       "      <td>0.0</td>\n",
       "      <td>994.0</td>\n",
       "      <td>994.0</td>\n",
       "      <td>0.0</td>\n",
       "      <td>0.0</td>\n",
       "      <td>0.0</td>\n",
       "      <td>988036.0</td>\n",
       "      <td>988036.0</td>\n",
       "      <td>988036.0</td>\n",
       "    </tr>\n",
       "  </tbody>\n",
       "</table>\n",
       "<p>2051 rows × 35 columns</p>\n",
       "</div>"
      ],
      "text/plain": [
       "      Bsmt Qual  Bsmt Cond  Bsmt Exposure  BsmtFin Type 1  BsmtFin SF 1  \\\n",
       "0           3.0        3.0            1.0             6.0         533.0   \n",
       "1           4.0        3.0            1.0             6.0         637.0   \n",
       "2           3.0        3.0            1.0             6.0         731.0   \n",
       "3           4.0        3.0            1.0             1.0           0.0   \n",
       "4           2.0        4.0            1.0             1.0           0.0   \n",
       "...         ...        ...            ...             ...           ...   \n",
       "2046        4.0        3.0            3.0             6.0        1011.0   \n",
       "2047        3.0        3.0            1.0             4.0         262.0   \n",
       "2048        3.0        3.0            1.0             1.0           0.0   \n",
       "2049        3.0        3.0            1.0             3.0         155.0   \n",
       "2050        3.0        3.0            1.0             1.0           0.0   \n",
       "\n",
       "      Bsmt Unf SF  Total Bsmt SF  Bsmt Qual^2  Bsmt Qual Bsmt Cond  \\\n",
       "0           192.0          725.0          9.0                  9.0   \n",
       "1           276.0          913.0         16.0                 12.0   \n",
       "2           326.0         1057.0          9.0                  9.0   \n",
       "3           384.0          384.0         16.0                 12.0   \n",
       "4           676.0          676.0          4.0                  8.0   \n",
       "...           ...            ...          ...                  ...   \n",
       "2046        873.0         1884.0         16.0                 12.0   \n",
       "2047        599.0          861.0          9.0                  9.0   \n",
       "2048        896.0          896.0          9.0                  9.0   \n",
       "2049        295.0         1200.0          9.0                  9.0   \n",
       "2050        994.0          994.0          9.0                  9.0   \n",
       "\n",
       "      Bsmt Qual Bsmt Exposure  ...  BsmtFin Type 1^2  \\\n",
       "0                         3.0  ...              36.0   \n",
       "1                         4.0  ...              36.0   \n",
       "2                         3.0  ...              36.0   \n",
       "3                         4.0  ...               1.0   \n",
       "4                         2.0  ...               1.0   \n",
       "...                       ...  ...               ...   \n",
       "2046                     12.0  ...              36.0   \n",
       "2047                      3.0  ...              16.0   \n",
       "2048                      3.0  ...               1.0   \n",
       "2049                      3.0  ...               9.0   \n",
       "2050                      3.0  ...               1.0   \n",
       "\n",
       "      BsmtFin Type 1 BsmtFin SF 1  BsmtFin Type 1 Bsmt Unf SF  \\\n",
       "0                          3198.0                      1152.0   \n",
       "1                          3822.0                      1656.0   \n",
       "2                          4386.0                      1956.0   \n",
       "3                             0.0                       384.0   \n",
       "4                             0.0                       676.0   \n",
       "...                           ...                         ...   \n",
       "2046                       6066.0                      5238.0   \n",
       "2047                       1048.0                      2396.0   \n",
       "2048                          0.0                       896.0   \n",
       "2049                        465.0                       885.0   \n",
       "2050                          0.0                       994.0   \n",
       "\n",
       "      BsmtFin Type 1 Total Bsmt SF  BsmtFin SF 1^2  BsmtFin SF 1 Bsmt Unf SF  \\\n",
       "0                           4350.0        284089.0                  102336.0   \n",
       "1                           5478.0        405769.0                  175812.0   \n",
       "2                           6342.0        534361.0                  238306.0   \n",
       "3                            384.0             0.0                       0.0   \n",
       "4                            676.0             0.0                       0.0   \n",
       "...                            ...             ...                       ...   \n",
       "2046                       11304.0       1022121.0                  882603.0   \n",
       "2047                        3444.0         68644.0                  156938.0   \n",
       "2048                         896.0             0.0                       0.0   \n",
       "2049                        3600.0         24025.0                   45725.0   \n",
       "2050                         994.0             0.0                       0.0   \n",
       "\n",
       "      BsmtFin SF 1 Total Bsmt SF  Bsmt Unf SF^2  Bsmt Unf SF Total Bsmt SF  \\\n",
       "0                       386425.0        36864.0                   139200.0   \n",
       "1                       581581.0        76176.0                   251988.0   \n",
       "2                       772667.0       106276.0                   344582.0   \n",
       "3                            0.0       147456.0                   147456.0   \n",
       "4                            0.0       456976.0                   456976.0   \n",
       "...                          ...            ...                        ...   \n",
       "2046                   1904724.0       762129.0                  1644732.0   \n",
       "2047                    225582.0       358801.0                   515739.0   \n",
       "2048                         0.0       802816.0                   802816.0   \n",
       "2049                    186000.0        87025.0                   354000.0   \n",
       "2050                         0.0       988036.0                   988036.0   \n",
       "\n",
       "      Total Bsmt SF^2  \n",
       "0            525625.0  \n",
       "1            833569.0  \n",
       "2           1117249.0  \n",
       "3            147456.0  \n",
       "4            456976.0  \n",
       "...               ...  \n",
       "2046        3549456.0  \n",
       "2047         741321.0  \n",
       "2048         802816.0  \n",
       "2049        1440000.0  \n",
       "2050         988036.0  \n",
       "\n",
       "[2051 rows x 35 columns]"
      ]
     },
     "execution_count": 57,
     "metadata": {},
     "output_type": "execute_result"
    }
   ],
   "source": [
    "lr = LinearRegression()\n",
    "y = df_train_pp['SalePrice']\n",
    "X = df_train_pp[bsmt_cat]\n",
    "poly = PolynomialFeatures(include_bias=False)\n",
    "X_poly = poly.fit_transform(X)\n",
    "pd.DataFrame(X_poly, columns=poly.get_feature_names(bsmt_cat))"
   ]
  },
  {
   "cell_type": "code",
   "execution_count": 60,
   "metadata": {},
   "outputs": [
    {
     "data": {
      "text/plain": [
       "(0.6595435824205642, 0.5449584427214207)"
      ]
     },
     "execution_count": 60,
     "metadata": {},
     "output_type": "execute_result"
    }
   ],
   "source": [
    "(cross_val_score(lr, X_poly, y, cv=5)).mean() , (cross_val_score(lr, X, y, cv=5)).mean()"
   ]
  },
  {
   "cell_type": "markdown",
   "metadata": {},
   "source": [
    "# 6.2 Scaling of Data"
   ]
  },
  {
   "cell_type": "code",
   "execution_count": 34,
   "metadata": {},
   "outputs": [
    {
     "data": {
      "text/plain": [
       "(2051, 32)"
      ]
     },
     "execution_count": 34,
     "metadata": {},
     "output_type": "execute_result"
    }
   ],
   "source": [
    "num_data = df_train_pp.select_dtypes(['int64', 'float64']).keys()\n",
    "num_data = [x for x in num_data if x != 'SalePrice']\n",
    "\n",
    "nums = df_train_pp[num_data]\n",
    "ss = StandardScaler()\n",
    "ss.fit(nums)\n",
    "nums_scaled = ss.transform(nums)\n",
    "\n",
    "nums_scaled.shape"
   ]
  },
  {
   "cell_type": "code",
   "execution_count": 35,
   "metadata": {},
   "outputs": [
    {
     "data": {
      "text/html": [
       "<div>\n",
       "<style scoped>\n",
       "    .dataframe tbody tr th:only-of-type {\n",
       "        vertical-align: middle;\n",
       "    }\n",
       "\n",
       "    .dataframe tbody tr th {\n",
       "        vertical-align: top;\n",
       "    }\n",
       "\n",
       "    .dataframe thead th {\n",
       "        text-align: right;\n",
       "    }\n",
       "</style>\n",
       "<table border=\"1\" class=\"dataframe\">\n",
       "  <thead>\n",
       "    <tr style=\"text-align: right;\">\n",
       "      <th></th>\n",
       "      <th>Overall Qual</th>\n",
       "      <th>Year Built</th>\n",
       "      <th>Year Remod/Add</th>\n",
       "      <th>Mas Vnr Area</th>\n",
       "      <th>Exter Qual</th>\n",
       "      <th>Exter Cond</th>\n",
       "      <th>Bsmt Qual</th>\n",
       "      <th>Bsmt Cond</th>\n",
       "      <th>Bsmt Exposure</th>\n",
       "      <th>BsmtFin Type 1</th>\n",
       "      <th>...</th>\n",
       "      <th>Functional</th>\n",
       "      <th>Fireplaces</th>\n",
       "      <th>Fireplace Qu</th>\n",
       "      <th>Garage Finish</th>\n",
       "      <th>Garage Cars</th>\n",
       "      <th>Garage Area</th>\n",
       "      <th>Garage Qual</th>\n",
       "      <th>Garage Cond</th>\n",
       "      <th>Wood Deck SF</th>\n",
       "      <th>Open Porch SF</th>\n",
       "    </tr>\n",
       "  </thead>\n",
       "  <tbody>\n",
       "    <tr>\n",
       "      <th>0</th>\n",
       "      <td>-0.078644</td>\n",
       "      <td>0.142227</td>\n",
       "      <td>0.989479</td>\n",
       "      <td>1.092329</td>\n",
       "      <td>1.010273</td>\n",
       "      <td>-0.230243</td>\n",
       "      <td>-0.543594</td>\n",
       "      <td>0.123625</td>\n",
       "      <td>-0.582816</td>\n",
       "      <td>1.14603</td>\n",
       "      <td>...</td>\n",
       "      <td>0.229782</td>\n",
       "      <td>-0.925701</td>\n",
       "      <td>-0.976141</td>\n",
       "      <td>0.308137</td>\n",
       "      <td>0.293112</td>\n",
       "      <td>0.007216</td>\n",
       "      <td>0.273171</td>\n",
       "      <td>0.264923</td>\n",
       "      <td>-0.730121</td>\n",
       "      <td>-0.053301</td>\n",
       "    </tr>\n",
       "    <tr>\n",
       "      <th>1</th>\n",
       "      <td>0.622656</td>\n",
       "      <td>0.805126</td>\n",
       "      <td>0.609090</td>\n",
       "      <td>0.191491</td>\n",
       "      <td>1.010273</td>\n",
       "      <td>-0.230243</td>\n",
       "      <td>0.565771</td>\n",
       "      <td>0.123625</td>\n",
       "      <td>-0.582816</td>\n",
       "      <td>1.14603</td>\n",
       "      <td>...</td>\n",
       "      <td>0.229782</td>\n",
       "      <td>0.640811</td>\n",
       "      <td>0.684405</td>\n",
       "      <td>0.308137</td>\n",
       "      <td>0.293112</td>\n",
       "      <td>0.395957</td>\n",
       "      <td>0.273171</td>\n",
       "      <td>0.264923</td>\n",
       "      <td>-0.730121</td>\n",
       "      <td>0.396266</td>\n",
       "    </tr>\n",
       "    <tr>\n",
       "      <th>2</th>\n",
       "      <td>-0.779944</td>\n",
       "      <td>-0.620106</td>\n",
       "      <td>1.084576</td>\n",
       "      <td>-0.565901</td>\n",
       "      <td>-0.690934</td>\n",
       "      <td>2.452869</td>\n",
       "      <td>-0.543594</td>\n",
       "      <td>0.123625</td>\n",
       "      <td>-0.582816</td>\n",
       "      <td>1.14603</td>\n",
       "      <td>...</td>\n",
       "      <td>0.229782</td>\n",
       "      <td>-0.925701</td>\n",
       "      <td>-0.976141</td>\n",
       "      <td>-0.804519</td>\n",
       "      <td>-1.013786</td>\n",
       "      <td>-1.052565</td>\n",
       "      <td>0.273171</td>\n",
       "      <td>0.264923</td>\n",
       "      <td>-0.730121</td>\n",
       "      <td>0.066584</td>\n",
       "    </tr>\n",
       "    <tr>\n",
       "      <th>3</th>\n",
       "      <td>-0.779944</td>\n",
       "      <td>1.136575</td>\n",
       "      <td>1.084576</td>\n",
       "      <td>-0.565901</td>\n",
       "      <td>-0.690934</td>\n",
       "      <td>-0.230243</td>\n",
       "      <td>0.565771</td>\n",
       "      <td>0.123625</td>\n",
       "      <td>-0.582816</td>\n",
       "      <td>-1.20683</td>\n",
       "      <td>...</td>\n",
       "      <td>0.229782</td>\n",
       "      <td>-0.925701</td>\n",
       "      <td>-0.976141</td>\n",
       "      <td>1.420793</td>\n",
       "      <td>0.293112</td>\n",
       "      <td>-0.339874</td>\n",
       "      <td>0.273171</td>\n",
       "      <td>0.264923</td>\n",
       "      <td>0.047980</td>\n",
       "      <td>-0.712665</td>\n",
       "    </tr>\n",
       "    <tr>\n",
       "      <th>4</th>\n",
       "      <td>-0.078644</td>\n",
       "      <td>-2.376787</td>\n",
       "      <td>0.418896</td>\n",
       "      <td>-0.565901</td>\n",
       "      <td>-0.690934</td>\n",
       "      <td>-0.230243</td>\n",
       "      <td>-1.652959</td>\n",
       "      <td>1.872274</td>\n",
       "      <td>-0.582816</td>\n",
       "      <td>-1.20683</td>\n",
       "      <td>...</td>\n",
       "      <td>0.229782</td>\n",
       "      <td>-0.925701</td>\n",
       "      <td>-0.976141</td>\n",
       "      <td>-0.804519</td>\n",
       "      <td>0.293112</td>\n",
       "      <td>0.048867</td>\n",
       "      <td>0.273171</td>\n",
       "      <td>0.264923</td>\n",
       "      <td>-0.730121</td>\n",
       "      <td>0.171483</td>\n",
       "    </tr>\n",
       "  </tbody>\n",
       "</table>\n",
       "<p>5 rows × 32 columns</p>\n",
       "</div>"
      ],
      "text/plain": [
       "   Overall Qual  Year Built  Year Remod/Add  Mas Vnr Area  Exter Qual  \\\n",
       "0     -0.078644    0.142227        0.989479      1.092329    1.010273   \n",
       "1      0.622656    0.805126        0.609090      0.191491    1.010273   \n",
       "2     -0.779944   -0.620106        1.084576     -0.565901   -0.690934   \n",
       "3     -0.779944    1.136575        1.084576     -0.565901   -0.690934   \n",
       "4     -0.078644   -2.376787        0.418896     -0.565901   -0.690934   \n",
       "\n",
       "   Exter Cond  Bsmt Qual  Bsmt Cond  Bsmt Exposure  BsmtFin Type 1  ...  \\\n",
       "0   -0.230243  -0.543594   0.123625      -0.582816         1.14603  ...   \n",
       "1   -0.230243   0.565771   0.123625      -0.582816         1.14603  ...   \n",
       "2    2.452869  -0.543594   0.123625      -0.582816         1.14603  ...   \n",
       "3   -0.230243   0.565771   0.123625      -0.582816        -1.20683  ...   \n",
       "4   -0.230243  -1.652959   1.872274      -0.582816        -1.20683  ...   \n",
       "\n",
       "   Functional  Fireplaces  Fireplace Qu  Garage Finish  Garage Cars  \\\n",
       "0    0.229782   -0.925701     -0.976141       0.308137     0.293112   \n",
       "1    0.229782    0.640811      0.684405       0.308137     0.293112   \n",
       "2    0.229782   -0.925701     -0.976141      -0.804519    -1.013786   \n",
       "3    0.229782   -0.925701     -0.976141       1.420793     0.293112   \n",
       "4    0.229782   -0.925701     -0.976141      -0.804519     0.293112   \n",
       "\n",
       "   Garage Area  Garage Qual  Garage Cond  Wood Deck SF  Open Porch SF  \n",
       "0     0.007216     0.273171     0.264923     -0.730121      -0.053301  \n",
       "1     0.395957     0.273171     0.264923     -0.730121       0.396266  \n",
       "2    -1.052565     0.273171     0.264923     -0.730121       0.066584  \n",
       "3    -0.339874     0.273171     0.264923      0.047980      -0.712665  \n",
       "4     0.048867     0.273171     0.264923     -0.730121       0.171483  \n",
       "\n",
       "[5 rows x 32 columns]"
      ]
     },
     "execution_count": 35,
     "metadata": {},
     "output_type": "execute_result"
    }
   ],
   "source": [
    "nums_scaled_pd = pd.DataFrame(nums_scaled, columns = num_data) #create pd for combining later\n",
    "nums_scaled_pd.head()"
   ]
  },
  {
   "cell_type": "markdown",
   "metadata": {},
   "source": [
    "# 6.3 One-hot encode categorical variables\n",
    "\n",
    "- Creating dummies for dataframe"
   ]
  },
  {
   "cell_type": "code",
   "execution_count": 36,
   "metadata": {},
   "outputs": [
    {
     "name": "stdout",
     "output_type": "stream",
     "text": [
      "Index(['MS Zoning', 'Street', 'Alley', 'Neighborhood', 'Condition 1',\n",
      "       'Bldg Type', 'House Style', 'Roof Style', 'Exterior 1st',\n",
      "       'Exterior 2nd', 'Foundation', 'Heating', 'Electrical', 'Garage Type',\n",
      "       'Paved Drive', 'Sale Type'],\n",
      "      dtype='object')\n"
     ]
    },
    {
     "data": {
      "text/plain": [
       "16"
      ]
     },
     "execution_count": 36,
     "metadata": {},
     "output_type": "execute_result"
    }
   ],
   "source": [
    "#selecting object dtypes to create dummies\n",
    "obj_data = df_train_pp.select_dtypes(['object']).keys()\n",
    "print(obj_data)\n",
    "len(obj_data)"
   ]
  },
  {
   "cell_type": "code",
   "execution_count": 37,
   "metadata": {},
   "outputs": [
    {
     "data": {
      "text/html": [
       "<div>\n",
       "<style scoped>\n",
       "    .dataframe tbody tr th:only-of-type {\n",
       "        vertical-align: middle;\n",
       "    }\n",
       "\n",
       "    .dataframe tbody tr th {\n",
       "        vertical-align: top;\n",
       "    }\n",
       "\n",
       "    .dataframe thead th {\n",
       "        text-align: right;\n",
       "    }\n",
       "</style>\n",
       "<table border=\"1\" class=\"dataframe\">\n",
       "  <thead>\n",
       "    <tr style=\"text-align: right;\">\n",
       "      <th></th>\n",
       "      <th>MS Zoning_A (agr)</th>\n",
       "      <th>MS Zoning_C (all)</th>\n",
       "      <th>MS Zoning_FV</th>\n",
       "      <th>MS Zoning_I (all)</th>\n",
       "      <th>MS Zoning_RH</th>\n",
       "      <th>MS Zoning_RL</th>\n",
       "      <th>MS Zoning_RM</th>\n",
       "      <th>Street_Grvl</th>\n",
       "      <th>Street_Pave</th>\n",
       "      <th>Alley_Grvl</th>\n",
       "      <th>...</th>\n",
       "      <th>Paved Drive_Y</th>\n",
       "      <th>Sale Type_COD</th>\n",
       "      <th>Sale Type_CWD</th>\n",
       "      <th>Sale Type_Con</th>\n",
       "      <th>Sale Type_ConLD</th>\n",
       "      <th>Sale Type_ConLI</th>\n",
       "      <th>Sale Type_ConLw</th>\n",
       "      <th>Sale Type_New</th>\n",
       "      <th>Sale Type_Oth</th>\n",
       "      <th>Sale Type_WD</th>\n",
       "    </tr>\n",
       "  </thead>\n",
       "  <tbody>\n",
       "    <tr>\n",
       "      <th>0</th>\n",
       "      <td>0</td>\n",
       "      <td>0</td>\n",
       "      <td>0</td>\n",
       "      <td>0</td>\n",
       "      <td>0</td>\n",
       "      <td>1</td>\n",
       "      <td>0</td>\n",
       "      <td>0</td>\n",
       "      <td>1</td>\n",
       "      <td>0</td>\n",
       "      <td>...</td>\n",
       "      <td>1</td>\n",
       "      <td>0</td>\n",
       "      <td>0</td>\n",
       "      <td>0</td>\n",
       "      <td>0</td>\n",
       "      <td>0</td>\n",
       "      <td>0</td>\n",
       "      <td>0</td>\n",
       "      <td>0</td>\n",
       "      <td>1</td>\n",
       "    </tr>\n",
       "    <tr>\n",
       "      <th>1</th>\n",
       "      <td>0</td>\n",
       "      <td>0</td>\n",
       "      <td>0</td>\n",
       "      <td>0</td>\n",
       "      <td>0</td>\n",
       "      <td>1</td>\n",
       "      <td>0</td>\n",
       "      <td>0</td>\n",
       "      <td>1</td>\n",
       "      <td>0</td>\n",
       "      <td>...</td>\n",
       "      <td>1</td>\n",
       "      <td>0</td>\n",
       "      <td>0</td>\n",
       "      <td>0</td>\n",
       "      <td>0</td>\n",
       "      <td>0</td>\n",
       "      <td>0</td>\n",
       "      <td>0</td>\n",
       "      <td>0</td>\n",
       "      <td>1</td>\n",
       "    </tr>\n",
       "    <tr>\n",
       "      <th>2</th>\n",
       "      <td>0</td>\n",
       "      <td>0</td>\n",
       "      <td>0</td>\n",
       "      <td>0</td>\n",
       "      <td>0</td>\n",
       "      <td>1</td>\n",
       "      <td>0</td>\n",
       "      <td>0</td>\n",
       "      <td>1</td>\n",
       "      <td>0</td>\n",
       "      <td>...</td>\n",
       "      <td>1</td>\n",
       "      <td>0</td>\n",
       "      <td>0</td>\n",
       "      <td>0</td>\n",
       "      <td>0</td>\n",
       "      <td>0</td>\n",
       "      <td>0</td>\n",
       "      <td>0</td>\n",
       "      <td>0</td>\n",
       "      <td>1</td>\n",
       "    </tr>\n",
       "    <tr>\n",
       "      <th>3</th>\n",
       "      <td>0</td>\n",
       "      <td>0</td>\n",
       "      <td>0</td>\n",
       "      <td>0</td>\n",
       "      <td>0</td>\n",
       "      <td>1</td>\n",
       "      <td>0</td>\n",
       "      <td>0</td>\n",
       "      <td>1</td>\n",
       "      <td>0</td>\n",
       "      <td>...</td>\n",
       "      <td>1</td>\n",
       "      <td>0</td>\n",
       "      <td>0</td>\n",
       "      <td>0</td>\n",
       "      <td>0</td>\n",
       "      <td>0</td>\n",
       "      <td>0</td>\n",
       "      <td>0</td>\n",
       "      <td>0</td>\n",
       "      <td>1</td>\n",
       "    </tr>\n",
       "    <tr>\n",
       "      <th>4</th>\n",
       "      <td>0</td>\n",
       "      <td>0</td>\n",
       "      <td>0</td>\n",
       "      <td>0</td>\n",
       "      <td>0</td>\n",
       "      <td>1</td>\n",
       "      <td>0</td>\n",
       "      <td>0</td>\n",
       "      <td>1</td>\n",
       "      <td>0</td>\n",
       "      <td>...</td>\n",
       "      <td>0</td>\n",
       "      <td>0</td>\n",
       "      <td>0</td>\n",
       "      <td>0</td>\n",
       "      <td>0</td>\n",
       "      <td>0</td>\n",
       "      <td>0</td>\n",
       "      <td>0</td>\n",
       "      <td>0</td>\n",
       "      <td>1</td>\n",
       "    </tr>\n",
       "    <tr>\n",
       "      <th>...</th>\n",
       "      <td>...</td>\n",
       "      <td>...</td>\n",
       "      <td>...</td>\n",
       "      <td>...</td>\n",
       "      <td>...</td>\n",
       "      <td>...</td>\n",
       "      <td>...</td>\n",
       "      <td>...</td>\n",
       "      <td>...</td>\n",
       "      <td>...</td>\n",
       "      <td>...</td>\n",
       "      <td>...</td>\n",
       "      <td>...</td>\n",
       "      <td>...</td>\n",
       "      <td>...</td>\n",
       "      <td>...</td>\n",
       "      <td>...</td>\n",
       "      <td>...</td>\n",
       "      <td>...</td>\n",
       "      <td>...</td>\n",
       "      <td>...</td>\n",
       "    </tr>\n",
       "    <tr>\n",
       "      <th>2046</th>\n",
       "      <td>0</td>\n",
       "      <td>0</td>\n",
       "      <td>0</td>\n",
       "      <td>0</td>\n",
       "      <td>0</td>\n",
       "      <td>1</td>\n",
       "      <td>0</td>\n",
       "      <td>0</td>\n",
       "      <td>1</td>\n",
       "      <td>0</td>\n",
       "      <td>...</td>\n",
       "      <td>1</td>\n",
       "      <td>0</td>\n",
       "      <td>0</td>\n",
       "      <td>0</td>\n",
       "      <td>0</td>\n",
       "      <td>0</td>\n",
       "      <td>0</td>\n",
       "      <td>0</td>\n",
       "      <td>0</td>\n",
       "      <td>1</td>\n",
       "    </tr>\n",
       "    <tr>\n",
       "      <th>2047</th>\n",
       "      <td>0</td>\n",
       "      <td>0</td>\n",
       "      <td>0</td>\n",
       "      <td>0</td>\n",
       "      <td>0</td>\n",
       "      <td>1</td>\n",
       "      <td>0</td>\n",
       "      <td>0</td>\n",
       "      <td>1</td>\n",
       "      <td>0</td>\n",
       "      <td>...</td>\n",
       "      <td>1</td>\n",
       "      <td>0</td>\n",
       "      <td>0</td>\n",
       "      <td>0</td>\n",
       "      <td>0</td>\n",
       "      <td>0</td>\n",
       "      <td>0</td>\n",
       "      <td>0</td>\n",
       "      <td>0</td>\n",
       "      <td>1</td>\n",
       "    </tr>\n",
       "    <tr>\n",
       "      <th>2048</th>\n",
       "      <td>0</td>\n",
       "      <td>0</td>\n",
       "      <td>0</td>\n",
       "      <td>0</td>\n",
       "      <td>0</td>\n",
       "      <td>1</td>\n",
       "      <td>0</td>\n",
       "      <td>0</td>\n",
       "      <td>1</td>\n",
       "      <td>0</td>\n",
       "      <td>...</td>\n",
       "      <td>1</td>\n",
       "      <td>0</td>\n",
       "      <td>0</td>\n",
       "      <td>0</td>\n",
       "      <td>0</td>\n",
       "      <td>0</td>\n",
       "      <td>0</td>\n",
       "      <td>0</td>\n",
       "      <td>0</td>\n",
       "      <td>1</td>\n",
       "    </tr>\n",
       "    <tr>\n",
       "      <th>2049</th>\n",
       "      <td>0</td>\n",
       "      <td>0</td>\n",
       "      <td>0</td>\n",
       "      <td>0</td>\n",
       "      <td>0</td>\n",
       "      <td>1</td>\n",
       "      <td>0</td>\n",
       "      <td>0</td>\n",
       "      <td>1</td>\n",
       "      <td>0</td>\n",
       "      <td>...</td>\n",
       "      <td>1</td>\n",
       "      <td>0</td>\n",
       "      <td>0</td>\n",
       "      <td>0</td>\n",
       "      <td>0</td>\n",
       "      <td>0</td>\n",
       "      <td>0</td>\n",
       "      <td>0</td>\n",
       "      <td>0</td>\n",
       "      <td>1</td>\n",
       "    </tr>\n",
       "    <tr>\n",
       "      <th>2050</th>\n",
       "      <td>0</td>\n",
       "      <td>0</td>\n",
       "      <td>0</td>\n",
       "      <td>0</td>\n",
       "      <td>0</td>\n",
       "      <td>1</td>\n",
       "      <td>0</td>\n",
       "      <td>0</td>\n",
       "      <td>1</td>\n",
       "      <td>0</td>\n",
       "      <td>...</td>\n",
       "      <td>1</td>\n",
       "      <td>0</td>\n",
       "      <td>0</td>\n",
       "      <td>0</td>\n",
       "      <td>0</td>\n",
       "      <td>0</td>\n",
       "      <td>0</td>\n",
       "      <td>0</td>\n",
       "      <td>0</td>\n",
       "      <td>1</td>\n",
       "    </tr>\n",
       "  </tbody>\n",
       "</table>\n",
       "<p>2051 rows × 133 columns</p>\n",
       "</div>"
      ],
      "text/plain": [
       "      MS Zoning_A (agr)  MS Zoning_C (all)  MS Zoning_FV  MS Zoning_I (all)  \\\n",
       "0                     0                  0             0                  0   \n",
       "1                     0                  0             0                  0   \n",
       "2                     0                  0             0                  0   \n",
       "3                     0                  0             0                  0   \n",
       "4                     0                  0             0                  0   \n",
       "...                 ...                ...           ...                ...   \n",
       "2046                  0                  0             0                  0   \n",
       "2047                  0                  0             0                  0   \n",
       "2048                  0                  0             0                  0   \n",
       "2049                  0                  0             0                  0   \n",
       "2050                  0                  0             0                  0   \n",
       "\n",
       "      MS Zoning_RH  MS Zoning_RL  MS Zoning_RM  Street_Grvl  Street_Pave  \\\n",
       "0                0             1             0            0            1   \n",
       "1                0             1             0            0            1   \n",
       "2                0             1             0            0            1   \n",
       "3                0             1             0            0            1   \n",
       "4                0             1             0            0            1   \n",
       "...            ...           ...           ...          ...          ...   \n",
       "2046             0             1             0            0            1   \n",
       "2047             0             1             0            0            1   \n",
       "2048             0             1             0            0            1   \n",
       "2049             0             1             0            0            1   \n",
       "2050             0             1             0            0            1   \n",
       "\n",
       "      Alley_Grvl  ...  Paved Drive_Y  Sale Type_COD  Sale Type_CWD  \\\n",
       "0              0  ...              1              0              0   \n",
       "1              0  ...              1              0              0   \n",
       "2              0  ...              1              0              0   \n",
       "3              0  ...              1              0              0   \n",
       "4              0  ...              0              0              0   \n",
       "...          ...  ...            ...            ...            ...   \n",
       "2046           0  ...              1              0              0   \n",
       "2047           0  ...              1              0              0   \n",
       "2048           0  ...              1              0              0   \n",
       "2049           0  ...              1              0              0   \n",
       "2050           0  ...              1              0              0   \n",
       "\n",
       "      Sale Type_Con  Sale Type_ConLD  Sale Type_ConLI  Sale Type_ConLw  \\\n",
       "0                 0                0                0                0   \n",
       "1                 0                0                0                0   \n",
       "2                 0                0                0                0   \n",
       "3                 0                0                0                0   \n",
       "4                 0                0                0                0   \n",
       "...             ...              ...              ...              ...   \n",
       "2046              0                0                0                0   \n",
       "2047              0                0                0                0   \n",
       "2048              0                0                0                0   \n",
       "2049              0                0                0                0   \n",
       "2050              0                0                0                0   \n",
       "\n",
       "      Sale Type_New  Sale Type_Oth  Sale Type_WD   \n",
       "0                 0              0              1  \n",
       "1                 0              0              1  \n",
       "2                 0              0              1  \n",
       "3                 0              0              1  \n",
       "4                 0              0              1  \n",
       "...             ...            ...            ...  \n",
       "2046              0              0              1  \n",
       "2047              0              0              1  \n",
       "2048              0              0              1  \n",
       "2049              0              0              1  \n",
       "2050              0              0              1  \n",
       "\n",
       "[2051 rows x 133 columns]"
      ]
     },
     "execution_count": 37,
     "metadata": {},
     "output_type": "execute_result"
    }
   ],
   "source": [
    "obj_processed = pd.get_dummies(df_train_pp[obj_data], columns = obj_data)\n",
    "obj_processed"
   ]
  },
  {
   "cell_type": "code",
   "execution_count": 38,
   "metadata": {},
   "outputs": [
    {
     "data": {
      "text/plain": [
       "Index(['Alley_NA', 'Neighborhood_NAmes', 'Garage Type_NA'], dtype='object')"
      ]
     },
     "execution_count": 38,
     "metadata": {},
     "output_type": "execute_result"
    }
   ],
   "source": [
    "#remove columns with NA count values\n",
    "na_col = obj_processed.filter(regex = 'NA')\n",
    "na_col_keys = na_col.keys()\n",
    "na_col_keys"
   ]
  },
  {
   "cell_type": "code",
   "execution_count": 39,
   "metadata": {},
   "outputs": [
    {
     "data": {
      "text/plain": [
       "(2051, 130)"
      ]
     },
     "execution_count": 39,
     "metadata": {},
     "output_type": "execute_result"
    }
   ],
   "source": [
    "obj_processed.drop(columns = na_col_keys, inplace = True)\n",
    "obj_processed.shape "
   ]
  },
  {
   "cell_type": "code",
   "execution_count": 40,
   "metadata": {},
   "outputs": [
    {
     "data": {
      "text/plain": [
       "(2051, 163)"
      ]
     },
     "execution_count": 40,
     "metadata": {},
     "output_type": "execute_result"
    }
   ],
   "source": [
    "df_processed = pd.concat([nums_scaled_pd, obj_processed, df_train_pp['SalePrice']], ignore_index=False, sort=False, axis = 1)\n",
    "df_processed.shape"
   ]
  },
  {
   "cell_type": "code",
   "execution_count": 41,
   "metadata": {},
   "outputs": [
    {
     "data": {
      "text/html": [
       "<div>\n",
       "<style scoped>\n",
       "    .dataframe tbody tr th:only-of-type {\n",
       "        vertical-align: middle;\n",
       "    }\n",
       "\n",
       "    .dataframe tbody tr th {\n",
       "        vertical-align: top;\n",
       "    }\n",
       "\n",
       "    .dataframe thead th {\n",
       "        text-align: right;\n",
       "    }\n",
       "</style>\n",
       "<table border=\"1\" class=\"dataframe\">\n",
       "  <thead>\n",
       "    <tr style=\"text-align: right;\">\n",
       "      <th></th>\n",
       "      <th>Overall Qual</th>\n",
       "      <th>Year Built</th>\n",
       "      <th>Year Remod/Add</th>\n",
       "      <th>Mas Vnr Area</th>\n",
       "      <th>Exter Qual</th>\n",
       "      <th>Exter Cond</th>\n",
       "      <th>Bsmt Qual</th>\n",
       "      <th>Bsmt Cond</th>\n",
       "      <th>Bsmt Exposure</th>\n",
       "      <th>BsmtFin Type 1</th>\n",
       "      <th>...</th>\n",
       "      <th>Sale Type_COD</th>\n",
       "      <th>Sale Type_CWD</th>\n",
       "      <th>Sale Type_Con</th>\n",
       "      <th>Sale Type_ConLD</th>\n",
       "      <th>Sale Type_ConLI</th>\n",
       "      <th>Sale Type_ConLw</th>\n",
       "      <th>Sale Type_New</th>\n",
       "      <th>Sale Type_Oth</th>\n",
       "      <th>Sale Type_WD</th>\n",
       "      <th>SalePrice</th>\n",
       "    </tr>\n",
       "  </thead>\n",
       "  <tbody>\n",
       "    <tr>\n",
       "      <th>0</th>\n",
       "      <td>-0.078644</td>\n",
       "      <td>0.142227</td>\n",
       "      <td>0.989479</td>\n",
       "      <td>1.092329</td>\n",
       "      <td>1.010273</td>\n",
       "      <td>-0.230243</td>\n",
       "      <td>-0.543594</td>\n",
       "      <td>0.123625</td>\n",
       "      <td>-0.582816</td>\n",
       "      <td>1.14603</td>\n",
       "      <td>...</td>\n",
       "      <td>0</td>\n",
       "      <td>0</td>\n",
       "      <td>0</td>\n",
       "      <td>0</td>\n",
       "      <td>0</td>\n",
       "      <td>0</td>\n",
       "      <td>0</td>\n",
       "      <td>0</td>\n",
       "      <td>1</td>\n",
       "      <td>130500</td>\n",
       "    </tr>\n",
       "    <tr>\n",
       "      <th>1</th>\n",
       "      <td>0.622656</td>\n",
       "      <td>0.805126</td>\n",
       "      <td>0.609090</td>\n",
       "      <td>0.191491</td>\n",
       "      <td>1.010273</td>\n",
       "      <td>-0.230243</td>\n",
       "      <td>0.565771</td>\n",
       "      <td>0.123625</td>\n",
       "      <td>-0.582816</td>\n",
       "      <td>1.14603</td>\n",
       "      <td>...</td>\n",
       "      <td>0</td>\n",
       "      <td>0</td>\n",
       "      <td>0</td>\n",
       "      <td>0</td>\n",
       "      <td>0</td>\n",
       "      <td>0</td>\n",
       "      <td>0</td>\n",
       "      <td>0</td>\n",
       "      <td>1</td>\n",
       "      <td>220000</td>\n",
       "    </tr>\n",
       "    <tr>\n",
       "      <th>2</th>\n",
       "      <td>-0.779944</td>\n",
       "      <td>-0.620106</td>\n",
       "      <td>1.084576</td>\n",
       "      <td>-0.565901</td>\n",
       "      <td>-0.690934</td>\n",
       "      <td>2.452869</td>\n",
       "      <td>-0.543594</td>\n",
       "      <td>0.123625</td>\n",
       "      <td>-0.582816</td>\n",
       "      <td>1.14603</td>\n",
       "      <td>...</td>\n",
       "      <td>0</td>\n",
       "      <td>0</td>\n",
       "      <td>0</td>\n",
       "      <td>0</td>\n",
       "      <td>0</td>\n",
       "      <td>0</td>\n",
       "      <td>0</td>\n",
       "      <td>0</td>\n",
       "      <td>1</td>\n",
       "      <td>109000</td>\n",
       "    </tr>\n",
       "    <tr>\n",
       "      <th>3</th>\n",
       "      <td>-0.779944</td>\n",
       "      <td>1.136575</td>\n",
       "      <td>1.084576</td>\n",
       "      <td>-0.565901</td>\n",
       "      <td>-0.690934</td>\n",
       "      <td>-0.230243</td>\n",
       "      <td>0.565771</td>\n",
       "      <td>0.123625</td>\n",
       "      <td>-0.582816</td>\n",
       "      <td>-1.20683</td>\n",
       "      <td>...</td>\n",
       "      <td>0</td>\n",
       "      <td>0</td>\n",
       "      <td>0</td>\n",
       "      <td>0</td>\n",
       "      <td>0</td>\n",
       "      <td>0</td>\n",
       "      <td>0</td>\n",
       "      <td>0</td>\n",
       "      <td>1</td>\n",
       "      <td>174000</td>\n",
       "    </tr>\n",
       "    <tr>\n",
       "      <th>4</th>\n",
       "      <td>-0.078644</td>\n",
       "      <td>-2.376787</td>\n",
       "      <td>0.418896</td>\n",
       "      <td>-0.565901</td>\n",
       "      <td>-0.690934</td>\n",
       "      <td>-0.230243</td>\n",
       "      <td>-1.652959</td>\n",
       "      <td>1.872274</td>\n",
       "      <td>-0.582816</td>\n",
       "      <td>-1.20683</td>\n",
       "      <td>...</td>\n",
       "      <td>0</td>\n",
       "      <td>0</td>\n",
       "      <td>0</td>\n",
       "      <td>0</td>\n",
       "      <td>0</td>\n",
       "      <td>0</td>\n",
       "      <td>0</td>\n",
       "      <td>0</td>\n",
       "      <td>1</td>\n",
       "      <td>138500</td>\n",
       "    </tr>\n",
       "  </tbody>\n",
       "</table>\n",
       "<p>5 rows × 163 columns</p>\n",
       "</div>"
      ],
      "text/plain": [
       "   Overall Qual  Year Built  Year Remod/Add  Mas Vnr Area  Exter Qual  \\\n",
       "0     -0.078644    0.142227        0.989479      1.092329    1.010273   \n",
       "1      0.622656    0.805126        0.609090      0.191491    1.010273   \n",
       "2     -0.779944   -0.620106        1.084576     -0.565901   -0.690934   \n",
       "3     -0.779944    1.136575        1.084576     -0.565901   -0.690934   \n",
       "4     -0.078644   -2.376787        0.418896     -0.565901   -0.690934   \n",
       "\n",
       "   Exter Cond  Bsmt Qual  Bsmt Cond  Bsmt Exposure  BsmtFin Type 1  ...  \\\n",
       "0   -0.230243  -0.543594   0.123625      -0.582816         1.14603  ...   \n",
       "1   -0.230243   0.565771   0.123625      -0.582816         1.14603  ...   \n",
       "2    2.452869  -0.543594   0.123625      -0.582816         1.14603  ...   \n",
       "3   -0.230243   0.565771   0.123625      -0.582816        -1.20683  ...   \n",
       "4   -0.230243  -1.652959   1.872274      -0.582816        -1.20683  ...   \n",
       "\n",
       "   Sale Type_COD  Sale Type_CWD  Sale Type_Con  Sale Type_ConLD  \\\n",
       "0              0              0              0                0   \n",
       "1              0              0              0                0   \n",
       "2              0              0              0                0   \n",
       "3              0              0              0                0   \n",
       "4              0              0              0                0   \n",
       "\n",
       "   Sale Type_ConLI  Sale Type_ConLw  Sale Type_New  Sale Type_Oth  \\\n",
       "0                0                0              0              0   \n",
       "1                0                0              0              0   \n",
       "2                0                0              0              0   \n",
       "3                0                0              0              0   \n",
       "4                0                0              0              0   \n",
       "\n",
       "   Sale Type_WD   SalePrice  \n",
       "0              1     130500  \n",
       "1              1     220000  \n",
       "2              1     109000  \n",
       "3              1     174000  \n",
       "4              1     138500  \n",
       "\n",
       "[5 rows x 163 columns]"
      ]
     },
     "execution_count": 41,
     "metadata": {},
     "output_type": "execute_result"
    }
   ],
   "source": [
    "df_processed.head()"
   ]
  },
  {
   "cell_type": "markdown",
   "metadata": {},
   "source": [
    "# 6.4 Exporting Data for Model"
   ]
  },
  {
   "cell_type": "code",
   "execution_count": 42,
   "metadata": {},
   "outputs": [],
   "source": [
    "df_processed.to_csv(\"./datasets/train_processed.csv\", index=False)"
   ]
  },
  {
   "cell_type": "code",
   "execution_count": null,
   "metadata": {},
   "outputs": [],
   "source": []
  }
 ],
 "metadata": {
  "kernelspec": {
   "display_name": "Python 3",
   "language": "python",
   "name": "python3"
  },
  "language_info": {
   "codemirror_mode": {
    "name": "ipython",
    "version": 3
   },
   "file_extension": ".py",
   "mimetype": "text/x-python",
   "name": "python",
   "nbconvert_exporter": "python",
   "pygments_lexer": "ipython3",
   "version": "3.7.7"
  }
 },
 "nbformat": 4,
 "nbformat_minor": 4
}
